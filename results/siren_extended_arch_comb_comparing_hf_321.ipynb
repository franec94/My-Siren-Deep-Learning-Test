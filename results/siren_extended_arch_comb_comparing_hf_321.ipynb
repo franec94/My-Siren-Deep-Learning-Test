{
  "nbformat": 4,
  "nbformat_minor": 0,
  "metadata": {
    "colab": {
      "name": "siren_extended_arch_comb_comparing.ipynb",
      "provenance": [],
      "collapsed_sections": [
        "EU7a8XE-Fubm",
        "aGNRARc_FDt7",
        "N_WmO47_ZMCT",
        "-FPNXGhTz996"
      ]
    },
    "kernelspec": {
      "name": "python3",
      "display_name": "Python 3"
    }
  },
  "cells": [
    {
      "cell_type": "markdown",
      "metadata": {
        "id": "EU7a8XE-Fubm"
      },
      "source": [
        "## Pip install"
      ]
    },
    {
      "cell_type": "code",
      "metadata": {
        "id": "8YE85FrAE_c4",
        "outputId": "343ecba4-d437-4112-93a0-50d312ca08ae",
        "colab": {
          "base_uri": "https://localhost:8080/",
          "height": 85
        }
      },
      "source": [
        "# Installing third party dependencies\n",
        "!pip install ConfigArgParse -q\n",
        "!pip install sk-video -q\n",
        "!pip install cmapy -q"
      ],
      "execution_count": null,
      "outputs": [
        {
          "output_type": "stream",
          "text": [
            "\u001b[?25l\r\u001b[K     |███████▊                        | 10kB 14.7MB/s eta 0:00:01\r\u001b[K     |███████████████▍                | 20kB 3.1MB/s eta 0:00:01\r\u001b[K     |███████████████████████         | 30kB 4.3MB/s eta 0:00:01\r\u001b[K     |██████████████████████████████▊ | 40kB 4.8MB/s eta 0:00:01\r\u001b[K     |████████████████████████████████| 51kB 1.9MB/s \n",
            "\u001b[?25h  Building wheel for ConfigArgParse (setup.py) ... \u001b[?25l\u001b[?25hdone\n",
            "\u001b[K     |████████████████████████████████| 2.3MB 5.1MB/s \n",
            "\u001b[?25h  Building wheel for cmapy (setup.py) ... \u001b[?25l\u001b[?25hdone\n"
          ],
          "name": "stdout"
        }
      ]
    },
    {
      "cell_type": "markdown",
      "metadata": {
        "id": "aGNRARc_FDt7"
      },
      "source": [
        "## Clone github project"
      ]
    },
    {
      "cell_type": "code",
      "metadata": {
        "id": "Z81X8OTdFHLW",
        "outputId": "7f21a8b3-b839-42a4-8296-847ebf88f8b0",
        "colab": {
          "base_uri": "https://localhost:8080/",
          "height": 187
        }
      },
      "source": [
        "# Setup wd to remove trash\n",
        "!cd /content\n",
        "# Remove trash\n",
        "!rm -r /content/My-Siren-Deep-Learning-Test\n",
        "\n",
        "# Setup dir to collect logs to displayed by means tensorboard\n",
        "import os\n",
        "logs_base_dir = os.path.join(\"/content/outputs\", \"summaries\")\n",
        "os.makedirs(logs_base_dir, exist_ok=True)\n",
        "\n",
        "# Switch to Command Line Tool Location\n",
        "# fetch updates if any from target branch\n",
        "\n",
        "# Local repo related infos\n",
        "project_name_path = '/content/My-Siren-Deep-Learning-Test'\n",
        "\n",
        "# Github related infos\n",
        "github_project_uri = 'https://github.com/franec94/My-Siren-Deep-Learning-Test.git'\n",
        "branch_name = 'cmd-line-tools'\n",
        "cmd_tool_name = 'compare-extended-compression-choices'\n",
        "\n",
        "if os.path.exists(project_name_path) is False:\n",
        "    !git clone {github_project_uri}\n",
        "    os.chdir(project_name_path)\n",
        "    !git checkout {branch_name}\n",
        "    # TODO:\n",
        "    # find workaround for installing requirements.txt\n",
        "    # !pip install -r requirements.txt\n",
        "    full_path_cmd = os.path.join(project_name_path, f'dev-cmd-line-tools/{cmd_tool_name}')\n",
        "    os.chdir(full_path_cmd)\n",
        "else:\n",
        "    os.chdir(project_name_path)\n",
        "    !git checkout {branch_name}\n",
        "    !git fetch\n",
        "    full_path_cmd = os.path.join(project_name_path, f'dev-cmd-line-tools/{cmd_tool_name}')\n",
        "    os.chdir(full_path_cmd)\n",
        "    pass"
      ],
      "execution_count": null,
      "outputs": [
        {
          "output_type": "stream",
          "text": [
            "rm: cannot remove '/content/My-Siren-Deep-Learning-Test': No such file or directory\n",
            "Cloning into 'My-Siren-Deep-Learning-Test'...\n",
            "remote: Enumerating objects: 163, done.\u001b[K\n",
            "remote: Counting objects: 100% (163/163), done.\u001b[K\n",
            "remote: Compressing objects: 100% (109/109), done.\u001b[K\n",
            "remote: Total 1207 (delta 76), reused 118 (delta 37), pack-reused 1044\u001b[K\n",
            "Receiving objects: 100% (1207/1207), 74.32 MiB | 32.04 MiB/s, done.\n",
            "Resolving deltas: 100% (459/459), done.\n",
            "Branch 'cmd-line-tools' set up to track remote branch 'cmd-line-tools' from 'origin'.\n",
            "Switched to a new branch 'cmd-line-tools'\n"
          ],
          "name": "stdout"
        }
      ]
    },
    {
      "cell_type": "markdown",
      "metadata": {
        "id": "527bY4_LGedi"
      },
      "source": [
        "## Run Command"
      ]
    },
    {
      "cell_type": "code",
      "metadata": {
        "id": "bF2-fWt5FdY1",
        "outputId": "bb69748c-af33-4eb8-b4ea-0961143505c2",
        "colab": {
          "base_uri": "https://localhost:8080/",
          "height": 1000
        }
      },
      "source": [
        "# Show help\n",
        "!python main_extended_compare.py --help"
      ],
      "execution_count": null,
      "outputs": [
        {
          "output_type": "stream",
          "text": [
            "usage: main_extended_compare.py [-h] [-c CONFIG_FILEPATH]\n",
            "                                [--logging_root LOGGING_ROOT]\n",
            "                                --experiment_name EXPERIMENT_NAME\n",
            "                                [--image_filepath IMAGE_FILEPATH]\n",
            "                                [--batch_size BATCH_SIZE] [--lr LR]\n",
            "                                [--num_epochs NUM_EPOCHS]\n",
            "                                [--epochs_til_ckpt EPOCHS_TIL_CKPT]\n",
            "                                [--seeds SEEDS [SEEDS ...]]\n",
            "                                [--num_hidden_features NUM_HIDDEN_FEATURES]\n",
            "                                [--hidden_layers HIDDEN_LAYERS [HIDDEN_LAYERS ...]]\n",
            "                                [--num_attempts NUM_ATTEMPTS]\n",
            "                                [--show_timetable_estimate]\n",
            "                                [--verbose VERBOSE]\n",
            "                                [--resume_from RESUME_FROM] [--end_to END_TO]\n",
            "\n",
            "Args that start with '--' (eg. --logging_root) can also be set in a config\n",
            "file (specified via -c). Config file syntax allows: key=value, flag=true,\n",
            "stuff=[a,b,c] (for details, see syntax at https://goo.gl/R74nmi). If an arg is\n",
            "specified in more than one place, then commandline values override config file\n",
            "values which override defaults.\n",
            "\n",
            "optional arguments:\n",
            "  -h, --help            show this help message and exit\n",
            "  -c CONFIG_FILEPATH, --config_filepath CONFIG_FILEPATH\n",
            "                        Path to config file.\n",
            "  --logging_root LOGGING_ROOT\n",
            "                        root for logging\n",
            "  --experiment_name EXPERIMENT_NAME\n",
            "                        Name of subdirectory in logging_root where summaries\n",
            "                        and checkpoints will be saved.\n",
            "  --image_filepath IMAGE_FILEPATH\n",
            "                        Path to input image to be compressed (default:\n",
            "                        None).If not specified, It is used cameramen image as\n",
            "                        target image to be compressed.\n",
            "  --batch_size BATCH_SIZE\n",
            "  --lr LR               learning rate. default=1e-4\n",
            "  --num_epochs NUM_EPOCHS\n",
            "                        Number of epochs to train for.\n",
            "  --epochs_til_ckpt EPOCHS_TIL_CKPT\n",
            "                        Time interval in seconds until checkpoint is saved.\n",
            "  --seeds SEEDS [SEEDS ...]\n",
            "                        List of seeds (default: [0, 42, 123, 1234]).\n",
            "  --num_hidden_features NUM_HIDDEN_FEATURES\n",
            "                        Number of hidden features to be employed across\n",
            "                        differen trials (default: 5).\n",
            "  --hidden_layers HIDDEN_LAYERS [HIDDEN_LAYERS ...]\n",
            "                        List of hidden layers (default: [1,2,3,4,5]).\n",
            "  --num_attempts NUM_ATTEMPTS\n",
            "                        Number of attempts per architecture sticking a\n",
            "                        particular seed value (default: 5).\n",
            "  --show_timetable_estimate\n",
            "                        Flag to display timetable estimate.\n",
            "  --verbose VERBOSE     Verbose style logging (default: 0, a.k.a silent mode),\n",
            "                        allowed: [0 for silent, 1 for complete, 2 for\n",
            "                        minimal].\n",
            "  --resume_from RESUME_FROM\n",
            "                        Ordinal number representing position within array of\n",
            "                        hidden features from which to start\n",
            "  --end_to END_TO       Ordinal number representing position within array of\n",
            "                        hidden features from which to end (excluding it)\n"
          ],
          "name": "stdout"
        }
      ]
    },
    {
      "cell_type": "code",
      "metadata": {
        "id": "KO4LjpFeyaVg"
      },
      "source": [
        "#@title Some Command Args Options:\n",
        "\n",
        "logging_root = \"\" #@param {type:\"string\"}\n",
        "experiment_name = \"\" #@param {type:\"string\"}\n",
        "resume_from = 4 #@param {type:\"integer\"}\n",
        "end_to = 5 #@param {type:\"integer\"}\n",
        "num_epochs = 300 #@param {type:\"integer\"}\n",
        "image_filepath = \"\" #@param {type:\"string\"}\n",
        "num_hidden_features = 5 #@param {type:\"integer\"}\n",
        "num_attempts = 5 #@param {type:\"integer\"}\n",
        "verbose = 2 #@param {type:\"integer\"}"
      ],
      "execution_count": null,
      "outputs": []
    },
    {
      "cell_type": "code",
      "metadata": {
        "id": "YZSu4sp6LLTm",
        "outputId": "c914262b-f3f7-4ec6-a15b-578c7fe2b470",
        "colab": {
          "base_uri": "https://localhost:8080/",
          "height": 1000
        }
      },
      "source": [
        "# Exec command\n",
        "!python main_extended_compare.py\\\n",
        "  --logging_root '/content/drive/My Drive/Siren Deep Learning Analyses/results' \\\n",
        "  --experiment_name 'train' \\\n",
        "  --resume_from 3 \\\n",
        "  --end_to  4 \\\n",
        "  --num_epochs 300 \\\n",
        "  --image_filepath \"/content/test001.png\" \\\n",
        "  --num_hidden_features 5 \\\n",
        "  --num_attempts 2 \\\n",
        "  --seeds 0 42 123 \\\n",
        "  --hidden_layers 1 2 3 4 5\\\n",
        "  --show_timetable_estimate \\\n",
        "  --verbose 2 \\"
      ],
      "execution_count": 5,
      "outputs": [
        {
          "output_type": "stream",
          "text": [
            "Training on device cpu.\n",
            "# cuda device: 0\n",
            "array([256, 272, 288, 304, 321])\n",
            "Total number of trials (with 1 attempts per arch): 75\n",
            "Total number of trials (with 2 attempts per arch): 150\n",
            "Start training [14-10-2020][timestamp=1602663822-597217] ...\n",
            "\r  0% 0/15 [00:00<?, ?it/s]\r                          \rhidden_features: 321\n",
            "hidden_layers: 1\n",
            "seeds: 0\n",
            "Arch no.=4 | trial no.=(1/2) running...\n",
            "Arch no.=4 | trial no.=(1/2) | eta: 531.919106721878\n",
            "Arch no.=4 | trial no.=(2/2) running...\n",
            "Arch no.=4 | trial no.=(2/2) | eta: 539.2429347038269\n",
            "Arch no.=0, loss(avg)=0.020987, PSNR(avg)=16.780404, SSIM(avg)=0.460036, iteration time=1071.222832\n",
            "Global stats(through all archs.): loss(avg)=0.020987, PSNR(avg)=16.780404, SSIM(avg)=0.460036, iteration time=1071.222832\n",
            "hidden_features: 321\n",
            "hidden_layers: 1\n",
            "seeds: 42\n",
            "Arch no.=5 | trial no.=(1/2) running...\n",
            "Arch no.=5 | trial no.=(1/2) | eta: 540.97030210495\n",
            "Arch no.=5 | trial no.=(2/2) running...\n",
            "Arch no.=5 | trial no.=(2/2) | eta: 530.2513315677643\n",
            "Arch no.=1, loss(avg)=0.020873, PSNR(avg)=16.804254, SSIM(avg)=0.461954, iteration time=1071.240867\n",
            "Global stats(through all archs.): loss(avg)=0.020930, PSNR(avg)=16.792329, SSIM(avg)=0.460995, iteration time=1071.240867\n",
            "hidden_features: 321\n",
            "hidden_layers: 1\n",
            "seeds: 123\n",
            "Arch no.=6 | trial no.=(1/2) running...\n",
            "Arch no.=6 | trial no.=(1/2) | eta: 528.5062685012817\n",
            "Arch no.=6 | trial no.=(2/2) running...\n",
            "Arch no.=6 | trial no.=(2/2) | eta: 528.7167208194733\n",
            "Arch no.=2, loss(avg)=0.020114, PSNR(avg)=16.965037, SSIM(avg)=0.480488, iteration time=1057.240242\n",
            "Global stats(through all archs.): loss(avg)=0.020658, PSNR(avg)=16.849898, SSIM(avg)=0.467493, iteration time=1057.240242\n",
            "hidden_features: 321\n",
            "hidden_layers: 2\n",
            "seeds: 0\n",
            "Arch no.=7 | trial no.=(1/2) running...\n",
            "Arch no.=7 | trial no.=(1/2) | eta: 934.5745441913605\n",
            "Arch no.=7 | trial no.=(2/2) running...\n",
            "Arch no.=7 | trial no.=(2/2) | eta: 919.1612358093262\n",
            "Arch no.=3, loss(avg)=0.013073, PSNR(avg)=18.836129, SSIM(avg)=0.631002, iteration time=1853.756237\n",
            "Global stats(through all archs.): loss(avg)=0.018762, PSNR(avg)=17.346456, SSIM(avg)=0.508370, iteration time=1853.756237\n",
            "hidden_features: 321\n",
            "hidden_layers: 2\n",
            "seeds: 42\n",
            "Arch no.=8 | trial no.=(1/2) running...\n",
            "Arch no.=8 | trial no.=(1/2) | eta: 920.4257175922394\n",
            "Arch no.=8 | trial no.=(2/2) running...\n",
            "Arch no.=8 | trial no.=(2/2) | eta: 920.4690284729004\n",
            "Arch no.=4, loss(avg)=0.014082, PSNR(avg)=18.513463, SSIM(avg)=0.600893, iteration time=1840.918242\n",
            "Global stats(through all archs.): loss(avg)=0.017826, PSNR(avg)=17.579858, SSIM(avg)=0.526874, iteration time=1840.918242\n",
            "hidden_features: 321\n",
            "hidden_layers: 2\n",
            "seeds: 123\n",
            "Arch no.=9 | trial no.=(1/2) running...\n",
            "Arch no.=9 | trial no.=(1/2) | eta: 919.3421998023987\n",
            "Arch no.=9 | trial no.=(2/2) running...\n",
            "Arch no.=9 | trial no.=(2/2) | eta: 919.7261888980865\n",
            "Arch no.=5, loss(avg)=0.013199, PSNR(avg)=18.794563, SSIM(avg)=0.624146, iteration time=1839.091954\n",
            "Global stats(through all archs.): loss(avg)=0.017055, PSNR(avg)=17.782309, SSIM(avg)=0.543086, iteration time=1839.091954\n",
            "hidden_features: 321\n",
            "hidden_layers: 3\n",
            "seeds: 0\n",
            "Arch no.=10 | trial no.=(1/2) running...\n",
            "Arch no.=10 | trial no.=(1/2) | eta: 1311.3441126346588\n",
            "Arch no.=10 | trial no.=(2/2) running...\n",
            "Arch no.=10 | trial no.=(2/2) | eta: 1313.7252819538116\n",
            "Arch no.=6, loss(avg)=0.009881, PSNR(avg)=20.051903, SSIM(avg)=0.708162, iteration time=2625.092343\n",
            "Global stats(through all archs.): loss(avg)=0.016030, PSNR(avg)=18.106536, SSIM(avg)=0.566669, iteration time=2625.092343\n",
            "hidden_features: 321\n",
            "hidden_layers: 3\n",
            "seeds: 42\n",
            "Arch no.=11 | trial no.=(1/2) running...\n",
            "Arch no.=11 | trial no.=(1/2) | eta: 1313.8999223709106\n",
            "Arch no.=11 | trial no.=(2/2) running...\n",
            "Arch no.=11 | trial no.=(2/2) | eta: 1314.8340785503387\n",
            "Arch no.=7, loss(avg)=0.010299, PSNR(avg)=19.871866, SSIM(avg)=0.693133, iteration time=2628.757003\n",
            "Global stats(through all archs.): loss(avg)=0.015314, PSNR(avg)=18.327202, SSIM(avg)=0.582477, iteration time=2628.757003\n",
            "hidden_features: 321\n",
            "hidden_layers: 3\n",
            "seeds: 123\n",
            "Arch no.=12 | trial no.=(1/2) running...\n",
            "Arch no.=12 | trial no.=(1/2) | eta: 1316.2023766040802\n",
            "Arch no.=12 | trial no.=(2/2) running...\n",
            "Arch no.=12 | trial no.=(2/2) | eta: 1309.8036909103394\n",
            "Arch no.=8, loss(avg)=0.010151, PSNR(avg)=19.934895, SSIM(avg)=0.699909, iteration time=2626.029963\n",
            "Global stats(through all archs.): loss(avg)=0.014740, PSNR(avg)=18.505835, SSIM(avg)=0.595525, iteration time=2626.029963\n",
            "hidden_features: 321\n",
            "hidden_layers: 4\n",
            "seeds: 0\n",
            "Arch no.=13 | trial no.=(1/2) running...\n",
            "Arch no.=13 | trial no.=(1/2) | eta: 1701.1312937736511\n",
            "Arch no.=13 | trial no.=(2/2) running...\n",
            "Arch no.=13 | trial no.=(2/2) | eta: 1703.1525266170502\n",
            "Arch no.=9, loss(avg)=0.008175, PSNR(avg)=20.875292, SSIM(avg)=0.741182, iteration time=3404.309934\n",
            "Global stats(through all archs.): loss(avg)=0.014083, PSNR(avg)=18.742781, SSIM(avg)=0.610090, iteration time=3404.309934\n",
            "hidden_features: 321\n",
            "hidden_layers: 4\n",
            "seeds: 42\n",
            "Arch no.=14 | trial no.=(1/2) running...\n",
            "Arch no.=14 | trial no.=(1/2) | eta: 1706.451952457428\n",
            "Arch no.=14 | trial no.=(2/2) running...\n",
            "Arch no.=14 | trial no.=(2/2) | eta: 1705.1744520664215\n",
            "Arch no.=10, loss(avg)=0.008769, PSNR(avg)=20.570433, SSIM(avg)=0.731874, iteration time=3411.651239\n",
            "Global stats(through all archs.): loss(avg)=0.013600, PSNR(avg)=18.908931, SSIM(avg)=0.621162, iteration time=3411.651239\n",
            "hidden_features: 321\n",
            "hidden_layers: 4\n",
            "seeds: 123\n",
            "Arch no.=15 | trial no.=(1/2) running...\n",
            "Arch no.=15 | trial no.=(1/2) | eta: 1705.3990097045898\n",
            "Arch no.=15 | trial no.=(2/2) running...\n",
            "Arch no.=15 | trial no.=(2/2) | eta: 1705.1354122161865\n",
            "Arch no.=11, loss(avg)=0.007554, PSNR(avg)=21.218066, SSIM(avg)=0.763282, iteration time=3410.561925\n",
            "Global stats(through all archs.): loss(avg)=0.013096, PSNR(avg)=19.101359, SSIM(avg)=0.633005, iteration time=3410.561925\n",
            "hidden_features: 321\n",
            "hidden_layers: 5\n",
            "seeds: 0\n",
            "Arch no.=16 | trial no.=(1/2) running...\n",
            "Arch no.=16 | trial no.=(1/2) | eta: 2108.8025736808777\n",
            "Arch no.=16 | trial no.=(2/2) running...\n",
            "Arch no.=16 | trial no.=(2/2) | eta: 2112.885692358017\n",
            "Arch no.=12, loss(avg)=0.007799, PSNR(avg)=21.079703, SSIM(avg)=0.743237, iteration time=4221.716438\n",
            "Global stats(through all archs.): loss(avg)=0.012689, PSNR(avg)=19.253539, SSIM(avg)=0.641484, iteration time=4221.716438\n",
            "hidden_features: 321\n",
            "hidden_layers: 5\n",
            "seeds: 42\n",
            "Arch no.=17 | trial no.=(1/2) running...\n",
            "Arch no.=17 | trial no.=(1/2) | eta: 2117.3639764785767\n",
            "Arch no.=17 | trial no.=(2/2) running...\n",
            "Arch no.=17 | trial no.=(2/2) | eta: 2116.6799504756927\n",
            "Arch no.=13, loss(avg)=0.007494, PSNR(avg)=21.252909, SSIM(avg)=0.760458, iteration time=4234.078466\n",
            "Global stats(through all archs.): loss(avg)=0.012318, PSNR(avg)=19.396351, SSIM(avg)=0.649983, iteration time=4234.078466\n",
            "hidden_features: 321\n",
            "hidden_layers: 5\n",
            "seeds: 123\n",
            "Arch no.=18 | trial no.=(1/2) running...\n",
            "Arch no.=18 | trial no.=(1/2) | eta: 2115.128255367279\n",
            "Arch no.=18 | trial no.=(2/2) running...\n",
            "Arch no.=18 | trial no.=(2/2) | eta: 2114.2439115047455\n",
            "Arch no.=14, loss(avg)=0.007418, PSNR(avg)=21.296891, SSIM(avg)=0.764249, iteration time=4229.401789\n",
            "Global stats(through all archs.): loss(avg)=0.011991, PSNR(avg)=19.523054, SSIM(avg)=0.657600, iteration time=4229.401789\n",
            "100% 15/15 [10:58:45<00:00, 2635.01s/it]\n",
            "End training [14-10-2020][timestamp=1602663822-597217] eta: 39525.21067762375 seconds.\n"
          ],
          "name": "stdout"
        }
      ]
    },
    {
      "cell_type": "markdown",
      "metadata": {
        "id": "N_WmO47_ZMCT"
      },
      "source": [
        "## Dummy tests numpy"
      ]
    },
    {
      "cell_type": "code",
      "metadata": {
        "id": "ZIWiN1LsU-DZ"
      },
      "source": [
        "import numpy as np\n",
        "np.concatenate(([np.array([1,2,3])], [np.array([4,5,6])]), axis=0) # .mean(axis=0)"
      ],
      "execution_count": null,
      "outputs": []
    },
    {
      "cell_type": "markdown",
      "metadata": {
        "id": "-FPNXGhTz996"
      },
      "source": [
        "## References"
      ]
    },
    {
      "cell_type": "markdown",
      "metadata": {
        "id": "BAOueIe80ADU"
      },
      "source": [
        "- [FORM](https://colab.research.google.com/notebooks/forms.ipynb#scrollTo=3jKM6GfzlgpS)"
      ]
    }
  ]
}