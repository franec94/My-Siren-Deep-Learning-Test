{
  "nbformat": 4,
  "nbformat_minor": 0,
  "metadata": {
    "colab": {
      "name": "siren_extended_arch_comb_comparing.ipynb",
      "provenance": [],
      "collapsed_sections": [
        "EU7a8XE-Fubm",
        "aGNRARc_FDt7",
        "N_WmO47_ZMCT"
      ]
    },
    "kernelspec": {
      "name": "python3",
      "display_name": "Python 3"
    }
  },
  "cells": [
    {
      "cell_type": "markdown",
      "metadata": {
        "id": "EU7a8XE-Fubm"
      },
      "source": [
        "## Pip install"
      ]
    },
    {
      "cell_type": "code",
      "metadata": {
        "id": "8YE85FrAE_c4"
      },
      "source": [
        "# Installing third party dependencies\n",
        "!pip install ConfigArgParse -q\n",
        "!pip install sk-video -q\n",
        "!pip install cmapy -q"
      ],
      "execution_count": 1,
      "outputs": []
    },
    {
      "cell_type": "markdown",
      "metadata": {
        "id": "aGNRARc_FDt7"
      },
      "source": [
        "## Clone github project"
      ]
    },
    {
      "cell_type": "code",
      "metadata": {
        "id": "Z81X8OTdFHLW",
        "outputId": "a9d03782-2cda-45df-f100-3d72d7eaa312",
        "colab": {
          "base_uri": "https://localhost:8080/",
          "height": 219
        }
      },
      "source": [
        "# Setup wd to remove trash\n",
        "!cd /content\n",
        "# Remove trash\n",
        "!rm -r /content/My-Siren-Deep-Learning-Test\n",
        "\n",
        "# Setup dir to collect logs to displayed by means tensorboard\n",
        "import os\n",
        "logs_base_dir = os.path.join(\"/content/outputs\", \"summaries\")\n",
        "os.makedirs(logs_base_dir, exist_ok=True)\n",
        "\n",
        "# Switch to Command Line Tool Location\n",
        "# fetch updates if any from target branch\n",
        "\n",
        "# Local repo related infos\n",
        "project_name_path = '/content/My-Siren-Deep-Learning-Test'\n",
        "\n",
        "# Github related infos\n",
        "github_project_uri = 'https://github.com/franec94/My-Siren-Deep-Learning-Test.git'\n",
        "branch_name = 'cmd-line-tools'\n",
        "cmd_tool_name = 'compare-extended-compression-choices'\n",
        "\n",
        "if os.path.exists(project_name_path) is False:\n",
        "    !git clone {github_project_uri}\n",
        "    os.chdir(project_name_path)\n",
        "    !git checkout {branch_name}\n",
        "    # TODO:\n",
        "    # find workaround for installing requirements.txt\n",
        "    # !pip install -r requirements.txt\n",
        "    full_path_cmd = os.path.join(project_name_path, f'dev-cmd-line-tools/{cmd_tool_name}')\n",
        "    os.chdir(full_path_cmd)\n",
        "else:\n",
        "    os.chdir(project_name_path)\n",
        "    !git checkout {branch_name}\n",
        "    !git fetch\n",
        "    full_path_cmd = os.path.join(project_name_path, f'dev-cmd-line-tools/{cmd_tool_name}')\n",
        "    os.chdir(full_path_cmd)\n",
        "    pass"
      ],
      "execution_count": 2,
      "outputs": [
        {
          "output_type": "stream",
          "text": [
            "Cloning into 'My-Siren-Deep-Learning-Test'...\n",
            "remote: Enumerating objects: 128, done.\u001b[K\n",
            "remote: Counting objects: 100% (128/128), done.\u001b[K\n",
            "remote: Compressing objects: 100% (80/80), done.\u001b[K\n",
            "remote: Total 1172 (delta 68), reused 90 (delta 33), pack-reused 1044\u001b[K\n",
            "Receiving objects: 100% (1172/1172), 72.77 MiB | 27.70 MiB/s, done.\n",
            "Resolving deltas: 100% (451/451), done.\n",
            "Checking out files: 100% (480/480), done.\n",
            "Branch 'cmd-line-tools' set up to track remote branch 'cmd-line-tools' from 'origin'.\n",
            "Switched to a new branch 'cmd-line-tools'\n"
          ],
          "name": "stdout"
        }
      ]
    },
    {
      "cell_type": "markdown",
      "metadata": {
        "id": "527bY4_LGedi"
      },
      "source": [
        "## Run Command"
      ]
    },
    {
      "cell_type": "code",
      "metadata": {
        "id": "bF2-fWt5FdY1",
        "outputId": "c9f86af3-6b5c-431e-dd96-7a3e0ba3704c",
        "colab": {
          "base_uri": "https://localhost:8080/",
          "height": 1000
        }
      },
      "source": [
        "# Show help\n",
        "!python main_extended_compare.py --help"
      ],
      "execution_count": 3,
      "outputs": [
        {
          "output_type": "stream",
          "text": [
            "usage: main_extended_compare.py [-h] [-c CONFIG_FILEPATH]\n",
            "                                [--logging_root LOGGING_ROOT]\n",
            "                                --experiment_name EXPERIMENT_NAME\n",
            "                                [--image_filepath IMAGE_FILEPATH]\n",
            "                                [--batch_size BATCH_SIZE] [--lr LR]\n",
            "                                [--num_epochs NUM_EPOCHS]\n",
            "                                [--epochs_til_ckpt EPOCHS_TIL_CKPT]\n",
            "                                [--seeds SEEDS [SEEDS ...]]\n",
            "                                [--num_hidden_features NUM_HIDDEN_FEATURES]\n",
            "                                [--hidden_layers HIDDEN_LAYERS [HIDDEN_LAYERS ...]]\n",
            "                                [--num_attempts NUM_ATTEMPTS]\n",
            "                                [--show_timetable_estimate]\n",
            "                                [--verbose VERBOSE]\n",
            "                                [--resume_from RESUME_FROM] [--end_to END_TO]\n",
            "\n",
            "Args that start with '--' (eg. --logging_root) can also be set in a config\n",
            "file (specified via -c). Config file syntax allows: key=value, flag=true,\n",
            "stuff=[a,b,c] (for details, see syntax at https://goo.gl/R74nmi). If an arg is\n",
            "specified in more than one place, then commandline values override config file\n",
            "values which override defaults.\n",
            "\n",
            "optional arguments:\n",
            "  -h, --help            show this help message and exit\n",
            "  -c CONFIG_FILEPATH, --config_filepath CONFIG_FILEPATH\n",
            "                        Path to config file.\n",
            "  --logging_root LOGGING_ROOT\n",
            "                        root for logging\n",
            "  --experiment_name EXPERIMENT_NAME\n",
            "                        Name of subdirectory in logging_root where summaries\n",
            "                        and checkpoints will be saved.\n",
            "  --image_filepath IMAGE_FILEPATH\n",
            "                        Path to input image to be compressed (default:\n",
            "                        None).If not specified, It is used cameramen image as\n",
            "                        target image to be compressed.\n",
            "  --batch_size BATCH_SIZE\n",
            "  --lr LR               learning rate. default=1e-4\n",
            "  --num_epochs NUM_EPOCHS\n",
            "                        Number of epochs to train for.\n",
            "  --epochs_til_ckpt EPOCHS_TIL_CKPT\n",
            "                        Time interval in seconds until checkpoint is saved.\n",
            "  --seeds SEEDS [SEEDS ...]\n",
            "                        List of seeds (default: [0, 42, 123, 1234]).\n",
            "  --num_hidden_features NUM_HIDDEN_FEATURES\n",
            "                        Number of hidden features to be employed across\n",
            "                        differen trials (default: 5).\n",
            "  --hidden_layers HIDDEN_LAYERS [HIDDEN_LAYERS ...]\n",
            "                        List of hidden layers (default: [1,2,3,4,5]).\n",
            "  --num_attempts NUM_ATTEMPTS\n",
            "                        Number of attempts per architecture sticking a\n",
            "                        particular seed value (default: 5).\n",
            "  --show_timetable_estimate\n",
            "                        Flag to display timetable estimate.\n",
            "  --verbose VERBOSE     Verbose style logging (default: 0, a.k.a silent mode),\n",
            "                        allowed: [0 for silent, 1 for complete, 2 for\n",
            "                        minimal].\n",
            "  --resume_from RESUME_FROM\n",
            "                        Ordinal number representing position within array of\n",
            "                        hidden features from which to start\n",
            "  --end_to END_TO       Ordinal number representing position within array of\n",
            "                        hidden features from which to end (excluding it)\n"
          ],
          "name": "stdout"
        }
      ]
    },
    {
      "cell_type": "code",
      "metadata": {
        "id": "YZSu4sp6LLTm",
        "outputId": "049ffd8b-8e1d-42c1-8231-823f7975affd",
        "colab": {
          "base_uri": "https://localhost:8080/",
          "height": 0
        }
      },
      "source": [
        "# Exec command\n",
        "!python main_extended_compare.py\\\n",
        "  --logging_root '/content' \\\n",
        "  --experiment_name 'train' \\\n",
        "  --resume_from 0 \\\n",
        "  --end_to  2 \\\n",
        "  --num_epochs 300 \\\n",
        "  --image_filepath \"/content/test001.png\" \\\n",
        "  --num_hidden_features 5 \\\n",
        "  --num_attempts 2 \\\n",
        "  --seeds 0 42 123 \\\n",
        "  --hidden_layers 1 2 3 4 5\\\n",
        "  --show_timetable_estimate \\\n",
        "  --verbose 2 \\"
      ],
      "execution_count": null,
      "outputs": [
        {
          "output_type": "stream",
          "text": [
            "Training on device cpu.\n",
            "# cuda device: 0\n",
            "array([256, 272, 288, 304, 321])\n",
            "Total number of trials (with 1 attempts per arch): 75\n",
            "Total number of trials (with 2 attempts per arch): 150\n",
            "Start training [13-10-2020][timestamp=1602594455-215792] ...\n",
            "Arch no.=0 | trial no.=(1/2) running...\n",
            "Arch no.=0 | trial no.=(1/2) | eta: 269.9595775604248\n",
            "Arch no.=0 | trial no.=(2/2) running...\n",
            "Arch no.=0 | trial no.=(2/2) | eta: 270.17971992492676\n",
            "Arch no.=0, loss(avg)=0.014530, PSNR(avg)=18.377266, SSIM(avg)=0.587331, iteration time=540.151375\n",
            "Global stats(through all archs.): loss(avg)=0.014530, PSNR(avg)=18.377266, SSIM(avg)=0.587331, iteration time=540.151375\n",
            "Arch no.=1 | trial no.=(1/2) running...\n",
            "Arch no.=1 | trial no.=(1/2) | eta: 268.11107754707336\n",
            "Arch no.=1 | trial no.=(2/2) running...\n",
            "Arch no.=1 | trial no.=(2/2) | eta: 271.78482007980347\n",
            "Arch no.=1, loss(avg)=0.015104, PSNR(avg)=18.209032, SSIM(avg)=0.571104, iteration time=539.903265\n",
            "Global stats(through all archs.): loss(avg)=0.014817, PSNR(avg)=18.293149, SSIM(avg)=0.579218, iteration time=539.903265\n",
            "Arch no.=2 | trial no.=(1/2) running...\n",
            "Arch no.=2 | trial no.=(1/2) | eta: 269.5894777774811\n",
            "Arch no.=2 | trial no.=(2/2) running...\n",
            "Arch no.=2 | trial no.=(2/2) | eta: 267.2640359401703\n",
            "Arch no.=2, loss(avg)=0.015256, PSNR(avg)=18.165677, SSIM(avg)=0.567613, iteration time=536.862128\n",
            "Global stats(through all archs.): loss(avg)=0.014963, PSNR(avg)=18.250658, SSIM(avg)=0.575349, iteration time=536.862128\n",
            "Arch no.=3 | trial no.=(1/2) running...\n",
            "Arch no.=3 | trial no.=(1/2) | eta: 453.62233304977417\n",
            "Arch no.=3 | trial no.=(2/2) running...\n",
            "Arch no.=3 | trial no.=(2/2) | eta: 455.4364380836487\n",
            "Arch no.=3, loss(avg)=0.008610, PSNR(avg)=20.650045, SSIM(avg)=0.731964, iteration time=909.068987\n",
            "Global stats(through all archs.): loss(avg)=0.013375, PSNR(avg)=18.850505, SSIM(avg)=0.614503, iteration time=909.068987\n",
            "Arch no.=4 | trial no.=(1/2) running...\n",
            "Arch no.=4 | trial no.=(1/2) | eta: 456.62503838539124\n",
            "Arch no.=4 | trial no.=(2/2) running...\n",
            "Arch no.=4 | trial no.=(2/2) | eta: 450.8269000053406\n",
            "Arch no.=4, loss(avg)=0.009462, PSNR(avg)=20.240310, SSIM(avg)=0.703866, iteration time=907.463049\n",
            "Global stats(through all archs.): loss(avg)=0.012592, PSNR(avg)=19.128466, SSIM(avg)=0.632376, iteration time=907.463049\n",
            "Arch no.=5 | trial no.=(1/2) running...\n",
            "Arch no.=5 | trial no.=(1/2) | eta: 459.8054349422455\n",
            "Arch no.=5 | trial no.=(2/2) running...\n",
            "Arch no.=5 | trial no.=(2/2) | eta: 453.9279434680939\n",
            "Arch no.=5, loss(avg)=0.008777, PSNR(avg)=20.566510, SSIM(avg)=0.727107, iteration time=913.748089\n",
            "Global stats(through all archs.): loss(avg)=0.011956, PSNR(avg)=19.368140, SSIM(avg)=0.648164, iteration time=913.748089\n",
            "Arch no.=6 | trial no.=(1/2) running...\n",
            "Arch no.=6 | trial no.=(1/2) | eta: 639.757134437561\n",
            "Arch no.=6 | trial no.=(2/2) running...\n",
            "Arch no.=6 | trial no.=(2/2) | eta: 643.4493820667267\n",
            "Arch no.=6, loss(avg)=0.006978, PSNR(avg)=21.562955, SSIM(avg)=0.775045, iteration time=1283.220150\n",
            "Global stats(through all archs.): loss(avg)=0.011245, PSNR(avg)=19.681685, SSIM(avg)=0.666290, iteration time=1283.220150\n",
            "Arch no.=7 | trial no.=(1/2) running...\n",
            "Arch no.=7 | trial no.=(1/2) | eta: 643.0992603302002\n",
            "Arch no.=7 | trial no.=(2/2) running...\n",
            "Arch no.=7 | trial no.=(2/2) | eta: 640.9485332965851\n",
            "Arch no.=7, loss(avg)=0.006743, PSNR(avg)=21.711566, SSIM(avg)=0.782564, iteration time=1284.063348\n",
            "Global stats(through all archs.): loss(avg)=0.010682, PSNR(avg)=19.935420, SSIM(avg)=0.680824, iteration time=1284.063348\n",
            "Arch no.=8 | trial no.=(1/2) running...\n",
            "Arch no.=8 | trial no.=(1/2) | eta: 647.4274771213531\n",
            "Arch no.=8 | trial no.=(2/2) running...\n",
            "Arch no.=8 | trial no.=(2/2) | eta: 642.632340669632\n",
            "Arch no.=8, loss(avg)=0.006521, PSNR(avg)=21.856597, SSIM(avg)=0.792053, iteration time=1290.076142\n",
            "Global stats(through all archs.): loss(avg)=0.010220, PSNR(avg)=20.148884, SSIM(avg)=0.693183, iteration time=1290.076142\n",
            "Arch no.=9 | trial no.=(1/2) running...\n",
            "Arch no.=9 | trial no.=(1/2) | eta: 827.5195229053497\n",
            "Arch no.=9 | trial no.=(2/2) running...\n",
            "Arch no.=9 | trial no.=(2/2) | eta: 829.6979920864105\n",
            "Arch no.=9, loss(avg)=0.004893, PSNR(avg)=23.104379, SSIM(avg)=0.835944, iteration time=1657.234426\n",
            "Global stats(through all archs.): loss(avg)=0.009687, PSNR(avg)=20.444434, SSIM(avg)=0.707459, iteration time=1657.234426\n",
            "Arch no.=10 | trial no.=(1/2) running...\n",
            "Arch no.=10 | trial no.=(1/2) | eta: 823.2003741264343\n",
            "Arch no.=10 | trial no.=(2/2) running...\n",
            "Arch no.=10 | trial no.=(2/2) | eta: 828.5667541027069\n",
            "Arch no.=10, loss(avg)=0.005593, PSNR(avg)=22.523545, SSIM(avg)=0.815730, iteration time=1651.784100\n",
            "Global stats(through all archs.): loss(avg)=0.009315, PSNR(avg)=20.633444, SSIM(avg)=0.717302, iteration time=1651.784100\n",
            "Arch no.=11 | trial no.=(1/2) running...\n",
            " 37% 11/30 [3:11:53<7:19:58, 1389.40s/it]"
          ],
          "name": "stdout"
        }
      ]
    },
    {
      "cell_type": "markdown",
      "metadata": {
        "id": "N_WmO47_ZMCT"
      },
      "source": [
        "## Dummy tests numpy"
      ]
    },
    {
      "cell_type": "code",
      "metadata": {
        "id": "ZIWiN1LsU-DZ"
      },
      "source": [
        "import numpy as np\n",
        "np.concatenate(([np.array([1,2,3])], [np.array([4,5,6])]), axis=0) # .mean(axis=0)"
      ],
      "execution_count": null,
      "outputs": []
    }
  ]
}