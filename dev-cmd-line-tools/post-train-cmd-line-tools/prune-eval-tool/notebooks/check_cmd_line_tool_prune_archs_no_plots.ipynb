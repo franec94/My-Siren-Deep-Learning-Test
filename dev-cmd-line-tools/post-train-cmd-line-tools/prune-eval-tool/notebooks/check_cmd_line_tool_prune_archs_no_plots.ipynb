{
  "nbformat": 4,
  "nbformat_minor": 0,
  "metadata": {
    "colab": {
      "name": "check_cmd_line_tool_prune_archs_no_plots.ipynb",
      "provenance": [],
      "collapsed_sections": [
        "iSuXNWblpTkx"
      ]
    },
    "kernelspec": {
      "display_name": "Python 3",
      "name": "python3"
    }
  },
  "cells": [
    {
      "cell_type": "markdown",
      "metadata": {
        "id": "DerW7afSj5Dc"
      },
      "source": [
        "### Setup Notebook"
      ]
    },
    {
      "cell_type": "code",
      "metadata": {
        "id": "5wUu1iS7gtJj"
      },
      "source": [
        "#@title Enable prune mode\n",
        "#@markdown ---\n",
        "PRUNE_MODEL = False                   #@param {type:\"boolean\"}\n",
        "PRUNE_A_FILE = False                   #@param {type:\"boolean\"}\n",
        "PRUNE_CSV_FILES = False                #@param {type:\"boolean\"}\n",
        "\n",
        "SHOW_PLOTS = False                #@param {type:\"boolean\"}"
      ],
      "execution_count": null,
      "outputs": []
    },
    {
      "cell_type": "code",
      "metadata": {
        "id": "NA6CUCh-gAyK"
      },
      "source": [
        "#@title Github related infos\n",
        "#@markdown ---\n",
        "PROJECT_NAME_PATH = '/content/My-Siren-Deep-Learning-Test' #@param {type:\"string\"}\n",
        "\n",
        "    \n",
        "GITHUB_PROJECT_URL = 'https://github.com/franec94/My-Siren-Deep-Learning-Test.git' #@param {type:\"string\"}\n",
        "BRANCH_NAME = 'cmd-line-tools' #@param {type:\"string\"}\n",
        "CMD_TOOL_NAME = 'post-train-cmd-line-tools/prune-eval-tool' #@param {type:\"string\"}"
      ],
      "execution_count": null,
      "outputs": []
    },
    {
      "cell_type": "code",
      "metadata": {
        "id": "vDDToVQyiQYt"
      },
      "source": [
        "#@title Model's Hyper-Params\n",
        "#@markdown ---\n",
        "N_HF=35 #@param {type:\"integer\"}\n",
        "N_HL=9  #@param {type:\"integer\"}\n",
        "SIDELENGTH=256 #@param {type:\"integer\"}\n",
        "DEVICE = \"cpu\" #@param [\"cpu\", \"cuda\", \"gpu\"]\n",
        "BATCH_SIZE=1 #@param {type:\"integer\"}\n",
        "MODEL_PATH='/content/model_final.pth' #@param {type:\"string\"}"
      ],
      "execution_count": null,
      "outputs": []
    },
    {
      "cell_type": "code",
      "metadata": {
        "id": "1hmPLJvOknC3"
      },
      "source": [
        "FROM_UPLOADED_FILE = False #@param {type:\"boolean\"}\n",
        "UPLOADED_FILE_NAME = \"/content/final_result_pruning.csv\" #@param {type:\"string\"}"
      ],
      "execution_count": null,
      "outputs": []
    },
    {
      "cell_type": "code",
      "metadata": {
        "id": "V-GrddJvnAGq"
      },
      "source": [
        "#@markdown ---\n",
        "#@markdown ##### Data csv Info:\n",
        "TIMESTAMP_VAL = \"1605077314-991078\" #@param {type:\"string\"}\n",
        "EVAL_CSV_FILES = False  #@param {type:\"boolean\"}\n",
        "EVAL_ALL_CSV_FILES = False  #@param {type:\"boolean\"}"
      ],
      "execution_count": null,
      "outputs": []
    },
    {
      "cell_type": "code",
      "metadata": {
        "id": "83aOT8-smqhF",
        "outputId": "ee3fac55-cd66-4820-86cd-3a026a15b6f1",
        "colab": {
          "base_uri": "https://localhost:8080/"
        }
      },
      "source": [
        "DATA_ZIP_PATH = f\"/content/{TIMESTAMP_VAL}.zip\"\n",
        "DATA_PATH = f\"/content/{TIMESTAMP_VAL}\" \n",
        "DATA_CSV_PATH = f\"/content/{TIMESTAMP_VAL}/colab_{TIMESTAMP_VAL}.csv\"\n",
        "\n",
        "DATA_ZIP_PATH, DATA_PATH, DATA_CSV_PATH"
      ],
      "execution_count": null,
      "outputs": [
        {
          "output_type": "execute_result",
          "data": {
            "text/plain": [
              "('/content/1605077314-991078.zip',\n",
              " '/content/1605077314-991078',\n",
              " '/content/1605077314-991078/colab_1605077314-991078.csv')"
            ]
          },
          "metadata": {
            "tags": []
          },
          "execution_count": 6
        }
      ]
    },
    {
      "cell_type": "code",
      "metadata": {
        "id": "BCtvLPuTnGwb"
      },
      "source": [
        "if PRUNE_MODEL and EVAL_CSV_FILES:\n",
        "    import os\n",
        "    print(\"Extracting data...\")\n",
        "    if os.path.exists(DATA_ZIP_PATH):\n",
        "        print(f\"{DATA_ZIP_PATH} exists!\")\n",
        "        if os.path.isdir(f\"{DATA_PATH}\"):\n",
        "            !unzip {DATA_ZIP_PATH} -o -d /content/ > /dev/null\n",
        "        else:\n",
        "            !unzip {DATA_ZIP_PATH} -d /content/ > /dev/null\n",
        "    else:\n",
        "        print(f\"{DATA_ZIP_PATH} does not exist!\")\n",
        "    pass"
      ],
      "execution_count": null,
      "outputs": []
    },
    {
      "cell_type": "code",
      "metadata": {
        "id": "m2oTFx_MnS7c"
      },
      "source": [
        "if PRUNE_MODEL and EVAL_ALL_CSV_FILES:\n",
        "    DATA_CSV_PATH = []\n",
        "    import pathlib\n",
        "    zip_files_list = pathlib.Path(f'/content').glob(f'*.zip')\n",
        "    for a_zip_file in zip_files_list:\n",
        "        print(\"Extracting data...\")\n",
        "        filename = os.path.basename(a_zip_file)\n",
        "        filename = os.path.splitext(filename)[0]\n",
        "        DATA_CSV_PATH.append(f\"/content/{filename}/colab_{filename}.csv\")\n",
        "        if os.path.exists(a_zip_file):\n",
        "            print(f\"{a_zip_file} exists!\")\n",
        "            !unzip {a_zip_file} -d /content/ > /dev/null\n",
        "        else:\n",
        "            print(f\"{a_zip_file} does not exist!\")\n",
        "        pass\n",
        "    DATA_CSV_PATH = ' '.join(DATA_CSV_PATH)\n",
        "    print(DATA_CSV_PATH)\n",
        "    pass"
      ],
      "execution_count": null,
      "outputs": []
    },
    {
      "cell_type": "code",
      "metadata": {
        "id": "lFMGB4_WoOuV"
      },
      "source": [
        "#@title Save results\n",
        "#@markdown ---\n",
        "LOGGING_ROOT = '/content/results/cameramen' #@param {type:\"string\"}\n",
        "EXPERIMENT_NAME = 'train' #@param {type:\"string\"}\n"
      ],
      "execution_count": null,
      "outputs": []
    },
    {
      "cell_type": "code",
      "metadata": {
        "id": "kWZNp0exeitL"
      },
      "source": [
        "#@title Handle workspace\n",
        "#@markdown ---\n",
        "CLEAR_RESULTS_DIR = False      #@param {type:\"boolean\"}\n",
        "RESULTS_DIR_PATH = \"/content/results\"      #@param {type:\"string\"}"
      ],
      "execution_count": null,
      "outputs": []
    },
    {
      "cell_type": "code",
      "metadata": {
        "id": "Xp-pQ2Y6egD6"
      },
      "source": [
        "if CLEAR_RESULTS_DIR:\n",
        "    import os\n",
        "    if os.path.exists(RESULTS_DIR_PATH) and os.path.isdir(RESULTS_DIR_PATH):\n",
        "        print(f\"Clearing {RESULTS_DIR_PATH}...\")\n",
        "        !rm -R {RESULTS_DIR_PATH}/*\n",
        "        !rmdir {RESULTS_DIR_PATH}\n",
        "        pass\n",
        "    pass"
      ],
      "execution_count": null,
      "outputs": []
    },
    {
      "cell_type": "markdown",
      "metadata": {
        "id": "iSuXNWblpTkx"
      },
      "source": [
        "### Imports"
      ]
    },
    {
      "cell_type": "code",
      "metadata": {
        "id": "7_36eKG3gC6t",
        "outputId": "c43d3cea-ab2f-4c18-9c92-ac94aa6f486b",
        "colab": {
          "base_uri": "https://localhost:8080/"
        }
      },
      "source": [
        "# Installing third party dependencies\n",
        "print(\"Installing required libraries...\")\n",
        "\n",
        "old_requirements = '/content/tmp_requirements.txt'\n",
        "!pip freeze > {old_requirements}\n",
        "dependencies_list = \"cmapy,sk-video,pytorch-model-summary,ConfigArgParse,tabulate,chart_studio,dash,dash_bootstrap_components\".split(\",\")\n",
        "\n",
        "with open(old_requirements) as f:\n",
        "    old_requirements_list = f.read().split(\"\\n\")\n",
        "    for a_req in dependencies_list:\n",
        "        found_req = False\n",
        "        for old_req in old_requirements_list:\n",
        "            if old_req.startswith(a_req):\n",
        "                print(f\"{a_req} already installed!\")\n",
        "                found_req = True\n",
        "                break\n",
        "        if found_req is False:\n",
        "            !pip install {a_req} -q\n",
        "    pass\n",
        "!rm -f {old_requirements}"
      ],
      "execution_count": null,
      "outputs": [
        {
          "output_type": "stream",
          "text": [
            "Installing required libraries...\n",
            "cmapy already installed!\n",
            "sk-video already installed!\n",
            "pytorch-model-summary already installed!\n",
            "ConfigArgParse already installed!\n",
            "tabulate already installed!\n",
            "dash already installed!\n"
          ],
          "name": "stdout"
        }
      ]
    },
    {
      "cell_type": "code",
      "metadata": {
        "id": "nYI-DvnQpVOA"
      },
      "source": [
        "from __future__ import print_function\n",
        "from __future__ import division\n",
        "\n",
        "# --------------------------------------------- #\n",
        "# Standard Library, plus some Third Party Libraries\n",
        "# --------------------------------------------- #\n",
        "\n",
        "DASH_TEMPLATES_LIST = [\"plotly\", \"plotly_white\", \"plotly_dark\", \"ggplot2\", \"seaborn\", \"simple_white\", \"none\"]\n",
        "\n",
        "from PIL import Image\n",
        "from functools import partial\n",
        "from pprint import pprint\n",
        "from tqdm import tqdm\n",
        "from typing import Tuple, Union\n",
        "\n",
        "\n",
        "import configargparse\n",
        "import copy\n",
        "import collections\n",
        "import datetime\n",
        "import itertools\n",
        "import functools\n",
        "import h5py\n",
        "import logging\n",
        "import math\n",
        "import os\n",
        "import operator\n",
        "import pickle\n",
        "import random\n",
        "import shutil\n",
        "import sys\n",
        "import re\n",
        "import tabulate \n",
        "import time\n",
        "# import visdom\n",
        "\n",
        "\n",
        "from collections import OrderedDict\n",
        "import matplotlib\n",
        "import matplotlib.pyplot as plt\n",
        "import numpy as np\n",
        "\n",
        "# --------------------------------------------- #\n",
        "# Data Science and Machine Learning Libraries\n",
        "# --------------------------------------------- #\n",
        "import matplotlib\n",
        "import matplotlib.pyplot as plt\n",
        "matplotlib.style.use('ggplot')\n",
        "\n",
        "import numpy as np\n",
        "import pandas as pd\n",
        "import sklearn\n",
        "\n",
        "from sklearn.model_selection import ParameterGrid\n",
        "from sklearn.model_selection import train_test_split\n",
        "\n",
        "# --------------------------------------------- #\n",
        "# Torch\n",
        "# --------------------------------------------- #\n",
        "try:\n",
        "    import torch\n",
        "    import torch.nn as nn\n",
        "    import torch.nn.functional as F\n",
        "    import torch.optim as optim\n",
        "    from torch.utils.data import DataLoader, Dataset\n",
        "    import torch.quantization\n",
        "    import torch.nn.utils.prune as prune\n",
        "except:\n",
        "    print(\"torch not available!\")\n",
        "    pass\n",
        "\n",
        "\n",
        "# --------------------------------------------- #\n",
        "# Import: TorchVision\n",
        "# --------------------------------------------- #\n",
        "try:\n",
        "    import torchvision\n",
        "    from torchvision import datasets\n",
        "    from torchvision import transforms\n",
        "    from torchvision.transforms import Resize, Compose, ToTensor, CenterCrop, Normalize\n",
        "    from torchvision.utils import save_image\n",
        "except:\n",
        "    print(\"torchvision library not available!\")\n",
        "    pass\n",
        "\n",
        "# Plotly imports.\n",
        "# ----------------------------------------------- #\n",
        "import chart_studio.plotly as py\n",
        "import plotly.figure_factory as ff\n",
        "import plotly.express as px\n",
        "\n",
        "# --------------------------------------------- #\n",
        "# Import: skimage\n",
        "# --------------------------------------------- #\n",
        "try:\n",
        "    import skimage\n",
        "    import skimage.metrics as skmetrics\n",
        "    from skimage.metrics import peak_signal_noise_ratio as psnr\n",
        "    from skimage.metrics import structural_similarity as ssim\n",
        "    from skimage.metrics import mean_squared_error\n",
        "except:\n",
        "    print(\"skimage library not available!\")\n",
        "    pass"
      ],
      "execution_count": null,
      "outputs": []
    },
    {
      "cell_type": "markdown",
      "metadata": {
        "id": "5TwPrmZ2j7ti"
      },
      "source": [
        "### Fetch Github project"
      ]
    },
    {
      "cell_type": "code",
      "metadata": {
        "id": "IL-HD3uZgKvr"
      },
      "source": [
        "import os\n",
        "os.chdir('/content')"
      ],
      "execution_count": null,
      "outputs": []
    },
    {
      "cell_type": "code",
      "metadata": {
        "id": "MakQffZ8gMc8",
        "outputId": "0ded82a5-de85-4699-d071-bbf1c216e1fb",
        "colab": {
          "base_uri": "https://localhost:8080/"
        }
      },
      "source": [
        "# Setup wd to remove trash\n",
        "\n",
        "if PRUNE_MODEL:\n",
        "    # Remove trash\n",
        "    import os\n",
        "    if os.path.exists(f'{PROJECT_NAME_PATH}') and os.path.isdir(f'{PROJECT_NAME_PATH}'):\n",
        "        print(\"Cleaning from old project...\")\n",
        "        !rm -r {PROJECT_NAME_PATH}\n",
        "    else:\n",
        "        print(\"No project found.\")\n",
        "        pass\n",
        "\n",
        "    import os\n",
        "    logs_base_dir = os.path.join(\"/content/outputs\", \"summaries\")\n",
        "    os.makedirs(logs_base_dir, exist_ok=True)\n",
        "\n",
        "    if os.path.exists(PROJECT_NAME_PATH) is False:\n",
        "        !git clone {GITHUB_PROJECT_URL}\n",
        "        os.chdir(PROJECT_NAME_PATH)\n",
        "        !git checkout {BRANCH_NAME}\n",
        "        full_path_cmd = os.path.join(PROJECT_NAME_PATH, f'dev-cmd-line-tools/{CMD_TOOL_NAME}')\n",
        "        os.chdir(full_path_cmd)\n",
        "    else:\n",
        "        os.chdir(PROJECT_NAME_PATH)\n",
        "        !git checkout {BRANCH_NAME}\n",
        "        !git fetch\n",
        "        full_path_cmd = os.path.join(PROJECT_NAME_PATH, f'dev-cmd-line-tools/{CMD_TOOL_NAME}')\n",
        "        os.chdir(full_path_cmd)\n",
        "        pass\n",
        "    pass\n",
        "else:\n",
        "    print(\"No github project cloned and no branch activated and switched to!\")\n",
        "    pass"
      ],
      "execution_count": null,
      "outputs": [
        {
          "output_type": "stream",
          "text": [
            "No github project cloned and no branch activated and switched to!\n"
          ],
          "name": "stdout"
        }
      ]
    },
    {
      "cell_type": "markdown",
      "metadata": {
        "id": "R5-AldXIj_mD"
      },
      "source": [
        "### Run program"
      ]
    },
    {
      "cell_type": "code",
      "metadata": {
        "id": "q7TSYJ0TgPAM"
      },
      "source": [
        "# Show help\n",
        "if PRUNE_MODEL:\n",
        "    !python main.py --help"
      ],
      "execution_count": null,
      "outputs": []
    },
    {
      "cell_type": "code",
      "metadata": {
        "id": "-mQc8Hfjh2H9",
        "outputId": "06460863-0036-47f9-bc50-33f62aadacec",
        "colab": {
          "base_uri": "https://localhost:8080/"
        }
      },
      "source": [
        "if PRUNE_MODEL and PRUNE_A_FILE:\n",
        "    !python main.py \\\n",
        "        --logging_root {LOGGING_ROOT} \\\n",
        "        --experiment_name {EXPERIMENT_NAME} \\\n",
        "        --models_filepath {MODEL_PATH} \\\n",
        "        --sidelength {SIDELENGTH} \\\n",
        "        --n_hf {N_HF} \\\n",
        "        --n_hl {N_HL} \\\n",
        "        --global_pruning_techs 'L1Unstructured' 'RandomUnstructured' \\\n",
        "        --global_pruning_rates .01 .02 .03 .04 .05 .06 .07 .08 .1 .2 .3 .4 .5 .6 .7 .8 .9 \\\n",
        "        --global_pruning_abs 10 20 30 40 50 60 70 80 90 100 150 200 500 1000 1500 1700 2000 2500 2700 3000\\\n",
        "        --dynamic_quant qint8 qfloat16 \\\n",
        "        --verbose 0\n",
        "    pass\n",
        "else:\n",
        "    print(\"No single architecture's state dict file pruned!\")\n",
        "    pass"
      ],
      "execution_count": null,
      "outputs": [
        {
          "output_type": "stream",
          "text": [
            "No single architecture's state dict file pruned!\n"
          ],
          "name": "stdout"
        }
      ]
    },
    {
      "cell_type": "code",
      "metadata": {
        "id": "AecChlXnmdD-",
        "outputId": "7b3dc2d8-2722-458a-c060-1572ec4671c1",
        "colab": {
          "base_uri": "https://localhost:8080/"
        }
      },
      "source": [
        "if PRUNE_MODEL and PRUNE_CSV_FILES:\n",
        "    \"\"\"\n",
        "    !python main.py \\ \n",
        "        --logging_root {LOGGING_ROOT} \\\n",
        "        --experiment_name {EXPERIMENT_NAME} \\\n",
        "        --csv_files {DATA_CSV_PATH} \\\n",
        "        --sidelength {SIDELENGTH} \\\n",
        "        --global_pruning_techs 'L1Unstructured' 'RandomUnstructured' \\\n",
        "        --global_pruning_rates .01 .02 .03 .04 .05 .06 .07 .08 .1 .2 .3 .4 .5 .6 .7 .8 .9 \\\n",
        "        --global_pruning_abs 10 20 30 40 50 60 70 80 90 100 150 200 500 1000 1500 1700 2000 2500 2700 3000 4000 5000 \\      \n",
        "        --dynamic_quant qint8 qfloat16 \\\n",
        "        --verbose 0\n",
        "    \"\"\"\n",
        "    pass\n",
        "else:\n",
        "    print(\"No many architectures state dict file pruned!\")\n",
        "    pass\n",
        "# --global_abs_linspace 50 \\"
      ],
      "execution_count": null,
      "outputs": [
        {
          "output_type": "stream",
          "text": [
            "No many architectures state dict file pruned!\n"
          ],
          "name": "stdout"
        }
      ]
    }
  ]
}