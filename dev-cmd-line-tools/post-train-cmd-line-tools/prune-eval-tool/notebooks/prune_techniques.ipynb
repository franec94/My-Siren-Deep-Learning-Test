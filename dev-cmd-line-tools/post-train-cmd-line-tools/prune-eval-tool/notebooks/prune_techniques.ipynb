{
  "nbformat": 4,
  "nbformat_minor": 0,
  "metadata": {
    "colab": {
      "name": "prune_techniques.ipynb",
      "provenance": [],
      "collapsed_sections": [
        "VNAOMZE1Hse6",
        "ra2OapcOPBC4",
        "BtD7n67ZP1Wz",
        "Kn13YxCVPqA-",
        "40Wx3RJjHvDH"
      ]
    },
    "kernelspec": {
      "name": "python3",
      "display_name": "Python 3"
    }
  },
  "cells": [
    {
      "cell_type": "markdown",
      "metadata": {
        "id": "_TpvBRy0O57l"
      },
      "source": [
        "## Setup"
      ]
    },
    {
      "cell_type": "code",
      "metadata": {
        "id": "D4touc2JL9wC",
        "cellView": "form"
      },
      "source": [
        "#@title Gloabal Flags\n",
        "#@markdown ---\n",
        "EVAL_MODEL_SINGLE_CASE = False                   #@param {type:\"boolean\"}\n",
        "EVAL_MODEL_EXTENDED_CASE = True                  #@param {type:\"boolean\"}"
      ],
      "execution_count": 29,
      "outputs": []
    },
    {
      "cell_type": "code",
      "metadata": {
        "id": "hO91E7NqNAeH"
      },
      "source": [
        "#@title Model's Hyper-Params\n",
        "#@markdown ---\n",
        "N_HF=35 #@param {type:\"integer\"}\n",
        "N_HL=9  #@param {type:\"integer\"}\n",
        "SIDELENGTH=256 #@param {type:\"integer\"}\n",
        "DEVICE = \"cpu\" #@param [\"cpu\", \"cuda\", \"gpu\"]\n",
        "BATCH_SIZE=1 #@param {type:\"integer\"}\n",
        "MODEL_PATH='/content/model_final.pth' #@param {type:\"string\"}"
      ],
      "execution_count": 30,
      "outputs": []
    },
    {
      "cell_type": "code",
      "metadata": {
        "id": "Ry5yro45kt7y"
      },
      "source": [
        "NUMBER_TRIALS_RATE_PRUNING = 5 #@param {type:\"integer\"}\n",
        "NUMBER_TRIALS_ABS_PRUNING = 5 #@param {type:\"integer\"}"
      ],
      "execution_count": 31,
      "outputs": []
    },
    {
      "cell_type": "markdown",
      "metadata": {
        "id": "VNAOMZE1Hse6"
      },
      "source": [
        "### Libs"
      ]
    },
    {
      "cell_type": "code",
      "metadata": {
        "id": "JeyRZljlQ1k6",
        "outputId": "e4cc58f3-1495-468f-e228-6d4870ae2151",
        "colab": {
          "base_uri": "https://localhost:8080/"
        }
      },
      "source": [
        "# Installing third party dependencies\n",
        "print(\"Installing required libraries...\")\n",
        "\n",
        "old_requirements = '/content/tmp_requirements.txt'\n",
        "!pip freeze > {old_requirements}\n",
        "dependencies_list = \"cmapy,sk-video,pytorch-model-summary,ConfigArgParse,tabulate,chart_studio\".split(\",\")\n",
        "\n",
        "with open(old_requirements) as f:\n",
        "    old_requirements_list = f.read().split(\"\\n\")\n",
        "    for a_req in dependencies_list:\n",
        "        found_req = False\n",
        "        for old_req in old_requirements_list:\n",
        "            if old_req.startswith(a_req):\n",
        "                print(f\"{a_req} already installed!\")\n",
        "                found_req = True\n",
        "                break\n",
        "        if found_req is False:\n",
        "            !pip install {a_req} -q\n",
        "    pass\n",
        "!rm -f {old_requirements}"
      ],
      "execution_count": 32,
      "outputs": [
        {
          "output_type": "stream",
          "text": [
            "Installing required libraries...\n",
            "cmapy already installed!\n",
            "sk-video already installed!\n",
            "pytorch-model-summary already installed!\n",
            "ConfigArgParse already installed!\n",
            "tabulate already installed!\n"
          ],
          "name": "stdout"
        }
      ]
    },
    {
      "cell_type": "code",
      "metadata": {
        "id": "rBipfRqRQj6V"
      },
      "source": [
        "from __future__ import print_function\n",
        "from __future__ import division\n",
        "\n",
        "# --------------------------------------------- #\n",
        "# Standard Library, plus some Third Party Libraries\n",
        "# --------------------------------------------- #\n",
        "\n",
        "DASH_TEMPLATES_LIST = [\"plotly\", \"plotly_white\", \"plotly_dark\", \"ggplot2\", \"seaborn\", \"simple_white\", \"none\"]\n",
        "\n",
        "from PIL import Image\n",
        "from functools import partial\n",
        "from pprint import pprint\n",
        "from tqdm import tqdm\n",
        "from typing import Tuple, Union\n",
        "\n",
        "\n",
        "import configargparse\n",
        "import copy\n",
        "import collections\n",
        "import datetime\n",
        "import functools\n",
        "import h5py\n",
        "import logging\n",
        "import math\n",
        "import os\n",
        "import operator\n",
        "import pickle\n",
        "import random\n",
        "import shutil\n",
        "import sys\n",
        "import re\n",
        "import tabulate \n",
        "import time\n",
        "# import visdom\n",
        "\n",
        "\n",
        "from collections import OrderedDict\n",
        "import matplotlib\n",
        "import matplotlib.pyplot as plt\n",
        "import numpy as np\n",
        "\n",
        "# --------------------------------------------- #\n",
        "# Data Science and Machine Learning Libraries\n",
        "# --------------------------------------------- #\n",
        "import matplotlib\n",
        "import matplotlib.pyplot as plt\n",
        "matplotlib.style.use('ggplot')\n",
        "\n",
        "import numpy as np\n",
        "import pandas as pd\n",
        "import sklearn\n",
        "\n",
        "from sklearn.model_selection import ParameterGrid\n",
        "from sklearn.model_selection import train_test_split\n",
        "\n",
        "# --------------------------------------------- #\n",
        "# Torch\n",
        "# --------------------------------------------- #\n",
        "try:\n",
        "    import torch\n",
        "    import torch.nn as nn\n",
        "    import torch.nn.functional as F\n",
        "    import torch.optim as optim\n",
        "    from torch.utils.data import DataLoader, Dataset\n",
        "    import torch.quantization\n",
        "    import torch.nn.utils.prune as prune\n",
        "except:\n",
        "    print(\"torch not available!\")\n",
        "    pass\n",
        "\n",
        "\n",
        "# --------------------------------------------- #\n",
        "# Import: TorchVision\n",
        "# --------------------------------------------- #\n",
        "try:\n",
        "    import torchvision\n",
        "    from torchvision import datasets\n",
        "    from torchvision import transforms\n",
        "    from torchvision.transforms import Resize, Compose, ToTensor, CenterCrop, Normalize\n",
        "    from torchvision.utils import save_image\n",
        "except:\n",
        "    print(\"torchvision library not available!\")\n",
        "    pass\n",
        "\n",
        "# Plotly imports.\n",
        "# ----------------------------------------------- #\n",
        "import chart_studio.plotly as py\n",
        "import plotly.figure_factory as ff\n",
        "import plotly.express as px\n",
        "\n",
        "# --------------------------------------------- #\n",
        "# Import: skimage\n",
        "# --------------------------------------------- #\n",
        "try:\n",
        "    import skimage\n",
        "    import skimage.metrics as skmetrics\n",
        "    from skimage.metrics import peak_signal_noise_ratio as psnr\n",
        "    from skimage.metrics import structural_similarity as ssim\n",
        "    from skimage.metrics import mean_squared_error\n",
        "except:\n",
        "    print(\"skimage library not available!\")\n",
        "    pass"
      ],
      "execution_count": 33,
      "outputs": []
    },
    {
      "cell_type": "markdown",
      "metadata": {
        "id": "ra2OapcOPBC4"
      },
      "source": [
        "### Functions"
      ]
    },
    {
      "cell_type": "markdown",
      "metadata": {
        "id": "BtD7n67ZP1Wz"
      },
      "source": [
        "#### Utils"
      ]
    },
    {
      "cell_type": "code",
      "metadata": {
        "id": "rxQM_DdXqMrd"
      },
      "source": [
        "def set_seeds(seed):\n",
        "    \"\"\"Set seeds for torch, np.random and random std python library.\n",
        "    Params\n",
        "    ------\n",
        "    `seed` - int object, seed for starting pseudo-random series.\\n\n",
        "    \"\"\"\n",
        "    torch.manual_seed(seed)\n",
        "    np.random.seed(seed)\n",
        "    random.seed(seed)\n",
        "    pass"
      ],
      "execution_count": 34,
      "outputs": []
    },
    {
      "cell_type": "code",
      "metadata": {
        "id": "-ZVfnsVpPC_v"
      },
      "source": [
        "def check_device_and_weigths_to_laod(model_fp32, device = 'cpu', model_path = None):\n",
        "    \"\"\"Check to which device load a PyTorch model and fi it is necessary to also laod weights for that model.\n",
        "    Params\n",
        "    ------\n",
        "    `model_fp32` - PyTorch model to be fetched to a proper device .\\n\n",
        "    `device` - str object, kind of device upon which model's weigths and computation will be done. Allowed CPU,GPU,CUDA.\\n\n",
        "    `model_path` - str python object, either None when we do not desire to load weights, or a file path to model's weights.\\n\n",
        "    Return\n",
        "    ------\n",
        "    `model_fp32` - PyTorch model loaded to a proper device .\\n\n",
        "    \"\"\"\n",
        "    if device == 'cpu':\n",
        "        # print('Load Model to cpu device!')\n",
        "        model_fp32 = model_fp32.to('cpu')\n",
        "        if model_path != None:\n",
        "            # print('Load Model weigths!')\n",
        "            state_dict = torch.load(model_path, map_location=torch.device('cpu'))\n",
        "            model_fp32.load_state_dict(state_dict)\n",
        "            pass\n",
        "        pass\n",
        "    else:\n",
        "        try:\n",
        "            model_fp32 = model_fp32.cuda()\n",
        "            # print('Load Model to cuda device!')\n",
        "            if model_path != None:\n",
        "                # print('Load Model weigths!')\n",
        "                state_dict = torch.load(model_path, map_location=torch.device('cuda'))\n",
        "                model_fp32.load_state_dict(state_dict)\n",
        "                pass\n",
        "            pass\n",
        "        except:\n",
        "            model_fp32 = model_fp32.to('cpu')\n",
        "            if model_path != None:\n",
        "                # print('Load Model weigths!')\n",
        "                state_dict = torch.load(model_path, map_location=torch.device('cpu'))\n",
        "                model_fp32.load_state_dict(state_dict)\n",
        "                pass\n",
        "            pass\n",
        "        pass\n",
        "    return model_fp32\n",
        "\n",
        "def get_size_of_model(model):\n",
        "    \"\"\"Return model size as file size corresponding to model's state dictionary when saved temporarily to \n",
        "    disk.\n",
        "    Params\n",
        "    ------\n",
        "    `model` - PyTorch like model.\\n\n",
        "    Return\n",
        "    ------\n",
        "    `model_size` - int python object, size of state dictionary expressed in byte.\\n\n",
        "    \"\"\"\n",
        "    torch.save(model.state_dict(), \"temp.p\")\n",
        "    # print('Size (MB):', os.path.getsize(\"temp.p\")/1e6)\n",
        "    model_size = os.path.getsize(\"temp.p\")\n",
        "    os.remove('temp.p')\n",
        "    return model_size\n",
        "\n",
        "def compute_desired_metrices(model_output, gt, data_range=1.):\n",
        "    \"\"\"Compute PSNR and SSIM scores.\n",
        "    Params:\n",
        "    -------\n",
        "    `model_output` - output produced by a Pytorch model\\n\n",
        "    `gt` - reference data\\n\n",
        "    `data_range` - int, range of input data\\n\n",
        "\n",
        "    Return:\n",
        "    -------\n",
        "    `val_psnr, val_mssim` - scores from metrices PSNR, and SSIM\n",
        "    \"\"\"\n",
        "\n",
        "    sidelenght = model_output.size()[1]\n",
        "\n",
        "    arr_gt = gt.cpu().view(sidelenght).detach().numpy()\n",
        "    arr_gt = (arr_gt / 2.) + 0.5\n",
        "\n",
        "    arr_output = model_output.cpu().view(sidelenght).detach().numpy()\n",
        "    arr_output = (arr_output / 2.) + 0.5\n",
        "    arr_output = np.clip(arr_output, a_min=0., a_max=1.)\n",
        "\n",
        "    val_psnr = psnr(arr_gt, arr_output,data_range=data_range)\n",
        "    val_mssim = ssim(arr_gt, arr_output,data_range=data_range)\n",
        "    return val_psnr, val_mssim\n",
        "\n",
        "def get_data_ready_for_model(model_input, gt, quantization_enabled = None, device = 'cpu'):\n",
        "    \"\"\"Setup data to be feeded into the model, as the latter will expect.\n",
        "    Params:\n",
        "    -------\n",
        "    `model_input` - input to be processed by PyTorch model\\n\n",
        "    `gt` - reference data\\n\n",
        "    `quantization_enabled` - str object, quantization technique name, allowed values: [dynamic,static,post_train,quantization_aware_training]\\n\n",
        "    `device` - str object, allowed values: 'cpu', 'gpu', 'cuda'\\n\n",
        "\n",
        "    Return:\n",
        "    -------\n",
        "    `model_input, gt` - data ready to be feeded into PyTorch model\n",
        "    \"\"\"\n",
        "    if device == 'cpu':\n",
        "        model_input = model_input['coords'].to('cpu')\n",
        "        gt = gt['img'].to('cpu')\n",
        "        if quantization_enabled  != None:\n",
        "            pass\n",
        "    else:\n",
        "        model_input = model_input['coords'].cuda()\n",
        "        gt = gt['img'].cuda()\n",
        "        if quantization_enabled  != None:\n",
        "            pass\n",
        "        pass\n",
        "    return model_input, gt"
      ],
      "execution_count": 35,
      "outputs": []
    },
    {
      "cell_type": "markdown",
      "metadata": {
        "id": "Kn13YxCVPqA-"
      },
      "source": [
        "#### Data Loader"
      ]
    },
    {
      "cell_type": "code",
      "metadata": {
        "id": "nRs11cPyPH8y"
      },
      "source": [
        "def get_mgrid(sidelen, dim=2):\n",
        "    '''Generates a flattened grid of (x,y,...) coordinates in a range of -1 to 1.'''\n",
        "    if isinstance(sidelen, int):\n",
        "        sidelen = dim * (sidelen,)\n",
        "\n",
        "    if dim == 2:\n",
        "        pixel_coords = np.stack(np.mgrid[:sidelen[0], :sidelen[1]], axis=-1)[None, ...].astype(np.float32)\n",
        "        pixel_coords[0, :, :, 0] = pixel_coords[0, :, :, 0] / (sidelen[0] - 1)\n",
        "        pixel_coords[0, :, :, 1] = pixel_coords[0, :, :, 1] / (sidelen[1] - 1)\n",
        "    elif dim == 3:\n",
        "        pixel_coords = np.stack(np.mgrid[:sidelen[0], :sidelen[1], :sidelen[2]], axis=-1)[None, ...].astype(np.float32)\n",
        "        pixel_coords[..., 0] = pixel_coords[..., 0] / max(sidelen[0] - 1, 1)\n",
        "        pixel_coords[..., 1] = pixel_coords[..., 1] / (sidelen[1] - 1)\n",
        "        pixel_coords[..., 2] = pixel_coords[..., 2] / (sidelen[2] - 1)\n",
        "    else:\n",
        "        raise NotImplementedError('Not implemented for dim=%d' % dim)\n",
        "\n",
        "    pixel_coords -= 0.5\n",
        "    pixel_coords *= 2.\n",
        "    pixel_coords = torch.Tensor(pixel_coords).view(-1, dim)\n",
        "    return pixel_coords\n",
        "\n",
        "\n",
        "def get_input_image(opt):\n",
        "    \"\"\"Get input image, if none image is provided, then Cameramen default image will be fetched.\"\"\"\n",
        "    if opt.image_filepath is None:\n",
        "        img_dataset = Camera()\n",
        "        img = Image.fromarray(skimage.data.camera())\n",
        "        image_resolution = img.size\n",
        "        if opt.sidelength is None:\n",
        "            opt.sidelength = image_resolution\n",
        "            # opt.sidelength = 256\n",
        "            pass\n",
        "    else:\n",
        "        img_dataset =  ImageFile(opt.image_filepath)\n",
        "        img = Image.open(opt.image_filepath)\n",
        "        image_resolution = img.size\n",
        "        if opt.sidelength is None:\n",
        "            opt.sidelength = image_resolution\n",
        "            # opt.sidelength = image_resolution\n",
        "            pass\n",
        "        pass\n",
        "\n",
        "    return img_dataset, img, image_resolution\n",
        "\n",
        "class Camera(Dataset):\n",
        "    def __init__(self, downsample_factor=1):\n",
        "        super().__init__()\n",
        "        self.downsample_factor = downsample_factor\n",
        "        self.img = Image.fromarray(skimage.data.camera())\n",
        "        self.img_channels = 1\n",
        "\n",
        "        if downsample_factor > 1:\n",
        "            size = (int(512 / downsample_factor),) * 2\n",
        "            self.img_downsampled = self.img.resize(size, Image.ANTIALIAS)\n",
        "\n",
        "    def __len__(self):\n",
        "        return 1\n",
        "\n",
        "    def __getitem__(self, idx):\n",
        "        if self.downsample_factor > 1:\n",
        "            return self.img_downsampled\n",
        "        else:\n",
        "            return self.img\n",
        "\n",
        "class ImageFile(Dataset):\n",
        "    def __init__(self, filename):\n",
        "        super().__init__()\n",
        "        self.img = Image.open(filename)\n",
        "        self.img_channels = len(self.img.mode)\n",
        "\n",
        "    def __len__(self):\n",
        "        return 1\n",
        "\n",
        "    def __getitem__(self, idx):\n",
        "        return self.img\n",
        "    pass\n",
        "\n",
        "class Implicit2DWrapper(torch.utils.data.Dataset):\n",
        "    def __init__(self, dataset, sidelength=None, compute_diff=None):\n",
        "\n",
        "        if isinstance(sidelength, int):\n",
        "            sidelength = (sidelength, sidelength)\n",
        "        self.sidelength = sidelength\n",
        "\n",
        "        self.transform = Compose([\n",
        "            # Resize(sidelength),\n",
        "            CenterCrop(sidelength),\n",
        "            ToTensor(),\n",
        "            Normalize(torch.Tensor([0.5]), torch.Tensor([0.5]))\n",
        "        ])\n",
        "\n",
        "        self.compute_diff = compute_diff\n",
        "        self.dataset = dataset\n",
        "        self.mgrid = get_mgrid(sidelength)\n",
        "\n",
        "    def __len__(self):\n",
        "        return len(self.dataset)\n",
        "\n",
        "    def __getitem__(self, idx):\n",
        "        img = self.transform(self.dataset[idx])\n",
        "\n",
        "        if self.compute_diff == 'gradients':\n",
        "            img *= 1e1\n",
        "            gradx = scipy.ndimage.sobel(img.numpy(), axis=1).squeeze(0)[..., None]\n",
        "            grady = scipy.ndimage.sobel(img.numpy(), axis=2).squeeze(0)[..., None]\n",
        "        elif self.compute_diff == 'laplacian':\n",
        "            img *= 1e4\n",
        "            laplace = scipy.ndimage.laplace(img.numpy()).squeeze(0)[..., None]\n",
        "        elif self.compute_diff == 'all':\n",
        "            gradx = scipy.ndimage.sobel(img.numpy(), axis=1).squeeze(0)[..., None]\n",
        "            grady = scipy.ndimage.sobel(img.numpy(), axis=2).squeeze(0)[..., None]\n",
        "            laplace = scipy.ndimage.laplace(img.numpy()).squeeze(0)[..., None]\n",
        "\n",
        "        img = img.permute(1, 2, 0).view(-1, self.dataset.img_channels)\n",
        "\n",
        "        in_dict = {'idx': idx, 'coords': self.mgrid}\n",
        "        gt_dict = {'img': img}\n",
        "\n",
        "        if self.compute_diff == 'gradients':\n",
        "            gradients = torch.cat((torch.from_numpy(gradx).reshape(-1, 1),\n",
        "                                   torch.from_numpy(grady).reshape(-1, 1)),\n",
        "                                  dim=-1)\n",
        "            gt_dict.update({'gradients': gradients})\n",
        "\n",
        "        elif self.compute_diff == 'laplacian':\n",
        "            gt_dict.update({'laplace': torch.from_numpy(laplace).view(-1, 1)})\n",
        "\n",
        "        elif self.compute_diff == 'all':\n",
        "            gradients = torch.cat((torch.from_numpy(gradx).reshape(-1, 1),\n",
        "                                   torch.from_numpy(grady).reshape(-1, 1)),\n",
        "                                  dim=-1)\n",
        "            gt_dict.update({'gradients': gradients})\n",
        "            gt_dict.update({'laplace': torch.from_numpy(laplace).view(-1, 1)})\n",
        "\n",
        "        return in_dict, gt_dict\n",
        "    pass\n",
        "\n",
        "def get_data_for_train(img_dataset, sidelength, batch_size):\n",
        "    \"\"\"Get data ready to be feed into a DNN model as input data for training and evaluating phase, respectively.\n",
        "    Params\n",
        "    ------\n",
        "    `img_dataset` - PyTorch's DataSet like object representing the data against which evaluate models(base model and quantized models, if any).\\n\n",
        "    `sidelength` - eithr int object or lsit,tuple, representing width and height for center cropping input image.\\n\n",
        "    `batch_size` - int object for dividing input data into several batches.\\n\n",
        "    Return\n",
        "    ------\n",
        "    `train_dataloader` - PyTorch DataLoader instance.\\n\n",
        "    `val_dataloader` - PyTorch DataLoader instance.\\n\n",
        "    \"\"\"\n",
        "    coord_dataset = Implicit2DWrapper(\n",
        "        img_dataset, sidelength=sidelength, compute_diff=None)\n",
        "\n",
        "    # --- Prepare dataloaders for train and eval phases.\n",
        "    train_dataloader = DataLoader(\n",
        "        coord_dataset,\n",
        "        shuffle=True,\n",
        "        batch_size=batch_size,\n",
        "        pin_memory=True, num_workers=0)\n",
        "\n",
        "    val_dataloader = DataLoader(\n",
        "        coord_dataset,\n",
        "        shuffle=False,\n",
        "        batch_size=batch_size,\n",
        "        pin_memory=True, num_workers=0)\n",
        "    \n",
        "    return train_dataloader, val_dataloader"
      ],
      "execution_count": 36,
      "outputs": []
    },
    {
      "cell_type": "markdown",
      "metadata": {
        "id": "GXfZDinXPtKQ"
      },
      "source": [
        "#### Evalaute Functions"
      ]
    },
    {
      "cell_type": "code",
      "metadata": {
        "id": "Psj0LYqmP4ac"
      },
      "source": [
        "def evaluate_model(model, eval_dataloader, device = 'cpu', loss_fn = nn.MSELoss(), quantization_enabled = None, verbose = 0, logging_flag = False, tqdm = None):\n",
        "    \"\"\"Evaluate model, computing: loss score, PSNR and MSSI metrices, when model swithced in eval mode..\n",
        "    Params\n",
        "    ------\n",
        "    `model` - PyTorch based model\\n\n",
        "    `eval_dataloader` - PyTorch DataLoader like object\\n\n",
        "    `device` - str object, allowed values: 'cpu', 'gpu', 'cuda'\\n\n",
        "    `loss_fn` - Pytorch like Loss Function object\\n\n",
        "    `quantization_enabled` - str object, quantization technique name, allowed values: [dynamic,static,posterior,quantization_aware_training]\\n\n",
        "    `verbose` - int, verobose mode allowed values: 0,1,2.\\n\n",
        "    `logging_flag` - bool, if True enabling logging info for elapsed time in evaluating input data, result logged in info level.\\n\n",
        "    `tqdm` - tqdm object, if not None write to it.\\n\n",
        "\n",
        "    Return\n",
        "    ------\n",
        "    `eval_scores` - np.array object, containing loss, psnr, mssi scores compute when model swithced in eval mode.\\n\n",
        "    `eta_eval` - float representing time necessary for evaluating the model against the provided input.\\n\n",
        "    \"\"\"\n",
        "    eval_scores = None # Define a priori to use later.\n",
        "    model.eval()\n",
        "    with torch.no_grad():\n",
        "        # -- Get data from validation loader.\n",
        "        eval_input, eval_gt = next(iter(eval_dataloader))\n",
        "        eval_input, eval_gt = \\\n",
        "            get_data_ready_for_model(model_input = eval_input,\n",
        "            gt = eval_gt,\n",
        "            quantization_enabled=quantization_enabled,\n",
        "            device = device)\n",
        "        \n",
        "        # --- Compute estimation.\n",
        "        start_time = time.time()\n",
        "        eval_output, _ = model(eval_input)\n",
        "        eta_eval = time.time() - start_time\n",
        "\n",
        "        # --- Prepare data for calculating metrices scores.\n",
        "        # sidelenght = int(math.sqrt(val_output.size()[1]))\n",
        "        eval_loss = loss_fn(eval_output, eval_gt)\n",
        "        eval_psnr, eval_mssim = compute_desired_metrices(\n",
        "            model_output = eval_output,\n",
        "            gt = eval_gt)\n",
        "        \n",
        "        # --- Record results.\n",
        "        # train_scores = np.array([[train_loss, val_psnr, val_mssim]])\n",
        "        eval_scores = np.array([eval_loss.item(), eval_psnr, eval_mssim])\n",
        "        pass\n",
        "    return eval_scores, eta_eval\n",
        "\n",
        "\n",
        "def evaluate_model_wrapper(model, opt, img_dataset, model_name, model_weight_path = None, logging=None, tqdm=None, verbose=0):\n",
        "    \"\"\"Evaluate model after training.\n",
        "    Params\n",
        "    ------\n",
        "    `model` - PyTorch like object representing a Neural Network model.\\n\n",
        "    `opt` - Namespace python like object with attributes necessary to run the evaluation tasks required.\\n\n",
        "    `img_dataset` - PyTorch's DataSet like object representing the data against which evaluate models(base model and quantized models, if any).\\n\n",
        "    `model_name` - str like object, representing a identifier with which referring to the current trial to be evaluated.\\n\n",
        "    `model_weight_path` - str like object representing local file path for model's weights to be exploited when evaluating quantized models.\\n\n",
        "    `logging` - logging python's std library object for logging reasons to a log file.\\n\n",
        "    `tqdm` - tqdm instance for logging data to stdout keeping order with which informations are displayed.\\n\n",
        "    `verbose` - int python object, for deciding verbose strategy, available options: 0 = no info displayed to tqdm, 1 = info displayed to tqdm object.\\n\n",
        "    Return\n",
        "    ------\n",
        "    `eval_info_list` - python list object containing collections.namedtuple instances with results from different evaluations.\\n\n",
        "    \"\"\"\n",
        "\n",
        "    eval_dataloader, _ = \\\n",
        "        get_data_for_train(img_dataset, sidelength=opt.sidelength, batch_size=opt.batch_size)\n",
        "\n",
        "    eval_field_names = \"model_name,model_type,mse,psnr_db,ssim,eta_seconds,footprint_byte,footprint_percent\".split(\",\")\n",
        "    EvalInfos = collections.namedtuple(\"EvalInfos\", eval_field_names)\n",
        "    eval_info_list = []\n",
        "\n",
        "    # tot_weights_model = sum(p.numel() for p in model.parameters())\n",
        "    eval_scores, eta_eval = \\\n",
        "        evaluate_model(\n",
        "            model=model,\n",
        "            eval_dataloader=eval_dataloader,\n",
        "            device='cpu')\n",
        "    \n",
        "    basic_model_size = get_size_of_model(model)\n",
        "    # eval_info = EvalInfos._make(['Basic'] + list(eval_scores) + [eta_eval, tot_weights_model * 4, 100.0])\n",
        "    eval_info = EvalInfos._make([model_name, opt.model_type] + list(eval_scores) + [eta_eval, basic_model_size, 100.0])\n",
        "    eval_info_list.append(eval_info)\n",
        "    \"\"\"\n",
        "    if opt.dynamic_quant != []:\n",
        "        for a_dynamic_type in opt.dynamic_quant:\n",
        "            eval_scores, eta_eval, model_size = \\\n",
        "                _evaluate_dynamic_quant(\n",
        "                    opt,\n",
        "                    dtype=a_dynamic_type,\n",
        "                    img_dataset=img_dataset,\n",
        "                    model = copy.deepcopy(model),\n",
        "                    model_weight_path = model_weight_path,\n",
        "                    device = 'cpu',\n",
        "                    qconfig = 'fbgemm')\n",
        "            eval_info = EvalInfos._make([model_name, f'Quant-{str(a_dynamic_type)}'] + list(eval_scores) + [eta_eval, model_size, model_size / basic_model_size * 100])\n",
        "            eval_info_list.append(eval_info)\n",
        "            pass\n",
        "        pass\n",
        "    \n",
        "    table_vals = list(map(operator.methodcaller(\"values\"), map(operator.methodcaller(\"_asdict\"), eval_info_list)))\n",
        "    table = tabulate.tabulate(table_vals, headers=eval_field_names)\n",
        "    _log_infos(info_msg = f\"{table}\", header_msg = None, logging=logging, tqdm=tqdm, verbose=verbose)\n",
        "    \"\"\"\n",
        "    return eval_info_list"
      ],
      "execution_count": 37,
      "outputs": []
    },
    {
      "cell_type": "markdown",
      "metadata": {
        "id": "40Wx3RJjHvDH"
      },
      "source": [
        "### Models"
      ]
    },
    {
      "cell_type": "code",
      "metadata": {
        "id": "SOC7N1mjHh7X"
      },
      "source": [
        "\n",
        "\n",
        "class SineLayer(nn.Module):\n",
        "    # See paper sec. 3.2, final paragraph, and supplement Sec. 1.5 for discussion of omega_0.\n",
        "    \n",
        "    # If is_first=True, omega_0 is a frequency factor which simply multiplies the activations before the \n",
        "    # nonlinearity. Different signals may require different omega_0 in the first layer - this is a \n",
        "    # hyperparameter.\n",
        "    \n",
        "    # If is_first=False, then the weights will be divided by omega_0 so as to keep the magnitude of \n",
        "    # activations constant, but boost gradients to the weight matrix (see supplement Sec. 1.5)\n",
        "    \n",
        "    def __init__(self, in_features, out_features, bias=True,\n",
        "                 is_first=False, omega_0=30):\n",
        "        super().__init__()\n",
        "        self.omega_0 = omega_0\n",
        "        self.is_first = is_first\n",
        "        \n",
        "        self.in_features = in_features\n",
        "        self.linear = nn.Linear(in_features, out_features, bias=bias)\n",
        "        \n",
        "        self.init_weights()\n",
        "        pass\n",
        "    \n",
        "    def init_weights(self):\n",
        "        with torch.no_grad():\n",
        "            if self.is_first:\n",
        "                self.linear.weight.uniform_(-1 / self.in_features, \n",
        "                                             1 / self.in_features)      \n",
        "            else:\n",
        "                self.linear.weight.uniform_(-np.sqrt(6 / self.in_features) / self.omega_0, \n",
        "                                             np.sqrt(6 / self.in_features) / self.omega_0)\n",
        "        pass\n",
        "        \n",
        "    def forward(self, input):\n",
        "        return torch.sin(self.omega_0 * self.linear(input))\n",
        "    \n",
        "    def forward_with_intermediate(self, input): \n",
        "        # For visualization of activation distributions\n",
        "        intermediate = self.omega_0 * self.linear(input)\n",
        "        return torch.sin(intermediate), intermediate\n",
        "    pass\n",
        "    \n",
        "    \n",
        "class Siren(nn.Module):\n",
        "    def __init__(self, in_features, hidden_features, hidden_layers, out_features, outermost_linear=False, \n",
        "                 first_omega_0=30, hidden_omega_0=30.):\n",
        "        super().__init__()\n",
        "        \n",
        "        self.net = []\n",
        "        self.net.append(SineLayer(in_features, hidden_features, \n",
        "                                  is_first=True, omega_0=first_omega_0))\n",
        "\n",
        "        for i in range(hidden_layers):\n",
        "            self.net.append(SineLayer(hidden_features, hidden_features, \n",
        "                                      is_first=False, omega_0=hidden_omega_0))\n",
        "\n",
        "        if outermost_linear:\n",
        "            final_linear = nn.Linear(hidden_features, out_features)\n",
        "            \n",
        "            with torch.no_grad():\n",
        "                final_linear.weight.uniform_(-np.sqrt(6 / hidden_features) / hidden_omega_0, \n",
        "                                              np.sqrt(6 / hidden_features) / hidden_omega_0)\n",
        "                \n",
        "            self.net.append(final_linear)\n",
        "        else:\n",
        "            self.net.append(SineLayer(hidden_features, out_features, \n",
        "                                      is_first=False, omega_0=hidden_omega_0))\n",
        "        \n",
        "        self.net = nn.Sequential(*self.net)\n",
        "        pass\n",
        "    \n",
        "    def forward(self, coords):\n",
        "        coords = coords.clone().detach().requires_grad_(True) # allows to take derivative w.r.t. input\n",
        "        output = self.net(coords)\n",
        "        return output, coords        \n",
        "\n",
        "    def forward_with_activations(self, coords, retain_grad=False):\n",
        "        '''Returns not only model output, but also intermediate activations.\n",
        "        Only used for visualizing activations later!'''\n",
        "        activations = OrderedDict()\n",
        "\n",
        "        activation_count = 0\n",
        "        x = coords.clone().detach().requires_grad_(True)\n",
        "        activations['input'] = x\n",
        "        for i, layer in enumerate(self.net):\n",
        "            if isinstance(layer, SineLayer):\n",
        "                x, intermed = layer.forward_with_intermediate(x)\n",
        "                \n",
        "                if retain_grad:\n",
        "                    x.retain_grad()\n",
        "                    intermed.retain_grad()\n",
        "                    \n",
        "                activations['_'.join((str(layer.__class__), \"%d\" % activation_count))] = intermed\n",
        "                activation_count += 1\n",
        "            else: \n",
        "                x = layer(x)\n",
        "                \n",
        "                if retain_grad:\n",
        "                    x.retain_grad()\n",
        "                    \n",
        "            activations['_'.join((str(layer.__class__), \"%d\" % activation_count))] = x\n",
        "            activation_count += 1\n",
        "\n",
        "        return activations\n",
        "    pass\n"
      ],
      "execution_count": 38,
      "outputs": []
    },
    {
      "cell_type": "markdown",
      "metadata": {
        "id": "kq160Un4cCiD"
      },
      "source": [
        "### Prune Routine"
      ]
    },
    {
      "cell_type": "code",
      "metadata": {
        "id": "1gHb3h74cFb8"
      },
      "source": [
        "def get_params_to_prune(model, module_set = {torch.nn.Linear}) -> tuple:\n",
        "    \"\"\"Get params to be pruned\n",
        "    Params\n",
        "    ------\n",
        "    `model` - torch.nn.Module, DNN architecture.\\n\n",
        "    `module_set` - set of torch.nn.* to be pruned.\\n\n",
        "    Return\n",
        "    ------\n",
        "    `parameters_to_prune` - tuple of pairs (torch.nn.Module, 'weight').\\n\n",
        "    \"\"\"\n",
        "    parameters_to_prune = list()\n",
        "    for name, module in model.named_modules():\n",
        "        for a_kind_module in module_set:\n",
        "            if isinstance(module, a_kind_module):\n",
        "                parameters_to_prune.append([module, 'weight'])\n",
        "    parameters_to_prune = tuple(map(tuple, parameters_to_prune))\n",
        "    return parameters_to_prune\n",
        "\n",
        "\n",
        "def remove_to_prune(model, module_set = {torch.nn.Linear}) -> tuple:\n",
        "    \"\"\"Apply prune.remove(<module>, <attribute name>) to proper modules within model.\n",
        "    Params\n",
        "    ------\n",
        "    `model` - torch.nn.Module, DNN architecture.\\n\n",
        "    `module_set` - set of torch.nn.* to be pruned.\\n\n",
        "    Return\n",
        "    ------\n",
        "    `model` - torch.nn.Module, DNN architecture, updated.\\n\n",
        "    \"\"\"\n",
        "    parameters_to_prune = list()\n",
        "    for name, module in model.named_modules():\n",
        "        for a_kind_module in module_set:\n",
        "            if isinstance(module, a_kind_module):\n",
        "                prune.remove(module, 'weigth')\n",
        "    return model\n",
        "\n",
        "\n",
        "def show_model_sparsity(model: torch.nn.Module) -> None:\n",
        "    \"\"\"Show PyTorch's model sparsity.\n",
        "    Params\n",
        "    ------\n",
        "    `model` - torch.nn.Module, DNN architecture.\n",
        "    \"\"\"\n",
        "    zero_elemenets, n_elements = 0, 0\n",
        "    for name, module in model.named_modules():\n",
        "        if isinstance(module, torch.nn.Linear):\n",
        "            print(\"Local sparsity({}): {:.2f}%\".format(name, 100. * float(torch.sum(module.weight == 0)) / float(module.weight.nelement())))\n",
        "            zero_elemenets += torch.sum(module.weight == 0)\n",
        "            n_elements += module.weight.nelement()\n",
        "    print(\"Global sparsity: {:.2f}%\".format(100. * float(zero_elemenets)/ float(n_elements)))\n",
        "    pass\n",
        "\n",
        "\n",
        "def compute_pruning_evaluation(\n",
        "    model: torch.nn.Module,\n",
        "    image_dataset,\n",
        "    amount: float = 0.2,\n",
        "    pruning_method = prune.L1Unstructured,\n",
        "    number_trials: int = 10, device: str = 'cpu') -> list:\n",
        "    \"\"\"Compute pruning compression technique on a given model a given number of times.\n",
        "    Params\n",
        "    ------\n",
        "    `model` - torch.nn.Module.\\n\n",
        "    `image_dataset` - PyTorch Dataset.\\n\n",
        "    `amount` - float percentage of weigths to be pruned randomly from each layer.\\n\n",
        "    `pruning_method` - pruning technique to be adopted.\\n\n",
        "    `number_trials` - number of times repeating the calculation.\\n\n",
        "    `device` - str = 'cpu'.\\n\n",
        "    Return\n",
        "    ------\n",
        "    `eval_info_list` - list object containing results.\\n\n",
        "    \"\"\"\n",
        "    eval_info_list = []\n",
        "    name_pruning_method = str(pruning_method).split(\" \")[1].split(\".\")[-1].replace('>', '').replace(\"'\",\"\")\n",
        "    for trial_no in range(number_trials):\n",
        "        set_seeds(seed = trial_no)\n",
        "        model_copied = copy.deepcopy(model)\n",
        "        parameters_to_prune = get_params_to_prune(model_copied, module_set = {torch.nn.Linear})\n",
        "        prune.global_unstructured(\n",
        "            parameters_to_prune,\n",
        "            pruning_method=pruning_method,\n",
        "            amount=amount,\n",
        "        )\n",
        "        # prune.remove(module, 'weight')\n",
        "        # model_copied = remove_to_prune(model = model_copied)\n",
        "        if isinstance(amount, int):\n",
        "            model_type = f'{name_pruning_method}_{amount:.0f}'\n",
        "        else:\n",
        "            model_type = f'{name_pruning_method}_{amount:.2f}'\n",
        "        \n",
        "        arch_hyperparams = collections.OrderedDict(\n",
        "            n_hf=N_HF,\n",
        "            n_hl=N_HL,\n",
        "            sidelength=SIDELENGTH,\n",
        "            device=f'{device}',\n",
        "            batch_size=BATCH_SIZE,\n",
        "            model_type=f'{model_type}',\n",
        "            model_path=f'{MODEL_PATH}',\n",
        "            image_filepath=None,\n",
        "        )\n",
        "        opt = OptionModel._make(arch_hyperparams.values())\n",
        "        res_evaluation = evaluate_model_wrapper(\n",
        "            model = model_copied,\n",
        "            opt = opt,\n",
        "            img_dataset = image_dataset,\n",
        "            model_name = f'model.{opt.n_hf}.{opt.n_hl}.{trial_no}',\n",
        "            model_weight_path = None,\n",
        "            logging=None,\n",
        "            tqdm=None,\n",
        "            verbose=0)\n",
        "\n",
        "        eval_info_list.extend(res_evaluation)\n",
        "        pass\n",
        "    return eval_info_list"
      ],
      "execution_count": 39,
      "outputs": []
    },
    {
      "cell_type": "markdown",
      "metadata": {
        "id": "QVSX9yxpHxr2"
      },
      "source": [
        "## Tests"
      ]
    },
    {
      "cell_type": "code",
      "metadata": {
        "id": "ZezFtCWdIfNi"
      },
      "source": [
        "arch_hyperparams = collections.OrderedDict(\n",
        "    n_hf=N_HF,\n",
        "    n_hl=N_HL,\n",
        "    sidelength=SIDELENGTH,\n",
        "    device=DEVICE,\n",
        "    batch_size=BATCH_SIZE,\n",
        "    model_type='Basic',\n",
        "    model_path=f'{MODEL_PATH}',\n",
        "    image_filepath=None,\n",
        ")"
      ],
      "execution_count": 40,
      "outputs": []
    },
    {
      "cell_type": "code",
      "metadata": {
        "id": "2qg3et6iSVUC",
        "outputId": "651eb965-c32c-4427-c7df-fad5437ff40e",
        "colab": {
          "base_uri": "https://localhost:8080/"
        }
      },
      "source": [
        "OptionModel = collections.namedtuple('OptionModel', arch_hyperparams.keys())\n",
        "opt = OptionModel._make(arch_hyperparams.values())\n",
        "opt"
      ],
      "execution_count": 41,
      "outputs": [
        {
          "output_type": "execute_result",
          "data": {
            "text/plain": [
              "OptionModel(n_hf=35, n_hl=9, sidelength=256, device='cpu', batch_size=1, model_type='Basic', model_path='/content/model_final.pth', image_filepath=None)"
            ]
          },
          "metadata": {
            "tags": []
          },
          "execution_count": 41
        }
      ]
    },
    {
      "cell_type": "code",
      "metadata": {
        "id": "c6Tx7FNhIR0-"
      },
      "source": [
        "model = Siren(\n",
        "    in_features=2,\n",
        "    out_features=1,\n",
        "    hidden_features=int(arch_hyperparams['n_hf']),\n",
        "    hidden_layers=int(arch_hyperparams['n_hl']),\n",
        "    outermost_linear=True)"
      ],
      "execution_count": 42,
      "outputs": []
    },
    {
      "cell_type": "code",
      "metadata": {
        "id": "oKCuvY_nRevZ"
      },
      "source": [
        "model = check_device_and_weigths_to_laod(model_fp32 = model, device = 'cpu', model_path = opt.model_path)"
      ],
      "execution_count": 43,
      "outputs": []
    },
    {
      "cell_type": "code",
      "metadata": {
        "id": "2_RY6HwTI8Ze",
        "outputId": "09e522b7-cc18-451d-b7d5-4e90faf8dead",
        "colab": {
          "base_uri": "https://localhost:8080/"
        }
      },
      "source": [
        "print('Number of Hidden layers:', len(model.net[1:-1]))\n",
        "print('Number of Overall layers:', len(model.net))"
      ],
      "execution_count": 44,
      "outputs": [
        {
          "output_type": "stream",
          "text": [
            "Number of Hidden layers: 9\n",
            "Number of Overall layers: 11\n"
          ],
          "name": "stdout"
        }
      ]
    },
    {
      "cell_type": "code",
      "metadata": {
        "id": "GlMWZQELK6Sv"
      },
      "source": [
        "# print(list(module.named_buffers()))"
      ],
      "execution_count": 45,
      "outputs": []
    },
    {
      "cell_type": "code",
      "metadata": {
        "id": "7LDr3tpNS2pV"
      },
      "source": [
        "image_dataset, _, _ = get_input_image(opt)"
      ],
      "execution_count": 46,
      "outputs": []
    },
    {
      "cell_type": "code",
      "metadata": {
        "id": "oo1Q1SdNR6f8"
      },
      "source": [
        "eval_info_list = evaluate_model_wrapper(\n",
        "    model = model,\n",
        "    opt = opt,\n",
        "    img_dataset = image_dataset,\n",
        "    model_name = f'model-{opt.n_hf}-{opt.n_hl}',\n",
        "    model_weight_path = None,\n",
        "    logging=None,\n",
        "    tqdm=None,\n",
        "    verbose=0)"
      ],
      "execution_count": 47,
      "outputs": []
    },
    {
      "cell_type": "code",
      "metadata": {
        "id": "CAjaqTUnR1Ud",
        "outputId": "1e7ea0d5-8747-4555-dfae-78bf3016ede1",
        "colab": {
          "base_uri": "https://localhost:8080/"
        }
      },
      "source": [
        "eval_field_names = \"model_name,model_type,mse,psnr_db,ssim,eta_seconds,footprint_byte,footprint_percent\".split(\",\")\n",
        "table_vals = list(map(operator.methodcaller(\"values\"), map(operator.methodcaller(\"_asdict\"), eval_info_list)))\n",
        "table = tabulate.tabulate(table_vals, headers=eval_field_names)\n",
        "print(table)"
      ],
      "execution_count": 48,
      "outputs": [
        {
          "output_type": "stream",
          "text": [
            "model_name    model_type            mse    psnr_db      ssim    eta_seconds    footprint_byte    footprint_percent\n",
            "------------  ------------  -----------  ---------  --------  -------------  ----------------  -------------------\n",
            "model-35-9    Basic         0.000225895    42.4817  0.980631       0.277036             52657                  100\n"
          ],
          "name": "stdout"
        }
      ]
    },
    {
      "cell_type": "code",
      "metadata": {
        "id": "kiuSkxHFXB8e"
      },
      "source": [
        "parameters_to_prune = ()\n",
        "if EVAL_MODEL_SINGLE_CASE:\n",
        "    model_2 = copy.deepcopy(model)\n",
        "    for name, module in model.named_modules():\n",
        "        print(name)\n",
        "        if isinstance(module, torch.nn.Linear):\n",
        "            pass\n",
        "        pass\n",
        "    pass"
      ],
      "execution_count": 49,
      "outputs": []
    },
    {
      "cell_type": "code",
      "metadata": {
        "id": "wwSQ09rOWZtM"
      },
      "source": [
        "parameters_to_prune = list()\n",
        "if EVAL_MODEL_SINGLE_CASE:\n",
        "    model_2 = copy.deepcopy(model)\n",
        "    for name, module in model_2.named_modules():\n",
        "        if isinstance(module, torch.nn.Linear):\n",
        "            print(name)\n",
        "            parameters_to_prune.append([module, 'weight'])\n",
        "            pass\n",
        "        pass\n",
        "    parameters_to_prune = tuple(map(tuple, parameters_to_prune))\n",
        "    pass"
      ],
      "execution_count": 50,
      "outputs": []
    },
    {
      "cell_type": "code",
      "metadata": {
        "id": "1KXXvKknSDi5"
      },
      "source": [
        "if EVAL_MODEL_SINGLE_CASE:\n",
        "    prune.global_unstructured(\n",
        "        parameters_to_prune,\n",
        "        pruning_method=prune.L1Unstructured,\n",
        "        amount=0.2,\n",
        "    )\n",
        "    pass"
      ],
      "execution_count": 51,
      "outputs": []
    },
    {
      "cell_type": "code",
      "metadata": {
        "id": "W3nwj3RHXwF9"
      },
      "source": [
        "zero_elemenets, n_elements = 0, 0\n",
        "if EVAL_MODEL_SINGLE_CASE:\n",
        "    for name, module in model_2.named_modules():\n",
        "        if isinstance(module, torch.nn.Linear):\n",
        "            print(\"Local sparsity({}): {:.2f}%\".format(name, 100. * float(torch.sum(module.weight == 0)) / float(module.weight.nelement())))\n",
        "            zero_elemenets += torch.sum(module.weight == 0)\n",
        "            n_elements += module.weight.nelement()\n",
        "            pass\n",
        "        pass\n",
        "    print(\"Global sparsity: {:.2f}%\".format(100. * float(zero_elemenets)/ float(n_elements)))\n",
        "    pass"
      ],
      "execution_count": 52,
      "outputs": []
    },
    {
      "cell_type": "code",
      "metadata": {
        "id": "A75S0VlFaNcj"
      },
      "source": [
        "if EVAL_MODEL_SINGLE_CASE:\n",
        "    arch_hyperparams = collections.OrderedDict(\n",
        "        n_hf=N_HF,\n",
        "        n_hl=N_HL,\n",
        "        sidelength=SIDELENGTH,\n",
        "        device=DEVICE,\n",
        "        batch_size=BATCH_SIZE,\n",
        "        model_type='prune_0.20',\n",
        "        model_path=f'{MODEL_PATH}',\n",
        "        image_filepath=None,\n",
        "    )\n",
        "    opt = OptionModel._make(arch_hyperparams.values())\n",
        "    res = evaluate_model_wrapper(\n",
        "        model = model_2,\n",
        "        opt = opt,\n",
        "        img_dataset = image_dataset,\n",
        "        model_name = f'model-{opt.n_hf}-{opt.n_hl}',\n",
        "        model_weight_path = None,\n",
        "        logging=None,\n",
        "        tqdm=None,\n",
        "        verbose=0)\n",
        "\n",
        "    eval_info_list.extend(res)\n",
        "    pass"
      ],
      "execution_count": 53,
      "outputs": []
    },
    {
      "cell_type": "code",
      "metadata": {
        "id": "FNPM7EWAaO7D"
      },
      "source": [
        "if EVAL_MODEL_SINGLE_CASE:\n",
        "    eval_field_names = \"model_name,model_type,mse,psnr_db,ssim,eta_seconds,footprint_byte,footprint_percent\".split(\",\")\n",
        "    table_vals = list(map(operator.methodcaller(\"values\"), map(operator.methodcaller(\"_asdict\"), eval_info_list)))\n",
        "    table = tabulate.tabulate(table_vals, headers=eval_field_names)\n",
        "    print(table)\n",
        "    pass"
      ],
      "execution_count": 54,
      "outputs": []
    },
    {
      "cell_type": "code",
      "metadata": {
        "id": "BTW_7NAvyyM7"
      },
      "source": [
        "trials_rate = list(map(float, \".01,.02,.03,0.04,.05,.1,.2,.3,.4,.5,.6,.7,.8,.9\".split(\",\")))\n",
        "trials_absolute = list(map(int, \"4,5,8,10,12,16,20,30,32,40,50\".split(\",\")))"
      ],
      "execution_count": 55,
      "outputs": []
    },
    {
      "cell_type": "code",
      "metadata": {
        "id": "Sytl8tGieNGM",
        "outputId": "cfac6780-bea1-4167-bc27-e6d20c1e40b5",
        "colab": {
          "base_uri": "https://localhost:8080/"
        }
      },
      "source": [
        "for a_rate in trials_rate:\n",
        "    res = compute_pruning_evaluation(\n",
        "        model = model,\n",
        "        image_dataset = image_dataset,\n",
        "        amount = a_rate,\n",
        "        pruning_method = prune.L1Unstructured,\n",
        "        number_trials = NUMBER_TRIALS_RATE_PRUNING)\n",
        "    eval_info_list.extend(res)\n",
        "    pass\n",
        "\n",
        "eval_field_names = \"model_name,model_type,mse,psnr_db,ssim,eta_seconds,footprint_byte,footprint_percent\".split(\",\")\n",
        "table_vals = list(map(operator.methodcaller(\"values\"), map(operator.methodcaller(\"_asdict\"), res)))\n",
        "table = tabulate.tabulate(table_vals[:5], headers=eval_field_names)\n",
        "print(table)"
      ],
      "execution_count": 56,
      "outputs": [
        {
          "output_type": "stream",
          "text": [
            "model_name    model_type                mse    psnr_db      ssim    eta_seconds    footprint_byte    footprint_percent\n",
            "------------  -------------------  --------  ---------  --------  -------------  ----------------  -------------------\n",
            "model.35.9.0  L1Unstructured_0.90  0.391501    10.0933  0.343753       0.23068             100242                  100\n",
            "model.35.9.1  L1Unstructured_0.90  0.391501    10.0933  0.343753       0.229137            100242                  100\n",
            "model.35.9.2  L1Unstructured_0.90  0.391501    10.0933  0.343753       0.230276            100242                  100\n",
            "model.35.9.3  L1Unstructured_0.90  0.391501    10.0933  0.343753       0.243162            100242                  100\n",
            "model.35.9.4  L1Unstructured_0.90  0.391501    10.0933  0.343753       0.22999             100242                  100\n"
          ],
          "name": "stdout"
        }
      ]
    },
    {
      "cell_type": "code",
      "metadata": {
        "id": "S6-OI100b3_b",
        "outputId": "b1378cd0-5664-41a1-ef72-afe3d7826ca9",
        "colab": {
          "base_uri": "https://localhost:8080/"
        }
      },
      "source": [
        "for a_rate in trials_absolute:\n",
        "    res = compute_pruning_evaluation(\n",
        "        model = model,\n",
        "        image_dataset = image_dataset,\n",
        "        amount = a_rate,\n",
        "        pruning_method = prune.L1Unstructured,\n",
        "        number_trials = NUMBER_TRIALS_ABS_PRUNING)\n",
        "    eval_info_list.extend(res)\n",
        "    pass\n",
        "\n",
        "eval_field_names = \"model_name,model_type,mse,psnr_db,ssim,eta_seconds,footprint_byte,footprint_percent\".split(\",\")\n",
        "table_vals = list(map(operator.methodcaller(\"values\"), map(operator.methodcaller(\"_asdict\"), res)))\n",
        "table = tabulate.tabulate(table_vals[:5], headers=eval_field_names)\n",
        "print(table)"
      ],
      "execution_count": 57,
      "outputs": [
        {
          "output_type": "stream",
          "text": [
            "model_name    model_type                 mse    psnr_db      ssim    eta_seconds    footprint_byte    footprint_percent\n",
            "------------  -----------------  -----------  ---------  --------  -------------  ----------------  -------------------\n",
            "model.35.9.0  L1Unstructured_50  0.000228027    42.4409  0.980586       0.229404            100242                  100\n",
            "model.35.9.1  L1Unstructured_50  0.000228027    42.4409  0.980586       0.231828            100242                  100\n",
            "model.35.9.2  L1Unstructured_50  0.000228027    42.4409  0.980586       0.229989            100242                  100\n",
            "model.35.9.3  L1Unstructured_50  0.000228027    42.4409  0.980586       0.233927            100242                  100\n",
            "model.35.9.4  L1Unstructured_50  0.000228027    42.4409  0.980586       0.228276            100242                  100\n"
          ],
          "name": "stdout"
        }
      ]
    },
    {
      "cell_type": "code",
      "metadata": {
        "id": "x0PLI94ps1aG",
        "outputId": "b16891c1-27ce-4e76-c721-be5f16a1d016",
        "colab": {
          "base_uri": "https://localhost:8080/"
        }
      },
      "source": [
        "for a_rate in trials_rate:\n",
        "    res = compute_pruning_evaluation(\n",
        "        model = model,\n",
        "        image_dataset = image_dataset,\n",
        "        amount = a_rate,\n",
        "        pruning_method = prune.RandomUnstructured,\n",
        "        number_trials = NUMBER_TRIALS_RATE_PRUNING)\n",
        "    eval_info_list.extend(res)\n",
        "    pass\n",
        "\n",
        "eval_field_names = \"model_name,model_type,mse,psnr_db,ssim,eta_seconds,footprint_byte,footprint_percent\".split(\",\")\n",
        "table_vals = list(map(operator.methodcaller(\"values\"), map(operator.methodcaller(\"_asdict\"), res)))\n",
        "table = tabulate.tabulate(table_vals[:5], headers=eval_field_names)\n",
        "print(table)"
      ],
      "execution_count": 58,
      "outputs": [
        {
          "output_type": "stream",
          "text": [
            "model_name    model_type                    mse    psnr_db      ssim    eta_seconds    footprint_byte    footprint_percent\n",
            "------------  -----------------------  --------  ---------  --------  -------------  ----------------  -------------------\n",
            "model.35.9.0  RandomUnstructured_0.90  0.402649    9.97134  0.343485       0.228324            100242                  100\n",
            "model.35.9.1  RandomUnstructured_0.90  0.378515   10.2398   0.34407        0.234582            100242                  100\n",
            "model.35.9.2  RandomUnstructured_0.90  0.413244    9.85853  0.343173       0.227128            100242                  100\n",
            "model.35.9.3  RandomUnstructured_0.90  0.339916   10.7069   0.344289       0.231306            100242                  100\n",
            "model.35.9.4  RandomUnstructured_0.90  0.424401    9.74283  0.342817       0.233438            100242                  100\n"
          ],
          "name": "stdout"
        }
      ]
    },
    {
      "cell_type": "code",
      "metadata": {
        "id": "ewgF87atcI_-",
        "outputId": "355c8be3-f506-49f2-a277-b8e85e2cf6d1",
        "colab": {
          "base_uri": "https://localhost:8080/"
        }
      },
      "source": [
        "for a_rate in trials_absolute:\n",
        "    res = compute_pruning_evaluation(\n",
        "        model = model,\n",
        "        image_dataset = image_dataset,\n",
        "        amount = a_rate,\n",
        "        pruning_method = prune.RandomUnstructured,\n",
        "        number_trials = NUMBER_TRIALS_ABS_PRUNING)\n",
        "    eval_info_list.extend(res)\n",
        "    pass\n",
        "\n",
        "eval_field_names = \"model_name,model_type,mse,psnr_db,ssim,eta_seconds,footprint_byte,footprint_percent\".split(\",\")\n",
        "table_vals = list(map(operator.methodcaller(\"values\"), map(operator.methodcaller(\"_asdict\"), res)))\n",
        "table = tabulate.tabulate(table_vals[:5], headers=eval_field_names)\n",
        "print(table)"
      ],
      "execution_count": 59,
      "outputs": [
        {
          "output_type": "stream",
          "text": [
            "model_name    model_type                   mse    psnr_db      ssim    eta_seconds    footprint_byte    footprint_percent\n",
            "------------  ---------------------  ---------  ---------  --------  -------------  ----------------  -------------------\n",
            "model.35.9.0  RandomUnstructured_50  0.137656     14.6329  0.444161       0.230111            100242                  100\n",
            "model.35.9.1  RandomUnstructured_50  0.14814      14.3153  0.428472       0.228542            100242                  100\n",
            "model.35.9.2  RandomUnstructured_50  0.0428245    19.7042  0.631822       0.230844            100242                  100\n",
            "model.35.9.3  RandomUnstructured_50  0.0399226    20.0089  0.65495        0.233088            100242                  100\n",
            "model.35.9.4  RandomUnstructured_50  0.0399359    20.0076  0.639358       0.227269            100242                  100\n"
          ],
          "name": "stdout"
        }
      ]
    },
    {
      "cell_type": "code",
      "metadata": {
        "id": "N9VYAElepoBa"
      },
      "source": [
        "data = list(map(operator.methodcaller(\"_asdict\"), eval_info_list))\n",
        "df = pd.DataFrame(data = data)"
      ],
      "execution_count": 60,
      "outputs": []
    },
    {
      "cell_type": "code",
      "metadata": {
        "id": "OWpDmIqOqplv",
        "outputId": "ac64287a-a5b0-4983-d98e-777606761bf4",
        "colab": {
          "base_uri": "https://localhost:8080/",
          "height": 198
        }
      },
      "source": [
        "df.head(5)"
      ],
      "execution_count": 61,
      "outputs": [
        {
          "output_type": "execute_result",
          "data": {
            "text/html": [
              "<div>\n",
              "<style scoped>\n",
              "    .dataframe tbody tr th:only-of-type {\n",
              "        vertical-align: middle;\n",
              "    }\n",
              "\n",
              "    .dataframe tbody tr th {\n",
              "        vertical-align: top;\n",
              "    }\n",
              "\n",
              "    .dataframe thead th {\n",
              "        text-align: right;\n",
              "    }\n",
              "</style>\n",
              "<table border=\"1\" class=\"dataframe\">\n",
              "  <thead>\n",
              "    <tr style=\"text-align: right;\">\n",
              "      <th></th>\n",
              "      <th>model_name</th>\n",
              "      <th>model_type</th>\n",
              "      <th>mse</th>\n",
              "      <th>psnr_db</th>\n",
              "      <th>ssim</th>\n",
              "      <th>eta_seconds</th>\n",
              "      <th>footprint_byte</th>\n",
              "      <th>footprint_percent</th>\n",
              "    </tr>\n",
              "  </thead>\n",
              "  <tbody>\n",
              "    <tr>\n",
              "      <th>0</th>\n",
              "      <td>model-35-9</td>\n",
              "      <td>Basic</td>\n",
              "      <td>0.000226</td>\n",
              "      <td>42.481681</td>\n",
              "      <td>0.980631</td>\n",
              "      <td>0.277036</td>\n",
              "      <td>52657</td>\n",
              "      <td>100.0</td>\n",
              "    </tr>\n",
              "    <tr>\n",
              "      <th>1</th>\n",
              "      <td>model.35.9.0</td>\n",
              "      <td>L1Unstructured_0.01</td>\n",
              "      <td>0.000235</td>\n",
              "      <td>42.314139</td>\n",
              "      <td>0.980416</td>\n",
              "      <td>0.245034</td>\n",
              "      <td>100242</td>\n",
              "      <td>100.0</td>\n",
              "    </tr>\n",
              "    <tr>\n",
              "      <th>2</th>\n",
              "      <td>model.35.9.1</td>\n",
              "      <td>L1Unstructured_0.01</td>\n",
              "      <td>0.000235</td>\n",
              "      <td>42.314139</td>\n",
              "      <td>0.980416</td>\n",
              "      <td>0.230156</td>\n",
              "      <td>100242</td>\n",
              "      <td>100.0</td>\n",
              "    </tr>\n",
              "    <tr>\n",
              "      <th>3</th>\n",
              "      <td>model.35.9.2</td>\n",
              "      <td>L1Unstructured_0.01</td>\n",
              "      <td>0.000235</td>\n",
              "      <td>42.314139</td>\n",
              "      <td>0.980416</td>\n",
              "      <td>0.231386</td>\n",
              "      <td>100242</td>\n",
              "      <td>100.0</td>\n",
              "    </tr>\n",
              "    <tr>\n",
              "      <th>4</th>\n",
              "      <td>model.35.9.3</td>\n",
              "      <td>L1Unstructured_0.01</td>\n",
              "      <td>0.000235</td>\n",
              "      <td>42.314139</td>\n",
              "      <td>0.980416</td>\n",
              "      <td>0.233380</td>\n",
              "      <td>100242</td>\n",
              "      <td>100.0</td>\n",
              "    </tr>\n",
              "  </tbody>\n",
              "</table>\n",
              "</div>"
            ],
            "text/plain": [
              "     model_name           model_type  ...  footprint_byte  footprint_percent\n",
              "0    model-35-9                Basic  ...           52657              100.0\n",
              "1  model.35.9.0  L1Unstructured_0.01  ...          100242              100.0\n",
              "2  model.35.9.1  L1Unstructured_0.01  ...          100242              100.0\n",
              "3  model.35.9.2  L1Unstructured_0.01  ...          100242              100.0\n",
              "4  model.35.9.3  L1Unstructured_0.01  ...          100242              100.0\n",
              "\n",
              "[5 rows x 8 columns]"
            ]
          },
          "metadata": {
            "tags": []
          },
          "execution_count": 61
        }
      ]
    },
    {
      "cell_type": "code",
      "metadata": {
        "id": "EZZ_q13kuhXC",
        "outputId": "df5bc0a5-958c-44d1-a0bc-b78da98043ff",
        "colab": {
          "base_uri": "https://localhost:8080/"
        }
      },
      "source": [
        "set(df['model_type'].values)"
      ],
      "execution_count": 62,
      "outputs": [
        {
          "output_type": "execute_result",
          "data": {
            "text/plain": [
              "{'Basic',\n",
              " 'L1Unstructured_0.01',\n",
              " 'L1Unstructured_0.02',\n",
              " 'L1Unstructured_0.03',\n",
              " 'L1Unstructured_0.04',\n",
              " 'L1Unstructured_0.05',\n",
              " 'L1Unstructured_0.10',\n",
              " 'L1Unstructured_0.20',\n",
              " 'L1Unstructured_0.30',\n",
              " 'L1Unstructured_0.40',\n",
              " 'L1Unstructured_0.50',\n",
              " 'L1Unstructured_0.60',\n",
              " 'L1Unstructured_0.70',\n",
              " 'L1Unstructured_0.80',\n",
              " 'L1Unstructured_0.90',\n",
              " 'L1Unstructured_10',\n",
              " 'L1Unstructured_12',\n",
              " 'L1Unstructured_16',\n",
              " 'L1Unstructured_20',\n",
              " 'L1Unstructured_30',\n",
              " 'L1Unstructured_32',\n",
              " 'L1Unstructured_4',\n",
              " 'L1Unstructured_40',\n",
              " 'L1Unstructured_5',\n",
              " 'L1Unstructured_50',\n",
              " 'L1Unstructured_8',\n",
              " 'RandomUnstructured_0.01',\n",
              " 'RandomUnstructured_0.02',\n",
              " 'RandomUnstructured_0.03',\n",
              " 'RandomUnstructured_0.04',\n",
              " 'RandomUnstructured_0.05',\n",
              " 'RandomUnstructured_0.10',\n",
              " 'RandomUnstructured_0.20',\n",
              " 'RandomUnstructured_0.30',\n",
              " 'RandomUnstructured_0.40',\n",
              " 'RandomUnstructured_0.50',\n",
              " 'RandomUnstructured_0.60',\n",
              " 'RandomUnstructured_0.70',\n",
              " 'RandomUnstructured_0.80',\n",
              " 'RandomUnstructured_0.90',\n",
              " 'RandomUnstructured_10',\n",
              " 'RandomUnstructured_12',\n",
              " 'RandomUnstructured_16',\n",
              " 'RandomUnstructured_20',\n",
              " 'RandomUnstructured_30',\n",
              " 'RandomUnstructured_32',\n",
              " 'RandomUnstructured_4',\n",
              " 'RandomUnstructured_40',\n",
              " 'RandomUnstructured_5',\n",
              " 'RandomUnstructured_50',\n",
              " 'RandomUnstructured_8'}"
            ]
          },
          "metadata": {
            "tags": []
          },
          "execution_count": 62
        }
      ]
    },
    {
      "cell_type": "code",
      "metadata": {
        "id": "DOH7ek5iuzxZ",
        "outputId": "3b630496-fa7c-4bb9-e7ef-8789a22657bd",
        "colab": {
          "base_uri": "https://localhost:8080/",
          "height": 228
        }
      },
      "source": [
        "df.groupby(by = [\"model_type\"]).mean().sort_values(by = [\"psnr_db\"]).tail(5)"
      ],
      "execution_count": 63,
      "outputs": [
        {
          "output_type": "execute_result",
          "data": {
            "text/html": [
              "<div>\n",
              "<style scoped>\n",
              "    .dataframe tbody tr th:only-of-type {\n",
              "        vertical-align: middle;\n",
              "    }\n",
              "\n",
              "    .dataframe tbody tr th {\n",
              "        vertical-align: top;\n",
              "    }\n",
              "\n",
              "    .dataframe thead th {\n",
              "        text-align: right;\n",
              "    }\n",
              "</style>\n",
              "<table border=\"1\" class=\"dataframe\">\n",
              "  <thead>\n",
              "    <tr style=\"text-align: right;\">\n",
              "      <th></th>\n",
              "      <th>mse</th>\n",
              "      <th>psnr_db</th>\n",
              "      <th>ssim</th>\n",
              "      <th>eta_seconds</th>\n",
              "      <th>footprint_byte</th>\n",
              "      <th>footprint_percent</th>\n",
              "    </tr>\n",
              "    <tr>\n",
              "      <th>model_type</th>\n",
              "      <th></th>\n",
              "      <th></th>\n",
              "      <th></th>\n",
              "      <th></th>\n",
              "      <th></th>\n",
              "      <th></th>\n",
              "    </tr>\n",
              "  </thead>\n",
              "  <tbody>\n",
              "    <tr>\n",
              "      <th>L1Unstructured_5</th>\n",
              "      <td>0.000226</td>\n",
              "      <td>42.481721</td>\n",
              "      <td>0.980631</td>\n",
              "      <td>0.233338</td>\n",
              "      <td>100242</td>\n",
              "      <td>100.0</td>\n",
              "    </tr>\n",
              "    <tr>\n",
              "      <th>L1Unstructured_12</th>\n",
              "      <td>0.000226</td>\n",
              "      <td>42.481809</td>\n",
              "      <td>0.980631</td>\n",
              "      <td>0.231515</td>\n",
              "      <td>100242</td>\n",
              "      <td>100.0</td>\n",
              "    </tr>\n",
              "    <tr>\n",
              "      <th>L1Unstructured_10</th>\n",
              "      <td>0.000226</td>\n",
              "      <td>42.481848</td>\n",
              "      <td>0.980631</td>\n",
              "      <td>0.233237</td>\n",
              "      <td>100242</td>\n",
              "      <td>100.0</td>\n",
              "    </tr>\n",
              "    <tr>\n",
              "      <th>L1Unstructured_16</th>\n",
              "      <td>0.000226</td>\n",
              "      <td>42.483049</td>\n",
              "      <td>0.980632</td>\n",
              "      <td>0.232032</td>\n",
              "      <td>100242</td>\n",
              "      <td>100.0</td>\n",
              "    </tr>\n",
              "    <tr>\n",
              "      <th>L1Unstructured_20</th>\n",
              "      <td>0.000226</td>\n",
              "      <td>42.483468</td>\n",
              "      <td>0.980632</td>\n",
              "      <td>0.228877</td>\n",
              "      <td>100242</td>\n",
              "      <td>100.0</td>\n",
              "    </tr>\n",
              "  </tbody>\n",
              "</table>\n",
              "</div>"
            ],
            "text/plain": [
              "                        mse    psnr_db  ...  footprint_byte  footprint_percent\n",
              "model_type                              ...                                   \n",
              "L1Unstructured_5   0.000226  42.481721  ...          100242              100.0\n",
              "L1Unstructured_12  0.000226  42.481809  ...          100242              100.0\n",
              "L1Unstructured_10  0.000226  42.481848  ...          100242              100.0\n",
              "L1Unstructured_16  0.000226  42.483049  ...          100242              100.0\n",
              "L1Unstructured_20  0.000226  42.483468  ...          100242              100.0\n",
              "\n",
              "[5 rows x 6 columns]"
            ]
          },
          "metadata": {
            "tags": []
          },
          "execution_count": 63
        }
      ]
    },
    {
      "cell_type": "code",
      "metadata": {
        "id": "bs5vL7XazWKV",
        "outputId": "9f46c302-4f79-491e-9186-b9bb381ec8f4",
        "colab": {
          "base_uri": "https://localhost:8080/",
          "height": 198
        }
      },
      "source": [
        "def model_type_to_quant_tech(model_type):\n",
        "    return model_type.split(\"_\")[0]\n",
        "df['quant_tech'] = list(map(model_type_to_quant_tech, df['model_type'].values))\n",
        "df.tail(5)"
      ],
      "execution_count": 64,
      "outputs": [
        {
          "output_type": "execute_result",
          "data": {
            "text/html": [
              "<div>\n",
              "<style scoped>\n",
              "    .dataframe tbody tr th:only-of-type {\n",
              "        vertical-align: middle;\n",
              "    }\n",
              "\n",
              "    .dataframe tbody tr th {\n",
              "        vertical-align: top;\n",
              "    }\n",
              "\n",
              "    .dataframe thead th {\n",
              "        text-align: right;\n",
              "    }\n",
              "</style>\n",
              "<table border=\"1\" class=\"dataframe\">\n",
              "  <thead>\n",
              "    <tr style=\"text-align: right;\">\n",
              "      <th></th>\n",
              "      <th>model_name</th>\n",
              "      <th>model_type</th>\n",
              "      <th>mse</th>\n",
              "      <th>psnr_db</th>\n",
              "      <th>ssim</th>\n",
              "      <th>eta_seconds</th>\n",
              "      <th>footprint_byte</th>\n",
              "      <th>footprint_percent</th>\n",
              "      <th>quant_tech</th>\n",
              "    </tr>\n",
              "  </thead>\n",
              "  <tbody>\n",
              "    <tr>\n",
              "      <th>246</th>\n",
              "      <td>model.35.9.0</td>\n",
              "      <td>RandomUnstructured_50</td>\n",
              "      <td>0.137656</td>\n",
              "      <td>14.632900</td>\n",
              "      <td>0.444161</td>\n",
              "      <td>0.230111</td>\n",
              "      <td>100242</td>\n",
              "      <td>100.0</td>\n",
              "      <td>RandomUnstructured</td>\n",
              "    </tr>\n",
              "    <tr>\n",
              "      <th>247</th>\n",
              "      <td>model.35.9.1</td>\n",
              "      <td>RandomUnstructured_50</td>\n",
              "      <td>0.148140</td>\n",
              "      <td>14.315317</td>\n",
              "      <td>0.428472</td>\n",
              "      <td>0.228542</td>\n",
              "      <td>100242</td>\n",
              "      <td>100.0</td>\n",
              "      <td>RandomUnstructured</td>\n",
              "    </tr>\n",
              "    <tr>\n",
              "      <th>248</th>\n",
              "      <td>model.35.9.2</td>\n",
              "      <td>RandomUnstructured_50</td>\n",
              "      <td>0.042824</td>\n",
              "      <td>19.704189</td>\n",
              "      <td>0.631822</td>\n",
              "      <td>0.230844</td>\n",
              "      <td>100242</td>\n",
              "      <td>100.0</td>\n",
              "      <td>RandomUnstructured</td>\n",
              "    </tr>\n",
              "    <tr>\n",
              "      <th>249</th>\n",
              "      <td>model.35.9.3</td>\n",
              "      <td>RandomUnstructured_50</td>\n",
              "      <td>0.039923</td>\n",
              "      <td>20.008895</td>\n",
              "      <td>0.654950</td>\n",
              "      <td>0.233088</td>\n",
              "      <td>100242</td>\n",
              "      <td>100.0</td>\n",
              "      <td>RandomUnstructured</td>\n",
              "    </tr>\n",
              "    <tr>\n",
              "      <th>250</th>\n",
              "      <td>model.35.9.4</td>\n",
              "      <td>RandomUnstructured_50</td>\n",
              "      <td>0.039936</td>\n",
              "      <td>20.007629</td>\n",
              "      <td>0.639358</td>\n",
              "      <td>0.227269</td>\n",
              "      <td>100242</td>\n",
              "      <td>100.0</td>\n",
              "      <td>RandomUnstructured</td>\n",
              "    </tr>\n",
              "  </tbody>\n",
              "</table>\n",
              "</div>"
            ],
            "text/plain": [
              "       model_name             model_type  ...  footprint_percent          quant_tech\n",
              "246  model.35.9.0  RandomUnstructured_50  ...              100.0  RandomUnstructured\n",
              "247  model.35.9.1  RandomUnstructured_50  ...              100.0  RandomUnstructured\n",
              "248  model.35.9.2  RandomUnstructured_50  ...              100.0  RandomUnstructured\n",
              "249  model.35.9.3  RandomUnstructured_50  ...              100.0  RandomUnstructured\n",
              "250  model.35.9.4  RandomUnstructured_50  ...              100.0  RandomUnstructured\n",
              "\n",
              "[5 rows x 9 columns]"
            ]
          },
          "metadata": {
            "tags": []
          },
          "execution_count": 64
        }
      ]
    },
    {
      "cell_type": "code",
      "metadata": {
        "id": "N5n9iBpfgnh0",
        "outputId": "6aa82244-e1c7-4c42-d01d-dad4dc1e6894",
        "colab": {
          "base_uri": "https://localhost:8080/",
          "height": 198
        }
      },
      "source": [
        "def model_size_to_bpp(model_footprint, w = 256, h = 256):\n",
        "    return model_footprint * 4 / (w * h)\n",
        "df['bpp'] = list(map(model_size_to_bpp, df['footprint_byte'].values))\n",
        "df.head(5)"
      ],
      "execution_count": 65,
      "outputs": [
        {
          "output_type": "execute_result",
          "data": {
            "text/html": [
              "<div>\n",
              "<style scoped>\n",
              "    .dataframe tbody tr th:only-of-type {\n",
              "        vertical-align: middle;\n",
              "    }\n",
              "\n",
              "    .dataframe tbody tr th {\n",
              "        vertical-align: top;\n",
              "    }\n",
              "\n",
              "    .dataframe thead th {\n",
              "        text-align: right;\n",
              "    }\n",
              "</style>\n",
              "<table border=\"1\" class=\"dataframe\">\n",
              "  <thead>\n",
              "    <tr style=\"text-align: right;\">\n",
              "      <th></th>\n",
              "      <th>model_name</th>\n",
              "      <th>model_type</th>\n",
              "      <th>mse</th>\n",
              "      <th>psnr_db</th>\n",
              "      <th>ssim</th>\n",
              "      <th>eta_seconds</th>\n",
              "      <th>footprint_byte</th>\n",
              "      <th>footprint_percent</th>\n",
              "      <th>quant_tech</th>\n",
              "      <th>bpp</th>\n",
              "    </tr>\n",
              "  </thead>\n",
              "  <tbody>\n",
              "    <tr>\n",
              "      <th>0</th>\n",
              "      <td>model-35-9</td>\n",
              "      <td>Basic</td>\n",
              "      <td>0.000226</td>\n",
              "      <td>42.481681</td>\n",
              "      <td>0.980631</td>\n",
              "      <td>0.277036</td>\n",
              "      <td>52657</td>\n",
              "      <td>100.0</td>\n",
              "      <td>Basic</td>\n",
              "      <td>3.213928</td>\n",
              "    </tr>\n",
              "    <tr>\n",
              "      <th>1</th>\n",
              "      <td>model.35.9.0</td>\n",
              "      <td>L1Unstructured_0.01</td>\n",
              "      <td>0.000235</td>\n",
              "      <td>42.314139</td>\n",
              "      <td>0.980416</td>\n",
              "      <td>0.245034</td>\n",
              "      <td>100242</td>\n",
              "      <td>100.0</td>\n",
              "      <td>L1Unstructured</td>\n",
              "      <td>6.118286</td>\n",
              "    </tr>\n",
              "    <tr>\n",
              "      <th>2</th>\n",
              "      <td>model.35.9.1</td>\n",
              "      <td>L1Unstructured_0.01</td>\n",
              "      <td>0.000235</td>\n",
              "      <td>42.314139</td>\n",
              "      <td>0.980416</td>\n",
              "      <td>0.230156</td>\n",
              "      <td>100242</td>\n",
              "      <td>100.0</td>\n",
              "      <td>L1Unstructured</td>\n",
              "      <td>6.118286</td>\n",
              "    </tr>\n",
              "    <tr>\n",
              "      <th>3</th>\n",
              "      <td>model.35.9.2</td>\n",
              "      <td>L1Unstructured_0.01</td>\n",
              "      <td>0.000235</td>\n",
              "      <td>42.314139</td>\n",
              "      <td>0.980416</td>\n",
              "      <td>0.231386</td>\n",
              "      <td>100242</td>\n",
              "      <td>100.0</td>\n",
              "      <td>L1Unstructured</td>\n",
              "      <td>6.118286</td>\n",
              "    </tr>\n",
              "    <tr>\n",
              "      <th>4</th>\n",
              "      <td>model.35.9.3</td>\n",
              "      <td>L1Unstructured_0.01</td>\n",
              "      <td>0.000235</td>\n",
              "      <td>42.314139</td>\n",
              "      <td>0.980416</td>\n",
              "      <td>0.233380</td>\n",
              "      <td>100242</td>\n",
              "      <td>100.0</td>\n",
              "      <td>L1Unstructured</td>\n",
              "      <td>6.118286</td>\n",
              "    </tr>\n",
              "  </tbody>\n",
              "</table>\n",
              "</div>"
            ],
            "text/plain": [
              "     model_name           model_type  ...      quant_tech       bpp\n",
              "0    model-35-9                Basic  ...           Basic  3.213928\n",
              "1  model.35.9.0  L1Unstructured_0.01  ...  L1Unstructured  6.118286\n",
              "2  model.35.9.1  L1Unstructured_0.01  ...  L1Unstructured  6.118286\n",
              "3  model.35.9.2  L1Unstructured_0.01  ...  L1Unstructured  6.118286\n",
              "4  model.35.9.3  L1Unstructured_0.01  ...  L1Unstructured  6.118286\n",
              "\n",
              "[5 rows x 10 columns]"
            ]
          },
          "metadata": {
            "tags": []
          },
          "execution_count": 65
        }
      ]
    },
    {
      "cell_type": "code",
      "metadata": {
        "id": "_BdHrd1y0vB7",
        "outputId": "7d56baa3-774b-404a-d119-a44d5fb21bbe",
        "colab": {
          "base_uri": "https://localhost:8080/",
          "height": 198
        }
      },
      "source": [
        "def model_size_to_bpp(model_footprint, w = 256, h = 256):\n",
        "    return model_footprint * 4 / (w * h)\n",
        "df['bpp'] = list(map(model_size_to_bpp, df['footprint_byte'].values))\n",
        "df.tail(5)"
      ],
      "execution_count": 66,
      "outputs": [
        {
          "output_type": "execute_result",
          "data": {
            "text/html": [
              "<div>\n",
              "<style scoped>\n",
              "    .dataframe tbody tr th:only-of-type {\n",
              "        vertical-align: middle;\n",
              "    }\n",
              "\n",
              "    .dataframe tbody tr th {\n",
              "        vertical-align: top;\n",
              "    }\n",
              "\n",
              "    .dataframe thead th {\n",
              "        text-align: right;\n",
              "    }\n",
              "</style>\n",
              "<table border=\"1\" class=\"dataframe\">\n",
              "  <thead>\n",
              "    <tr style=\"text-align: right;\">\n",
              "      <th></th>\n",
              "      <th>model_name</th>\n",
              "      <th>model_type</th>\n",
              "      <th>mse</th>\n",
              "      <th>psnr_db</th>\n",
              "      <th>ssim</th>\n",
              "      <th>eta_seconds</th>\n",
              "      <th>footprint_byte</th>\n",
              "      <th>footprint_percent</th>\n",
              "      <th>quant_tech</th>\n",
              "      <th>bpp</th>\n",
              "    </tr>\n",
              "  </thead>\n",
              "  <tbody>\n",
              "    <tr>\n",
              "      <th>246</th>\n",
              "      <td>model.35.9.0</td>\n",
              "      <td>RandomUnstructured_50</td>\n",
              "      <td>0.137656</td>\n",
              "      <td>14.632900</td>\n",
              "      <td>0.444161</td>\n",
              "      <td>0.230111</td>\n",
              "      <td>100242</td>\n",
              "      <td>100.0</td>\n",
              "      <td>RandomUnstructured</td>\n",
              "      <td>6.118286</td>\n",
              "    </tr>\n",
              "    <tr>\n",
              "      <th>247</th>\n",
              "      <td>model.35.9.1</td>\n",
              "      <td>RandomUnstructured_50</td>\n",
              "      <td>0.148140</td>\n",
              "      <td>14.315317</td>\n",
              "      <td>0.428472</td>\n",
              "      <td>0.228542</td>\n",
              "      <td>100242</td>\n",
              "      <td>100.0</td>\n",
              "      <td>RandomUnstructured</td>\n",
              "      <td>6.118286</td>\n",
              "    </tr>\n",
              "    <tr>\n",
              "      <th>248</th>\n",
              "      <td>model.35.9.2</td>\n",
              "      <td>RandomUnstructured_50</td>\n",
              "      <td>0.042824</td>\n",
              "      <td>19.704189</td>\n",
              "      <td>0.631822</td>\n",
              "      <td>0.230844</td>\n",
              "      <td>100242</td>\n",
              "      <td>100.0</td>\n",
              "      <td>RandomUnstructured</td>\n",
              "      <td>6.118286</td>\n",
              "    </tr>\n",
              "    <tr>\n",
              "      <th>249</th>\n",
              "      <td>model.35.9.3</td>\n",
              "      <td>RandomUnstructured_50</td>\n",
              "      <td>0.039923</td>\n",
              "      <td>20.008895</td>\n",
              "      <td>0.654950</td>\n",
              "      <td>0.233088</td>\n",
              "      <td>100242</td>\n",
              "      <td>100.0</td>\n",
              "      <td>RandomUnstructured</td>\n",
              "      <td>6.118286</td>\n",
              "    </tr>\n",
              "    <tr>\n",
              "      <th>250</th>\n",
              "      <td>model.35.9.4</td>\n",
              "      <td>RandomUnstructured_50</td>\n",
              "      <td>0.039936</td>\n",
              "      <td>20.007629</td>\n",
              "      <td>0.639358</td>\n",
              "      <td>0.227269</td>\n",
              "      <td>100242</td>\n",
              "      <td>100.0</td>\n",
              "      <td>RandomUnstructured</td>\n",
              "      <td>6.118286</td>\n",
              "    </tr>\n",
              "  </tbody>\n",
              "</table>\n",
              "</div>"
            ],
            "text/plain": [
              "       model_name             model_type  ...          quant_tech       bpp\n",
              "246  model.35.9.0  RandomUnstructured_50  ...  RandomUnstructured  6.118286\n",
              "247  model.35.9.1  RandomUnstructured_50  ...  RandomUnstructured  6.118286\n",
              "248  model.35.9.2  RandomUnstructured_50  ...  RandomUnstructured  6.118286\n",
              "249  model.35.9.3  RandomUnstructured_50  ...  RandomUnstructured  6.118286\n",
              "250  model.35.9.4  RandomUnstructured_50  ...  RandomUnstructured  6.118286\n",
              "\n",
              "[5 rows x 10 columns]"
            ]
          },
          "metadata": {
            "tags": []
          },
          "execution_count": 66
        }
      ]
    },
    {
      "cell_type": "code",
      "metadata": {
        "id": "6bU7nc_2z-1u",
        "outputId": "7486592b-9a00-4a46-a8d3-1ca1be3cc943",
        "colab": {
          "base_uri": "https://localhost:8080/",
          "height": 542
        }
      },
      "source": [
        "hue = 'quant_tech'; x = 'bpp'; y = 'psnr_db'\n",
        "fig = px.scatter(df[df[f\"{hue}\"] != 'Basic'], x=f\"{x}\", y=f\"{y}\", color=f\"{hue}\", \n",
        "                 # marginal_y=\"violin\", marginal_x=\"box\", trendline=\"ols\",\n",
        "                 template=DASH_TEMPLATES_LIST[2])\n",
        "fig.update_layout(template = DASH_TEMPLATES_LIST[2], title_text=f'{y.upper()} | Groupped by {hue} | dataframes')"
      ],
      "execution_count": 67,
      "outputs": [
        {
          "output_type": "display_data",
          "data": {
            "text/html": [
              "<html>\n",
              "<head><meta charset=\"utf-8\" /></head>\n",
              "<body>\n",
              "    <div>\n",
              "            <script src=\"https://cdnjs.cloudflare.com/ajax/libs/mathjax/2.7.5/MathJax.js?config=TeX-AMS-MML_SVG\"></script><script type=\"text/javascript\">if (window.MathJax) {MathJax.Hub.Config({SVG: {font: \"STIX-Web\"}});}</script>\n",
              "                <script type=\"text/javascript\">window.PlotlyConfig = {MathJaxConfig: 'local'};</script>\n",
              "        <script src=\"https://cdn.plot.ly/plotly-latest.min.js\"></script>    \n",
              "            <div id=\"ff34e7f5-2294-4abd-bc27-6829b7e2439c\" class=\"plotly-graph-div\" style=\"height:525px; width:100%;\"></div>\n",
              "            <script type=\"text/javascript\">\n",
              "                \n",
              "                    window.PLOTLYENV=window.PLOTLYENV || {};\n",
              "                    \n",
              "                if (document.getElementById(\"ff34e7f5-2294-4abd-bc27-6829b7e2439c\")) {\n",
              "                    Plotly.newPlot(\n",
              "                        'ff34e7f5-2294-4abd-bc27-6829b7e2439c',\n",
              "                        [{\"hoverlabel\": {\"namelength\": 0}, \"hovertemplate\": \"quant_tech=L1Unstructured<br>bpp=%{x}<br>psnr_db=%{y}\", \"legendgroup\": \"quant_tech=L1Unstructured\", \"marker\": {\"color\": \"#636efa\", \"symbol\": \"circle\"}, \"mode\": \"markers\", \"name\": \"quant_tech=L1Unstructured\", \"showlegend\": true, \"type\": \"scatter\", \"x\": [6.1182861328125, 6.1182861328125, 6.1182861328125, 6.1182861328125, 6.1182861328125, 6.1182861328125, 6.1182861328125, 6.1182861328125, 6.1182861328125, 6.1182861328125, 6.1182861328125, 6.1182861328125, 6.1182861328125, 6.1182861328125, 6.1182861328125, 6.1182861328125, 6.1182861328125, 6.1182861328125, 6.1182861328125, 6.1182861328125, 6.1182861328125, 6.1182861328125, 6.1182861328125, 6.1182861328125, 6.1182861328125, 6.1182861328125, 6.1182861328125, 6.1182861328125, 6.1182861328125, 6.1182861328125, 6.1182861328125, 6.1182861328125, 6.1182861328125, 6.1182861328125, 6.1182861328125, 6.1182861328125, 6.1182861328125, 6.1182861328125, 6.1182861328125, 6.1182861328125, 6.1182861328125, 6.1182861328125, 6.1182861328125, 6.1182861328125, 6.1182861328125, 6.1182861328125, 6.1182861328125, 6.1182861328125, 6.1182861328125, 6.1182861328125, 6.1182861328125, 6.1182861328125, 6.1182861328125, 6.1182861328125, 6.1182861328125, 6.1182861328125, 6.1182861328125, 6.1182861328125, 6.1182861328125, 6.1182861328125, 6.1182861328125, 6.1182861328125, 6.1182861328125, 6.1182861328125, 6.1182861328125, 6.1182861328125, 6.1182861328125, 6.1182861328125, 6.1182861328125, 6.1182861328125, 6.1182861328125, 6.1182861328125, 6.1182861328125, 6.1182861328125, 6.1182861328125, 6.1182861328125, 6.1182861328125, 6.1182861328125, 6.1182861328125, 6.1182861328125, 6.1182861328125, 6.1182861328125, 6.1182861328125, 6.1182861328125, 6.1182861328125, 6.1182861328125, 6.1182861328125, 6.1182861328125, 6.1182861328125, 6.1182861328125, 6.1182861328125, 6.1182861328125, 6.1182861328125, 6.1182861328125, 6.1182861328125, 6.1182861328125, 6.1182861328125, 6.1182861328125, 6.1182861328125, 6.1182861328125, 6.1182861328125, 6.1182861328125, 6.1182861328125, 6.1182861328125, 6.1182861328125, 6.1182861328125, 6.1182861328125, 6.1182861328125, 6.1182861328125, 6.1182861328125, 6.1182861328125, 6.1182861328125, 6.1182861328125, 6.1182861328125, 6.1182861328125, 6.1182861328125, 6.1182861328125, 6.1182861328125, 6.1182861328125, 6.1182861328125, 6.1182861328125, 6.1182861328125, 6.1182861328125, 6.1182861328125, 6.1182861328125], \"xaxis\": \"x\", \"y\": [42.314138735521844, 42.314138735521844, 42.314138735521844, 42.314138735521844, 42.314138735521844, 41.40007707264003, 41.40007707264003, 41.40007707264003, 41.40007707264003, 41.40007707264003, 39.43563948084633, 39.43563948084633, 39.43563948084633, 39.43563948084633, 39.43563948084633, 37.28537698560946, 37.28537698560946, 37.28537698560946, 37.28537698560946, 37.28537698560946, 35.11083478776056, 35.11083478776056, 35.11083478776056, 35.11083478776056, 35.11083478776056, 27.03558793307416, 27.03558793307416, 27.03558793307416, 27.03558793307416, 27.03558793307416, 18.461622289892592, 18.461622289892592, 18.461622289892592, 18.461622289892592, 18.461622289892592, 14.392113621013552, 14.392113621013552, 14.392113621013552, 14.392113621013552, 14.392113621013552, 11.52402569329551, 11.52402569329551, 11.52402569329551, 11.52402569329551, 11.52402569329551, 9.834488892962508, 9.834488892962508, 9.834488892962508, 9.834488892962508, 9.834488892962508, 8.752722042742228, 8.752722042742228, 8.752722042742228, 8.752722042742228, 8.752722042742228, 10.186273526687408, 10.186273526687408, 10.186273526687408, 10.186273526687408, 10.186273526687408, 8.55742553802086, 8.55742553802086, 8.55742553802086, 8.55742553802086, 8.55742553802086, 10.093274856004804, 10.093274856004804, 10.093274856004804, 10.093274856004804, 10.093274856004804, 42.48164513286687, 42.48164513286687, 42.48164513286687, 42.48164513286687, 42.48164513286687, 42.48172103146271, 42.48172103146271, 42.48172103146271, 42.48172103146271, 42.48172103146271, 42.481647067408105, 42.481647067408105, 42.481647067408105, 42.481647067408105, 42.481647067408105, 42.48184781344155, 42.48184781344155, 42.48184781344155, 42.48184781344155, 42.48184781344155, 42.481808715520884, 42.481808715520884, 42.481808715520884, 42.481808715520884, 42.481808715520884, 42.483049006428466, 42.483049006428466, 42.483049006428466, 42.483049006428466, 42.483049006428466, 42.48346772117925, 42.48346772117925, 42.48346772117925, 42.48346772117925, 42.48346772117925, 42.47439232112222, 42.47439232112222, 42.47439232112222, 42.47439232112222, 42.47439232112222, 42.47217365172398, 42.47217365172398, 42.47217365172398, 42.47217365172398, 42.47217365172398, 42.45624812555904, 42.45624812555904, 42.45624812555904, 42.45624812555904, 42.45624812555904, 42.44086769479307, 42.44086769479307, 42.44086769479307, 42.44086769479307, 42.44086769479307], \"yaxis\": \"y\"}, {\"hoverlabel\": {\"namelength\": 0}, \"hovertemplate\": \"quant_tech=RandomUnstructured<br>bpp=%{x}<br>psnr_db=%{y}\", \"legendgroup\": \"quant_tech=RandomUnstructured\", \"marker\": {\"color\": \"#EF553B\", \"symbol\": \"circle\"}, \"mode\": \"markers\", \"name\": \"quant_tech=RandomUnstructured\", \"showlegend\": true, \"type\": \"scatter\", \"x\": [6.1182861328125, 6.1182861328125, 6.1182861328125, 6.1182861328125, 6.1182861328125, 6.1182861328125, 6.1182861328125, 6.1182861328125, 6.1182861328125, 6.1182861328125, 6.1182861328125, 6.1182861328125, 6.1182861328125, 6.1182861328125, 6.1182861328125, 6.1182861328125, 6.1182861328125, 6.1182861328125, 6.1182861328125, 6.1182861328125, 6.1182861328125, 6.1182861328125, 6.1182861328125, 6.1182861328125, 6.1182861328125, 6.1182861328125, 6.1182861328125, 6.1182861328125, 6.1182861328125, 6.1182861328125, 6.1182861328125, 6.1182861328125, 6.1182861328125, 6.1182861328125, 6.1182861328125, 6.1182861328125, 6.1182861328125, 6.1182861328125, 6.1182861328125, 6.1182861328125, 6.1182861328125, 6.1182861328125, 6.1182861328125, 6.1182861328125, 6.1182861328125, 6.1182861328125, 6.1182861328125, 6.1182861328125, 6.1182861328125, 6.1182861328125, 6.1182861328125, 6.1182861328125, 6.1182861328125, 6.1182861328125, 6.1182861328125, 6.1182861328125, 6.1182861328125, 6.1182861328125, 6.1182861328125, 6.1182861328125, 6.1182861328125, 6.1182861328125, 6.1182861328125, 6.1182861328125, 6.1182861328125, 6.1182861328125, 6.1182861328125, 6.1182861328125, 6.1182861328125, 6.1182861328125, 6.1182861328125, 6.1182861328125, 6.1182861328125, 6.1182861328125, 6.1182861328125, 6.1182861328125, 6.1182861328125, 6.1182861328125, 6.1182861328125, 6.1182861328125, 6.1182861328125, 6.1182861328125, 6.1182861328125, 6.1182861328125, 6.1182861328125, 6.1182861328125, 6.1182861328125, 6.1182861328125, 6.1182861328125, 6.1182861328125, 6.1182861328125, 6.1182861328125, 6.1182861328125, 6.1182861328125, 6.1182861328125, 6.1182861328125, 6.1182861328125, 6.1182861328125, 6.1182861328125, 6.1182861328125, 6.1182861328125, 6.1182861328125, 6.1182861328125, 6.1182861328125, 6.1182861328125, 6.1182861328125, 6.1182861328125, 6.1182861328125, 6.1182861328125, 6.1182861328125, 6.1182861328125, 6.1182861328125, 6.1182861328125, 6.1182861328125, 6.1182861328125, 6.1182861328125, 6.1182861328125, 6.1182861328125, 6.1182861328125, 6.1182861328125, 6.1182861328125, 6.1182861328125, 6.1182861328125, 6.1182861328125, 6.1182861328125], \"xaxis\": \"x\", \"y\": [13.888062707907618, 12.972257806851966, 17.250423377776244, 16.542897674373403, 13.766441402255733, 13.41326306969365, 12.950966740174223, 12.775590597198352, 15.03883000007005, 12.58556684884483, 11.722980417672893, 12.143707238778457, 12.494316322850699, 14.353942911933228, 11.567169197201583, 11.688719934008533, 12.100837863629142, 11.498655704316068, 12.892982985005059, 11.221122761657874, 11.288369746043081, 11.480481569417197, 11.36428416675904, 11.89365019413376, 11.128717896530683, 9.690108091623289, 10.687123543065155, 10.309659230951551, 10.074792225393384, 10.027437375805624, 10.539380771579923, 10.677537696226597, 10.694132306828406, 9.191104809982845, 9.745137183341585, 10.864366247853486, 10.744840519563716, 9.77587903078988, 9.657119696678052, 9.814441478137056, 10.113970970922297, 10.921294904452832, 8.707393016819037, 9.018648520845273, 9.918433792192102, 10.650622370214327, 11.067093907756519, 8.069490737794826, 8.68961637111886, 9.757248513198586, 9.893115995765958, 10.861995080194172, 9.415115689739675, 9.818263807729085, 10.5726587082569, 10.126335046879792, 10.655656681713825, 9.739614126215567, 9.945778770682068, 10.08552404830277, 10.323052732675455, 10.541432466886798, 9.941357837325898, 10.304319890709333, 10.152214485565663, 9.971337399810512, 10.239774504134896, 9.858529093102756, 10.706877820825875, 9.74283247920084, 29.436422703919728, 33.6469076545411, 31.374388400538628, 34.2872423226411, 27.669956322878893, 29.43215807713218, 33.648144868993185, 31.176459069685624, 29.00660078277035, 27.666588521970603, 27.430375516946654, 31.347535925632585, 28.789415855209185, 26.06255577532254, 27.282581990397823, 27.423175725982297, 30.993109686202573, 28.585087462173856, 25.981145504476025, 26.075519974247527, 26.56684893082356, 30.94111597566033, 27.09948618002253, 24.141520279385894, 25.779523531085285, 22.738357245410313, 25.853702019458638, 25.548212083344577, 22.37827160639621, 25.461201225105988, 21.759411733602967, 24.836820528121635, 25.047992090173864, 22.346785885689062, 23.31727320647216, 21.34161991111148, 14.449764758586916, 23.13575439954551, 21.726411529621494, 21.057279862871283, 20.960191221419446, 14.413997566937716, 22.880932581048867, 21.73416917861237, 20.756579888310544, 20.391636429214156, 14.353417318888017, 21.775848755775847, 21.376757044123174, 20.371511866312826, 14.632899920727303, 14.31531654019928, 19.704188749798263, 20.0088954748227, 20.007628819432455], \"yaxis\": \"y\"}],\n",
              "                        {\"legend\": {\"tracegroupgap\": 0}, \"margin\": {\"t\": 60}, \"template\": {\"data\": {\"bar\": [{\"error_x\": {\"color\": \"#f2f5fa\"}, \"error_y\": {\"color\": \"#f2f5fa\"}, \"marker\": {\"line\": {\"color\": \"rgb(17,17,17)\", \"width\": 0.5}}, \"type\": \"bar\"}], \"barpolar\": [{\"marker\": {\"line\": {\"color\": \"rgb(17,17,17)\", \"width\": 0.5}}, \"type\": \"barpolar\"}], \"carpet\": [{\"aaxis\": {\"endlinecolor\": \"#A2B1C6\", \"gridcolor\": \"#506784\", \"linecolor\": \"#506784\", \"minorgridcolor\": \"#506784\", \"startlinecolor\": \"#A2B1C6\"}, \"baxis\": {\"endlinecolor\": \"#A2B1C6\", \"gridcolor\": \"#506784\", \"linecolor\": \"#506784\", \"minorgridcolor\": \"#506784\", \"startlinecolor\": \"#A2B1C6\"}, \"type\": \"carpet\"}], \"choropleth\": [{\"colorbar\": {\"outlinewidth\": 0, \"ticks\": \"\"}, \"type\": \"choropleth\"}], \"contour\": [{\"colorbar\": {\"outlinewidth\": 0, \"ticks\": \"\"}, \"colorscale\": [[0.0, \"#0d0887\"], [0.1111111111111111, \"#46039f\"], [0.2222222222222222, \"#7201a8\"], [0.3333333333333333, \"#9c179e\"], [0.4444444444444444, \"#bd3786\"], [0.5555555555555556, \"#d8576b\"], [0.6666666666666666, \"#ed7953\"], [0.7777777777777778, \"#fb9f3a\"], [0.8888888888888888, \"#fdca26\"], [1.0, \"#f0f921\"]], \"type\": \"contour\"}], \"contourcarpet\": [{\"colorbar\": {\"outlinewidth\": 0, \"ticks\": \"\"}, \"type\": \"contourcarpet\"}], \"heatmap\": [{\"colorbar\": {\"outlinewidth\": 0, \"ticks\": \"\"}, \"colorscale\": [[0.0, \"#0d0887\"], [0.1111111111111111, \"#46039f\"], [0.2222222222222222, \"#7201a8\"], [0.3333333333333333, \"#9c179e\"], [0.4444444444444444, \"#bd3786\"], [0.5555555555555556, \"#d8576b\"], [0.6666666666666666, \"#ed7953\"], [0.7777777777777778, \"#fb9f3a\"], [0.8888888888888888, \"#fdca26\"], [1.0, \"#f0f921\"]], \"type\": \"heatmap\"}], \"heatmapgl\": [{\"colorbar\": {\"outlinewidth\": 0, \"ticks\": \"\"}, \"colorscale\": [[0.0, \"#0d0887\"], [0.1111111111111111, \"#46039f\"], [0.2222222222222222, \"#7201a8\"], [0.3333333333333333, \"#9c179e\"], [0.4444444444444444, \"#bd3786\"], [0.5555555555555556, \"#d8576b\"], [0.6666666666666666, \"#ed7953\"], [0.7777777777777778, \"#fb9f3a\"], [0.8888888888888888, \"#fdca26\"], [1.0, \"#f0f921\"]], \"type\": \"heatmapgl\"}], \"histogram\": [{\"marker\": {\"colorbar\": {\"outlinewidth\": 0, \"ticks\": \"\"}}, \"type\": \"histogram\"}], \"histogram2d\": [{\"colorbar\": {\"outlinewidth\": 0, \"ticks\": \"\"}, \"colorscale\": [[0.0, \"#0d0887\"], [0.1111111111111111, \"#46039f\"], [0.2222222222222222, \"#7201a8\"], [0.3333333333333333, \"#9c179e\"], [0.4444444444444444, \"#bd3786\"], [0.5555555555555556, \"#d8576b\"], [0.6666666666666666, \"#ed7953\"], [0.7777777777777778, \"#fb9f3a\"], [0.8888888888888888, \"#fdca26\"], [1.0, \"#f0f921\"]], \"type\": \"histogram2d\"}], \"histogram2dcontour\": [{\"colorbar\": {\"outlinewidth\": 0, \"ticks\": \"\"}, \"colorscale\": [[0.0, \"#0d0887\"], [0.1111111111111111, \"#46039f\"], [0.2222222222222222, \"#7201a8\"], [0.3333333333333333, \"#9c179e\"], [0.4444444444444444, \"#bd3786\"], [0.5555555555555556, \"#d8576b\"], [0.6666666666666666, \"#ed7953\"], [0.7777777777777778, \"#fb9f3a\"], [0.8888888888888888, \"#fdca26\"], [1.0, \"#f0f921\"]], \"type\": \"histogram2dcontour\"}], \"mesh3d\": [{\"colorbar\": {\"outlinewidth\": 0, \"ticks\": \"\"}, \"type\": \"mesh3d\"}], \"parcoords\": [{\"line\": {\"colorbar\": {\"outlinewidth\": 0, \"ticks\": \"\"}}, \"type\": \"parcoords\"}], \"pie\": [{\"automargin\": true, \"type\": \"pie\"}], \"scatter\": [{\"marker\": {\"line\": {\"color\": \"#283442\"}}, \"type\": \"scatter\"}], \"scatter3d\": [{\"line\": {\"colorbar\": {\"outlinewidth\": 0, \"ticks\": \"\"}}, \"marker\": {\"colorbar\": {\"outlinewidth\": 0, \"ticks\": \"\"}}, \"type\": \"scatter3d\"}], \"scattercarpet\": [{\"marker\": {\"colorbar\": {\"outlinewidth\": 0, \"ticks\": \"\"}}, \"type\": \"scattercarpet\"}], \"scattergeo\": [{\"marker\": {\"colorbar\": {\"outlinewidth\": 0, \"ticks\": \"\"}}, \"type\": \"scattergeo\"}], \"scattergl\": [{\"marker\": {\"line\": {\"color\": \"#283442\"}}, \"type\": \"scattergl\"}], \"scattermapbox\": [{\"marker\": {\"colorbar\": {\"outlinewidth\": 0, \"ticks\": \"\"}}, \"type\": \"scattermapbox\"}], \"scatterpolar\": [{\"marker\": {\"colorbar\": {\"outlinewidth\": 0, \"ticks\": \"\"}}, \"type\": \"scatterpolar\"}], \"scatterpolargl\": [{\"marker\": {\"colorbar\": {\"outlinewidth\": 0, \"ticks\": \"\"}}, \"type\": \"scatterpolargl\"}], \"scatterternary\": [{\"marker\": {\"colorbar\": {\"outlinewidth\": 0, \"ticks\": \"\"}}, \"type\": \"scatterternary\"}], \"surface\": [{\"colorbar\": {\"outlinewidth\": 0, \"ticks\": \"\"}, \"colorscale\": [[0.0, \"#0d0887\"], [0.1111111111111111, \"#46039f\"], [0.2222222222222222, \"#7201a8\"], [0.3333333333333333, \"#9c179e\"], [0.4444444444444444, \"#bd3786\"], [0.5555555555555556, \"#d8576b\"], [0.6666666666666666, \"#ed7953\"], [0.7777777777777778, \"#fb9f3a\"], [0.8888888888888888, \"#fdca26\"], [1.0, \"#f0f921\"]], \"type\": \"surface\"}], \"table\": [{\"cells\": {\"fill\": {\"color\": \"#506784\"}, \"line\": {\"color\": \"rgb(17,17,17)\"}}, \"header\": {\"fill\": {\"color\": \"#2a3f5f\"}, \"line\": {\"color\": \"rgb(17,17,17)\"}}, \"type\": \"table\"}]}, \"layout\": {\"annotationdefaults\": {\"arrowcolor\": \"#f2f5fa\", \"arrowhead\": 0, \"arrowwidth\": 1}, \"coloraxis\": {\"colorbar\": {\"outlinewidth\": 0, \"ticks\": \"\"}}, \"colorscale\": {\"diverging\": [[0, \"#8e0152\"], [0.1, \"#c51b7d\"], [0.2, \"#de77ae\"], [0.3, \"#f1b6da\"], [0.4, \"#fde0ef\"], [0.5, \"#f7f7f7\"], [0.6, \"#e6f5d0\"], [0.7, \"#b8e186\"], [0.8, \"#7fbc41\"], [0.9, \"#4d9221\"], [1, \"#276419\"]], \"sequential\": [[0.0, \"#0d0887\"], [0.1111111111111111, \"#46039f\"], [0.2222222222222222, \"#7201a8\"], [0.3333333333333333, \"#9c179e\"], [0.4444444444444444, \"#bd3786\"], [0.5555555555555556, \"#d8576b\"], [0.6666666666666666, \"#ed7953\"], [0.7777777777777778, \"#fb9f3a\"], [0.8888888888888888, \"#fdca26\"], [1.0, \"#f0f921\"]], \"sequentialminus\": [[0.0, \"#0d0887\"], [0.1111111111111111, \"#46039f\"], [0.2222222222222222, \"#7201a8\"], [0.3333333333333333, \"#9c179e\"], [0.4444444444444444, \"#bd3786\"], [0.5555555555555556, \"#d8576b\"], [0.6666666666666666, \"#ed7953\"], [0.7777777777777778, \"#fb9f3a\"], [0.8888888888888888, \"#fdca26\"], [1.0, \"#f0f921\"]]}, \"colorway\": [\"#636efa\", \"#EF553B\", \"#00cc96\", \"#ab63fa\", \"#FFA15A\", \"#19d3f3\", \"#FF6692\", \"#B6E880\", \"#FF97FF\", \"#FECB52\"], \"font\": {\"color\": \"#f2f5fa\"}, \"geo\": {\"bgcolor\": \"rgb(17,17,17)\", \"lakecolor\": \"rgb(17,17,17)\", \"landcolor\": \"rgb(17,17,17)\", \"showlakes\": true, \"showland\": true, \"subunitcolor\": \"#506784\"}, \"hoverlabel\": {\"align\": \"left\"}, \"hovermode\": \"closest\", \"mapbox\": {\"style\": \"dark\"}, \"paper_bgcolor\": \"rgb(17,17,17)\", \"plot_bgcolor\": \"rgb(17,17,17)\", \"polar\": {\"angularaxis\": {\"gridcolor\": \"#506784\", \"linecolor\": \"#506784\", \"ticks\": \"\"}, \"bgcolor\": \"rgb(17,17,17)\", \"radialaxis\": {\"gridcolor\": \"#506784\", \"linecolor\": \"#506784\", \"ticks\": \"\"}}, \"scene\": {\"xaxis\": {\"backgroundcolor\": \"rgb(17,17,17)\", \"gridcolor\": \"#506784\", \"gridwidth\": 2, \"linecolor\": \"#506784\", \"showbackground\": true, \"ticks\": \"\", \"zerolinecolor\": \"#C8D4E3\"}, \"yaxis\": {\"backgroundcolor\": \"rgb(17,17,17)\", \"gridcolor\": \"#506784\", \"gridwidth\": 2, \"linecolor\": \"#506784\", \"showbackground\": true, \"ticks\": \"\", \"zerolinecolor\": \"#C8D4E3\"}, \"zaxis\": {\"backgroundcolor\": \"rgb(17,17,17)\", \"gridcolor\": \"#506784\", \"gridwidth\": 2, \"linecolor\": \"#506784\", \"showbackground\": true, \"ticks\": \"\", \"zerolinecolor\": \"#C8D4E3\"}}, \"shapedefaults\": {\"line\": {\"color\": \"#f2f5fa\"}}, \"sliderdefaults\": {\"bgcolor\": \"#C8D4E3\", \"bordercolor\": \"rgb(17,17,17)\", \"borderwidth\": 1, \"tickwidth\": 0}, \"ternary\": {\"aaxis\": {\"gridcolor\": \"#506784\", \"linecolor\": \"#506784\", \"ticks\": \"\"}, \"baxis\": {\"gridcolor\": \"#506784\", \"linecolor\": \"#506784\", \"ticks\": \"\"}, \"bgcolor\": \"rgb(17,17,17)\", \"caxis\": {\"gridcolor\": \"#506784\", \"linecolor\": \"#506784\", \"ticks\": \"\"}}, \"title\": {\"x\": 0.05}, \"updatemenudefaults\": {\"bgcolor\": \"#506784\", \"borderwidth\": 0}, \"xaxis\": {\"automargin\": true, \"gridcolor\": \"#283442\", \"linecolor\": \"#506784\", \"ticks\": \"\", \"title\": {\"standoff\": 15}, \"zerolinecolor\": \"#283442\", \"zerolinewidth\": 2}, \"yaxis\": {\"automargin\": true, \"gridcolor\": \"#283442\", \"linecolor\": \"#506784\", \"ticks\": \"\", \"title\": {\"standoff\": 15}, \"zerolinecolor\": \"#283442\", \"zerolinewidth\": 2}}}, \"title\": {\"text\": \"PSNR_DB | Groupped by quant_tech | dataframes\"}, \"xaxis\": {\"anchor\": \"y\", \"domain\": [0.0, 1.0], \"title\": {\"text\": \"bpp\"}}, \"yaxis\": {\"anchor\": \"x\", \"domain\": [0.0, 1.0], \"title\": {\"text\": \"psnr_db\"}}},\n",
              "                        {\"responsive\": true}\n",
              "                    ).then(function(){\n",
              "                            \n",
              "var gd = document.getElementById('ff34e7f5-2294-4abd-bc27-6829b7e2439c');\n",
              "var x = new MutationObserver(function (mutations, observer) {{\n",
              "        var display = window.getComputedStyle(gd).display;\n",
              "        if (!display || display === 'none') {{\n",
              "            console.log([gd, 'removed!']);\n",
              "            Plotly.purge(gd);\n",
              "            observer.disconnect();\n",
              "        }}\n",
              "}});\n",
              "\n",
              "// Listen for the removal of the full notebook cells\n",
              "var notebookContainer = gd.closest('#notebook-container');\n",
              "if (notebookContainer) {{\n",
              "    x.observe(notebookContainer, {childList: true});\n",
              "}}\n",
              "\n",
              "// Listen for the clearing of the current output cell\n",
              "var outputEl = gd.closest('.output');\n",
              "if (outputEl) {{\n",
              "    x.observe(outputEl, {childList: true});\n",
              "}}\n",
              "\n",
              "                        })\n",
              "                };\n",
              "                \n",
              "            </script>\n",
              "        </div>\n",
              "</body>\n",
              "</html>"
            ]
          },
          "metadata": {
            "tags": []
          }
        }
      ]
    },
    {
      "cell_type": "code",
      "metadata": {
        "id": "rW9iTpTb4AiG",
        "outputId": "efe75aa6-d34f-455b-82e5-fd1e7871503e",
        "colab": {
          "base_uri": "https://localhost:8080/",
          "height": 542
        }
      },
      "source": [
        "hue = 'quant_tech'; x = 'bpp'; y = 'psnr_db'\n",
        "fig = px.box(df[df[f\"{hue}\"] != 'Basic'], y=f\"{y}\", color=f\"{hue}\", \n",
        "                 # marginal_y=\"violin\", marginal_x=\"box\", trendline=\"ols\",\n",
        "                 template=DASH_TEMPLATES_LIST[2])\n",
        "fig.update_layout(template = DASH_TEMPLATES_LIST[2], title_text=f'{y.upper()} | Groupped by {hue} | dataframes')"
      ],
      "execution_count": 68,
      "outputs": [
        {
          "output_type": "display_data",
          "data": {
            "text/html": [
              "<html>\n",
              "<head><meta charset=\"utf-8\" /></head>\n",
              "<body>\n",
              "    <div>\n",
              "            <script src=\"https://cdnjs.cloudflare.com/ajax/libs/mathjax/2.7.5/MathJax.js?config=TeX-AMS-MML_SVG\"></script><script type=\"text/javascript\">if (window.MathJax) {MathJax.Hub.Config({SVG: {font: \"STIX-Web\"}});}</script>\n",
              "                <script type=\"text/javascript\">window.PlotlyConfig = {MathJaxConfig: 'local'};</script>\n",
              "        <script src=\"https://cdn.plot.ly/plotly-latest.min.js\"></script>    \n",
              "            <div id=\"f355292c-0649-4f6d-99ea-9338fcc9bcbe\" class=\"plotly-graph-div\" style=\"height:525px; width:100%;\"></div>\n",
              "            <script type=\"text/javascript\">\n",
              "                \n",
              "                    window.PLOTLYENV=window.PLOTLYENV || {};\n",
              "                    \n",
              "                if (document.getElementById(\"f355292c-0649-4f6d-99ea-9338fcc9bcbe\")) {\n",
              "                    Plotly.newPlot(\n",
              "                        'f355292c-0649-4f6d-99ea-9338fcc9bcbe',\n",
              "                        [{\"alignmentgroup\": \"True\", \"hoverlabel\": {\"namelength\": 0}, \"hovertemplate\": \"quant_tech=L1Unstructured<br>psnr_db=%{y}\", \"legendgroup\": \"quant_tech=L1Unstructured\", \"marker\": {\"color\": \"#636efa\"}, \"name\": \"quant_tech=L1Unstructured\", \"notched\": false, \"offsetgroup\": \"quant_tech=L1Unstructured\", \"orientation\": \"v\", \"showlegend\": true, \"type\": \"box\", \"x0\": \" \", \"xaxis\": \"x\", \"y\": [42.314138735521844, 42.314138735521844, 42.314138735521844, 42.314138735521844, 42.314138735521844, 41.40007707264003, 41.40007707264003, 41.40007707264003, 41.40007707264003, 41.40007707264003, 39.43563948084633, 39.43563948084633, 39.43563948084633, 39.43563948084633, 39.43563948084633, 37.28537698560946, 37.28537698560946, 37.28537698560946, 37.28537698560946, 37.28537698560946, 35.11083478776056, 35.11083478776056, 35.11083478776056, 35.11083478776056, 35.11083478776056, 27.03558793307416, 27.03558793307416, 27.03558793307416, 27.03558793307416, 27.03558793307416, 18.461622289892592, 18.461622289892592, 18.461622289892592, 18.461622289892592, 18.461622289892592, 14.392113621013552, 14.392113621013552, 14.392113621013552, 14.392113621013552, 14.392113621013552, 11.52402569329551, 11.52402569329551, 11.52402569329551, 11.52402569329551, 11.52402569329551, 9.834488892962508, 9.834488892962508, 9.834488892962508, 9.834488892962508, 9.834488892962508, 8.752722042742228, 8.752722042742228, 8.752722042742228, 8.752722042742228, 8.752722042742228, 10.186273526687408, 10.186273526687408, 10.186273526687408, 10.186273526687408, 10.186273526687408, 8.55742553802086, 8.55742553802086, 8.55742553802086, 8.55742553802086, 8.55742553802086, 10.093274856004804, 10.093274856004804, 10.093274856004804, 10.093274856004804, 10.093274856004804, 42.48164513286687, 42.48164513286687, 42.48164513286687, 42.48164513286687, 42.48164513286687, 42.48172103146271, 42.48172103146271, 42.48172103146271, 42.48172103146271, 42.48172103146271, 42.481647067408105, 42.481647067408105, 42.481647067408105, 42.481647067408105, 42.481647067408105, 42.48184781344155, 42.48184781344155, 42.48184781344155, 42.48184781344155, 42.48184781344155, 42.481808715520884, 42.481808715520884, 42.481808715520884, 42.481808715520884, 42.481808715520884, 42.483049006428466, 42.483049006428466, 42.483049006428466, 42.483049006428466, 42.483049006428466, 42.48346772117925, 42.48346772117925, 42.48346772117925, 42.48346772117925, 42.48346772117925, 42.47439232112222, 42.47439232112222, 42.47439232112222, 42.47439232112222, 42.47439232112222, 42.47217365172398, 42.47217365172398, 42.47217365172398, 42.47217365172398, 42.47217365172398, 42.45624812555904, 42.45624812555904, 42.45624812555904, 42.45624812555904, 42.45624812555904, 42.44086769479307, 42.44086769479307, 42.44086769479307, 42.44086769479307, 42.44086769479307], \"y0\": \" \", \"yaxis\": \"y\"}, {\"alignmentgroup\": \"True\", \"hoverlabel\": {\"namelength\": 0}, \"hovertemplate\": \"quant_tech=RandomUnstructured<br>psnr_db=%{y}\", \"legendgroup\": \"quant_tech=RandomUnstructured\", \"marker\": {\"color\": \"#EF553B\"}, \"name\": \"quant_tech=RandomUnstructured\", \"notched\": false, \"offsetgroup\": \"quant_tech=RandomUnstructured\", \"orientation\": \"v\", \"showlegend\": true, \"type\": \"box\", \"x0\": \" \", \"xaxis\": \"x\", \"y\": [13.888062707907618, 12.972257806851966, 17.250423377776244, 16.542897674373403, 13.766441402255733, 13.41326306969365, 12.950966740174223, 12.775590597198352, 15.03883000007005, 12.58556684884483, 11.722980417672893, 12.143707238778457, 12.494316322850699, 14.353942911933228, 11.567169197201583, 11.688719934008533, 12.100837863629142, 11.498655704316068, 12.892982985005059, 11.221122761657874, 11.288369746043081, 11.480481569417197, 11.36428416675904, 11.89365019413376, 11.128717896530683, 9.690108091623289, 10.687123543065155, 10.309659230951551, 10.074792225393384, 10.027437375805624, 10.539380771579923, 10.677537696226597, 10.694132306828406, 9.191104809982845, 9.745137183341585, 10.864366247853486, 10.744840519563716, 9.77587903078988, 9.657119696678052, 9.814441478137056, 10.113970970922297, 10.921294904452832, 8.707393016819037, 9.018648520845273, 9.918433792192102, 10.650622370214327, 11.067093907756519, 8.069490737794826, 8.68961637111886, 9.757248513198586, 9.893115995765958, 10.861995080194172, 9.415115689739675, 9.818263807729085, 10.5726587082569, 10.126335046879792, 10.655656681713825, 9.739614126215567, 9.945778770682068, 10.08552404830277, 10.323052732675455, 10.541432466886798, 9.941357837325898, 10.304319890709333, 10.152214485565663, 9.971337399810512, 10.239774504134896, 9.858529093102756, 10.706877820825875, 9.74283247920084, 29.436422703919728, 33.6469076545411, 31.374388400538628, 34.2872423226411, 27.669956322878893, 29.43215807713218, 33.648144868993185, 31.176459069685624, 29.00660078277035, 27.666588521970603, 27.430375516946654, 31.347535925632585, 28.789415855209185, 26.06255577532254, 27.282581990397823, 27.423175725982297, 30.993109686202573, 28.585087462173856, 25.981145504476025, 26.075519974247527, 26.56684893082356, 30.94111597566033, 27.09948618002253, 24.141520279385894, 25.779523531085285, 22.738357245410313, 25.853702019458638, 25.548212083344577, 22.37827160639621, 25.461201225105988, 21.759411733602967, 24.836820528121635, 25.047992090173864, 22.346785885689062, 23.31727320647216, 21.34161991111148, 14.449764758586916, 23.13575439954551, 21.726411529621494, 21.057279862871283, 20.960191221419446, 14.413997566937716, 22.880932581048867, 21.73416917861237, 20.756579888310544, 20.391636429214156, 14.353417318888017, 21.775848755775847, 21.376757044123174, 20.371511866312826, 14.632899920727303, 14.31531654019928, 19.704188749798263, 20.0088954748227, 20.007628819432455], \"y0\": \" \", \"yaxis\": \"y\"}],\n",
              "                        {\"boxmode\": \"group\", \"legend\": {\"tracegroupgap\": 0}, \"margin\": {\"t\": 60}, \"template\": {\"data\": {\"bar\": [{\"error_x\": {\"color\": \"#f2f5fa\"}, \"error_y\": {\"color\": \"#f2f5fa\"}, \"marker\": {\"line\": {\"color\": \"rgb(17,17,17)\", \"width\": 0.5}}, \"type\": \"bar\"}], \"barpolar\": [{\"marker\": {\"line\": {\"color\": \"rgb(17,17,17)\", \"width\": 0.5}}, \"type\": \"barpolar\"}], \"carpet\": [{\"aaxis\": {\"endlinecolor\": \"#A2B1C6\", \"gridcolor\": \"#506784\", \"linecolor\": \"#506784\", \"minorgridcolor\": \"#506784\", \"startlinecolor\": \"#A2B1C6\"}, \"baxis\": {\"endlinecolor\": \"#A2B1C6\", \"gridcolor\": \"#506784\", \"linecolor\": \"#506784\", \"minorgridcolor\": \"#506784\", \"startlinecolor\": \"#A2B1C6\"}, \"type\": \"carpet\"}], \"choropleth\": [{\"colorbar\": {\"outlinewidth\": 0, \"ticks\": \"\"}, \"type\": \"choropleth\"}], \"contour\": [{\"colorbar\": {\"outlinewidth\": 0, \"ticks\": \"\"}, \"colorscale\": [[0.0, \"#0d0887\"], [0.1111111111111111, \"#46039f\"], [0.2222222222222222, \"#7201a8\"], [0.3333333333333333, \"#9c179e\"], [0.4444444444444444, \"#bd3786\"], [0.5555555555555556, \"#d8576b\"], [0.6666666666666666, \"#ed7953\"], [0.7777777777777778, \"#fb9f3a\"], [0.8888888888888888, \"#fdca26\"], [1.0, \"#f0f921\"]], \"type\": \"contour\"}], \"contourcarpet\": [{\"colorbar\": {\"outlinewidth\": 0, \"ticks\": \"\"}, \"type\": \"contourcarpet\"}], \"heatmap\": [{\"colorbar\": {\"outlinewidth\": 0, \"ticks\": \"\"}, \"colorscale\": [[0.0, \"#0d0887\"], [0.1111111111111111, \"#46039f\"], [0.2222222222222222, \"#7201a8\"], [0.3333333333333333, \"#9c179e\"], [0.4444444444444444, \"#bd3786\"], [0.5555555555555556, \"#d8576b\"], [0.6666666666666666, \"#ed7953\"], [0.7777777777777778, \"#fb9f3a\"], [0.8888888888888888, \"#fdca26\"], [1.0, \"#f0f921\"]], \"type\": \"heatmap\"}], \"heatmapgl\": [{\"colorbar\": {\"outlinewidth\": 0, \"ticks\": \"\"}, \"colorscale\": [[0.0, \"#0d0887\"], [0.1111111111111111, \"#46039f\"], [0.2222222222222222, \"#7201a8\"], [0.3333333333333333, \"#9c179e\"], [0.4444444444444444, \"#bd3786\"], [0.5555555555555556, \"#d8576b\"], [0.6666666666666666, \"#ed7953\"], [0.7777777777777778, \"#fb9f3a\"], [0.8888888888888888, \"#fdca26\"], [1.0, \"#f0f921\"]], \"type\": \"heatmapgl\"}], \"histogram\": [{\"marker\": {\"colorbar\": {\"outlinewidth\": 0, \"ticks\": \"\"}}, \"type\": \"histogram\"}], \"histogram2d\": [{\"colorbar\": {\"outlinewidth\": 0, \"ticks\": \"\"}, \"colorscale\": [[0.0, \"#0d0887\"], [0.1111111111111111, \"#46039f\"], [0.2222222222222222, \"#7201a8\"], [0.3333333333333333, \"#9c179e\"], [0.4444444444444444, \"#bd3786\"], [0.5555555555555556, \"#d8576b\"], [0.6666666666666666, \"#ed7953\"], [0.7777777777777778, \"#fb9f3a\"], [0.8888888888888888, \"#fdca26\"], [1.0, \"#f0f921\"]], \"type\": \"histogram2d\"}], \"histogram2dcontour\": [{\"colorbar\": {\"outlinewidth\": 0, \"ticks\": \"\"}, \"colorscale\": [[0.0, \"#0d0887\"], [0.1111111111111111, \"#46039f\"], [0.2222222222222222, \"#7201a8\"], [0.3333333333333333, \"#9c179e\"], [0.4444444444444444, \"#bd3786\"], [0.5555555555555556, \"#d8576b\"], [0.6666666666666666, \"#ed7953\"], [0.7777777777777778, \"#fb9f3a\"], [0.8888888888888888, \"#fdca26\"], [1.0, \"#f0f921\"]], \"type\": \"histogram2dcontour\"}], \"mesh3d\": [{\"colorbar\": {\"outlinewidth\": 0, \"ticks\": \"\"}, \"type\": \"mesh3d\"}], \"parcoords\": [{\"line\": {\"colorbar\": {\"outlinewidth\": 0, \"ticks\": \"\"}}, \"type\": \"parcoords\"}], \"pie\": [{\"automargin\": true, \"type\": \"pie\"}], \"scatter\": [{\"marker\": {\"line\": {\"color\": \"#283442\"}}, \"type\": \"scatter\"}], \"scatter3d\": [{\"line\": {\"colorbar\": {\"outlinewidth\": 0, \"ticks\": \"\"}}, \"marker\": {\"colorbar\": {\"outlinewidth\": 0, \"ticks\": \"\"}}, \"type\": \"scatter3d\"}], \"scattercarpet\": [{\"marker\": {\"colorbar\": {\"outlinewidth\": 0, \"ticks\": \"\"}}, \"type\": \"scattercarpet\"}], \"scattergeo\": [{\"marker\": {\"colorbar\": {\"outlinewidth\": 0, \"ticks\": \"\"}}, \"type\": \"scattergeo\"}], \"scattergl\": [{\"marker\": {\"line\": {\"color\": \"#283442\"}}, \"type\": \"scattergl\"}], \"scattermapbox\": [{\"marker\": {\"colorbar\": {\"outlinewidth\": 0, \"ticks\": \"\"}}, \"type\": \"scattermapbox\"}], \"scatterpolar\": [{\"marker\": {\"colorbar\": {\"outlinewidth\": 0, \"ticks\": \"\"}}, \"type\": \"scatterpolar\"}], \"scatterpolargl\": [{\"marker\": {\"colorbar\": {\"outlinewidth\": 0, \"ticks\": \"\"}}, \"type\": \"scatterpolargl\"}], \"scatterternary\": [{\"marker\": {\"colorbar\": {\"outlinewidth\": 0, \"ticks\": \"\"}}, \"type\": \"scatterternary\"}], \"surface\": [{\"colorbar\": {\"outlinewidth\": 0, \"ticks\": \"\"}, \"colorscale\": [[0.0, \"#0d0887\"], [0.1111111111111111, \"#46039f\"], [0.2222222222222222, \"#7201a8\"], [0.3333333333333333, \"#9c179e\"], [0.4444444444444444, \"#bd3786\"], [0.5555555555555556, \"#d8576b\"], [0.6666666666666666, \"#ed7953\"], [0.7777777777777778, \"#fb9f3a\"], [0.8888888888888888, \"#fdca26\"], [1.0, \"#f0f921\"]], \"type\": \"surface\"}], \"table\": [{\"cells\": {\"fill\": {\"color\": \"#506784\"}, \"line\": {\"color\": \"rgb(17,17,17)\"}}, \"header\": {\"fill\": {\"color\": \"#2a3f5f\"}, \"line\": {\"color\": \"rgb(17,17,17)\"}}, \"type\": \"table\"}]}, \"layout\": {\"annotationdefaults\": {\"arrowcolor\": \"#f2f5fa\", \"arrowhead\": 0, \"arrowwidth\": 1}, \"coloraxis\": {\"colorbar\": {\"outlinewidth\": 0, \"ticks\": \"\"}}, \"colorscale\": {\"diverging\": [[0, \"#8e0152\"], [0.1, \"#c51b7d\"], [0.2, \"#de77ae\"], [0.3, \"#f1b6da\"], [0.4, \"#fde0ef\"], [0.5, \"#f7f7f7\"], [0.6, \"#e6f5d0\"], [0.7, \"#b8e186\"], [0.8, \"#7fbc41\"], [0.9, \"#4d9221\"], [1, \"#276419\"]], \"sequential\": [[0.0, \"#0d0887\"], [0.1111111111111111, \"#46039f\"], [0.2222222222222222, \"#7201a8\"], [0.3333333333333333, \"#9c179e\"], [0.4444444444444444, \"#bd3786\"], [0.5555555555555556, \"#d8576b\"], [0.6666666666666666, \"#ed7953\"], [0.7777777777777778, \"#fb9f3a\"], [0.8888888888888888, \"#fdca26\"], [1.0, \"#f0f921\"]], \"sequentialminus\": [[0.0, \"#0d0887\"], [0.1111111111111111, \"#46039f\"], [0.2222222222222222, \"#7201a8\"], [0.3333333333333333, \"#9c179e\"], [0.4444444444444444, \"#bd3786\"], [0.5555555555555556, \"#d8576b\"], [0.6666666666666666, \"#ed7953\"], [0.7777777777777778, \"#fb9f3a\"], [0.8888888888888888, \"#fdca26\"], [1.0, \"#f0f921\"]]}, \"colorway\": [\"#636efa\", \"#EF553B\", \"#00cc96\", \"#ab63fa\", \"#FFA15A\", \"#19d3f3\", \"#FF6692\", \"#B6E880\", \"#FF97FF\", \"#FECB52\"], \"font\": {\"color\": \"#f2f5fa\"}, \"geo\": {\"bgcolor\": \"rgb(17,17,17)\", \"lakecolor\": \"rgb(17,17,17)\", \"landcolor\": \"rgb(17,17,17)\", \"showlakes\": true, \"showland\": true, \"subunitcolor\": \"#506784\"}, \"hoverlabel\": {\"align\": \"left\"}, \"hovermode\": \"closest\", \"mapbox\": {\"style\": \"dark\"}, \"paper_bgcolor\": \"rgb(17,17,17)\", \"plot_bgcolor\": \"rgb(17,17,17)\", \"polar\": {\"angularaxis\": {\"gridcolor\": \"#506784\", \"linecolor\": \"#506784\", \"ticks\": \"\"}, \"bgcolor\": \"rgb(17,17,17)\", \"radialaxis\": {\"gridcolor\": \"#506784\", \"linecolor\": \"#506784\", \"ticks\": \"\"}}, \"scene\": {\"xaxis\": {\"backgroundcolor\": \"rgb(17,17,17)\", \"gridcolor\": \"#506784\", \"gridwidth\": 2, \"linecolor\": \"#506784\", \"showbackground\": true, \"ticks\": \"\", \"zerolinecolor\": \"#C8D4E3\"}, \"yaxis\": {\"backgroundcolor\": \"rgb(17,17,17)\", \"gridcolor\": \"#506784\", \"gridwidth\": 2, \"linecolor\": \"#506784\", \"showbackground\": true, \"ticks\": \"\", \"zerolinecolor\": \"#C8D4E3\"}, \"zaxis\": {\"backgroundcolor\": \"rgb(17,17,17)\", \"gridcolor\": \"#506784\", \"gridwidth\": 2, \"linecolor\": \"#506784\", \"showbackground\": true, \"ticks\": \"\", \"zerolinecolor\": \"#C8D4E3\"}}, \"shapedefaults\": {\"line\": {\"color\": \"#f2f5fa\"}}, \"sliderdefaults\": {\"bgcolor\": \"#C8D4E3\", \"bordercolor\": \"rgb(17,17,17)\", \"borderwidth\": 1, \"tickwidth\": 0}, \"ternary\": {\"aaxis\": {\"gridcolor\": \"#506784\", \"linecolor\": \"#506784\", \"ticks\": \"\"}, \"baxis\": {\"gridcolor\": \"#506784\", \"linecolor\": \"#506784\", \"ticks\": \"\"}, \"bgcolor\": \"rgb(17,17,17)\", \"caxis\": {\"gridcolor\": \"#506784\", \"linecolor\": \"#506784\", \"ticks\": \"\"}}, \"title\": {\"x\": 0.05}, \"updatemenudefaults\": {\"bgcolor\": \"#506784\", \"borderwidth\": 0}, \"xaxis\": {\"automargin\": true, \"gridcolor\": \"#283442\", \"linecolor\": \"#506784\", \"ticks\": \"\", \"title\": {\"standoff\": 15}, \"zerolinecolor\": \"#283442\", \"zerolinewidth\": 2}, \"yaxis\": {\"automargin\": true, \"gridcolor\": \"#283442\", \"linecolor\": \"#506784\", \"ticks\": \"\", \"title\": {\"standoff\": 15}, \"zerolinecolor\": \"#283442\", \"zerolinewidth\": 2}}}, \"title\": {\"text\": \"PSNR_DB | Groupped by quant_tech | dataframes\"}, \"xaxis\": {\"anchor\": \"y\", \"domain\": [0.0, 1.0]}, \"yaxis\": {\"anchor\": \"x\", \"domain\": [0.0, 1.0], \"title\": {\"text\": \"psnr_db\"}}},\n",
              "                        {\"responsive\": true}\n",
              "                    ).then(function(){\n",
              "                            \n",
              "var gd = document.getElementById('f355292c-0649-4f6d-99ea-9338fcc9bcbe');\n",
              "var x = new MutationObserver(function (mutations, observer) {{\n",
              "        var display = window.getComputedStyle(gd).display;\n",
              "        if (!display || display === 'none') {{\n",
              "            console.log([gd, 'removed!']);\n",
              "            Plotly.purge(gd);\n",
              "            observer.disconnect();\n",
              "        }}\n",
              "}});\n",
              "\n",
              "// Listen for the removal of the full notebook cells\n",
              "var notebookContainer = gd.closest('#notebook-container');\n",
              "if (notebookContainer) {{\n",
              "    x.observe(notebookContainer, {childList: true});\n",
              "}}\n",
              "\n",
              "// Listen for the clearing of the current output cell\n",
              "var outputEl = gd.closest('.output');\n",
              "if (outputEl) {{\n",
              "    x.observe(outputEl, {childList: true});\n",
              "}}\n",
              "\n",
              "                        })\n",
              "                };\n",
              "                \n",
              "            </script>\n",
              "        </div>\n",
              "</body>\n",
              "</html>"
            ]
          },
          "metadata": {
            "tags": []
          }
        }
      ]
    },
    {
      "cell_type": "code",
      "metadata": {
        "id": "U72DQjwu4Ril",
        "outputId": "8ba4453f-fca1-40df-ec67-d8e957c244a5",
        "colab": {
          "base_uri": "https://localhost:8080/",
          "height": 542
        }
      },
      "source": [
        "hue = 'quant_tech'; x = 'bpp'; y = 'psnr_db'\n",
        "fig = px.violin(df[df[f\"{hue}\"] != 'Basic' ], y=f\"{y}\", color=f\"{hue}\", \n",
        "                 # marginal_y=\"violin\", marginal_x=\"box\", trendline=\"ols\",\n",
        "                 template=DASH_TEMPLATES_LIST[2])\n",
        "fig.update_layout(template = DASH_TEMPLATES_LIST[2], title_text=f'{y.upper()} | Groupped by {hue} | dataframes')"
      ],
      "execution_count": 69,
      "outputs": [
        {
          "output_type": "display_data",
          "data": {
            "text/html": [
              "<html>\n",
              "<head><meta charset=\"utf-8\" /></head>\n",
              "<body>\n",
              "    <div>\n",
              "            <script src=\"https://cdnjs.cloudflare.com/ajax/libs/mathjax/2.7.5/MathJax.js?config=TeX-AMS-MML_SVG\"></script><script type=\"text/javascript\">if (window.MathJax) {MathJax.Hub.Config({SVG: {font: \"STIX-Web\"}});}</script>\n",
              "                <script type=\"text/javascript\">window.PlotlyConfig = {MathJaxConfig: 'local'};</script>\n",
              "        <script src=\"https://cdn.plot.ly/plotly-latest.min.js\"></script>    \n",
              "            <div id=\"9a379e76-cce6-4e0c-9281-bcbca7a76a9c\" class=\"plotly-graph-div\" style=\"height:525px; width:100%;\"></div>\n",
              "            <script type=\"text/javascript\">\n",
              "                \n",
              "                    window.PLOTLYENV=window.PLOTLYENV || {};\n",
              "                    \n",
              "                if (document.getElementById(\"9a379e76-cce6-4e0c-9281-bcbca7a76a9c\")) {\n",
              "                    Plotly.newPlot(\n",
              "                        '9a379e76-cce6-4e0c-9281-bcbca7a76a9c',\n",
              "                        [{\"alignmentgroup\": \"True\", \"box\": {\"visible\": false}, \"hoverlabel\": {\"namelength\": 0}, \"hovertemplate\": \"quant_tech=L1Unstructured<br>psnr_db=%{y}\", \"legendgroup\": \"quant_tech=L1Unstructured\", \"marker\": {\"color\": \"#636efa\"}, \"name\": \"quant_tech=L1Unstructured\", \"offsetgroup\": \"quant_tech=L1Unstructured\", \"orientation\": \"v\", \"scalegroup\": \"True\", \"showlegend\": true, \"type\": \"violin\", \"x0\": \" \", \"xaxis\": \"x\", \"y\": [42.314138735521844, 42.314138735521844, 42.314138735521844, 42.314138735521844, 42.314138735521844, 41.40007707264003, 41.40007707264003, 41.40007707264003, 41.40007707264003, 41.40007707264003, 39.43563948084633, 39.43563948084633, 39.43563948084633, 39.43563948084633, 39.43563948084633, 37.28537698560946, 37.28537698560946, 37.28537698560946, 37.28537698560946, 37.28537698560946, 35.11083478776056, 35.11083478776056, 35.11083478776056, 35.11083478776056, 35.11083478776056, 27.03558793307416, 27.03558793307416, 27.03558793307416, 27.03558793307416, 27.03558793307416, 18.461622289892592, 18.461622289892592, 18.461622289892592, 18.461622289892592, 18.461622289892592, 14.392113621013552, 14.392113621013552, 14.392113621013552, 14.392113621013552, 14.392113621013552, 11.52402569329551, 11.52402569329551, 11.52402569329551, 11.52402569329551, 11.52402569329551, 9.834488892962508, 9.834488892962508, 9.834488892962508, 9.834488892962508, 9.834488892962508, 8.752722042742228, 8.752722042742228, 8.752722042742228, 8.752722042742228, 8.752722042742228, 10.186273526687408, 10.186273526687408, 10.186273526687408, 10.186273526687408, 10.186273526687408, 8.55742553802086, 8.55742553802086, 8.55742553802086, 8.55742553802086, 8.55742553802086, 10.093274856004804, 10.093274856004804, 10.093274856004804, 10.093274856004804, 10.093274856004804, 42.48164513286687, 42.48164513286687, 42.48164513286687, 42.48164513286687, 42.48164513286687, 42.48172103146271, 42.48172103146271, 42.48172103146271, 42.48172103146271, 42.48172103146271, 42.481647067408105, 42.481647067408105, 42.481647067408105, 42.481647067408105, 42.481647067408105, 42.48184781344155, 42.48184781344155, 42.48184781344155, 42.48184781344155, 42.48184781344155, 42.481808715520884, 42.481808715520884, 42.481808715520884, 42.481808715520884, 42.481808715520884, 42.483049006428466, 42.483049006428466, 42.483049006428466, 42.483049006428466, 42.483049006428466, 42.48346772117925, 42.48346772117925, 42.48346772117925, 42.48346772117925, 42.48346772117925, 42.47439232112222, 42.47439232112222, 42.47439232112222, 42.47439232112222, 42.47439232112222, 42.47217365172398, 42.47217365172398, 42.47217365172398, 42.47217365172398, 42.47217365172398, 42.45624812555904, 42.45624812555904, 42.45624812555904, 42.45624812555904, 42.45624812555904, 42.44086769479307, 42.44086769479307, 42.44086769479307, 42.44086769479307, 42.44086769479307], \"y0\": \" \", \"yaxis\": \"y\"}, {\"alignmentgroup\": \"True\", \"box\": {\"visible\": false}, \"hoverlabel\": {\"namelength\": 0}, \"hovertemplate\": \"quant_tech=RandomUnstructured<br>psnr_db=%{y}\", \"legendgroup\": \"quant_tech=RandomUnstructured\", \"marker\": {\"color\": \"#EF553B\"}, \"name\": \"quant_tech=RandomUnstructured\", \"offsetgroup\": \"quant_tech=RandomUnstructured\", \"orientation\": \"v\", \"scalegroup\": \"True\", \"showlegend\": true, \"type\": \"violin\", \"x0\": \" \", \"xaxis\": \"x\", \"y\": [13.888062707907618, 12.972257806851966, 17.250423377776244, 16.542897674373403, 13.766441402255733, 13.41326306969365, 12.950966740174223, 12.775590597198352, 15.03883000007005, 12.58556684884483, 11.722980417672893, 12.143707238778457, 12.494316322850699, 14.353942911933228, 11.567169197201583, 11.688719934008533, 12.100837863629142, 11.498655704316068, 12.892982985005059, 11.221122761657874, 11.288369746043081, 11.480481569417197, 11.36428416675904, 11.89365019413376, 11.128717896530683, 9.690108091623289, 10.687123543065155, 10.309659230951551, 10.074792225393384, 10.027437375805624, 10.539380771579923, 10.677537696226597, 10.694132306828406, 9.191104809982845, 9.745137183341585, 10.864366247853486, 10.744840519563716, 9.77587903078988, 9.657119696678052, 9.814441478137056, 10.113970970922297, 10.921294904452832, 8.707393016819037, 9.018648520845273, 9.918433792192102, 10.650622370214327, 11.067093907756519, 8.069490737794826, 8.68961637111886, 9.757248513198586, 9.893115995765958, 10.861995080194172, 9.415115689739675, 9.818263807729085, 10.5726587082569, 10.126335046879792, 10.655656681713825, 9.739614126215567, 9.945778770682068, 10.08552404830277, 10.323052732675455, 10.541432466886798, 9.941357837325898, 10.304319890709333, 10.152214485565663, 9.971337399810512, 10.239774504134896, 9.858529093102756, 10.706877820825875, 9.74283247920084, 29.436422703919728, 33.6469076545411, 31.374388400538628, 34.2872423226411, 27.669956322878893, 29.43215807713218, 33.648144868993185, 31.176459069685624, 29.00660078277035, 27.666588521970603, 27.430375516946654, 31.347535925632585, 28.789415855209185, 26.06255577532254, 27.282581990397823, 27.423175725982297, 30.993109686202573, 28.585087462173856, 25.981145504476025, 26.075519974247527, 26.56684893082356, 30.94111597566033, 27.09948618002253, 24.141520279385894, 25.779523531085285, 22.738357245410313, 25.853702019458638, 25.548212083344577, 22.37827160639621, 25.461201225105988, 21.759411733602967, 24.836820528121635, 25.047992090173864, 22.346785885689062, 23.31727320647216, 21.34161991111148, 14.449764758586916, 23.13575439954551, 21.726411529621494, 21.057279862871283, 20.960191221419446, 14.413997566937716, 22.880932581048867, 21.73416917861237, 20.756579888310544, 20.391636429214156, 14.353417318888017, 21.775848755775847, 21.376757044123174, 20.371511866312826, 14.632899920727303, 14.31531654019928, 19.704188749798263, 20.0088954748227, 20.007628819432455], \"y0\": \" \", \"yaxis\": \"y\"}],\n",
              "                        {\"legend\": {\"tracegroupgap\": 0}, \"margin\": {\"t\": 60}, \"template\": {\"data\": {\"bar\": [{\"error_x\": {\"color\": \"#f2f5fa\"}, \"error_y\": {\"color\": \"#f2f5fa\"}, \"marker\": {\"line\": {\"color\": \"rgb(17,17,17)\", \"width\": 0.5}}, \"type\": \"bar\"}], \"barpolar\": [{\"marker\": {\"line\": {\"color\": \"rgb(17,17,17)\", \"width\": 0.5}}, \"type\": \"barpolar\"}], \"carpet\": [{\"aaxis\": {\"endlinecolor\": \"#A2B1C6\", \"gridcolor\": \"#506784\", \"linecolor\": \"#506784\", \"minorgridcolor\": \"#506784\", \"startlinecolor\": \"#A2B1C6\"}, \"baxis\": {\"endlinecolor\": \"#A2B1C6\", \"gridcolor\": \"#506784\", \"linecolor\": \"#506784\", \"minorgridcolor\": \"#506784\", \"startlinecolor\": \"#A2B1C6\"}, \"type\": \"carpet\"}], \"choropleth\": [{\"colorbar\": {\"outlinewidth\": 0, \"ticks\": \"\"}, \"type\": \"choropleth\"}], \"contour\": [{\"colorbar\": {\"outlinewidth\": 0, \"ticks\": \"\"}, \"colorscale\": [[0.0, \"#0d0887\"], [0.1111111111111111, \"#46039f\"], [0.2222222222222222, \"#7201a8\"], [0.3333333333333333, \"#9c179e\"], [0.4444444444444444, \"#bd3786\"], [0.5555555555555556, \"#d8576b\"], [0.6666666666666666, \"#ed7953\"], [0.7777777777777778, \"#fb9f3a\"], [0.8888888888888888, \"#fdca26\"], [1.0, \"#f0f921\"]], \"type\": \"contour\"}], \"contourcarpet\": [{\"colorbar\": {\"outlinewidth\": 0, \"ticks\": \"\"}, \"type\": \"contourcarpet\"}], \"heatmap\": [{\"colorbar\": {\"outlinewidth\": 0, \"ticks\": \"\"}, \"colorscale\": [[0.0, \"#0d0887\"], [0.1111111111111111, \"#46039f\"], [0.2222222222222222, \"#7201a8\"], [0.3333333333333333, \"#9c179e\"], [0.4444444444444444, \"#bd3786\"], [0.5555555555555556, \"#d8576b\"], [0.6666666666666666, \"#ed7953\"], [0.7777777777777778, \"#fb9f3a\"], [0.8888888888888888, \"#fdca26\"], [1.0, \"#f0f921\"]], \"type\": \"heatmap\"}], \"heatmapgl\": [{\"colorbar\": {\"outlinewidth\": 0, \"ticks\": \"\"}, \"colorscale\": [[0.0, \"#0d0887\"], [0.1111111111111111, \"#46039f\"], [0.2222222222222222, \"#7201a8\"], [0.3333333333333333, \"#9c179e\"], [0.4444444444444444, \"#bd3786\"], [0.5555555555555556, \"#d8576b\"], [0.6666666666666666, \"#ed7953\"], [0.7777777777777778, \"#fb9f3a\"], [0.8888888888888888, \"#fdca26\"], [1.0, \"#f0f921\"]], \"type\": \"heatmapgl\"}], \"histogram\": [{\"marker\": {\"colorbar\": {\"outlinewidth\": 0, \"ticks\": \"\"}}, \"type\": \"histogram\"}], \"histogram2d\": [{\"colorbar\": {\"outlinewidth\": 0, \"ticks\": \"\"}, \"colorscale\": [[0.0, \"#0d0887\"], [0.1111111111111111, \"#46039f\"], [0.2222222222222222, \"#7201a8\"], [0.3333333333333333, \"#9c179e\"], [0.4444444444444444, \"#bd3786\"], [0.5555555555555556, \"#d8576b\"], [0.6666666666666666, \"#ed7953\"], [0.7777777777777778, \"#fb9f3a\"], [0.8888888888888888, \"#fdca26\"], [1.0, \"#f0f921\"]], \"type\": \"histogram2d\"}], \"histogram2dcontour\": [{\"colorbar\": {\"outlinewidth\": 0, \"ticks\": \"\"}, \"colorscale\": [[0.0, \"#0d0887\"], [0.1111111111111111, \"#46039f\"], [0.2222222222222222, \"#7201a8\"], [0.3333333333333333, \"#9c179e\"], [0.4444444444444444, \"#bd3786\"], [0.5555555555555556, \"#d8576b\"], [0.6666666666666666, \"#ed7953\"], [0.7777777777777778, \"#fb9f3a\"], [0.8888888888888888, \"#fdca26\"], [1.0, \"#f0f921\"]], \"type\": \"histogram2dcontour\"}], \"mesh3d\": [{\"colorbar\": {\"outlinewidth\": 0, \"ticks\": \"\"}, \"type\": \"mesh3d\"}], \"parcoords\": [{\"line\": {\"colorbar\": {\"outlinewidth\": 0, \"ticks\": \"\"}}, \"type\": \"parcoords\"}], \"pie\": [{\"automargin\": true, \"type\": \"pie\"}], \"scatter\": [{\"marker\": {\"line\": {\"color\": \"#283442\"}}, \"type\": \"scatter\"}], \"scatter3d\": [{\"line\": {\"colorbar\": {\"outlinewidth\": 0, \"ticks\": \"\"}}, \"marker\": {\"colorbar\": {\"outlinewidth\": 0, \"ticks\": \"\"}}, \"type\": \"scatter3d\"}], \"scattercarpet\": [{\"marker\": {\"colorbar\": {\"outlinewidth\": 0, \"ticks\": \"\"}}, \"type\": \"scattercarpet\"}], \"scattergeo\": [{\"marker\": {\"colorbar\": {\"outlinewidth\": 0, \"ticks\": \"\"}}, \"type\": \"scattergeo\"}], \"scattergl\": [{\"marker\": {\"line\": {\"color\": \"#283442\"}}, \"type\": \"scattergl\"}], \"scattermapbox\": [{\"marker\": {\"colorbar\": {\"outlinewidth\": 0, \"ticks\": \"\"}}, \"type\": \"scattermapbox\"}], \"scatterpolar\": [{\"marker\": {\"colorbar\": {\"outlinewidth\": 0, \"ticks\": \"\"}}, \"type\": \"scatterpolar\"}], \"scatterpolargl\": [{\"marker\": {\"colorbar\": {\"outlinewidth\": 0, \"ticks\": \"\"}}, \"type\": \"scatterpolargl\"}], \"scatterternary\": [{\"marker\": {\"colorbar\": {\"outlinewidth\": 0, \"ticks\": \"\"}}, \"type\": \"scatterternary\"}], \"surface\": [{\"colorbar\": {\"outlinewidth\": 0, \"ticks\": \"\"}, \"colorscale\": [[0.0, \"#0d0887\"], [0.1111111111111111, \"#46039f\"], [0.2222222222222222, \"#7201a8\"], [0.3333333333333333, \"#9c179e\"], [0.4444444444444444, \"#bd3786\"], [0.5555555555555556, \"#d8576b\"], [0.6666666666666666, \"#ed7953\"], [0.7777777777777778, \"#fb9f3a\"], [0.8888888888888888, \"#fdca26\"], [1.0, \"#f0f921\"]], \"type\": \"surface\"}], \"table\": [{\"cells\": {\"fill\": {\"color\": \"#506784\"}, \"line\": {\"color\": \"rgb(17,17,17)\"}}, \"header\": {\"fill\": {\"color\": \"#2a3f5f\"}, \"line\": {\"color\": \"rgb(17,17,17)\"}}, \"type\": \"table\"}]}, \"layout\": {\"annotationdefaults\": {\"arrowcolor\": \"#f2f5fa\", \"arrowhead\": 0, \"arrowwidth\": 1}, \"coloraxis\": {\"colorbar\": {\"outlinewidth\": 0, \"ticks\": \"\"}}, \"colorscale\": {\"diverging\": [[0, \"#8e0152\"], [0.1, \"#c51b7d\"], [0.2, \"#de77ae\"], [0.3, \"#f1b6da\"], [0.4, \"#fde0ef\"], [0.5, \"#f7f7f7\"], [0.6, \"#e6f5d0\"], [0.7, \"#b8e186\"], [0.8, \"#7fbc41\"], [0.9, \"#4d9221\"], [1, \"#276419\"]], \"sequential\": [[0.0, \"#0d0887\"], [0.1111111111111111, \"#46039f\"], [0.2222222222222222, \"#7201a8\"], [0.3333333333333333, \"#9c179e\"], [0.4444444444444444, \"#bd3786\"], [0.5555555555555556, \"#d8576b\"], [0.6666666666666666, \"#ed7953\"], [0.7777777777777778, \"#fb9f3a\"], [0.8888888888888888, \"#fdca26\"], [1.0, \"#f0f921\"]], \"sequentialminus\": [[0.0, \"#0d0887\"], [0.1111111111111111, \"#46039f\"], [0.2222222222222222, \"#7201a8\"], [0.3333333333333333, \"#9c179e\"], [0.4444444444444444, \"#bd3786\"], [0.5555555555555556, \"#d8576b\"], [0.6666666666666666, \"#ed7953\"], [0.7777777777777778, \"#fb9f3a\"], [0.8888888888888888, \"#fdca26\"], [1.0, \"#f0f921\"]]}, \"colorway\": [\"#636efa\", \"#EF553B\", \"#00cc96\", \"#ab63fa\", \"#FFA15A\", \"#19d3f3\", \"#FF6692\", \"#B6E880\", \"#FF97FF\", \"#FECB52\"], \"font\": {\"color\": \"#f2f5fa\"}, \"geo\": {\"bgcolor\": \"rgb(17,17,17)\", \"lakecolor\": \"rgb(17,17,17)\", \"landcolor\": \"rgb(17,17,17)\", \"showlakes\": true, \"showland\": true, \"subunitcolor\": \"#506784\"}, \"hoverlabel\": {\"align\": \"left\"}, \"hovermode\": \"closest\", \"mapbox\": {\"style\": \"dark\"}, \"paper_bgcolor\": \"rgb(17,17,17)\", \"plot_bgcolor\": \"rgb(17,17,17)\", \"polar\": {\"angularaxis\": {\"gridcolor\": \"#506784\", \"linecolor\": \"#506784\", \"ticks\": \"\"}, \"bgcolor\": \"rgb(17,17,17)\", \"radialaxis\": {\"gridcolor\": \"#506784\", \"linecolor\": \"#506784\", \"ticks\": \"\"}}, \"scene\": {\"xaxis\": {\"backgroundcolor\": \"rgb(17,17,17)\", \"gridcolor\": \"#506784\", \"gridwidth\": 2, \"linecolor\": \"#506784\", \"showbackground\": true, \"ticks\": \"\", \"zerolinecolor\": \"#C8D4E3\"}, \"yaxis\": {\"backgroundcolor\": \"rgb(17,17,17)\", \"gridcolor\": \"#506784\", \"gridwidth\": 2, \"linecolor\": \"#506784\", \"showbackground\": true, \"ticks\": \"\", \"zerolinecolor\": \"#C8D4E3\"}, \"zaxis\": {\"backgroundcolor\": \"rgb(17,17,17)\", \"gridcolor\": \"#506784\", \"gridwidth\": 2, \"linecolor\": \"#506784\", \"showbackground\": true, \"ticks\": \"\", \"zerolinecolor\": \"#C8D4E3\"}}, \"shapedefaults\": {\"line\": {\"color\": \"#f2f5fa\"}}, \"sliderdefaults\": {\"bgcolor\": \"#C8D4E3\", \"bordercolor\": \"rgb(17,17,17)\", \"borderwidth\": 1, \"tickwidth\": 0}, \"ternary\": {\"aaxis\": {\"gridcolor\": \"#506784\", \"linecolor\": \"#506784\", \"ticks\": \"\"}, \"baxis\": {\"gridcolor\": \"#506784\", \"linecolor\": \"#506784\", \"ticks\": \"\"}, \"bgcolor\": \"rgb(17,17,17)\", \"caxis\": {\"gridcolor\": \"#506784\", \"linecolor\": \"#506784\", \"ticks\": \"\"}}, \"title\": {\"x\": 0.05}, \"updatemenudefaults\": {\"bgcolor\": \"#506784\", \"borderwidth\": 0}, \"xaxis\": {\"automargin\": true, \"gridcolor\": \"#283442\", \"linecolor\": \"#506784\", \"ticks\": \"\", \"title\": {\"standoff\": 15}, \"zerolinecolor\": \"#283442\", \"zerolinewidth\": 2}, \"yaxis\": {\"automargin\": true, \"gridcolor\": \"#283442\", \"linecolor\": \"#506784\", \"ticks\": \"\", \"title\": {\"standoff\": 15}, \"zerolinecolor\": \"#283442\", \"zerolinewidth\": 2}}}, \"title\": {\"text\": \"PSNR_DB | Groupped by quant_tech | dataframes\"}, \"violinmode\": \"group\", \"xaxis\": {\"anchor\": \"y\", \"domain\": [0.0, 1.0]}, \"yaxis\": {\"anchor\": \"x\", \"domain\": [0.0, 1.0], \"title\": {\"text\": \"psnr_db\"}}},\n",
              "                        {\"responsive\": true}\n",
              "                    ).then(function(){\n",
              "                            \n",
              "var gd = document.getElementById('9a379e76-cce6-4e0c-9281-bcbca7a76a9c');\n",
              "var x = new MutationObserver(function (mutations, observer) {{\n",
              "        var display = window.getComputedStyle(gd).display;\n",
              "        if (!display || display === 'none') {{\n",
              "            console.log([gd, 'removed!']);\n",
              "            Plotly.purge(gd);\n",
              "            observer.disconnect();\n",
              "        }}\n",
              "}});\n",
              "\n",
              "// Listen for the removal of the full notebook cells\n",
              "var notebookContainer = gd.closest('#notebook-container');\n",
              "if (notebookContainer) {{\n",
              "    x.observe(notebookContainer, {childList: true});\n",
              "}}\n",
              "\n",
              "// Listen for the clearing of the current output cell\n",
              "var outputEl = gd.closest('.output');\n",
              "if (outputEl) {{\n",
              "    x.observe(outputEl, {childList: true});\n",
              "}}\n",
              "\n",
              "                        })\n",
              "                };\n",
              "                \n",
              "            </script>\n",
              "        </div>\n",
              "</body>\n",
              "</html>"
            ]
          },
          "metadata": {
            "tags": []
          }
        }
      ]
    },
    {
      "cell_type": "code",
      "metadata": {
        "id": "D2jVWyaWhL3E",
        "outputId": "5d05a258-1559-4164-c6cd-13d8d83d100f",
        "colab": {
          "base_uri": "https://localhost:8080/"
        }
      },
      "source": [
        "def model_type_to_quant_tech_2(model_type):\n",
        "    if model_type == 'Basic': return model_type\n",
        "    quant_tech_2 = model_type.split(\"_\")[0]\n",
        "    value = int(float(model_type.split(\"_\")[1]))\n",
        "    if value != 0:\n",
        "        return quant_tech_2 + \"_\" + \"abs\"\n",
        "    return quant_tech_2 + \"_\" + \"rate\"\n",
        "df['quant_tech_2'] = list(map(model_type_to_quant_tech_2, df['model_type'].values))\n",
        "df[\"quant_tech_2\"].tail(5)\n",
        "# list(collections.Counter(df[\"quant_tech_2\"].values))\n",
        "list(set(df[\"quant_tech_2\"].values))"
      ],
      "execution_count": 70,
      "outputs": [
        {
          "output_type": "execute_result",
          "data": {
            "text/plain": [
              "['RandomUnstructured_rate',\n",
              " 'L1Unstructured_abs',\n",
              " 'Basic',\n",
              " 'L1Unstructured_rate',\n",
              " 'RandomUnstructured_abs']"
            ]
          },
          "metadata": {
            "tags": []
          },
          "execution_count": 70
        }
      ]
    },
    {
      "cell_type": "code",
      "metadata": {
        "id": "4hiHaDxTiv-5",
        "outputId": "f260b5dd-d092-4d69-e456-c59b3382cfb5",
        "colab": {
          "base_uri": "https://localhost:8080/",
          "height": 542
        }
      },
      "source": [
        "hue = 'quant_tech_2'; x = 'bpp'; y = 'psnr_db'\n",
        "fig = px.scatter(df[df[f\"{hue}\"] != 'Basic' ], x = f'{x}', y=f\"{y}\", color=f\"{hue}\", \n",
        "                 # marginal_y=\"violin\", marginal_x=\"box\", trendline=\"ols\",\n",
        "                 template=DASH_TEMPLATES_LIST[2])\n",
        "fig.update_layout(template = DASH_TEMPLATES_LIST[2], title_text=f'{y.upper()} | Groupped by {hue} | dataframes')"
      ],
      "execution_count": 71,
      "outputs": [
        {
          "output_type": "display_data",
          "data": {
            "text/html": [
              "<html>\n",
              "<head><meta charset=\"utf-8\" /></head>\n",
              "<body>\n",
              "    <div>\n",
              "            <script src=\"https://cdnjs.cloudflare.com/ajax/libs/mathjax/2.7.5/MathJax.js?config=TeX-AMS-MML_SVG\"></script><script type=\"text/javascript\">if (window.MathJax) {MathJax.Hub.Config({SVG: {font: \"STIX-Web\"}});}</script>\n",
              "                <script type=\"text/javascript\">window.PlotlyConfig = {MathJaxConfig: 'local'};</script>\n",
              "        <script src=\"https://cdn.plot.ly/plotly-latest.min.js\"></script>    \n",
              "            <div id=\"d287545a-95e7-45e4-8188-4d8e01157ee6\" class=\"plotly-graph-div\" style=\"height:525px; width:100%;\"></div>\n",
              "            <script type=\"text/javascript\">\n",
              "                \n",
              "                    window.PLOTLYENV=window.PLOTLYENV || {};\n",
              "                    \n",
              "                if (document.getElementById(\"d287545a-95e7-45e4-8188-4d8e01157ee6\")) {\n",
              "                    Plotly.newPlot(\n",
              "                        'd287545a-95e7-45e4-8188-4d8e01157ee6',\n",
              "                        [{\"hoverlabel\": {\"namelength\": 0}, \"hovertemplate\": \"quant_tech_2=L1Unstructured_rate<br>bpp=%{x}<br>psnr_db=%{y}\", \"legendgroup\": \"quant_tech_2=L1Unstructured_rate\", \"marker\": {\"color\": \"#636efa\", \"symbol\": \"circle\"}, \"mode\": \"markers\", \"name\": \"quant_tech_2=L1Unstructured_rate\", \"showlegend\": true, \"type\": \"scatter\", \"x\": [6.1182861328125, 6.1182861328125, 6.1182861328125, 6.1182861328125, 6.1182861328125, 6.1182861328125, 6.1182861328125, 6.1182861328125, 6.1182861328125, 6.1182861328125, 6.1182861328125, 6.1182861328125, 6.1182861328125, 6.1182861328125, 6.1182861328125, 6.1182861328125, 6.1182861328125, 6.1182861328125, 6.1182861328125, 6.1182861328125, 6.1182861328125, 6.1182861328125, 6.1182861328125, 6.1182861328125, 6.1182861328125, 6.1182861328125, 6.1182861328125, 6.1182861328125, 6.1182861328125, 6.1182861328125, 6.1182861328125, 6.1182861328125, 6.1182861328125, 6.1182861328125, 6.1182861328125, 6.1182861328125, 6.1182861328125, 6.1182861328125, 6.1182861328125, 6.1182861328125, 6.1182861328125, 6.1182861328125, 6.1182861328125, 6.1182861328125, 6.1182861328125, 6.1182861328125, 6.1182861328125, 6.1182861328125, 6.1182861328125, 6.1182861328125, 6.1182861328125, 6.1182861328125, 6.1182861328125, 6.1182861328125, 6.1182861328125, 6.1182861328125, 6.1182861328125, 6.1182861328125, 6.1182861328125, 6.1182861328125, 6.1182861328125, 6.1182861328125, 6.1182861328125, 6.1182861328125, 6.1182861328125, 6.1182861328125, 6.1182861328125, 6.1182861328125, 6.1182861328125, 6.1182861328125], \"xaxis\": \"x\", \"y\": [42.314138735521844, 42.314138735521844, 42.314138735521844, 42.314138735521844, 42.314138735521844, 41.40007707264003, 41.40007707264003, 41.40007707264003, 41.40007707264003, 41.40007707264003, 39.43563948084633, 39.43563948084633, 39.43563948084633, 39.43563948084633, 39.43563948084633, 37.28537698560946, 37.28537698560946, 37.28537698560946, 37.28537698560946, 37.28537698560946, 35.11083478776056, 35.11083478776056, 35.11083478776056, 35.11083478776056, 35.11083478776056, 27.03558793307416, 27.03558793307416, 27.03558793307416, 27.03558793307416, 27.03558793307416, 18.461622289892592, 18.461622289892592, 18.461622289892592, 18.461622289892592, 18.461622289892592, 14.392113621013552, 14.392113621013552, 14.392113621013552, 14.392113621013552, 14.392113621013552, 11.52402569329551, 11.52402569329551, 11.52402569329551, 11.52402569329551, 11.52402569329551, 9.834488892962508, 9.834488892962508, 9.834488892962508, 9.834488892962508, 9.834488892962508, 8.752722042742228, 8.752722042742228, 8.752722042742228, 8.752722042742228, 8.752722042742228, 10.186273526687408, 10.186273526687408, 10.186273526687408, 10.186273526687408, 10.186273526687408, 8.55742553802086, 8.55742553802086, 8.55742553802086, 8.55742553802086, 8.55742553802086, 10.093274856004804, 10.093274856004804, 10.093274856004804, 10.093274856004804, 10.093274856004804], \"yaxis\": \"y\"}, {\"hoverlabel\": {\"namelength\": 0}, \"hovertemplate\": \"quant_tech_2=L1Unstructured_abs<br>bpp=%{x}<br>psnr_db=%{y}\", \"legendgroup\": \"quant_tech_2=L1Unstructured_abs\", \"marker\": {\"color\": \"#EF553B\", \"symbol\": \"circle\"}, \"mode\": \"markers\", \"name\": \"quant_tech_2=L1Unstructured_abs\", \"showlegend\": true, \"type\": \"scatter\", \"x\": [6.1182861328125, 6.1182861328125, 6.1182861328125, 6.1182861328125, 6.1182861328125, 6.1182861328125, 6.1182861328125, 6.1182861328125, 6.1182861328125, 6.1182861328125, 6.1182861328125, 6.1182861328125, 6.1182861328125, 6.1182861328125, 6.1182861328125, 6.1182861328125, 6.1182861328125, 6.1182861328125, 6.1182861328125, 6.1182861328125, 6.1182861328125, 6.1182861328125, 6.1182861328125, 6.1182861328125, 6.1182861328125, 6.1182861328125, 6.1182861328125, 6.1182861328125, 6.1182861328125, 6.1182861328125, 6.1182861328125, 6.1182861328125, 6.1182861328125, 6.1182861328125, 6.1182861328125, 6.1182861328125, 6.1182861328125, 6.1182861328125, 6.1182861328125, 6.1182861328125, 6.1182861328125, 6.1182861328125, 6.1182861328125, 6.1182861328125, 6.1182861328125, 6.1182861328125, 6.1182861328125, 6.1182861328125, 6.1182861328125, 6.1182861328125, 6.1182861328125, 6.1182861328125, 6.1182861328125, 6.1182861328125, 6.1182861328125], \"xaxis\": \"x\", \"y\": [42.48164513286687, 42.48164513286687, 42.48164513286687, 42.48164513286687, 42.48164513286687, 42.48172103146271, 42.48172103146271, 42.48172103146271, 42.48172103146271, 42.48172103146271, 42.481647067408105, 42.481647067408105, 42.481647067408105, 42.481647067408105, 42.481647067408105, 42.48184781344155, 42.48184781344155, 42.48184781344155, 42.48184781344155, 42.48184781344155, 42.481808715520884, 42.481808715520884, 42.481808715520884, 42.481808715520884, 42.481808715520884, 42.483049006428466, 42.483049006428466, 42.483049006428466, 42.483049006428466, 42.483049006428466, 42.48346772117925, 42.48346772117925, 42.48346772117925, 42.48346772117925, 42.48346772117925, 42.47439232112222, 42.47439232112222, 42.47439232112222, 42.47439232112222, 42.47439232112222, 42.47217365172398, 42.47217365172398, 42.47217365172398, 42.47217365172398, 42.47217365172398, 42.45624812555904, 42.45624812555904, 42.45624812555904, 42.45624812555904, 42.45624812555904, 42.44086769479307, 42.44086769479307, 42.44086769479307, 42.44086769479307, 42.44086769479307], \"yaxis\": \"y\"}, {\"hoverlabel\": {\"namelength\": 0}, \"hovertemplate\": \"quant_tech_2=RandomUnstructured_rate<br>bpp=%{x}<br>psnr_db=%{y}\", \"legendgroup\": \"quant_tech_2=RandomUnstructured_rate\", \"marker\": {\"color\": \"#00cc96\", \"symbol\": \"circle\"}, \"mode\": \"markers\", \"name\": \"quant_tech_2=RandomUnstructured_rate\", \"showlegend\": true, \"type\": \"scatter\", \"x\": [6.1182861328125, 6.1182861328125, 6.1182861328125, 6.1182861328125, 6.1182861328125, 6.1182861328125, 6.1182861328125, 6.1182861328125, 6.1182861328125, 6.1182861328125, 6.1182861328125, 6.1182861328125, 6.1182861328125, 6.1182861328125, 6.1182861328125, 6.1182861328125, 6.1182861328125, 6.1182861328125, 6.1182861328125, 6.1182861328125, 6.1182861328125, 6.1182861328125, 6.1182861328125, 6.1182861328125, 6.1182861328125, 6.1182861328125, 6.1182861328125, 6.1182861328125, 6.1182861328125, 6.1182861328125, 6.1182861328125, 6.1182861328125, 6.1182861328125, 6.1182861328125, 6.1182861328125, 6.1182861328125, 6.1182861328125, 6.1182861328125, 6.1182861328125, 6.1182861328125, 6.1182861328125, 6.1182861328125, 6.1182861328125, 6.1182861328125, 6.1182861328125, 6.1182861328125, 6.1182861328125, 6.1182861328125, 6.1182861328125, 6.1182861328125, 6.1182861328125, 6.1182861328125, 6.1182861328125, 6.1182861328125, 6.1182861328125, 6.1182861328125, 6.1182861328125, 6.1182861328125, 6.1182861328125, 6.1182861328125, 6.1182861328125, 6.1182861328125, 6.1182861328125, 6.1182861328125, 6.1182861328125, 6.1182861328125, 6.1182861328125, 6.1182861328125, 6.1182861328125, 6.1182861328125], \"xaxis\": \"x\", \"y\": [13.888062707907618, 12.972257806851966, 17.250423377776244, 16.542897674373403, 13.766441402255733, 13.41326306969365, 12.950966740174223, 12.775590597198352, 15.03883000007005, 12.58556684884483, 11.722980417672893, 12.143707238778457, 12.494316322850699, 14.353942911933228, 11.567169197201583, 11.688719934008533, 12.100837863629142, 11.498655704316068, 12.892982985005059, 11.221122761657874, 11.288369746043081, 11.480481569417197, 11.36428416675904, 11.89365019413376, 11.128717896530683, 9.690108091623289, 10.687123543065155, 10.309659230951551, 10.074792225393384, 10.027437375805624, 10.539380771579923, 10.677537696226597, 10.694132306828406, 9.191104809982845, 9.745137183341585, 10.864366247853486, 10.744840519563716, 9.77587903078988, 9.657119696678052, 9.814441478137056, 10.113970970922297, 10.921294904452832, 8.707393016819037, 9.018648520845273, 9.918433792192102, 10.650622370214327, 11.067093907756519, 8.069490737794826, 8.68961637111886, 9.757248513198586, 9.893115995765958, 10.861995080194172, 9.415115689739675, 9.818263807729085, 10.5726587082569, 10.126335046879792, 10.655656681713825, 9.739614126215567, 9.945778770682068, 10.08552404830277, 10.323052732675455, 10.541432466886798, 9.941357837325898, 10.304319890709333, 10.152214485565663, 9.971337399810512, 10.239774504134896, 9.858529093102756, 10.706877820825875, 9.74283247920084], \"yaxis\": \"y\"}, {\"hoverlabel\": {\"namelength\": 0}, \"hovertemplate\": \"quant_tech_2=RandomUnstructured_abs<br>bpp=%{x}<br>psnr_db=%{y}\", \"legendgroup\": \"quant_tech_2=RandomUnstructured_abs\", \"marker\": {\"color\": \"#ab63fa\", \"symbol\": \"circle\"}, \"mode\": \"markers\", \"name\": \"quant_tech_2=RandomUnstructured_abs\", \"showlegend\": true, \"type\": \"scatter\", \"x\": [6.1182861328125, 6.1182861328125, 6.1182861328125, 6.1182861328125, 6.1182861328125, 6.1182861328125, 6.1182861328125, 6.1182861328125, 6.1182861328125, 6.1182861328125, 6.1182861328125, 6.1182861328125, 6.1182861328125, 6.1182861328125, 6.1182861328125, 6.1182861328125, 6.1182861328125, 6.1182861328125, 6.1182861328125, 6.1182861328125, 6.1182861328125, 6.1182861328125, 6.1182861328125, 6.1182861328125, 6.1182861328125, 6.1182861328125, 6.1182861328125, 6.1182861328125, 6.1182861328125, 6.1182861328125, 6.1182861328125, 6.1182861328125, 6.1182861328125, 6.1182861328125, 6.1182861328125, 6.1182861328125, 6.1182861328125, 6.1182861328125, 6.1182861328125, 6.1182861328125, 6.1182861328125, 6.1182861328125, 6.1182861328125, 6.1182861328125, 6.1182861328125, 6.1182861328125, 6.1182861328125, 6.1182861328125, 6.1182861328125, 6.1182861328125, 6.1182861328125, 6.1182861328125, 6.1182861328125, 6.1182861328125, 6.1182861328125], \"xaxis\": \"x\", \"y\": [29.436422703919728, 33.6469076545411, 31.374388400538628, 34.2872423226411, 27.669956322878893, 29.43215807713218, 33.648144868993185, 31.176459069685624, 29.00660078277035, 27.666588521970603, 27.430375516946654, 31.347535925632585, 28.789415855209185, 26.06255577532254, 27.282581990397823, 27.423175725982297, 30.993109686202573, 28.585087462173856, 25.981145504476025, 26.075519974247527, 26.56684893082356, 30.94111597566033, 27.09948618002253, 24.141520279385894, 25.779523531085285, 22.738357245410313, 25.853702019458638, 25.548212083344577, 22.37827160639621, 25.461201225105988, 21.759411733602967, 24.836820528121635, 25.047992090173864, 22.346785885689062, 23.31727320647216, 21.34161991111148, 14.449764758586916, 23.13575439954551, 21.726411529621494, 21.057279862871283, 20.960191221419446, 14.413997566937716, 22.880932581048867, 21.73416917861237, 20.756579888310544, 20.391636429214156, 14.353417318888017, 21.775848755775847, 21.376757044123174, 20.371511866312826, 14.632899920727303, 14.31531654019928, 19.704188749798263, 20.0088954748227, 20.007628819432455], \"yaxis\": \"y\"}],\n",
              "                        {\"legend\": {\"tracegroupgap\": 0}, \"margin\": {\"t\": 60}, \"template\": {\"data\": {\"bar\": [{\"error_x\": {\"color\": \"#f2f5fa\"}, \"error_y\": {\"color\": \"#f2f5fa\"}, \"marker\": {\"line\": {\"color\": \"rgb(17,17,17)\", \"width\": 0.5}}, \"type\": \"bar\"}], \"barpolar\": [{\"marker\": {\"line\": {\"color\": \"rgb(17,17,17)\", \"width\": 0.5}}, \"type\": \"barpolar\"}], \"carpet\": [{\"aaxis\": {\"endlinecolor\": \"#A2B1C6\", \"gridcolor\": \"#506784\", \"linecolor\": \"#506784\", \"minorgridcolor\": \"#506784\", \"startlinecolor\": \"#A2B1C6\"}, \"baxis\": {\"endlinecolor\": \"#A2B1C6\", \"gridcolor\": \"#506784\", \"linecolor\": \"#506784\", \"minorgridcolor\": \"#506784\", \"startlinecolor\": \"#A2B1C6\"}, \"type\": \"carpet\"}], \"choropleth\": [{\"colorbar\": {\"outlinewidth\": 0, \"ticks\": \"\"}, \"type\": \"choropleth\"}], \"contour\": [{\"colorbar\": {\"outlinewidth\": 0, \"ticks\": \"\"}, \"colorscale\": [[0.0, \"#0d0887\"], [0.1111111111111111, \"#46039f\"], [0.2222222222222222, \"#7201a8\"], [0.3333333333333333, \"#9c179e\"], [0.4444444444444444, \"#bd3786\"], [0.5555555555555556, \"#d8576b\"], [0.6666666666666666, \"#ed7953\"], [0.7777777777777778, \"#fb9f3a\"], [0.8888888888888888, \"#fdca26\"], [1.0, \"#f0f921\"]], \"type\": \"contour\"}], \"contourcarpet\": [{\"colorbar\": {\"outlinewidth\": 0, \"ticks\": \"\"}, \"type\": \"contourcarpet\"}], \"heatmap\": [{\"colorbar\": {\"outlinewidth\": 0, \"ticks\": \"\"}, \"colorscale\": [[0.0, \"#0d0887\"], [0.1111111111111111, \"#46039f\"], [0.2222222222222222, \"#7201a8\"], [0.3333333333333333, \"#9c179e\"], [0.4444444444444444, \"#bd3786\"], [0.5555555555555556, \"#d8576b\"], [0.6666666666666666, \"#ed7953\"], [0.7777777777777778, \"#fb9f3a\"], [0.8888888888888888, \"#fdca26\"], [1.0, \"#f0f921\"]], \"type\": \"heatmap\"}], \"heatmapgl\": [{\"colorbar\": {\"outlinewidth\": 0, \"ticks\": \"\"}, \"colorscale\": [[0.0, \"#0d0887\"], [0.1111111111111111, \"#46039f\"], [0.2222222222222222, \"#7201a8\"], [0.3333333333333333, \"#9c179e\"], [0.4444444444444444, \"#bd3786\"], [0.5555555555555556, \"#d8576b\"], [0.6666666666666666, \"#ed7953\"], [0.7777777777777778, \"#fb9f3a\"], [0.8888888888888888, \"#fdca26\"], [1.0, \"#f0f921\"]], \"type\": \"heatmapgl\"}], \"histogram\": [{\"marker\": {\"colorbar\": {\"outlinewidth\": 0, \"ticks\": \"\"}}, \"type\": \"histogram\"}], \"histogram2d\": [{\"colorbar\": {\"outlinewidth\": 0, \"ticks\": \"\"}, \"colorscale\": [[0.0, \"#0d0887\"], [0.1111111111111111, \"#46039f\"], [0.2222222222222222, \"#7201a8\"], [0.3333333333333333, \"#9c179e\"], [0.4444444444444444, \"#bd3786\"], [0.5555555555555556, \"#d8576b\"], [0.6666666666666666, \"#ed7953\"], [0.7777777777777778, \"#fb9f3a\"], [0.8888888888888888, \"#fdca26\"], [1.0, \"#f0f921\"]], \"type\": \"histogram2d\"}], \"histogram2dcontour\": [{\"colorbar\": {\"outlinewidth\": 0, \"ticks\": \"\"}, \"colorscale\": [[0.0, \"#0d0887\"], [0.1111111111111111, \"#46039f\"], [0.2222222222222222, \"#7201a8\"], [0.3333333333333333, \"#9c179e\"], [0.4444444444444444, \"#bd3786\"], [0.5555555555555556, \"#d8576b\"], [0.6666666666666666, \"#ed7953\"], [0.7777777777777778, \"#fb9f3a\"], [0.8888888888888888, \"#fdca26\"], [1.0, \"#f0f921\"]], \"type\": \"histogram2dcontour\"}], \"mesh3d\": [{\"colorbar\": {\"outlinewidth\": 0, \"ticks\": \"\"}, \"type\": \"mesh3d\"}], \"parcoords\": [{\"line\": {\"colorbar\": {\"outlinewidth\": 0, \"ticks\": \"\"}}, \"type\": \"parcoords\"}], \"pie\": [{\"automargin\": true, \"type\": \"pie\"}], \"scatter\": [{\"marker\": {\"line\": {\"color\": \"#283442\"}}, \"type\": \"scatter\"}], \"scatter3d\": [{\"line\": {\"colorbar\": {\"outlinewidth\": 0, \"ticks\": \"\"}}, \"marker\": {\"colorbar\": {\"outlinewidth\": 0, \"ticks\": \"\"}}, \"type\": \"scatter3d\"}], \"scattercarpet\": [{\"marker\": {\"colorbar\": {\"outlinewidth\": 0, \"ticks\": \"\"}}, \"type\": \"scattercarpet\"}], \"scattergeo\": [{\"marker\": {\"colorbar\": {\"outlinewidth\": 0, \"ticks\": \"\"}}, \"type\": \"scattergeo\"}], \"scattergl\": [{\"marker\": {\"line\": {\"color\": \"#283442\"}}, \"type\": \"scattergl\"}], \"scattermapbox\": [{\"marker\": {\"colorbar\": {\"outlinewidth\": 0, \"ticks\": \"\"}}, \"type\": \"scattermapbox\"}], \"scatterpolar\": [{\"marker\": {\"colorbar\": {\"outlinewidth\": 0, \"ticks\": \"\"}}, \"type\": \"scatterpolar\"}], \"scatterpolargl\": [{\"marker\": {\"colorbar\": {\"outlinewidth\": 0, \"ticks\": \"\"}}, \"type\": \"scatterpolargl\"}], \"scatterternary\": [{\"marker\": {\"colorbar\": {\"outlinewidth\": 0, \"ticks\": \"\"}}, \"type\": \"scatterternary\"}], \"surface\": [{\"colorbar\": {\"outlinewidth\": 0, \"ticks\": \"\"}, \"colorscale\": [[0.0, \"#0d0887\"], [0.1111111111111111, \"#46039f\"], [0.2222222222222222, \"#7201a8\"], [0.3333333333333333, \"#9c179e\"], [0.4444444444444444, \"#bd3786\"], [0.5555555555555556, \"#d8576b\"], [0.6666666666666666, \"#ed7953\"], [0.7777777777777778, \"#fb9f3a\"], [0.8888888888888888, \"#fdca26\"], [1.0, \"#f0f921\"]], \"type\": \"surface\"}], \"table\": [{\"cells\": {\"fill\": {\"color\": \"#506784\"}, \"line\": {\"color\": \"rgb(17,17,17)\"}}, \"header\": {\"fill\": {\"color\": \"#2a3f5f\"}, \"line\": {\"color\": \"rgb(17,17,17)\"}}, \"type\": \"table\"}]}, \"layout\": {\"annotationdefaults\": {\"arrowcolor\": \"#f2f5fa\", \"arrowhead\": 0, \"arrowwidth\": 1}, \"coloraxis\": {\"colorbar\": {\"outlinewidth\": 0, \"ticks\": \"\"}}, \"colorscale\": {\"diverging\": [[0, \"#8e0152\"], [0.1, \"#c51b7d\"], [0.2, \"#de77ae\"], [0.3, \"#f1b6da\"], [0.4, \"#fde0ef\"], [0.5, \"#f7f7f7\"], [0.6, \"#e6f5d0\"], [0.7, \"#b8e186\"], [0.8, \"#7fbc41\"], [0.9, \"#4d9221\"], [1, \"#276419\"]], \"sequential\": [[0.0, \"#0d0887\"], [0.1111111111111111, \"#46039f\"], [0.2222222222222222, \"#7201a8\"], [0.3333333333333333, \"#9c179e\"], [0.4444444444444444, \"#bd3786\"], [0.5555555555555556, \"#d8576b\"], [0.6666666666666666, \"#ed7953\"], [0.7777777777777778, \"#fb9f3a\"], [0.8888888888888888, \"#fdca26\"], [1.0, \"#f0f921\"]], \"sequentialminus\": [[0.0, \"#0d0887\"], [0.1111111111111111, \"#46039f\"], [0.2222222222222222, \"#7201a8\"], [0.3333333333333333, \"#9c179e\"], [0.4444444444444444, \"#bd3786\"], [0.5555555555555556, \"#d8576b\"], [0.6666666666666666, \"#ed7953\"], [0.7777777777777778, \"#fb9f3a\"], [0.8888888888888888, \"#fdca26\"], [1.0, \"#f0f921\"]]}, \"colorway\": [\"#636efa\", \"#EF553B\", \"#00cc96\", \"#ab63fa\", \"#FFA15A\", \"#19d3f3\", \"#FF6692\", \"#B6E880\", \"#FF97FF\", \"#FECB52\"], \"font\": {\"color\": \"#f2f5fa\"}, \"geo\": {\"bgcolor\": \"rgb(17,17,17)\", \"lakecolor\": \"rgb(17,17,17)\", \"landcolor\": \"rgb(17,17,17)\", \"showlakes\": true, \"showland\": true, \"subunitcolor\": \"#506784\"}, \"hoverlabel\": {\"align\": \"left\"}, \"hovermode\": \"closest\", \"mapbox\": {\"style\": \"dark\"}, \"paper_bgcolor\": \"rgb(17,17,17)\", \"plot_bgcolor\": \"rgb(17,17,17)\", \"polar\": {\"angularaxis\": {\"gridcolor\": \"#506784\", \"linecolor\": \"#506784\", \"ticks\": \"\"}, \"bgcolor\": \"rgb(17,17,17)\", \"radialaxis\": {\"gridcolor\": \"#506784\", \"linecolor\": \"#506784\", \"ticks\": \"\"}}, \"scene\": {\"xaxis\": {\"backgroundcolor\": \"rgb(17,17,17)\", \"gridcolor\": \"#506784\", \"gridwidth\": 2, \"linecolor\": \"#506784\", \"showbackground\": true, \"ticks\": \"\", \"zerolinecolor\": \"#C8D4E3\"}, \"yaxis\": {\"backgroundcolor\": \"rgb(17,17,17)\", \"gridcolor\": \"#506784\", \"gridwidth\": 2, \"linecolor\": \"#506784\", \"showbackground\": true, \"ticks\": \"\", \"zerolinecolor\": \"#C8D4E3\"}, \"zaxis\": {\"backgroundcolor\": \"rgb(17,17,17)\", \"gridcolor\": \"#506784\", \"gridwidth\": 2, \"linecolor\": \"#506784\", \"showbackground\": true, \"ticks\": \"\", \"zerolinecolor\": \"#C8D4E3\"}}, \"shapedefaults\": {\"line\": {\"color\": \"#f2f5fa\"}}, \"sliderdefaults\": {\"bgcolor\": \"#C8D4E3\", \"bordercolor\": \"rgb(17,17,17)\", \"borderwidth\": 1, \"tickwidth\": 0}, \"ternary\": {\"aaxis\": {\"gridcolor\": \"#506784\", \"linecolor\": \"#506784\", \"ticks\": \"\"}, \"baxis\": {\"gridcolor\": \"#506784\", \"linecolor\": \"#506784\", \"ticks\": \"\"}, \"bgcolor\": \"rgb(17,17,17)\", \"caxis\": {\"gridcolor\": \"#506784\", \"linecolor\": \"#506784\", \"ticks\": \"\"}}, \"title\": {\"x\": 0.05}, \"updatemenudefaults\": {\"bgcolor\": \"#506784\", \"borderwidth\": 0}, \"xaxis\": {\"automargin\": true, \"gridcolor\": \"#283442\", \"linecolor\": \"#506784\", \"ticks\": \"\", \"title\": {\"standoff\": 15}, \"zerolinecolor\": \"#283442\", \"zerolinewidth\": 2}, \"yaxis\": {\"automargin\": true, \"gridcolor\": \"#283442\", \"linecolor\": \"#506784\", \"ticks\": \"\", \"title\": {\"standoff\": 15}, \"zerolinecolor\": \"#283442\", \"zerolinewidth\": 2}}}, \"title\": {\"text\": \"PSNR_DB | Groupped by quant_tech_2 | dataframes\"}, \"xaxis\": {\"anchor\": \"y\", \"domain\": [0.0, 1.0], \"title\": {\"text\": \"bpp\"}}, \"yaxis\": {\"anchor\": \"x\", \"domain\": [0.0, 1.0], \"title\": {\"text\": \"psnr_db\"}}},\n",
              "                        {\"responsive\": true}\n",
              "                    ).then(function(){\n",
              "                            \n",
              "var gd = document.getElementById('d287545a-95e7-45e4-8188-4d8e01157ee6');\n",
              "var x = new MutationObserver(function (mutations, observer) {{\n",
              "        var display = window.getComputedStyle(gd).display;\n",
              "        if (!display || display === 'none') {{\n",
              "            console.log([gd, 'removed!']);\n",
              "            Plotly.purge(gd);\n",
              "            observer.disconnect();\n",
              "        }}\n",
              "}});\n",
              "\n",
              "// Listen for the removal of the full notebook cells\n",
              "var notebookContainer = gd.closest('#notebook-container');\n",
              "if (notebookContainer) {{\n",
              "    x.observe(notebookContainer, {childList: true});\n",
              "}}\n",
              "\n",
              "// Listen for the clearing of the current output cell\n",
              "var outputEl = gd.closest('.output');\n",
              "if (outputEl) {{\n",
              "    x.observe(outputEl, {childList: true});\n",
              "}}\n",
              "\n",
              "                        })\n",
              "                };\n",
              "                \n",
              "            </script>\n",
              "        </div>\n",
              "</body>\n",
              "</html>"
            ]
          },
          "metadata": {
            "tags": []
          }
        }
      ]
    },
    {
      "cell_type": "code",
      "metadata": {
        "id": "Bxiot7qsisM9",
        "outputId": "0a708c1b-d2bc-448a-a0b4-4f9356d7f35b",
        "colab": {
          "base_uri": "https://localhost:8080/",
          "height": 542
        }
      },
      "source": [
        "hue = 'quant_tech_2'; x = 'bpp'; y = 'psnr_db'\n",
        "fig = px.box(df[df[f\"{hue}\"] != 'Basic' ], y=f\"{y}\", color=f\"{hue}\", \n",
        "                 # marginal_y=\"violin\", marginal_x=\"box\", trendline=\"ols\",\n",
        "                 template=DASH_TEMPLATES_LIST[2])\n",
        "fig.update_layout(template = DASH_TEMPLATES_LIST[2], title_text=f'{y.upper()} | Groupped by {hue} | dataframes')"
      ],
      "execution_count": 72,
      "outputs": [
        {
          "output_type": "display_data",
          "data": {
            "text/html": [
              "<html>\n",
              "<head><meta charset=\"utf-8\" /></head>\n",
              "<body>\n",
              "    <div>\n",
              "            <script src=\"https://cdnjs.cloudflare.com/ajax/libs/mathjax/2.7.5/MathJax.js?config=TeX-AMS-MML_SVG\"></script><script type=\"text/javascript\">if (window.MathJax) {MathJax.Hub.Config({SVG: {font: \"STIX-Web\"}});}</script>\n",
              "                <script type=\"text/javascript\">window.PlotlyConfig = {MathJaxConfig: 'local'};</script>\n",
              "        <script src=\"https://cdn.plot.ly/plotly-latest.min.js\"></script>    \n",
              "            <div id=\"95eb4ebf-48c4-423a-b22d-340ca0c6f28b\" class=\"plotly-graph-div\" style=\"height:525px; width:100%;\"></div>\n",
              "            <script type=\"text/javascript\">\n",
              "                \n",
              "                    window.PLOTLYENV=window.PLOTLYENV || {};\n",
              "                    \n",
              "                if (document.getElementById(\"95eb4ebf-48c4-423a-b22d-340ca0c6f28b\")) {\n",
              "                    Plotly.newPlot(\n",
              "                        '95eb4ebf-48c4-423a-b22d-340ca0c6f28b',\n",
              "                        [{\"alignmentgroup\": \"True\", \"hoverlabel\": {\"namelength\": 0}, \"hovertemplate\": \"quant_tech_2=L1Unstructured_rate<br>psnr_db=%{y}\", \"legendgroup\": \"quant_tech_2=L1Unstructured_rate\", \"marker\": {\"color\": \"#636efa\"}, \"name\": \"quant_tech_2=L1Unstructured_rate\", \"notched\": false, \"offsetgroup\": \"quant_tech_2=L1Unstructured_rate\", \"orientation\": \"v\", \"showlegend\": true, \"type\": \"box\", \"x0\": \" \", \"xaxis\": \"x\", \"y\": [42.314138735521844, 42.314138735521844, 42.314138735521844, 42.314138735521844, 42.314138735521844, 41.40007707264003, 41.40007707264003, 41.40007707264003, 41.40007707264003, 41.40007707264003, 39.43563948084633, 39.43563948084633, 39.43563948084633, 39.43563948084633, 39.43563948084633, 37.28537698560946, 37.28537698560946, 37.28537698560946, 37.28537698560946, 37.28537698560946, 35.11083478776056, 35.11083478776056, 35.11083478776056, 35.11083478776056, 35.11083478776056, 27.03558793307416, 27.03558793307416, 27.03558793307416, 27.03558793307416, 27.03558793307416, 18.461622289892592, 18.461622289892592, 18.461622289892592, 18.461622289892592, 18.461622289892592, 14.392113621013552, 14.392113621013552, 14.392113621013552, 14.392113621013552, 14.392113621013552, 11.52402569329551, 11.52402569329551, 11.52402569329551, 11.52402569329551, 11.52402569329551, 9.834488892962508, 9.834488892962508, 9.834488892962508, 9.834488892962508, 9.834488892962508, 8.752722042742228, 8.752722042742228, 8.752722042742228, 8.752722042742228, 8.752722042742228, 10.186273526687408, 10.186273526687408, 10.186273526687408, 10.186273526687408, 10.186273526687408, 8.55742553802086, 8.55742553802086, 8.55742553802086, 8.55742553802086, 8.55742553802086, 10.093274856004804, 10.093274856004804, 10.093274856004804, 10.093274856004804, 10.093274856004804], \"y0\": \" \", \"yaxis\": \"y\"}, {\"alignmentgroup\": \"True\", \"hoverlabel\": {\"namelength\": 0}, \"hovertemplate\": \"quant_tech_2=L1Unstructured_abs<br>psnr_db=%{y}\", \"legendgroup\": \"quant_tech_2=L1Unstructured_abs\", \"marker\": {\"color\": \"#EF553B\"}, \"name\": \"quant_tech_2=L1Unstructured_abs\", \"notched\": false, \"offsetgroup\": \"quant_tech_2=L1Unstructured_abs\", \"orientation\": \"v\", \"showlegend\": true, \"type\": \"box\", \"x0\": \" \", \"xaxis\": \"x\", \"y\": [42.48164513286687, 42.48164513286687, 42.48164513286687, 42.48164513286687, 42.48164513286687, 42.48172103146271, 42.48172103146271, 42.48172103146271, 42.48172103146271, 42.48172103146271, 42.481647067408105, 42.481647067408105, 42.481647067408105, 42.481647067408105, 42.481647067408105, 42.48184781344155, 42.48184781344155, 42.48184781344155, 42.48184781344155, 42.48184781344155, 42.481808715520884, 42.481808715520884, 42.481808715520884, 42.481808715520884, 42.481808715520884, 42.483049006428466, 42.483049006428466, 42.483049006428466, 42.483049006428466, 42.483049006428466, 42.48346772117925, 42.48346772117925, 42.48346772117925, 42.48346772117925, 42.48346772117925, 42.47439232112222, 42.47439232112222, 42.47439232112222, 42.47439232112222, 42.47439232112222, 42.47217365172398, 42.47217365172398, 42.47217365172398, 42.47217365172398, 42.47217365172398, 42.45624812555904, 42.45624812555904, 42.45624812555904, 42.45624812555904, 42.45624812555904, 42.44086769479307, 42.44086769479307, 42.44086769479307, 42.44086769479307, 42.44086769479307], \"y0\": \" \", \"yaxis\": \"y\"}, {\"alignmentgroup\": \"True\", \"hoverlabel\": {\"namelength\": 0}, \"hovertemplate\": \"quant_tech_2=RandomUnstructured_rate<br>psnr_db=%{y}\", \"legendgroup\": \"quant_tech_2=RandomUnstructured_rate\", \"marker\": {\"color\": \"#00cc96\"}, \"name\": \"quant_tech_2=RandomUnstructured_rate\", \"notched\": false, \"offsetgroup\": \"quant_tech_2=RandomUnstructured_rate\", \"orientation\": \"v\", \"showlegend\": true, \"type\": \"box\", \"x0\": \" \", \"xaxis\": \"x\", \"y\": [13.888062707907618, 12.972257806851966, 17.250423377776244, 16.542897674373403, 13.766441402255733, 13.41326306969365, 12.950966740174223, 12.775590597198352, 15.03883000007005, 12.58556684884483, 11.722980417672893, 12.143707238778457, 12.494316322850699, 14.353942911933228, 11.567169197201583, 11.688719934008533, 12.100837863629142, 11.498655704316068, 12.892982985005059, 11.221122761657874, 11.288369746043081, 11.480481569417197, 11.36428416675904, 11.89365019413376, 11.128717896530683, 9.690108091623289, 10.687123543065155, 10.309659230951551, 10.074792225393384, 10.027437375805624, 10.539380771579923, 10.677537696226597, 10.694132306828406, 9.191104809982845, 9.745137183341585, 10.864366247853486, 10.744840519563716, 9.77587903078988, 9.657119696678052, 9.814441478137056, 10.113970970922297, 10.921294904452832, 8.707393016819037, 9.018648520845273, 9.918433792192102, 10.650622370214327, 11.067093907756519, 8.069490737794826, 8.68961637111886, 9.757248513198586, 9.893115995765958, 10.861995080194172, 9.415115689739675, 9.818263807729085, 10.5726587082569, 10.126335046879792, 10.655656681713825, 9.739614126215567, 9.945778770682068, 10.08552404830277, 10.323052732675455, 10.541432466886798, 9.941357837325898, 10.304319890709333, 10.152214485565663, 9.971337399810512, 10.239774504134896, 9.858529093102756, 10.706877820825875, 9.74283247920084], \"y0\": \" \", \"yaxis\": \"y\"}, {\"alignmentgroup\": \"True\", \"hoverlabel\": {\"namelength\": 0}, \"hovertemplate\": \"quant_tech_2=RandomUnstructured_abs<br>psnr_db=%{y}\", \"legendgroup\": \"quant_tech_2=RandomUnstructured_abs\", \"marker\": {\"color\": \"#ab63fa\"}, \"name\": \"quant_tech_2=RandomUnstructured_abs\", \"notched\": false, \"offsetgroup\": \"quant_tech_2=RandomUnstructured_abs\", \"orientation\": \"v\", \"showlegend\": true, \"type\": \"box\", \"x0\": \" \", \"xaxis\": \"x\", \"y\": [29.436422703919728, 33.6469076545411, 31.374388400538628, 34.2872423226411, 27.669956322878893, 29.43215807713218, 33.648144868993185, 31.176459069685624, 29.00660078277035, 27.666588521970603, 27.430375516946654, 31.347535925632585, 28.789415855209185, 26.06255577532254, 27.282581990397823, 27.423175725982297, 30.993109686202573, 28.585087462173856, 25.981145504476025, 26.075519974247527, 26.56684893082356, 30.94111597566033, 27.09948618002253, 24.141520279385894, 25.779523531085285, 22.738357245410313, 25.853702019458638, 25.548212083344577, 22.37827160639621, 25.461201225105988, 21.759411733602967, 24.836820528121635, 25.047992090173864, 22.346785885689062, 23.31727320647216, 21.34161991111148, 14.449764758586916, 23.13575439954551, 21.726411529621494, 21.057279862871283, 20.960191221419446, 14.413997566937716, 22.880932581048867, 21.73416917861237, 20.756579888310544, 20.391636429214156, 14.353417318888017, 21.775848755775847, 21.376757044123174, 20.371511866312826, 14.632899920727303, 14.31531654019928, 19.704188749798263, 20.0088954748227, 20.007628819432455], \"y0\": \" \", \"yaxis\": \"y\"}],\n",
              "                        {\"boxmode\": \"group\", \"legend\": {\"tracegroupgap\": 0}, \"margin\": {\"t\": 60}, \"template\": {\"data\": {\"bar\": [{\"error_x\": {\"color\": \"#f2f5fa\"}, \"error_y\": {\"color\": \"#f2f5fa\"}, \"marker\": {\"line\": {\"color\": \"rgb(17,17,17)\", \"width\": 0.5}}, \"type\": \"bar\"}], \"barpolar\": [{\"marker\": {\"line\": {\"color\": \"rgb(17,17,17)\", \"width\": 0.5}}, \"type\": \"barpolar\"}], \"carpet\": [{\"aaxis\": {\"endlinecolor\": \"#A2B1C6\", \"gridcolor\": \"#506784\", \"linecolor\": \"#506784\", \"minorgridcolor\": \"#506784\", \"startlinecolor\": \"#A2B1C6\"}, \"baxis\": {\"endlinecolor\": \"#A2B1C6\", \"gridcolor\": \"#506784\", \"linecolor\": \"#506784\", \"minorgridcolor\": \"#506784\", \"startlinecolor\": \"#A2B1C6\"}, \"type\": \"carpet\"}], \"choropleth\": [{\"colorbar\": {\"outlinewidth\": 0, \"ticks\": \"\"}, \"type\": \"choropleth\"}], \"contour\": [{\"colorbar\": {\"outlinewidth\": 0, \"ticks\": \"\"}, \"colorscale\": [[0.0, \"#0d0887\"], [0.1111111111111111, \"#46039f\"], [0.2222222222222222, \"#7201a8\"], [0.3333333333333333, \"#9c179e\"], [0.4444444444444444, \"#bd3786\"], [0.5555555555555556, \"#d8576b\"], [0.6666666666666666, \"#ed7953\"], [0.7777777777777778, \"#fb9f3a\"], [0.8888888888888888, \"#fdca26\"], [1.0, \"#f0f921\"]], \"type\": \"contour\"}], \"contourcarpet\": [{\"colorbar\": {\"outlinewidth\": 0, \"ticks\": \"\"}, \"type\": \"contourcarpet\"}], \"heatmap\": [{\"colorbar\": {\"outlinewidth\": 0, \"ticks\": \"\"}, \"colorscale\": [[0.0, \"#0d0887\"], [0.1111111111111111, \"#46039f\"], [0.2222222222222222, \"#7201a8\"], [0.3333333333333333, \"#9c179e\"], [0.4444444444444444, \"#bd3786\"], [0.5555555555555556, \"#d8576b\"], [0.6666666666666666, \"#ed7953\"], [0.7777777777777778, \"#fb9f3a\"], [0.8888888888888888, \"#fdca26\"], [1.0, \"#f0f921\"]], \"type\": \"heatmap\"}], \"heatmapgl\": [{\"colorbar\": {\"outlinewidth\": 0, \"ticks\": \"\"}, \"colorscale\": [[0.0, \"#0d0887\"], [0.1111111111111111, \"#46039f\"], [0.2222222222222222, \"#7201a8\"], [0.3333333333333333, \"#9c179e\"], [0.4444444444444444, \"#bd3786\"], [0.5555555555555556, \"#d8576b\"], [0.6666666666666666, \"#ed7953\"], [0.7777777777777778, \"#fb9f3a\"], [0.8888888888888888, \"#fdca26\"], [1.0, \"#f0f921\"]], \"type\": \"heatmapgl\"}], \"histogram\": [{\"marker\": {\"colorbar\": {\"outlinewidth\": 0, \"ticks\": \"\"}}, \"type\": \"histogram\"}], \"histogram2d\": [{\"colorbar\": {\"outlinewidth\": 0, \"ticks\": \"\"}, \"colorscale\": [[0.0, \"#0d0887\"], [0.1111111111111111, \"#46039f\"], [0.2222222222222222, \"#7201a8\"], [0.3333333333333333, \"#9c179e\"], [0.4444444444444444, \"#bd3786\"], [0.5555555555555556, \"#d8576b\"], [0.6666666666666666, \"#ed7953\"], [0.7777777777777778, \"#fb9f3a\"], [0.8888888888888888, \"#fdca26\"], [1.0, \"#f0f921\"]], \"type\": \"histogram2d\"}], \"histogram2dcontour\": [{\"colorbar\": {\"outlinewidth\": 0, \"ticks\": \"\"}, \"colorscale\": [[0.0, \"#0d0887\"], [0.1111111111111111, \"#46039f\"], [0.2222222222222222, \"#7201a8\"], [0.3333333333333333, \"#9c179e\"], [0.4444444444444444, \"#bd3786\"], [0.5555555555555556, \"#d8576b\"], [0.6666666666666666, \"#ed7953\"], [0.7777777777777778, \"#fb9f3a\"], [0.8888888888888888, \"#fdca26\"], [1.0, \"#f0f921\"]], \"type\": \"histogram2dcontour\"}], \"mesh3d\": [{\"colorbar\": {\"outlinewidth\": 0, \"ticks\": \"\"}, \"type\": \"mesh3d\"}], \"parcoords\": [{\"line\": {\"colorbar\": {\"outlinewidth\": 0, \"ticks\": \"\"}}, \"type\": \"parcoords\"}], \"pie\": [{\"automargin\": true, \"type\": \"pie\"}], \"scatter\": [{\"marker\": {\"line\": {\"color\": \"#283442\"}}, \"type\": \"scatter\"}], \"scatter3d\": [{\"line\": {\"colorbar\": {\"outlinewidth\": 0, \"ticks\": \"\"}}, \"marker\": {\"colorbar\": {\"outlinewidth\": 0, \"ticks\": \"\"}}, \"type\": \"scatter3d\"}], \"scattercarpet\": [{\"marker\": {\"colorbar\": {\"outlinewidth\": 0, \"ticks\": \"\"}}, \"type\": \"scattercarpet\"}], \"scattergeo\": [{\"marker\": {\"colorbar\": {\"outlinewidth\": 0, \"ticks\": \"\"}}, \"type\": \"scattergeo\"}], \"scattergl\": [{\"marker\": {\"line\": {\"color\": \"#283442\"}}, \"type\": \"scattergl\"}], \"scattermapbox\": [{\"marker\": {\"colorbar\": {\"outlinewidth\": 0, \"ticks\": \"\"}}, \"type\": \"scattermapbox\"}], \"scatterpolar\": [{\"marker\": {\"colorbar\": {\"outlinewidth\": 0, \"ticks\": \"\"}}, \"type\": \"scatterpolar\"}], \"scatterpolargl\": [{\"marker\": {\"colorbar\": {\"outlinewidth\": 0, \"ticks\": \"\"}}, \"type\": \"scatterpolargl\"}], \"scatterternary\": [{\"marker\": {\"colorbar\": {\"outlinewidth\": 0, \"ticks\": \"\"}}, \"type\": \"scatterternary\"}], \"surface\": [{\"colorbar\": {\"outlinewidth\": 0, \"ticks\": \"\"}, \"colorscale\": [[0.0, \"#0d0887\"], [0.1111111111111111, \"#46039f\"], [0.2222222222222222, \"#7201a8\"], [0.3333333333333333, \"#9c179e\"], [0.4444444444444444, \"#bd3786\"], [0.5555555555555556, \"#d8576b\"], [0.6666666666666666, \"#ed7953\"], [0.7777777777777778, \"#fb9f3a\"], [0.8888888888888888, \"#fdca26\"], [1.0, \"#f0f921\"]], \"type\": \"surface\"}], \"table\": [{\"cells\": {\"fill\": {\"color\": \"#506784\"}, \"line\": {\"color\": \"rgb(17,17,17)\"}}, \"header\": {\"fill\": {\"color\": \"#2a3f5f\"}, \"line\": {\"color\": \"rgb(17,17,17)\"}}, \"type\": \"table\"}]}, \"layout\": {\"annotationdefaults\": {\"arrowcolor\": \"#f2f5fa\", \"arrowhead\": 0, \"arrowwidth\": 1}, \"coloraxis\": {\"colorbar\": {\"outlinewidth\": 0, \"ticks\": \"\"}}, \"colorscale\": {\"diverging\": [[0, \"#8e0152\"], [0.1, \"#c51b7d\"], [0.2, \"#de77ae\"], [0.3, \"#f1b6da\"], [0.4, \"#fde0ef\"], [0.5, \"#f7f7f7\"], [0.6, \"#e6f5d0\"], [0.7, \"#b8e186\"], [0.8, \"#7fbc41\"], [0.9, \"#4d9221\"], [1, \"#276419\"]], \"sequential\": [[0.0, \"#0d0887\"], [0.1111111111111111, \"#46039f\"], [0.2222222222222222, \"#7201a8\"], [0.3333333333333333, \"#9c179e\"], [0.4444444444444444, \"#bd3786\"], [0.5555555555555556, \"#d8576b\"], [0.6666666666666666, \"#ed7953\"], [0.7777777777777778, \"#fb9f3a\"], [0.8888888888888888, \"#fdca26\"], [1.0, \"#f0f921\"]], \"sequentialminus\": [[0.0, \"#0d0887\"], [0.1111111111111111, \"#46039f\"], [0.2222222222222222, \"#7201a8\"], [0.3333333333333333, \"#9c179e\"], [0.4444444444444444, \"#bd3786\"], [0.5555555555555556, \"#d8576b\"], [0.6666666666666666, \"#ed7953\"], [0.7777777777777778, \"#fb9f3a\"], [0.8888888888888888, \"#fdca26\"], [1.0, \"#f0f921\"]]}, \"colorway\": [\"#636efa\", \"#EF553B\", \"#00cc96\", \"#ab63fa\", \"#FFA15A\", \"#19d3f3\", \"#FF6692\", \"#B6E880\", \"#FF97FF\", \"#FECB52\"], \"font\": {\"color\": \"#f2f5fa\"}, \"geo\": {\"bgcolor\": \"rgb(17,17,17)\", \"lakecolor\": \"rgb(17,17,17)\", \"landcolor\": \"rgb(17,17,17)\", \"showlakes\": true, \"showland\": true, \"subunitcolor\": \"#506784\"}, \"hoverlabel\": {\"align\": \"left\"}, \"hovermode\": \"closest\", \"mapbox\": {\"style\": \"dark\"}, \"paper_bgcolor\": \"rgb(17,17,17)\", \"plot_bgcolor\": \"rgb(17,17,17)\", \"polar\": {\"angularaxis\": {\"gridcolor\": \"#506784\", \"linecolor\": \"#506784\", \"ticks\": \"\"}, \"bgcolor\": \"rgb(17,17,17)\", \"radialaxis\": {\"gridcolor\": \"#506784\", \"linecolor\": \"#506784\", \"ticks\": \"\"}}, \"scene\": {\"xaxis\": {\"backgroundcolor\": \"rgb(17,17,17)\", \"gridcolor\": \"#506784\", \"gridwidth\": 2, \"linecolor\": \"#506784\", \"showbackground\": true, \"ticks\": \"\", \"zerolinecolor\": \"#C8D4E3\"}, \"yaxis\": {\"backgroundcolor\": \"rgb(17,17,17)\", \"gridcolor\": \"#506784\", \"gridwidth\": 2, \"linecolor\": \"#506784\", \"showbackground\": true, \"ticks\": \"\", \"zerolinecolor\": \"#C8D4E3\"}, \"zaxis\": {\"backgroundcolor\": \"rgb(17,17,17)\", \"gridcolor\": \"#506784\", \"gridwidth\": 2, \"linecolor\": \"#506784\", \"showbackground\": true, \"ticks\": \"\", \"zerolinecolor\": \"#C8D4E3\"}}, \"shapedefaults\": {\"line\": {\"color\": \"#f2f5fa\"}}, \"sliderdefaults\": {\"bgcolor\": \"#C8D4E3\", \"bordercolor\": \"rgb(17,17,17)\", \"borderwidth\": 1, \"tickwidth\": 0}, \"ternary\": {\"aaxis\": {\"gridcolor\": \"#506784\", \"linecolor\": \"#506784\", \"ticks\": \"\"}, \"baxis\": {\"gridcolor\": \"#506784\", \"linecolor\": \"#506784\", \"ticks\": \"\"}, \"bgcolor\": \"rgb(17,17,17)\", \"caxis\": {\"gridcolor\": \"#506784\", \"linecolor\": \"#506784\", \"ticks\": \"\"}}, \"title\": {\"x\": 0.05}, \"updatemenudefaults\": {\"bgcolor\": \"#506784\", \"borderwidth\": 0}, \"xaxis\": {\"automargin\": true, \"gridcolor\": \"#283442\", \"linecolor\": \"#506784\", \"ticks\": \"\", \"title\": {\"standoff\": 15}, \"zerolinecolor\": \"#283442\", \"zerolinewidth\": 2}, \"yaxis\": {\"automargin\": true, \"gridcolor\": \"#283442\", \"linecolor\": \"#506784\", \"ticks\": \"\", \"title\": {\"standoff\": 15}, \"zerolinecolor\": \"#283442\", \"zerolinewidth\": 2}}}, \"title\": {\"text\": \"PSNR_DB | Groupped by quant_tech_2 | dataframes\"}, \"xaxis\": {\"anchor\": \"y\", \"domain\": [0.0, 1.0]}, \"yaxis\": {\"anchor\": \"x\", \"domain\": [0.0, 1.0], \"title\": {\"text\": \"psnr_db\"}}},\n",
              "                        {\"responsive\": true}\n",
              "                    ).then(function(){\n",
              "                            \n",
              "var gd = document.getElementById('95eb4ebf-48c4-423a-b22d-340ca0c6f28b');\n",
              "var x = new MutationObserver(function (mutations, observer) {{\n",
              "        var display = window.getComputedStyle(gd).display;\n",
              "        if (!display || display === 'none') {{\n",
              "            console.log([gd, 'removed!']);\n",
              "            Plotly.purge(gd);\n",
              "            observer.disconnect();\n",
              "        }}\n",
              "}});\n",
              "\n",
              "// Listen for the removal of the full notebook cells\n",
              "var notebookContainer = gd.closest('#notebook-container');\n",
              "if (notebookContainer) {{\n",
              "    x.observe(notebookContainer, {childList: true});\n",
              "}}\n",
              "\n",
              "// Listen for the clearing of the current output cell\n",
              "var outputEl = gd.closest('.output');\n",
              "if (outputEl) {{\n",
              "    x.observe(outputEl, {childList: true});\n",
              "}}\n",
              "\n",
              "                        })\n",
              "                };\n",
              "                \n",
              "            </script>\n",
              "        </div>\n",
              "</body>\n",
              "</html>"
            ]
          },
          "metadata": {
            "tags": []
          }
        }
      ]
    },
    {
      "cell_type": "code",
      "metadata": {
        "id": "kcGfEMQjioLP",
        "outputId": "98a253c1-102e-486b-9412-76f78f2f486d",
        "colab": {
          "base_uri": "https://localhost:8080/",
          "height": 542
        }
      },
      "source": [
        "hue = 'quant_tech_2'; x = 'bpp'; y = 'psnr_db'\n",
        "fig = px.violin(df[df[f\"{hue}\"] != 'Basic' ], y=f\"{y}\", color=f\"{hue}\", \n",
        "                 # marginal_y=\"violin\", marginal_x=\"box\", trendline=\"ols\",\n",
        "                 template=DASH_TEMPLATES_LIST[2])\n",
        "fig.update_layout(template = DASH_TEMPLATES_LIST[2], title_text=f'{y.upper()} | Groupped by {hue} | dataframes')"
      ],
      "execution_count": 73,
      "outputs": [
        {
          "output_type": "display_data",
          "data": {
            "text/html": [
              "<html>\n",
              "<head><meta charset=\"utf-8\" /></head>\n",
              "<body>\n",
              "    <div>\n",
              "            <script src=\"https://cdnjs.cloudflare.com/ajax/libs/mathjax/2.7.5/MathJax.js?config=TeX-AMS-MML_SVG\"></script><script type=\"text/javascript\">if (window.MathJax) {MathJax.Hub.Config({SVG: {font: \"STIX-Web\"}});}</script>\n",
              "                <script type=\"text/javascript\">window.PlotlyConfig = {MathJaxConfig: 'local'};</script>\n",
              "        <script src=\"https://cdn.plot.ly/plotly-latest.min.js\"></script>    \n",
              "            <div id=\"bc3eb6c0-b38c-4945-aed8-51b0bc1f2865\" class=\"plotly-graph-div\" style=\"height:525px; width:100%;\"></div>\n",
              "            <script type=\"text/javascript\">\n",
              "                \n",
              "                    window.PLOTLYENV=window.PLOTLYENV || {};\n",
              "                    \n",
              "                if (document.getElementById(\"bc3eb6c0-b38c-4945-aed8-51b0bc1f2865\")) {\n",
              "                    Plotly.newPlot(\n",
              "                        'bc3eb6c0-b38c-4945-aed8-51b0bc1f2865',\n",
              "                        [{\"alignmentgroup\": \"True\", \"box\": {\"visible\": false}, \"hoverlabel\": {\"namelength\": 0}, \"hovertemplate\": \"quant_tech_2=L1Unstructured_rate<br>psnr_db=%{y}\", \"legendgroup\": \"quant_tech_2=L1Unstructured_rate\", \"marker\": {\"color\": \"#636efa\"}, \"name\": \"quant_tech_2=L1Unstructured_rate\", \"offsetgroup\": \"quant_tech_2=L1Unstructured_rate\", \"orientation\": \"v\", \"scalegroup\": \"True\", \"showlegend\": true, \"type\": \"violin\", \"x0\": \" \", \"xaxis\": \"x\", \"y\": [42.314138735521844, 42.314138735521844, 42.314138735521844, 42.314138735521844, 42.314138735521844, 41.40007707264003, 41.40007707264003, 41.40007707264003, 41.40007707264003, 41.40007707264003, 39.43563948084633, 39.43563948084633, 39.43563948084633, 39.43563948084633, 39.43563948084633, 37.28537698560946, 37.28537698560946, 37.28537698560946, 37.28537698560946, 37.28537698560946, 35.11083478776056, 35.11083478776056, 35.11083478776056, 35.11083478776056, 35.11083478776056, 27.03558793307416, 27.03558793307416, 27.03558793307416, 27.03558793307416, 27.03558793307416, 18.461622289892592, 18.461622289892592, 18.461622289892592, 18.461622289892592, 18.461622289892592, 14.392113621013552, 14.392113621013552, 14.392113621013552, 14.392113621013552, 14.392113621013552, 11.52402569329551, 11.52402569329551, 11.52402569329551, 11.52402569329551, 11.52402569329551, 9.834488892962508, 9.834488892962508, 9.834488892962508, 9.834488892962508, 9.834488892962508, 8.752722042742228, 8.752722042742228, 8.752722042742228, 8.752722042742228, 8.752722042742228, 10.186273526687408, 10.186273526687408, 10.186273526687408, 10.186273526687408, 10.186273526687408, 8.55742553802086, 8.55742553802086, 8.55742553802086, 8.55742553802086, 8.55742553802086, 10.093274856004804, 10.093274856004804, 10.093274856004804, 10.093274856004804, 10.093274856004804], \"y0\": \" \", \"yaxis\": \"y\"}, {\"alignmentgroup\": \"True\", \"box\": {\"visible\": false}, \"hoverlabel\": {\"namelength\": 0}, \"hovertemplate\": \"quant_tech_2=L1Unstructured_abs<br>psnr_db=%{y}\", \"legendgroup\": \"quant_tech_2=L1Unstructured_abs\", \"marker\": {\"color\": \"#EF553B\"}, \"name\": \"quant_tech_2=L1Unstructured_abs\", \"offsetgroup\": \"quant_tech_2=L1Unstructured_abs\", \"orientation\": \"v\", \"scalegroup\": \"True\", \"showlegend\": true, \"type\": \"violin\", \"x0\": \" \", \"xaxis\": \"x\", \"y\": [42.48164513286687, 42.48164513286687, 42.48164513286687, 42.48164513286687, 42.48164513286687, 42.48172103146271, 42.48172103146271, 42.48172103146271, 42.48172103146271, 42.48172103146271, 42.481647067408105, 42.481647067408105, 42.481647067408105, 42.481647067408105, 42.481647067408105, 42.48184781344155, 42.48184781344155, 42.48184781344155, 42.48184781344155, 42.48184781344155, 42.481808715520884, 42.481808715520884, 42.481808715520884, 42.481808715520884, 42.481808715520884, 42.483049006428466, 42.483049006428466, 42.483049006428466, 42.483049006428466, 42.483049006428466, 42.48346772117925, 42.48346772117925, 42.48346772117925, 42.48346772117925, 42.48346772117925, 42.47439232112222, 42.47439232112222, 42.47439232112222, 42.47439232112222, 42.47439232112222, 42.47217365172398, 42.47217365172398, 42.47217365172398, 42.47217365172398, 42.47217365172398, 42.45624812555904, 42.45624812555904, 42.45624812555904, 42.45624812555904, 42.45624812555904, 42.44086769479307, 42.44086769479307, 42.44086769479307, 42.44086769479307, 42.44086769479307], \"y0\": \" \", \"yaxis\": \"y\"}, {\"alignmentgroup\": \"True\", \"box\": {\"visible\": false}, \"hoverlabel\": {\"namelength\": 0}, \"hovertemplate\": \"quant_tech_2=RandomUnstructured_rate<br>psnr_db=%{y}\", \"legendgroup\": \"quant_tech_2=RandomUnstructured_rate\", \"marker\": {\"color\": \"#00cc96\"}, \"name\": \"quant_tech_2=RandomUnstructured_rate\", \"offsetgroup\": \"quant_tech_2=RandomUnstructured_rate\", \"orientation\": \"v\", \"scalegroup\": \"True\", \"showlegend\": true, \"type\": \"violin\", \"x0\": \" \", \"xaxis\": \"x\", \"y\": [13.888062707907618, 12.972257806851966, 17.250423377776244, 16.542897674373403, 13.766441402255733, 13.41326306969365, 12.950966740174223, 12.775590597198352, 15.03883000007005, 12.58556684884483, 11.722980417672893, 12.143707238778457, 12.494316322850699, 14.353942911933228, 11.567169197201583, 11.688719934008533, 12.100837863629142, 11.498655704316068, 12.892982985005059, 11.221122761657874, 11.288369746043081, 11.480481569417197, 11.36428416675904, 11.89365019413376, 11.128717896530683, 9.690108091623289, 10.687123543065155, 10.309659230951551, 10.074792225393384, 10.027437375805624, 10.539380771579923, 10.677537696226597, 10.694132306828406, 9.191104809982845, 9.745137183341585, 10.864366247853486, 10.744840519563716, 9.77587903078988, 9.657119696678052, 9.814441478137056, 10.113970970922297, 10.921294904452832, 8.707393016819037, 9.018648520845273, 9.918433792192102, 10.650622370214327, 11.067093907756519, 8.069490737794826, 8.68961637111886, 9.757248513198586, 9.893115995765958, 10.861995080194172, 9.415115689739675, 9.818263807729085, 10.5726587082569, 10.126335046879792, 10.655656681713825, 9.739614126215567, 9.945778770682068, 10.08552404830277, 10.323052732675455, 10.541432466886798, 9.941357837325898, 10.304319890709333, 10.152214485565663, 9.971337399810512, 10.239774504134896, 9.858529093102756, 10.706877820825875, 9.74283247920084], \"y0\": \" \", \"yaxis\": \"y\"}, {\"alignmentgroup\": \"True\", \"box\": {\"visible\": false}, \"hoverlabel\": {\"namelength\": 0}, \"hovertemplate\": \"quant_tech_2=RandomUnstructured_abs<br>psnr_db=%{y}\", \"legendgroup\": \"quant_tech_2=RandomUnstructured_abs\", \"marker\": {\"color\": \"#ab63fa\"}, \"name\": \"quant_tech_2=RandomUnstructured_abs\", \"offsetgroup\": \"quant_tech_2=RandomUnstructured_abs\", \"orientation\": \"v\", \"scalegroup\": \"True\", \"showlegend\": true, \"type\": \"violin\", \"x0\": \" \", \"xaxis\": \"x\", \"y\": [29.436422703919728, 33.6469076545411, 31.374388400538628, 34.2872423226411, 27.669956322878893, 29.43215807713218, 33.648144868993185, 31.176459069685624, 29.00660078277035, 27.666588521970603, 27.430375516946654, 31.347535925632585, 28.789415855209185, 26.06255577532254, 27.282581990397823, 27.423175725982297, 30.993109686202573, 28.585087462173856, 25.981145504476025, 26.075519974247527, 26.56684893082356, 30.94111597566033, 27.09948618002253, 24.141520279385894, 25.779523531085285, 22.738357245410313, 25.853702019458638, 25.548212083344577, 22.37827160639621, 25.461201225105988, 21.759411733602967, 24.836820528121635, 25.047992090173864, 22.346785885689062, 23.31727320647216, 21.34161991111148, 14.449764758586916, 23.13575439954551, 21.726411529621494, 21.057279862871283, 20.960191221419446, 14.413997566937716, 22.880932581048867, 21.73416917861237, 20.756579888310544, 20.391636429214156, 14.353417318888017, 21.775848755775847, 21.376757044123174, 20.371511866312826, 14.632899920727303, 14.31531654019928, 19.704188749798263, 20.0088954748227, 20.007628819432455], \"y0\": \" \", \"yaxis\": \"y\"}],\n",
              "                        {\"legend\": {\"tracegroupgap\": 0}, \"margin\": {\"t\": 60}, \"template\": {\"data\": {\"bar\": [{\"error_x\": {\"color\": \"#f2f5fa\"}, \"error_y\": {\"color\": \"#f2f5fa\"}, \"marker\": {\"line\": {\"color\": \"rgb(17,17,17)\", \"width\": 0.5}}, \"type\": \"bar\"}], \"barpolar\": [{\"marker\": {\"line\": {\"color\": \"rgb(17,17,17)\", \"width\": 0.5}}, \"type\": \"barpolar\"}], \"carpet\": [{\"aaxis\": {\"endlinecolor\": \"#A2B1C6\", \"gridcolor\": \"#506784\", \"linecolor\": \"#506784\", \"minorgridcolor\": \"#506784\", \"startlinecolor\": \"#A2B1C6\"}, \"baxis\": {\"endlinecolor\": \"#A2B1C6\", \"gridcolor\": \"#506784\", \"linecolor\": \"#506784\", \"minorgridcolor\": \"#506784\", \"startlinecolor\": \"#A2B1C6\"}, \"type\": \"carpet\"}], \"choropleth\": [{\"colorbar\": {\"outlinewidth\": 0, \"ticks\": \"\"}, \"type\": \"choropleth\"}], \"contour\": [{\"colorbar\": {\"outlinewidth\": 0, \"ticks\": \"\"}, \"colorscale\": [[0.0, \"#0d0887\"], [0.1111111111111111, \"#46039f\"], [0.2222222222222222, \"#7201a8\"], [0.3333333333333333, \"#9c179e\"], [0.4444444444444444, \"#bd3786\"], [0.5555555555555556, \"#d8576b\"], [0.6666666666666666, \"#ed7953\"], [0.7777777777777778, \"#fb9f3a\"], [0.8888888888888888, \"#fdca26\"], [1.0, \"#f0f921\"]], \"type\": \"contour\"}], \"contourcarpet\": [{\"colorbar\": {\"outlinewidth\": 0, \"ticks\": \"\"}, \"type\": \"contourcarpet\"}], \"heatmap\": [{\"colorbar\": {\"outlinewidth\": 0, \"ticks\": \"\"}, \"colorscale\": [[0.0, \"#0d0887\"], [0.1111111111111111, \"#46039f\"], [0.2222222222222222, \"#7201a8\"], [0.3333333333333333, \"#9c179e\"], [0.4444444444444444, \"#bd3786\"], [0.5555555555555556, \"#d8576b\"], [0.6666666666666666, \"#ed7953\"], [0.7777777777777778, \"#fb9f3a\"], [0.8888888888888888, \"#fdca26\"], [1.0, \"#f0f921\"]], \"type\": \"heatmap\"}], \"heatmapgl\": [{\"colorbar\": {\"outlinewidth\": 0, \"ticks\": \"\"}, \"colorscale\": [[0.0, \"#0d0887\"], [0.1111111111111111, \"#46039f\"], [0.2222222222222222, \"#7201a8\"], [0.3333333333333333, \"#9c179e\"], [0.4444444444444444, \"#bd3786\"], [0.5555555555555556, \"#d8576b\"], [0.6666666666666666, \"#ed7953\"], [0.7777777777777778, \"#fb9f3a\"], [0.8888888888888888, \"#fdca26\"], [1.0, \"#f0f921\"]], \"type\": \"heatmapgl\"}], \"histogram\": [{\"marker\": {\"colorbar\": {\"outlinewidth\": 0, \"ticks\": \"\"}}, \"type\": \"histogram\"}], \"histogram2d\": [{\"colorbar\": {\"outlinewidth\": 0, \"ticks\": \"\"}, \"colorscale\": [[0.0, \"#0d0887\"], [0.1111111111111111, \"#46039f\"], [0.2222222222222222, \"#7201a8\"], [0.3333333333333333, \"#9c179e\"], [0.4444444444444444, \"#bd3786\"], [0.5555555555555556, \"#d8576b\"], [0.6666666666666666, \"#ed7953\"], [0.7777777777777778, \"#fb9f3a\"], [0.8888888888888888, \"#fdca26\"], [1.0, \"#f0f921\"]], \"type\": \"histogram2d\"}], \"histogram2dcontour\": [{\"colorbar\": {\"outlinewidth\": 0, \"ticks\": \"\"}, \"colorscale\": [[0.0, \"#0d0887\"], [0.1111111111111111, \"#46039f\"], [0.2222222222222222, \"#7201a8\"], [0.3333333333333333, \"#9c179e\"], [0.4444444444444444, \"#bd3786\"], [0.5555555555555556, \"#d8576b\"], [0.6666666666666666, \"#ed7953\"], [0.7777777777777778, \"#fb9f3a\"], [0.8888888888888888, \"#fdca26\"], [1.0, \"#f0f921\"]], \"type\": \"histogram2dcontour\"}], \"mesh3d\": [{\"colorbar\": {\"outlinewidth\": 0, \"ticks\": \"\"}, \"type\": \"mesh3d\"}], \"parcoords\": [{\"line\": {\"colorbar\": {\"outlinewidth\": 0, \"ticks\": \"\"}}, \"type\": \"parcoords\"}], \"pie\": [{\"automargin\": true, \"type\": \"pie\"}], \"scatter\": [{\"marker\": {\"line\": {\"color\": \"#283442\"}}, \"type\": \"scatter\"}], \"scatter3d\": [{\"line\": {\"colorbar\": {\"outlinewidth\": 0, \"ticks\": \"\"}}, \"marker\": {\"colorbar\": {\"outlinewidth\": 0, \"ticks\": \"\"}}, \"type\": \"scatter3d\"}], \"scattercarpet\": [{\"marker\": {\"colorbar\": {\"outlinewidth\": 0, \"ticks\": \"\"}}, \"type\": \"scattercarpet\"}], \"scattergeo\": [{\"marker\": {\"colorbar\": {\"outlinewidth\": 0, \"ticks\": \"\"}}, \"type\": \"scattergeo\"}], \"scattergl\": [{\"marker\": {\"line\": {\"color\": \"#283442\"}}, \"type\": \"scattergl\"}], \"scattermapbox\": [{\"marker\": {\"colorbar\": {\"outlinewidth\": 0, \"ticks\": \"\"}}, \"type\": \"scattermapbox\"}], \"scatterpolar\": [{\"marker\": {\"colorbar\": {\"outlinewidth\": 0, \"ticks\": \"\"}}, \"type\": \"scatterpolar\"}], \"scatterpolargl\": [{\"marker\": {\"colorbar\": {\"outlinewidth\": 0, \"ticks\": \"\"}}, \"type\": \"scatterpolargl\"}], \"scatterternary\": [{\"marker\": {\"colorbar\": {\"outlinewidth\": 0, \"ticks\": \"\"}}, \"type\": \"scatterternary\"}], \"surface\": [{\"colorbar\": {\"outlinewidth\": 0, \"ticks\": \"\"}, \"colorscale\": [[0.0, \"#0d0887\"], [0.1111111111111111, \"#46039f\"], [0.2222222222222222, \"#7201a8\"], [0.3333333333333333, \"#9c179e\"], [0.4444444444444444, \"#bd3786\"], [0.5555555555555556, \"#d8576b\"], [0.6666666666666666, \"#ed7953\"], [0.7777777777777778, \"#fb9f3a\"], [0.8888888888888888, \"#fdca26\"], [1.0, \"#f0f921\"]], \"type\": \"surface\"}], \"table\": [{\"cells\": {\"fill\": {\"color\": \"#506784\"}, \"line\": {\"color\": \"rgb(17,17,17)\"}}, \"header\": {\"fill\": {\"color\": \"#2a3f5f\"}, \"line\": {\"color\": \"rgb(17,17,17)\"}}, \"type\": \"table\"}]}, \"layout\": {\"annotationdefaults\": {\"arrowcolor\": \"#f2f5fa\", \"arrowhead\": 0, \"arrowwidth\": 1}, \"coloraxis\": {\"colorbar\": {\"outlinewidth\": 0, \"ticks\": \"\"}}, \"colorscale\": {\"diverging\": [[0, \"#8e0152\"], [0.1, \"#c51b7d\"], [0.2, \"#de77ae\"], [0.3, \"#f1b6da\"], [0.4, \"#fde0ef\"], [0.5, \"#f7f7f7\"], [0.6, \"#e6f5d0\"], [0.7, \"#b8e186\"], [0.8, \"#7fbc41\"], [0.9, \"#4d9221\"], [1, \"#276419\"]], \"sequential\": [[0.0, \"#0d0887\"], [0.1111111111111111, \"#46039f\"], [0.2222222222222222, \"#7201a8\"], [0.3333333333333333, \"#9c179e\"], [0.4444444444444444, \"#bd3786\"], [0.5555555555555556, \"#d8576b\"], [0.6666666666666666, \"#ed7953\"], [0.7777777777777778, \"#fb9f3a\"], [0.8888888888888888, \"#fdca26\"], [1.0, \"#f0f921\"]], \"sequentialminus\": [[0.0, \"#0d0887\"], [0.1111111111111111, \"#46039f\"], [0.2222222222222222, \"#7201a8\"], [0.3333333333333333, \"#9c179e\"], [0.4444444444444444, \"#bd3786\"], [0.5555555555555556, \"#d8576b\"], [0.6666666666666666, \"#ed7953\"], [0.7777777777777778, \"#fb9f3a\"], [0.8888888888888888, \"#fdca26\"], [1.0, \"#f0f921\"]]}, \"colorway\": [\"#636efa\", \"#EF553B\", \"#00cc96\", \"#ab63fa\", \"#FFA15A\", \"#19d3f3\", \"#FF6692\", \"#B6E880\", \"#FF97FF\", \"#FECB52\"], \"font\": {\"color\": \"#f2f5fa\"}, \"geo\": {\"bgcolor\": \"rgb(17,17,17)\", \"lakecolor\": \"rgb(17,17,17)\", \"landcolor\": \"rgb(17,17,17)\", \"showlakes\": true, \"showland\": true, \"subunitcolor\": \"#506784\"}, \"hoverlabel\": {\"align\": \"left\"}, \"hovermode\": \"closest\", \"mapbox\": {\"style\": \"dark\"}, \"paper_bgcolor\": \"rgb(17,17,17)\", \"plot_bgcolor\": \"rgb(17,17,17)\", \"polar\": {\"angularaxis\": {\"gridcolor\": \"#506784\", \"linecolor\": \"#506784\", \"ticks\": \"\"}, \"bgcolor\": \"rgb(17,17,17)\", \"radialaxis\": {\"gridcolor\": \"#506784\", \"linecolor\": \"#506784\", \"ticks\": \"\"}}, \"scene\": {\"xaxis\": {\"backgroundcolor\": \"rgb(17,17,17)\", \"gridcolor\": \"#506784\", \"gridwidth\": 2, \"linecolor\": \"#506784\", \"showbackground\": true, \"ticks\": \"\", \"zerolinecolor\": \"#C8D4E3\"}, \"yaxis\": {\"backgroundcolor\": \"rgb(17,17,17)\", \"gridcolor\": \"#506784\", \"gridwidth\": 2, \"linecolor\": \"#506784\", \"showbackground\": true, \"ticks\": \"\", \"zerolinecolor\": \"#C8D4E3\"}, \"zaxis\": {\"backgroundcolor\": \"rgb(17,17,17)\", \"gridcolor\": \"#506784\", \"gridwidth\": 2, \"linecolor\": \"#506784\", \"showbackground\": true, \"ticks\": \"\", \"zerolinecolor\": \"#C8D4E3\"}}, \"shapedefaults\": {\"line\": {\"color\": \"#f2f5fa\"}}, \"sliderdefaults\": {\"bgcolor\": \"#C8D4E3\", \"bordercolor\": \"rgb(17,17,17)\", \"borderwidth\": 1, \"tickwidth\": 0}, \"ternary\": {\"aaxis\": {\"gridcolor\": \"#506784\", \"linecolor\": \"#506784\", \"ticks\": \"\"}, \"baxis\": {\"gridcolor\": \"#506784\", \"linecolor\": \"#506784\", \"ticks\": \"\"}, \"bgcolor\": \"rgb(17,17,17)\", \"caxis\": {\"gridcolor\": \"#506784\", \"linecolor\": \"#506784\", \"ticks\": \"\"}}, \"title\": {\"x\": 0.05}, \"updatemenudefaults\": {\"bgcolor\": \"#506784\", \"borderwidth\": 0}, \"xaxis\": {\"automargin\": true, \"gridcolor\": \"#283442\", \"linecolor\": \"#506784\", \"ticks\": \"\", \"title\": {\"standoff\": 15}, \"zerolinecolor\": \"#283442\", \"zerolinewidth\": 2}, \"yaxis\": {\"automargin\": true, \"gridcolor\": \"#283442\", \"linecolor\": \"#506784\", \"ticks\": \"\", \"title\": {\"standoff\": 15}, \"zerolinecolor\": \"#283442\", \"zerolinewidth\": 2}}}, \"title\": {\"text\": \"PSNR_DB | Groupped by quant_tech_2 | dataframes\"}, \"violinmode\": \"group\", \"xaxis\": {\"anchor\": \"y\", \"domain\": [0.0, 1.0]}, \"yaxis\": {\"anchor\": \"x\", \"domain\": [0.0, 1.0], \"title\": {\"text\": \"psnr_db\"}}},\n",
              "                        {\"responsive\": true}\n",
              "                    ).then(function(){\n",
              "                            \n",
              "var gd = document.getElementById('bc3eb6c0-b38c-4945-aed8-51b0bc1f2865');\n",
              "var x = new MutationObserver(function (mutations, observer) {{\n",
              "        var display = window.getComputedStyle(gd).display;\n",
              "        if (!display || display === 'none') {{\n",
              "            console.log([gd, 'removed!']);\n",
              "            Plotly.purge(gd);\n",
              "            observer.disconnect();\n",
              "        }}\n",
              "}});\n",
              "\n",
              "// Listen for the removal of the full notebook cells\n",
              "var notebookContainer = gd.closest('#notebook-container');\n",
              "if (notebookContainer) {{\n",
              "    x.observe(notebookContainer, {childList: true});\n",
              "}}\n",
              "\n",
              "// Listen for the clearing of the current output cell\n",
              "var outputEl = gd.closest('.output');\n",
              "if (outputEl) {{\n",
              "    x.observe(outputEl, {childList: true});\n",
              "}}\n",
              "\n",
              "                        })\n",
              "                };\n",
              "                \n",
              "            </script>\n",
              "        </div>\n",
              "</body>\n",
              "</html>"
            ]
          },
          "metadata": {
            "tags": []
          }
        }
      ]
    }
  ]
}