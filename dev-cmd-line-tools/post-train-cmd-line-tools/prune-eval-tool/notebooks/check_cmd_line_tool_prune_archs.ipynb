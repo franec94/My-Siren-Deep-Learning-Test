{
  "nbformat": 4,
  "nbformat_minor": 0,
  "metadata": {
    "colab": {
      "name": "check_cmd_line_tool_prune_archs.ipynb",
      "provenance": [],
      "collapsed_sections": [
        "DerW7afSj5Dc",
        "iSuXNWblpTkx",
        "5TwPrmZ2j7ti",
        "R5-AldXIj_mD"
      ]
    },
    "kernelspec": {
      "name": "python3",
      "display_name": "Python 3"
    }
  },
  "cells": [
    {
      "cell_type": "markdown",
      "metadata": {
        "id": "DerW7afSj5Dc"
      },
      "source": [
        "### Setup Notebook"
      ]
    },
    {
      "cell_type": "code",
      "metadata": {
        "id": "5wUu1iS7gtJj"
      },
      "source": [
        "#@title Enable prune mode\n",
        "#@markdown ---\n",
        "PRUNE_MODEL = False                   #@param {type:\"boolean\"}"
      ],
      "execution_count": 1,
      "outputs": []
    },
    {
      "cell_type": "code",
      "metadata": {
        "id": "NA6CUCh-gAyK"
      },
      "source": [
        "#@title Github related infos\n",
        "#@markdown ---\n",
        "PROJECT_NAME_PATH = '/content/My-Siren-Deep-Learning-Test' #@param {type:\"string\"}\n",
        "\n",
        "    \n",
        "GITHUB_PROJECT_URL = 'https://github.com/franec94/My-Siren-Deep-Learning-Test.git' #@param {type:\"string\"}\n",
        "BRANCH_NAME = 'cmd-line-tools' #@param {type:\"string\"}\n",
        "CMD_TOOL_NAME = 'post-train-cmd-line-tools/prune-eval-tool' #@param {type:\"string\"}"
      ],
      "execution_count": 2,
      "outputs": []
    },
    {
      "cell_type": "code",
      "metadata": {
        "id": "vDDToVQyiQYt"
      },
      "source": [
        "#@title Model's Hyper-Params\n",
        "#@markdown ---\n",
        "N_HF=35 #@param {type:\"integer\"}\n",
        "N_HL=9  #@param {type:\"integer\"}\n",
        "SIDELENGTH=256 #@param {type:\"integer\"}\n",
        "DEVICE = \"cpu\" #@param [\"cpu\", \"cuda\", \"gpu\"]\n",
        "BATCH_SIZE=1 #@param {type:\"integer\"}\n",
        "MODEL_PATH='/content/model_final.pth' #@param {type:\"string\"}"
      ],
      "execution_count": 3,
      "outputs": []
    },
    {
      "cell_type": "code",
      "metadata": {
        "id": "lFMGB4_WoOuV"
      },
      "source": [
        "#@title Save results\n",
        "#@markdown ---\n",
        "LOGGING_ROOT = '/content/results/cameramen' #@param {type:\"string\"}\n",
        "EXPERIMENT_NAME = 'train' #@param {type:\"string\"}\n"
      ],
      "execution_count": 4,
      "outputs": []
    },
    {
      "cell_type": "markdown",
      "metadata": {
        "id": "iSuXNWblpTkx"
      },
      "source": [
        "### Imports"
      ]
    },
    {
      "cell_type": "code",
      "metadata": {
        "id": "nYI-DvnQpVOA"
      },
      "source": [
        "from __future__ import print_function\n",
        "from __future__ import division\n",
        "\n",
        "# --------------------------------------------- #\n",
        "# Standard Library, plus some Third Party Libraries\n",
        "# --------------------------------------------- #\n",
        "\n",
        "DASH_TEMPLATES_LIST = [\"plotly\", \"plotly_white\", \"plotly_dark\", \"ggplot2\", \"seaborn\", \"simple_white\", \"none\"]\n",
        "\n",
        "from PIL import Image\n",
        "from functools import partial\n",
        "from pprint import pprint\n",
        "from tqdm import tqdm\n",
        "from typing import Tuple, Union\n",
        "\n",
        "\n",
        "import configargparse\n",
        "import copy\n",
        "import collections\n",
        "import datetime\n",
        "import functools\n",
        "import h5py\n",
        "import logging\n",
        "import math\n",
        "import os\n",
        "import operator\n",
        "import pickle\n",
        "import random\n",
        "import shutil\n",
        "import sys\n",
        "import re\n",
        "import tabulate \n",
        "import time\n",
        "# import visdom\n",
        "\n",
        "\n",
        "from collections import OrderedDict\n",
        "import matplotlib\n",
        "import matplotlib.pyplot as plt\n",
        "import numpy as np\n",
        "\n",
        "# --------------------------------------------- #\n",
        "# Data Science and Machine Learning Libraries\n",
        "# --------------------------------------------- #\n",
        "import matplotlib\n",
        "import matplotlib.pyplot as plt\n",
        "matplotlib.style.use('ggplot')\n",
        "\n",
        "import numpy as np\n",
        "import pandas as pd\n",
        "import sklearn\n",
        "\n",
        "from sklearn.model_selection import ParameterGrid\n",
        "from sklearn.model_selection import train_test_split\n",
        "\n",
        "# --------------------------------------------- #\n",
        "# Torch\n",
        "# --------------------------------------------- #\n",
        "try:\n",
        "    import torch\n",
        "    import torch.nn as nn\n",
        "    import torch.nn.functional as F\n",
        "    import torch.optim as optim\n",
        "    from torch.utils.data import DataLoader, Dataset\n",
        "    import torch.quantization\n",
        "    import torch.nn.utils.prune as prune\n",
        "except:\n",
        "    print(\"torch not available!\")\n",
        "    pass\n",
        "\n",
        "\n",
        "# --------------------------------------------- #\n",
        "# Import: TorchVision\n",
        "# --------------------------------------------- #\n",
        "try:\n",
        "    import torchvision\n",
        "    from torchvision import datasets\n",
        "    from torchvision import transforms\n",
        "    from torchvision.transforms import Resize, Compose, ToTensor, CenterCrop, Normalize\n",
        "    from torchvision.utils import save_image\n",
        "except:\n",
        "    print(\"torchvision library not available!\")\n",
        "    pass\n",
        "\n",
        "# Plotly imports.\n",
        "# ----------------------------------------------- #\n",
        "import chart_studio.plotly as py\n",
        "import plotly.figure_factory as ff\n",
        "import plotly.express as px\n",
        "\n",
        "# --------------------------------------------- #\n",
        "# Import: skimage\n",
        "# --------------------------------------------- #\n",
        "try:\n",
        "    import skimage\n",
        "    import skimage.metrics as skmetrics\n",
        "    from skimage.metrics import peak_signal_noise_ratio as psnr\n",
        "    from skimage.metrics import structural_similarity as ssim\n",
        "    from skimage.metrics import mean_squared_error\n",
        "except:\n",
        "    print(\"skimage library not available!\")\n",
        "    pass"
      ],
      "execution_count": 5,
      "outputs": []
    },
    {
      "cell_type": "markdown",
      "metadata": {
        "id": "5TwPrmZ2j7ti"
      },
      "source": [
        "### Fetch Github project"
      ]
    },
    {
      "cell_type": "code",
      "metadata": {
        "id": "7_36eKG3gC6t",
        "outputId": "ed99842e-1ecc-46cd-a852-2a57cadcc1a3",
        "colab": {
          "base_uri": "https://localhost:8080/"
        }
      },
      "source": [
        "# Installing third party dependencies\n",
        "print(\"Installing required libraries...\")\n",
        "\n",
        "old_requirements = '/content/tmp_requirements.txt'\n",
        "!pip freeze > {old_requirements}\n",
        "dependencies_list = \"cmapy,sk-video,pytorch-model-summary,ConfigArgParse,tabulate,chart_studio,dash,dash_bootstrap_components\".split(\",\")\n",
        "\n",
        "with open(old_requirements) as f:\n",
        "    old_requirements_list = f.read().split(\"\\n\")\n",
        "    for a_req in dependencies_list:\n",
        "        found_req = False\n",
        "        for old_req in old_requirements_list:\n",
        "            if old_req.startswith(a_req):\n",
        "                print(f\"{a_req} already installed!\")\n",
        "                found_req = True\n",
        "                break\n",
        "        if found_req is False:\n",
        "            !pip install {a_req} -q\n",
        "    pass\n",
        "!rm -f {old_requirements}"
      ],
      "execution_count": 6,
      "outputs": [
        {
          "output_type": "stream",
          "text": [
            "Installing required libraries...\n",
            "cmapy already installed!\n",
            "sk-video already installed!\n",
            "pytorch-model-summary already installed!\n",
            "ConfigArgParse already installed!\n",
            "tabulate already installed!\n",
            "dash already installed!\n"
          ],
          "name": "stdout"
        }
      ]
    },
    {
      "cell_type": "code",
      "metadata": {
        "id": "IL-HD3uZgKvr"
      },
      "source": [
        "import os\n",
        "os.chdir('/content')"
      ],
      "execution_count": 7,
      "outputs": []
    },
    {
      "cell_type": "code",
      "metadata": {
        "id": "MakQffZ8gMc8"
      },
      "source": [
        "# Setup wd to remove trash\n",
        "\n",
        "if PRUNE_MODEL:\n",
        "    # Remove trash\n",
        "    import os\n",
        "    if os.path.exists(f'{PROJECT_NAME_PATH}') and os.path.isdir(f'{PROJECT_NAME_PATH}'):\n",
        "        print(\"Cleaning from old project...\")\n",
        "        !rm -r {PROJECT_NAME_PATH}\n",
        "    else:\n",
        "        print(\"No project found.\")\n",
        "        pass\n",
        "\n",
        "    import os\n",
        "    logs_base_dir = os.path.join(\"/content/outputs\", \"summaries\")\n",
        "    os.makedirs(logs_base_dir, exist_ok=True)\n",
        "\n",
        "    if os.path.exists(PROJECT_NAME_PATH) is False:\n",
        "        !git clone {GITHUB_PROJECT_URL}\n",
        "        os.chdir(PROJECT_NAME_PATH)\n",
        "        !git checkout {BRANCH_NAME}\n",
        "        full_path_cmd = os.path.join(PROJECT_NAME_PATH, f'dev-cmd-line-tools/{CMD_TOOL_NAME}')\n",
        "        os.chdir(full_path_cmd)\n",
        "    else:\n",
        "        os.chdir(PROJECT_NAME_PATH)\n",
        "        !git checkout {BRANCH_NAME}\n",
        "        !git fetch\n",
        "        full_path_cmd = os.path.join(PROJECT_NAME_PATH, f'dev-cmd-line-tools/{CMD_TOOL_NAME}')\n",
        "        os.chdir(full_path_cmd)\n",
        "        pass\n",
        "    pass"
      ],
      "execution_count": 8,
      "outputs": []
    },
    {
      "cell_type": "markdown",
      "metadata": {
        "id": "R5-AldXIj_mD"
      },
      "source": [
        "### Run program"
      ]
    },
    {
      "cell_type": "code",
      "metadata": {
        "id": "q7TSYJ0TgPAM"
      },
      "source": [
        "# Show help\n",
        "if PRUNE_MODEL:\n",
        "    !python main.py --help"
      ],
      "execution_count": 9,
      "outputs": []
    },
    {
      "cell_type": "code",
      "metadata": {
        "id": "-mQc8Hfjh2H9"
      },
      "source": [
        "if PRUNE_MODEL:\n",
        "    !python main.py \\\n",
        "        --logging_root {LOGGING_ROOT} \\\n",
        "        --experiment_name {EXPERIMENT_NAME} \\\n",
        "        --models_filepath {MODEL_PATH} \\\n",
        "        --sidelength {SIDELENGTH} \\\n",
        "        --n_hf {N_HF} \\\n",
        "        --n_hl {N_HL} \\\n",
        "        --global_pruning_techs 'L1Unstructured' 'RandomUnstructured' \\\n",
        "        --global_pruning_rates .01 .02 .03 .04 .05 .06 .07 .08 .1 .2 .3 .4 .5 .6 .7 .8 .9 \\\n",
        "        --global_pruning_abs 10 20 30 40 50 60 70 80 90 100 150 200 \\\n",
        "        --dynamic_quant qint8 qfloat16 \\\n",
        "        --verbose 0\n",
        "    pass"
      ],
      "execution_count": 10,
      "outputs": []
    },
    {
      "cell_type": "markdown",
      "metadata": {
        "id": "NoHgBTeQqeq6"
      },
      "source": [
        "### Checkout results"
      ]
    },
    {
      "cell_type": "code",
      "metadata": {
        "id": "uyeeqxZHo4po"
      },
      "source": [
        "import pandas as pd"
      ],
      "execution_count": 11,
      "outputs": []
    },
    {
      "cell_type": "code",
      "metadata": {
        "id": "-yUX3HKdo7iO"
      },
      "source": [
        "df = pd.read_csv('/content/results/cameramen/15-11-2020/1605455848-997809/trainresults.csv').drop(['Unnamed: 0'], axis = 1)"
      ],
      "execution_count": 13,
      "outputs": []
    },
    {
      "cell_type": "code",
      "metadata": {
        "id": "WXUhD-F_qmZh",
        "outputId": "56fddd3e-d803-4aec-cf94-b06db28d987c",
        "colab": {
          "base_uri": "https://localhost:8080/",
          "height": 218
        }
      },
      "source": [
        "df.head(5)"
      ],
      "execution_count": 20,
      "outputs": [
        {
          "output_type": "execute_result",
          "data": {
            "text/html": [
              "<div>\n",
              "<style scoped>\n",
              "    .dataframe tbody tr th:only-of-type {\n",
              "        vertical-align: middle;\n",
              "    }\n",
              "\n",
              "    .dataframe tbody tr th {\n",
              "        vertical-align: top;\n",
              "    }\n",
              "\n",
              "    .dataframe thead th {\n",
              "        text-align: right;\n",
              "    }\n",
              "</style>\n",
              "<table border=\"1\" class=\"dataframe\">\n",
              "  <thead>\n",
              "    <tr style=\"text-align: right;\">\n",
              "      <th></th>\n",
              "      <th>model_name</th>\n",
              "      <th>mse</th>\n",
              "      <th>psnr_db</th>\n",
              "      <th>ssim</th>\n",
              "      <th>eta_seconds</th>\n",
              "      <th>footprint_byte</th>\n",
              "      <th>footprint_percent</th>\n",
              "      <th>bpp</th>\n",
              "      <th>quant_tech</th>\n",
              "      <th>quant_tech_2</th>\n",
              "      <th>prune_amount</th>\n",
              "    </tr>\n",
              "  </thead>\n",
              "  <tbody>\n",
              "    <tr>\n",
              "      <th>0</th>\n",
              "      <td>model.35.9.0</td>\n",
              "      <td>0.163425</td>\n",
              "      <td>13.888062</td>\n",
              "      <td>0.367754</td>\n",
              "      <td>0.171121</td>\n",
              "      <td>100339</td>\n",
              "      <td>100.0</td>\n",
              "      <td>6.124207</td>\n",
              "      <td>RandomUnstructured</td>\n",
              "      <td>RandomUnstructured_rate</td>\n",
              "      <td>0.01</td>\n",
              "    </tr>\n",
              "    <tr>\n",
              "      <th>1</th>\n",
              "      <td>model.35.9.1</td>\n",
              "      <td>0.201791</td>\n",
              "      <td>12.972258</td>\n",
              "      <td>0.320147</td>\n",
              "      <td>0.157675</td>\n",
              "      <td>100339</td>\n",
              "      <td>100.0</td>\n",
              "      <td>6.124207</td>\n",
              "      <td>RandomUnstructured</td>\n",
              "      <td>RandomUnstructured_rate</td>\n",
              "      <td>0.01</td>\n",
              "    </tr>\n",
              "    <tr>\n",
              "      <th>2</th>\n",
              "      <td>model.35.9.2</td>\n",
              "      <td>0.075340</td>\n",
              "      <td>17.250423</td>\n",
              "      <td>0.521151</td>\n",
              "      <td>0.148324</td>\n",
              "      <td>100339</td>\n",
              "      <td>100.0</td>\n",
              "      <td>6.124207</td>\n",
              "      <td>RandomUnstructured</td>\n",
              "      <td>RandomUnstructured_rate</td>\n",
              "      <td>0.01</td>\n",
              "    </tr>\n",
              "    <tr>\n",
              "      <th>3</th>\n",
              "      <td>model.35.9.3</td>\n",
              "      <td>0.088674</td>\n",
              "      <td>16.542898</td>\n",
              "      <td>0.488663</td>\n",
              "      <td>0.150604</td>\n",
              "      <td>100339</td>\n",
              "      <td>100.0</td>\n",
              "      <td>6.124207</td>\n",
              "      <td>RandomUnstructured</td>\n",
              "      <td>RandomUnstructured_rate</td>\n",
              "      <td>0.01</td>\n",
              "    </tr>\n",
              "    <tr>\n",
              "      <th>4</th>\n",
              "      <td>model.35.9.4</td>\n",
              "      <td>0.168056</td>\n",
              "      <td>13.766441</td>\n",
              "      <td>0.350631</td>\n",
              "      <td>0.151277</td>\n",
              "      <td>100339</td>\n",
              "      <td>100.0</td>\n",
              "      <td>6.124207</td>\n",
              "      <td>RandomUnstructured</td>\n",
              "      <td>RandomUnstructured_rate</td>\n",
              "      <td>0.01</td>\n",
              "    </tr>\n",
              "  </tbody>\n",
              "</table>\n",
              "</div>"
            ],
            "text/plain": [
              "     model_name       mse  ...             quant_tech_2  prune_amount\n",
              "0  model.35.9.0  0.163425  ...  RandomUnstructured_rate          0.01\n",
              "1  model.35.9.1  0.201791  ...  RandomUnstructured_rate          0.01\n",
              "2  model.35.9.2  0.075340  ...  RandomUnstructured_rate          0.01\n",
              "3  model.35.9.3  0.088674  ...  RandomUnstructured_rate          0.01\n",
              "4  model.35.9.4  0.168056  ...  RandomUnstructured_rate          0.01\n",
              "\n",
              "[5 rows x 11 columns]"
            ]
          },
          "metadata": {
            "tags": []
          },
          "execution_count": 20
        }
      ]
    },
    {
      "cell_type": "code",
      "metadata": {
        "id": "zW_8VCOPqzPj",
        "outputId": "45ca776f-7ed1-4c09-a696-c14301cb707d",
        "colab": {
          "base_uri": "https://localhost:8080/",
          "height": 218
        }
      },
      "source": [
        "df.tail(5)"
      ],
      "execution_count": 21,
      "outputs": [
        {
          "output_type": "execute_result",
          "data": {
            "text/html": [
              "<div>\n",
              "<style scoped>\n",
              "    .dataframe tbody tr th:only-of-type {\n",
              "        vertical-align: middle;\n",
              "    }\n",
              "\n",
              "    .dataframe tbody tr th {\n",
              "        vertical-align: top;\n",
              "    }\n",
              "\n",
              "    .dataframe thead th {\n",
              "        text-align: right;\n",
              "    }\n",
              "</style>\n",
              "<table border=\"1\" class=\"dataframe\">\n",
              "  <thead>\n",
              "    <tr style=\"text-align: right;\">\n",
              "      <th></th>\n",
              "      <th>model_name</th>\n",
              "      <th>mse</th>\n",
              "      <th>psnr_db</th>\n",
              "      <th>ssim</th>\n",
              "      <th>eta_seconds</th>\n",
              "      <th>footprint_byte</th>\n",
              "      <th>footprint_percent</th>\n",
              "      <th>bpp</th>\n",
              "      <th>quant_tech</th>\n",
              "      <th>quant_tech_2</th>\n",
              "      <th>prune_amount</th>\n",
              "    </tr>\n",
              "  </thead>\n",
              "  <tbody>\n",
              "    <tr>\n",
              "      <th>575</th>\n",
              "      <td>model.35.9.5</td>\n",
              "      <td>0.000271</td>\n",
              "      <td>41.696013</td>\n",
              "      <td>0.979616</td>\n",
              "      <td>0.147420</td>\n",
              "      <td>100339</td>\n",
              "      <td>100.0</td>\n",
              "      <td>6.124207</td>\n",
              "      <td>L1Unstructured</td>\n",
              "      <td>L1Unstructured_abs</td>\n",
              "      <td>200.0</td>\n",
              "    </tr>\n",
              "    <tr>\n",
              "      <th>576</th>\n",
              "      <td>model.35.9.6</td>\n",
              "      <td>0.000271</td>\n",
              "      <td>41.696013</td>\n",
              "      <td>0.979616</td>\n",
              "      <td>0.154910</td>\n",
              "      <td>100339</td>\n",
              "      <td>100.0</td>\n",
              "      <td>6.124207</td>\n",
              "      <td>L1Unstructured</td>\n",
              "      <td>L1Unstructured_abs</td>\n",
              "      <td>200.0</td>\n",
              "    </tr>\n",
              "    <tr>\n",
              "      <th>577</th>\n",
              "      <td>model.35.9.7</td>\n",
              "      <td>0.000271</td>\n",
              "      <td>41.696013</td>\n",
              "      <td>0.979616</td>\n",
              "      <td>0.148178</td>\n",
              "      <td>100339</td>\n",
              "      <td>100.0</td>\n",
              "      <td>6.124207</td>\n",
              "      <td>L1Unstructured</td>\n",
              "      <td>L1Unstructured_abs</td>\n",
              "      <td>200.0</td>\n",
              "    </tr>\n",
              "    <tr>\n",
              "      <th>578</th>\n",
              "      <td>model.35.9.8</td>\n",
              "      <td>0.000271</td>\n",
              "      <td>41.696013</td>\n",
              "      <td>0.979616</td>\n",
              "      <td>0.152714</td>\n",
              "      <td>100339</td>\n",
              "      <td>100.0</td>\n",
              "      <td>6.124207</td>\n",
              "      <td>L1Unstructured</td>\n",
              "      <td>L1Unstructured_abs</td>\n",
              "      <td>200.0</td>\n",
              "    </tr>\n",
              "    <tr>\n",
              "      <th>579</th>\n",
              "      <td>model.35.9.9</td>\n",
              "      <td>0.000271</td>\n",
              "      <td>41.696013</td>\n",
              "      <td>0.979616</td>\n",
              "      <td>0.152576</td>\n",
              "      <td>100339</td>\n",
              "      <td>100.0</td>\n",
              "      <td>6.124207</td>\n",
              "      <td>L1Unstructured</td>\n",
              "      <td>L1Unstructured_abs</td>\n",
              "      <td>200.0</td>\n",
              "    </tr>\n",
              "  </tbody>\n",
              "</table>\n",
              "</div>"
            ],
            "text/plain": [
              "       model_name       mse  ...        quant_tech_2  prune_amount\n",
              "575  model.35.9.5  0.000271  ...  L1Unstructured_abs         200.0\n",
              "576  model.35.9.6  0.000271  ...  L1Unstructured_abs         200.0\n",
              "577  model.35.9.7  0.000271  ...  L1Unstructured_abs         200.0\n",
              "578  model.35.9.8  0.000271  ...  L1Unstructured_abs         200.0\n",
              "579  model.35.9.9  0.000271  ...  L1Unstructured_abs         200.0\n",
              "\n",
              "[5 rows x 11 columns]"
            ]
          },
          "metadata": {
            "tags": []
          },
          "execution_count": 21
        }
      ]
    },
    {
      "cell_type": "code",
      "metadata": {
        "id": "qMArsBIFplk6",
        "outputId": "dde8a930-a8b3-4239-8d2a-6bc9a0d12f6c",
        "colab": {
          "base_uri": "https://localhost:8080/",
          "height": 542
        }
      },
      "source": [
        "hue = 'quant_tech'; x = 'bpp'; y = 'psnr_db'\n",
        "fig = px.scatter(df[df[f\"{hue}\"] != 'Basic'], x=f\"{x}\", y=f\"{y}\", color=f\"{hue}\", \n",
        "                 # marginal_y=\"violin\", marginal_x=\"box\", trendline=\"ols\",\n",
        "                 template=DASH_TEMPLATES_LIST[2])\n",
        "fig.update_layout(template = DASH_TEMPLATES_LIST[2], title_text=f'{y.upper()} | Groupped by {hue} | dataframes')"
      ],
      "execution_count": 14,
      "outputs": [
        {
          "output_type": "display_data",
          "data": {
            "text/html": [
              "<html>\n",
              "<head><meta charset=\"utf-8\" /></head>\n",
              "<body>\n",
              "    <div>\n",
              "            <script src=\"https://cdnjs.cloudflare.com/ajax/libs/mathjax/2.7.5/MathJax.js?config=TeX-AMS-MML_SVG\"></script><script type=\"text/javascript\">if (window.MathJax) {MathJax.Hub.Config({SVG: {font: \"STIX-Web\"}});}</script>\n",
              "                <script type=\"text/javascript\">window.PlotlyConfig = {MathJaxConfig: 'local'};</script>\n",
              "        <script src=\"https://cdn.plot.ly/plotly-latest.min.js\"></script>    \n",
              "            <div id=\"149794be-8aba-4488-8505-d65c5f6d6268\" class=\"plotly-graph-div\" style=\"height:525px; width:100%;\"></div>\n",
              "            <script type=\"text/javascript\">\n",
              "                \n",
              "                    window.PLOTLYENV=window.PLOTLYENV || {};\n",
              "                    \n",
              "                if (document.getElementById(\"149794be-8aba-4488-8505-d65c5f6d6268\")) {\n",
              "                    Plotly.newPlot(\n",
              "                        '149794be-8aba-4488-8505-d65c5f6d6268',\n",
              "                        [{\"hoverlabel\": {\"namelength\": 0}, \"hovertemplate\": \"quant_tech=RandomUnstructured<br>bpp=%{x}<br>psnr_db=%{y}\", \"legendgroup\": \"quant_tech=RandomUnstructured\", \"marker\": {\"color\": \"#636efa\", \"symbol\": \"circle\"}, \"mode\": \"markers\", \"name\": \"quant_tech=RandomUnstructured\", \"showlegend\": true, \"type\": \"scatter\", \"x\": [6.12420654296875, 6.12420654296875, 6.12420654296875, 6.12420654296875, 6.12420654296875, 6.12420654296875, 6.12420654296875, 6.12420654296875, 6.12420654296875, 6.12420654296875, 6.12420654296875, 6.12420654296875, 6.12420654296875, 6.12420654296875, 6.12420654296875, 6.12420654296875, 6.12420654296875, 6.12420654296875, 6.12420654296875, 6.12420654296875, 6.12420654296875, 6.12420654296875, 6.12420654296875, 6.12420654296875, 6.12420654296875, 6.12420654296875, 6.12420654296875, 6.12420654296875, 6.12420654296875, 6.12420654296875, 6.12420654296875, 6.12420654296875, 6.12420654296875, 6.12420654296875, 6.12420654296875, 6.12420654296875, 6.12420654296875, 6.12420654296875, 6.12420654296875, 6.12420654296875, 6.12420654296875, 6.12420654296875, 6.12420654296875, 6.12420654296875, 6.12420654296875, 6.12420654296875, 6.12420654296875, 6.12420654296875, 6.12420654296875, 6.12420654296875, 6.12420654296875, 6.12420654296875, 6.12420654296875, 6.12420654296875, 6.12420654296875, 6.12420654296875, 6.12420654296875, 6.12420654296875, 6.12420654296875, 6.12420654296875, 6.12420654296875, 6.12420654296875, 6.12420654296875, 6.12420654296875, 6.12420654296875, 6.12420654296875, 6.12420654296875, 6.12420654296875, 6.12420654296875, 6.12420654296875, 6.12420654296875, 6.12420654296875, 6.12420654296875, 6.12420654296875, 6.12420654296875, 6.12420654296875, 6.12420654296875, 6.12420654296875, 6.12420654296875, 6.12420654296875, 6.12420654296875, 6.12420654296875, 6.12420654296875, 6.12420654296875, 6.12420654296875, 6.12420654296875, 6.12420654296875, 6.12420654296875, 6.12420654296875, 6.12420654296875, 6.12420654296875, 6.12420654296875, 6.12420654296875, 6.12420654296875, 6.12420654296875, 6.12420654296875, 6.12420654296875, 6.12420654296875, 6.12420654296875, 6.12420654296875, 6.12420654296875, 6.12420654296875, 6.12420654296875, 6.12420654296875, 6.12420654296875, 6.12420654296875, 6.12420654296875, 6.12420654296875, 6.12420654296875, 6.12420654296875, 6.12420654296875, 6.12420654296875, 6.12420654296875, 6.12420654296875, 6.12420654296875, 6.12420654296875, 6.12420654296875, 6.12420654296875, 6.12420654296875, 6.12420654296875, 6.12420654296875, 6.12420654296875, 6.12420654296875, 6.12420654296875, 6.12420654296875, 6.12420654296875, 6.12420654296875, 6.12420654296875, 6.12420654296875, 6.12420654296875, 6.12420654296875, 6.12420654296875, 6.12420654296875, 6.12420654296875, 6.12420654296875, 6.12420654296875, 6.12420654296875, 6.12420654296875, 6.12420654296875, 6.12420654296875, 6.12420654296875, 6.12420654296875, 6.12420654296875, 6.12420654296875, 6.12420654296875, 6.12420654296875, 6.12420654296875, 6.12420654296875, 6.12420654296875, 6.12420654296875, 6.12420654296875, 6.12420654296875, 6.12420654296875, 6.12420654296875, 6.12420654296875, 6.12420654296875, 6.12420654296875, 6.12420654296875, 6.12420654296875, 6.12420654296875, 6.12420654296875, 6.12420654296875, 6.12420654296875, 6.12420654296875, 6.12420654296875, 6.12420654296875, 6.12420654296875, 6.12420654296875, 6.12420654296875, 6.12420654296875, 6.12420654296875, 6.12420654296875, 6.12420654296875, 6.12420654296875, 6.12420654296875, 6.12420654296875, 6.12420654296875, 6.12420654296875, 6.12420654296875, 6.12420654296875, 6.12420654296875, 6.12420654296875, 6.12420654296875, 6.12420654296875, 6.12420654296875, 6.12420654296875, 6.12420654296875, 6.12420654296875, 6.12420654296875, 6.12420654296875, 6.12420654296875, 6.12420654296875, 6.12420654296875, 6.12420654296875, 6.12420654296875, 6.12420654296875, 6.12420654296875, 6.12420654296875, 6.12420654296875, 6.12420654296875, 6.12420654296875, 6.12420654296875, 6.12420654296875, 6.12420654296875, 6.12420654296875, 6.12420654296875, 6.12420654296875, 6.12420654296875, 6.12420654296875, 6.12420654296875, 6.12420654296875, 6.12420654296875, 6.12420654296875, 6.12420654296875, 6.12420654296875, 6.12420654296875, 6.12420654296875, 6.12420654296875, 6.12420654296875, 6.12420654296875, 6.12420654296875, 6.12420654296875, 6.12420654296875, 6.12420654296875, 6.12420654296875, 6.12420654296875, 6.12420654296875, 6.12420654296875, 6.12420654296875, 6.12420654296875, 6.12420654296875, 6.12420654296875, 6.12420654296875, 6.12420654296875, 6.12420654296875, 6.12420654296875, 6.12420654296875, 6.12420654296875, 6.12420654296875, 6.12420654296875, 6.12420654296875, 6.12420654296875, 6.12420654296875, 6.12420654296875, 6.12420654296875, 6.12420654296875, 6.12420654296875, 6.12420654296875, 6.12420654296875, 6.12420654296875, 6.12420654296875, 6.12420654296875, 6.12420654296875, 6.12420654296875, 6.12420654296875, 6.12420654296875, 6.12420654296875, 6.12420654296875, 6.12420654296875, 6.12420654296875, 6.12420654296875, 6.12420654296875, 6.12420654296875, 6.12420654296875, 6.12420654296875, 6.12420654296875, 6.12420654296875, 6.12420654296875, 6.12420654296875, 6.12420654296875, 6.12420654296875, 6.12420654296875, 6.12420654296875, 6.12420654296875, 6.12420654296875, 6.12420654296875, 6.12420654296875, 6.12420654296875, 6.12420654296875, 6.12420654296875, 6.12420654296875, 6.12420654296875, 6.12420654296875, 6.12420654296875, 6.12420654296875, 6.12420654296875, 6.12420654296875, 6.12420654296875, 6.12420654296875, 6.12420654296875], \"xaxis\": \"x\", \"y\": [13.888062482795027, 12.972257843366627, 17.250423469619378, 16.54289775348704, 13.766441082378151, 15.422056060034885, 16.196135110483848, 14.521359905817311, 15.928491286983745, 16.472570453483648, 13.413262937512098, 12.95096666013468, 12.775590626665128, 15.038829863365107, 12.5855668619485, 12.2994851634148, 12.749808637244733, 13.736806062654948, 14.238407080478375, 15.504991150893725, 11.722980466131132, 12.143707408682387, 12.494316357253828, 14.353942911781216, 11.567169052757473, 10.773023205954564, 12.713866467302628, 12.867337264722662, 12.075163644841487, 12.838576011233311, 11.688720116699734, 12.100837912816928, 11.498655841459017, 12.892982915873187, 11.221122893940878, 10.588993661616223, 11.764160280066932, 12.265609274682078, 11.787529523047054, 12.641445686178018, 11.288369823415476, 11.480481709051508, 11.3642841055811, 11.893650273471264, 11.128717823297922, 10.188006182908826, 11.07219186864424, 11.720675552436006, 11.051927033447518, 11.547176922227285, 10.910732662955835, 10.292376448874156, 11.042525176948669, 10.305286608731194, 10.620546310973836, 9.852000081430235, 10.755834319797893, 11.80072491041414, 10.223673583342752, 10.819050002243323, 10.247719054784373, 10.350110811184724, 10.883051967368033, 10.269521039180773, 10.635345013521004, 9.899669909756714, 10.756898808709717, 11.420309310446232, 9.62181596352769, 9.856755294724614, 10.263295907798044, 10.610018139552471, 11.065891211763098, 10.404677072145779, 10.186870856656551, 9.407630080789877, 10.76450830524692, 11.195399373950412, 9.542235636514901, 9.84672567750626, 9.690107997656696, 10.687123521845912, 10.309659268437263, 10.074792253486493, 10.027437359153431, 9.472830899379062, 10.79774122962153, 10.840584184346637, 9.300687092050277, 9.334935727777712, 10.539380832063824, 10.677537783757991, 10.694132345777843, 9.19110476185288, 9.745137205086406, 8.974933127604908, 10.744615547614668, 10.349873162192065, 9.893789675311833, 8.399285415533635, 10.864366259923349, 10.744840523862514, 9.775879044155383, 9.65711968888576, 9.814441487855326, 8.794977700536823, 10.645429215490461, 9.302850677300741, 9.497231497965902, 8.454838843473206, 10.113970971546225, 10.92129488855912, 8.707393014838791, 9.01864852263652, 9.91843379698112, 9.513848715695726, 11.14009178632354, 9.494552847646537, 9.558619375000612, 8.119656126358098, 10.650622364663658, 11.067093904174532, 8.069490746190287, 8.689616363118558, 9.757248528755886, 9.61332104671413, 10.584894470615763, 8.861452845382951, 10.117229306139803, 9.3759681692502, 9.893115992942963, 10.861995078890207, 9.415115684859972, 9.818263810659042, 10.572658710090838, 8.780897346175161, 10.658832596775355, 10.544138414707572, 9.874761319047094, 10.562717907498204, 10.126335047615921, 10.655656686310977, 9.739614129827883, 9.945778769878514, 10.085524049661359, 9.597934015386636, 10.280871452432454, 10.410475747799149, 9.6462029542672, 10.579220272479297, 10.323052733126518, 10.54143246796934, 9.941357836559401, 10.304319890702935, 10.152214485354547, 10.484108761119042, 10.266432225673896, 10.205039799732162, 10.302568061922328, 10.258427199741046, 9.971337399563227, 10.239774503449846, 9.858529095302057, 10.70687781626324, 9.742832479200246, 10.6336890848159, 10.457547918473733, 10.077401159633654, 10.29816723695831, 10.21378413914459, 27.42317510237068, 30.99310847114816, 28.58508705774777, 25.981145617809037, 26.07551993997103, 29.22493420464962, 26.185147483938145, 26.660279966341065, 25.177432520240803, 28.065241638181227, 21.759411905884495, 24.83682062221521, 25.047991906653234, 22.34678619860761, 23.317272781778396, 26.7747534285568, 21.87348894271778, 23.22301711168408, 22.076387880029177, 25.03340956755459, 21.34161962966502, 14.449764553698802, 23.1357541168571, 21.72641191251159, 21.057279984299946, 24.40921498767525, 20.317901060441894, 22.03754186170997, 21.469272888022644, 22.38716765296392, 20.3916361772437, 14.353417158813555, 21.77584893639524, 21.376757776390786, 20.37151212274056, 22.16547964554, 19.18804429234725, 21.32134415575056, 20.401463796373275, 20.103656663814142, 14.632899635290592, 14.315316385312029, 19.70418873780818, 20.00889531036996, 20.007629059756983, 21.26781727952289, 18.781803824503637, 20.021633289286413, 19.704082314197613, 18.987825374878952, 14.471287051495745, 14.149055983657274, 19.041001834361246, 18.420574344093566, 18.29593064431041, 20.966080894280434, 17.86679214789735, 19.671978615958004, 18.93112404196239, 18.68069580226472, 14.467676429282804, 13.982504369250515, 18.77221921773189, 17.6429706120378, 17.851159855334046, 16.0563930084571, 17.59769125019254, 14.796625839823186, 18.763251575153628, 17.975829786809317, 14.244432677007012, 13.994121281603, 18.247004557646697, 17.291731290023026, 13.84427529200775, 15.967879159941642, 16.990715994692216, 14.790365387455113, 18.25427722903991, 17.291613031718516, 14.069756654104207, 13.897308665470364, 18.126936757611233, 17.092159644005235, 13.767046729395355, 16.00125709819961, 16.36962533910706, 14.814693388542356, 18.018518445531008, 17.15981898956533, 13.937288587522858, 14.081597345030382, 17.83781448620467, 16.749455170942788, 13.676379541062314, 15.710477078126356, 16.300592224315412, 14.70354840526278, 17.817065558391448, 17.123056862709383, 13.512545738848727, 13.043195146506296, 15.920923544374089, 15.940173520126299, 13.447482204301428, 13.78988828592873, 13.417677235885527, 14.129340189044216, 15.356774118672956, 16.123954321590148, 13.450288980079026, 12.832816503976936, 13.555500527154694, 15.136551241368792, 12.616343386304605, 13.40449131520969, 13.022949839459205, 13.799798784088516, 14.614432631534546, 15.585715632281962], \"yaxis\": \"y\"}, {\"hoverlabel\": {\"namelength\": 0}, \"hovertemplate\": \"quant_tech=L1Unstructured<br>bpp=%{x}<br>psnr_db=%{y}\", \"legendgroup\": \"quant_tech=L1Unstructured\", \"marker\": {\"color\": \"#EF553B\", \"symbol\": \"circle\"}, \"mode\": \"markers\", \"name\": \"quant_tech=L1Unstructured\", \"showlegend\": true, \"type\": \"scatter\", \"x\": [6.12420654296875, 6.12420654296875, 6.12420654296875, 6.12420654296875, 6.12420654296875, 6.12420654296875, 6.12420654296875, 6.12420654296875, 6.12420654296875, 6.12420654296875, 6.12420654296875, 6.12420654296875, 6.12420654296875, 6.12420654296875, 6.12420654296875, 6.12420654296875, 6.12420654296875, 6.12420654296875, 6.12420654296875, 6.12420654296875, 6.12420654296875, 6.12420654296875, 6.12420654296875, 6.12420654296875, 6.12420654296875, 6.12420654296875, 6.12420654296875, 6.12420654296875, 6.12420654296875, 6.12420654296875, 6.12420654296875, 6.12420654296875, 6.12420654296875, 6.12420654296875, 6.12420654296875, 6.12420654296875, 6.12420654296875, 6.12420654296875, 6.12420654296875, 6.12420654296875, 6.12420654296875, 6.12420654296875, 6.12420654296875, 6.12420654296875, 6.12420654296875, 6.12420654296875, 6.12420654296875, 6.12420654296875, 6.12420654296875, 6.12420654296875, 6.12420654296875, 6.12420654296875, 6.12420654296875, 6.12420654296875, 6.12420654296875, 6.12420654296875, 6.12420654296875, 6.12420654296875, 6.12420654296875, 6.12420654296875, 6.12420654296875, 6.12420654296875, 6.12420654296875, 6.12420654296875, 6.12420654296875, 6.12420654296875, 6.12420654296875, 6.12420654296875, 6.12420654296875, 6.12420654296875, 6.12420654296875, 6.12420654296875, 6.12420654296875, 6.12420654296875, 6.12420654296875, 6.12420654296875, 6.12420654296875, 6.12420654296875, 6.12420654296875, 6.12420654296875, 6.12420654296875, 6.12420654296875, 6.12420654296875, 6.12420654296875, 6.12420654296875, 6.12420654296875, 6.12420654296875, 6.12420654296875, 6.12420654296875, 6.12420654296875, 6.12420654296875, 6.12420654296875, 6.12420654296875, 6.12420654296875, 6.12420654296875, 6.12420654296875, 6.12420654296875, 6.12420654296875, 6.12420654296875, 6.12420654296875, 6.12420654296875, 6.12420654296875, 6.12420654296875, 6.12420654296875, 6.12420654296875, 6.12420654296875, 6.12420654296875, 6.12420654296875, 6.12420654296875, 6.12420654296875, 6.12420654296875, 6.12420654296875, 6.12420654296875, 6.12420654296875, 6.12420654296875, 6.12420654296875, 6.12420654296875, 6.12420654296875, 6.12420654296875, 6.12420654296875, 6.12420654296875, 6.12420654296875, 6.12420654296875, 6.12420654296875, 6.12420654296875, 6.12420654296875, 6.12420654296875, 6.12420654296875, 6.12420654296875, 6.12420654296875, 6.12420654296875, 6.12420654296875, 6.12420654296875, 6.12420654296875, 6.12420654296875, 6.12420654296875, 6.12420654296875, 6.12420654296875, 6.12420654296875, 6.12420654296875, 6.12420654296875, 6.12420654296875, 6.12420654296875, 6.12420654296875, 6.12420654296875, 6.12420654296875, 6.12420654296875, 6.12420654296875, 6.12420654296875, 6.12420654296875, 6.12420654296875, 6.12420654296875, 6.12420654296875, 6.12420654296875, 6.12420654296875, 6.12420654296875, 6.12420654296875, 6.12420654296875, 6.12420654296875, 6.12420654296875, 6.12420654296875, 6.12420654296875, 6.12420654296875, 6.12420654296875, 6.12420654296875, 6.12420654296875, 6.12420654296875, 6.12420654296875, 6.12420654296875, 6.12420654296875, 6.12420654296875, 6.12420654296875, 6.12420654296875, 6.12420654296875, 6.12420654296875, 6.12420654296875, 6.12420654296875, 6.12420654296875, 6.12420654296875, 6.12420654296875, 6.12420654296875, 6.12420654296875, 6.12420654296875, 6.12420654296875, 6.12420654296875, 6.12420654296875, 6.12420654296875, 6.12420654296875, 6.12420654296875, 6.12420654296875, 6.12420654296875, 6.12420654296875, 6.12420654296875, 6.12420654296875, 6.12420654296875, 6.12420654296875, 6.12420654296875, 6.12420654296875, 6.12420654296875, 6.12420654296875, 6.12420654296875, 6.12420654296875, 6.12420654296875, 6.12420654296875, 6.12420654296875, 6.12420654296875, 6.12420654296875, 6.12420654296875, 6.12420654296875, 6.12420654296875, 6.12420654296875, 6.12420654296875, 6.12420654296875, 6.12420654296875, 6.12420654296875, 6.12420654296875, 6.12420654296875, 6.12420654296875, 6.12420654296875, 6.12420654296875, 6.12420654296875, 6.12420654296875, 6.12420654296875, 6.12420654296875, 6.12420654296875, 6.12420654296875, 6.12420654296875, 6.12420654296875, 6.12420654296875, 6.12420654296875, 6.12420654296875, 6.12420654296875, 6.12420654296875, 6.12420654296875, 6.12420654296875, 6.12420654296875, 6.12420654296875, 6.12420654296875, 6.12420654296875, 6.12420654296875, 6.12420654296875, 6.12420654296875, 6.12420654296875, 6.12420654296875, 6.12420654296875, 6.12420654296875, 6.12420654296875, 6.12420654296875, 6.12420654296875, 6.12420654296875, 6.12420654296875, 6.12420654296875, 6.12420654296875, 6.12420654296875, 6.12420654296875, 6.12420654296875, 6.12420654296875, 6.12420654296875, 6.12420654296875, 6.12420654296875, 6.12420654296875, 6.12420654296875, 6.12420654296875, 6.12420654296875, 6.12420654296875, 6.12420654296875, 6.12420654296875, 6.12420654296875, 6.12420654296875, 6.12420654296875, 6.12420654296875, 6.12420654296875, 6.12420654296875, 6.12420654296875, 6.12420654296875, 6.12420654296875, 6.12420654296875, 6.12420654296875, 6.12420654296875, 6.12420654296875, 6.12420654296875, 6.12420654296875, 6.12420654296875, 6.12420654296875, 6.12420654296875, 6.12420654296875, 6.12420654296875, 6.12420654296875, 6.12420654296875, 6.12420654296875], \"xaxis\": \"x\", \"y\": [42.31413435474404, 42.31413435474404, 42.31413435474404, 42.31413435474404, 42.31413435474404, 42.31413435474404, 42.31413435474404, 42.31413435474404, 42.31413435474404, 42.31413435474404, 41.4000758111692, 41.4000758111692, 41.4000758111692, 41.4000758111692, 41.4000758111692, 41.4000758111692, 41.4000758111692, 41.4000758111692, 41.4000758111692, 41.4000758111692, 39.435642944848325, 39.435642944848325, 39.435642944848325, 39.435642944848325, 39.435642944848325, 39.435642944848325, 39.435642944848325, 39.435642944848325, 39.435642944848325, 39.435642944848325, 37.28537707439258, 37.28537707439258, 37.28537707439258, 37.28537707439258, 37.28537707439258, 37.28537707439258, 37.28537707439258, 37.28537707439258, 37.28537707439258, 37.28537707439258, 35.11083418992514, 35.11083418992514, 35.11083418992514, 35.11083418992514, 35.11083418992514, 35.11083418992514, 35.11083418992514, 35.11083418992514, 35.11083418992514, 35.11083418992514, 33.31476954755652, 33.31476954755652, 33.31476954755652, 33.31476954755652, 33.31476954755652, 33.31476954755652, 33.31476954755652, 33.31476954755652, 33.31476954755652, 33.31476954755652, 31.22103261767672, 31.22103261767672, 31.22103261767672, 31.22103261767672, 31.22103261767672, 31.22103261767672, 31.22103261767672, 31.22103261767672, 31.22103261767672, 31.22103261767672, 29.514347962799626, 29.514347962799626, 29.514347962799626, 29.514347962799626, 29.514347962799626, 29.514347962799626, 29.514347962799626, 29.514347962799626, 29.514347962799626, 29.514347962799626, 27.03558718236748, 27.03558718236748, 27.03558718236748, 27.03558718236748, 27.03558718236748, 27.03558718236748, 27.03558718236748, 27.03558718236748, 27.03558718236748, 27.03558718236748, 18.461622580487187, 18.461622580487187, 18.461622580487187, 18.461622580487187, 18.461622580487187, 18.461622580487187, 18.461622580487187, 18.461622580487187, 18.461622580487187, 18.461622580487187, 14.392113259927592, 14.392113259927592, 14.392113259927592, 14.392113259927592, 14.392113259927592, 14.392113259927592, 14.392113259927592, 14.392113259927592, 14.392113259927592, 14.392113259927592, 11.524025654528561, 11.524025654528561, 11.524025654528561, 11.524025654528561, 11.524025654528561, 11.524025654528561, 11.524025654528561, 11.524025654528561, 11.524025654528561, 11.524025654528561, 9.834488849634257, 9.834488849634257, 9.834488849634257, 9.834488849634257, 9.834488849634257, 9.834488849634257, 9.834488849634257, 9.834488849634257, 9.834488849634257, 9.834488849634257, 8.75272199542942, 8.75272199542942, 8.75272199542942, 8.75272199542942, 8.75272199542942, 8.75272199542942, 8.75272199542942, 8.75272199542942, 8.75272199542942, 8.75272199542942, 10.18627348317235, 10.18627348317235, 10.18627348317235, 10.18627348317235, 10.18627348317235, 10.18627348317235, 10.18627348317235, 10.18627348317235, 10.18627348317235, 10.18627348317235, 8.557425524685188, 8.557425524685188, 8.557425524685188, 8.557425524685188, 8.557425524685188, 8.557425524685188, 8.557425524685188, 8.557425524685188, 8.557425524685188, 8.557425524685188, 10.093274854670913, 10.093274854670913, 10.093274854670913, 10.093274854670913, 10.093274854670913, 10.093274854670913, 10.093274854670913, 10.093274854670913, 10.093274854670913, 10.093274854670913, 42.48184125754185, 42.48184125754185, 42.48184125754185, 42.48184125754185, 42.48184125754185, 42.48184125754185, 42.48184125754185, 42.48184125754185, 42.48184125754185, 42.48184125754185, 42.48346545087576, 42.48346545087576, 42.48346545087576, 42.48346545087576, 42.48346545087576, 42.48346545087576, 42.48346545087576, 42.48346545087576, 42.48346545087576, 42.48346545087576, 42.474392412844175, 42.474392412844175, 42.474392412844175, 42.474392412844175, 42.474392412844175, 42.474392412844175, 42.474392412844175, 42.474392412844175, 42.474392412844175, 42.474392412844175, 42.45624625470924, 42.45624625470924, 42.45624625470924, 42.45624625470924, 42.45624625470924, 42.45624625470924, 42.45624625470924, 42.45624625470924, 42.45624625470924, 42.45624625470924, 42.440862879481024, 42.440862879481024, 42.440862879481024, 42.440862879481024, 42.440862879481024, 42.440862879481024, 42.440862879481024, 42.440862879481024, 42.440862879481024, 42.440862879481024, 42.44689191779741, 42.44689191779741, 42.44689191779741, 42.44689191779741, 42.44689191779741, 42.44689191779741, 42.44689191779741, 42.44689191779741, 42.44689191779741, 42.44689191779741, 42.434894386644075, 42.434894386644075, 42.434894386644075, 42.434894386644075, 42.434894386644075, 42.434894386644075, 42.434894386644075, 42.434894386644075, 42.434894386644075, 42.434894386644075, 42.441628174047324, 42.441628174047324, 42.441628174047324, 42.441628174047324, 42.441628174047324, 42.441628174047324, 42.441628174047324, 42.441628174047324, 42.441628174047324, 42.441628174047324, 42.38509379087945, 42.38509379087945, 42.38509379087945, 42.38509379087945, 42.38509379087945, 42.38509379087945, 42.38509379087945, 42.38509379087945, 42.38509379087945, 42.38509379087945, 42.35131486853915, 42.35131486853915, 42.35131486853915, 42.35131486853915, 42.35131486853915, 42.35131486853915, 42.35131486853915, 42.35131486853915, 42.35131486853915, 42.35131486853915, 42.04994641778676, 42.04994641778676, 42.04994641778676, 42.04994641778676, 42.04994641778676, 42.04994641778676, 42.04994641778676, 42.04994641778676, 42.04994641778676, 42.04994641778676, 41.69601270253682, 41.69601270253682, 41.69601270253682, 41.69601270253682, 41.69601270253682, 41.69601270253682, 41.69601270253682, 41.69601270253682, 41.69601270253682, 41.69601270253682], \"yaxis\": \"y\"}],\n",
              "                        {\"legend\": {\"tracegroupgap\": 0}, \"margin\": {\"t\": 60}, \"template\": {\"data\": {\"bar\": [{\"error_x\": {\"color\": \"#f2f5fa\"}, \"error_y\": {\"color\": \"#f2f5fa\"}, \"marker\": {\"line\": {\"color\": \"rgb(17,17,17)\", \"width\": 0.5}}, \"type\": \"bar\"}], \"barpolar\": [{\"marker\": {\"line\": {\"color\": \"rgb(17,17,17)\", \"width\": 0.5}}, \"type\": \"barpolar\"}], \"carpet\": [{\"aaxis\": {\"endlinecolor\": \"#A2B1C6\", \"gridcolor\": \"#506784\", \"linecolor\": \"#506784\", \"minorgridcolor\": \"#506784\", \"startlinecolor\": \"#A2B1C6\"}, \"baxis\": {\"endlinecolor\": \"#A2B1C6\", \"gridcolor\": \"#506784\", \"linecolor\": \"#506784\", \"minorgridcolor\": \"#506784\", \"startlinecolor\": \"#A2B1C6\"}, \"type\": \"carpet\"}], \"choropleth\": [{\"colorbar\": {\"outlinewidth\": 0, \"ticks\": \"\"}, \"type\": \"choropleth\"}], \"contour\": [{\"colorbar\": {\"outlinewidth\": 0, \"ticks\": \"\"}, \"colorscale\": [[0.0, \"#0d0887\"], [0.1111111111111111, \"#46039f\"], [0.2222222222222222, \"#7201a8\"], [0.3333333333333333, \"#9c179e\"], [0.4444444444444444, \"#bd3786\"], [0.5555555555555556, \"#d8576b\"], [0.6666666666666666, \"#ed7953\"], [0.7777777777777778, \"#fb9f3a\"], [0.8888888888888888, \"#fdca26\"], [1.0, \"#f0f921\"]], \"type\": \"contour\"}], \"contourcarpet\": [{\"colorbar\": {\"outlinewidth\": 0, \"ticks\": \"\"}, \"type\": \"contourcarpet\"}], \"heatmap\": [{\"colorbar\": {\"outlinewidth\": 0, \"ticks\": \"\"}, \"colorscale\": [[0.0, \"#0d0887\"], [0.1111111111111111, \"#46039f\"], [0.2222222222222222, \"#7201a8\"], [0.3333333333333333, \"#9c179e\"], [0.4444444444444444, \"#bd3786\"], [0.5555555555555556, \"#d8576b\"], [0.6666666666666666, \"#ed7953\"], [0.7777777777777778, \"#fb9f3a\"], [0.8888888888888888, \"#fdca26\"], [1.0, \"#f0f921\"]], \"type\": \"heatmap\"}], \"heatmapgl\": [{\"colorbar\": {\"outlinewidth\": 0, \"ticks\": \"\"}, \"colorscale\": [[0.0, \"#0d0887\"], [0.1111111111111111, \"#46039f\"], [0.2222222222222222, \"#7201a8\"], [0.3333333333333333, \"#9c179e\"], [0.4444444444444444, \"#bd3786\"], [0.5555555555555556, \"#d8576b\"], [0.6666666666666666, \"#ed7953\"], [0.7777777777777778, \"#fb9f3a\"], [0.8888888888888888, \"#fdca26\"], [1.0, \"#f0f921\"]], \"type\": \"heatmapgl\"}], \"histogram\": [{\"marker\": {\"colorbar\": {\"outlinewidth\": 0, \"ticks\": \"\"}}, \"type\": \"histogram\"}], \"histogram2d\": [{\"colorbar\": {\"outlinewidth\": 0, \"ticks\": \"\"}, \"colorscale\": [[0.0, \"#0d0887\"], [0.1111111111111111, \"#46039f\"], [0.2222222222222222, \"#7201a8\"], [0.3333333333333333, \"#9c179e\"], [0.4444444444444444, \"#bd3786\"], [0.5555555555555556, \"#d8576b\"], [0.6666666666666666, \"#ed7953\"], [0.7777777777777778, \"#fb9f3a\"], [0.8888888888888888, \"#fdca26\"], [1.0, \"#f0f921\"]], \"type\": \"histogram2d\"}], \"histogram2dcontour\": [{\"colorbar\": {\"outlinewidth\": 0, \"ticks\": \"\"}, \"colorscale\": [[0.0, \"#0d0887\"], [0.1111111111111111, \"#46039f\"], [0.2222222222222222, \"#7201a8\"], [0.3333333333333333, \"#9c179e\"], [0.4444444444444444, \"#bd3786\"], [0.5555555555555556, \"#d8576b\"], [0.6666666666666666, \"#ed7953\"], [0.7777777777777778, \"#fb9f3a\"], [0.8888888888888888, \"#fdca26\"], [1.0, \"#f0f921\"]], \"type\": \"histogram2dcontour\"}], \"mesh3d\": [{\"colorbar\": {\"outlinewidth\": 0, \"ticks\": \"\"}, \"type\": \"mesh3d\"}], \"parcoords\": [{\"line\": {\"colorbar\": {\"outlinewidth\": 0, \"ticks\": \"\"}}, \"type\": \"parcoords\"}], \"pie\": [{\"automargin\": true, \"type\": \"pie\"}], \"scatter\": [{\"marker\": {\"line\": {\"color\": \"#283442\"}}, \"type\": \"scatter\"}], \"scatter3d\": [{\"line\": {\"colorbar\": {\"outlinewidth\": 0, \"ticks\": \"\"}}, \"marker\": {\"colorbar\": {\"outlinewidth\": 0, \"ticks\": \"\"}}, \"type\": \"scatter3d\"}], \"scattercarpet\": [{\"marker\": {\"colorbar\": {\"outlinewidth\": 0, \"ticks\": \"\"}}, \"type\": \"scattercarpet\"}], \"scattergeo\": [{\"marker\": {\"colorbar\": {\"outlinewidth\": 0, \"ticks\": \"\"}}, \"type\": \"scattergeo\"}], \"scattergl\": [{\"marker\": {\"line\": {\"color\": \"#283442\"}}, \"type\": \"scattergl\"}], \"scattermapbox\": [{\"marker\": {\"colorbar\": {\"outlinewidth\": 0, \"ticks\": \"\"}}, \"type\": \"scattermapbox\"}], \"scatterpolar\": [{\"marker\": {\"colorbar\": {\"outlinewidth\": 0, \"ticks\": \"\"}}, \"type\": \"scatterpolar\"}], \"scatterpolargl\": [{\"marker\": {\"colorbar\": {\"outlinewidth\": 0, \"ticks\": \"\"}}, \"type\": \"scatterpolargl\"}], \"scatterternary\": [{\"marker\": {\"colorbar\": {\"outlinewidth\": 0, \"ticks\": \"\"}}, \"type\": \"scatterternary\"}], \"surface\": [{\"colorbar\": {\"outlinewidth\": 0, \"ticks\": \"\"}, \"colorscale\": [[0.0, \"#0d0887\"], [0.1111111111111111, \"#46039f\"], [0.2222222222222222, \"#7201a8\"], [0.3333333333333333, \"#9c179e\"], [0.4444444444444444, \"#bd3786\"], [0.5555555555555556, \"#d8576b\"], [0.6666666666666666, \"#ed7953\"], [0.7777777777777778, \"#fb9f3a\"], [0.8888888888888888, \"#fdca26\"], [1.0, \"#f0f921\"]], \"type\": \"surface\"}], \"table\": [{\"cells\": {\"fill\": {\"color\": \"#506784\"}, \"line\": {\"color\": \"rgb(17,17,17)\"}}, \"header\": {\"fill\": {\"color\": \"#2a3f5f\"}, \"line\": {\"color\": \"rgb(17,17,17)\"}}, \"type\": \"table\"}]}, \"layout\": {\"annotationdefaults\": {\"arrowcolor\": \"#f2f5fa\", \"arrowhead\": 0, \"arrowwidth\": 1}, \"coloraxis\": {\"colorbar\": {\"outlinewidth\": 0, \"ticks\": \"\"}}, \"colorscale\": {\"diverging\": [[0, \"#8e0152\"], [0.1, \"#c51b7d\"], [0.2, \"#de77ae\"], [0.3, \"#f1b6da\"], [0.4, \"#fde0ef\"], [0.5, \"#f7f7f7\"], [0.6, \"#e6f5d0\"], [0.7, \"#b8e186\"], [0.8, \"#7fbc41\"], [0.9, \"#4d9221\"], [1, \"#276419\"]], \"sequential\": [[0.0, \"#0d0887\"], [0.1111111111111111, \"#46039f\"], [0.2222222222222222, \"#7201a8\"], [0.3333333333333333, \"#9c179e\"], [0.4444444444444444, \"#bd3786\"], [0.5555555555555556, \"#d8576b\"], [0.6666666666666666, \"#ed7953\"], [0.7777777777777778, \"#fb9f3a\"], [0.8888888888888888, \"#fdca26\"], [1.0, \"#f0f921\"]], \"sequentialminus\": [[0.0, \"#0d0887\"], [0.1111111111111111, \"#46039f\"], [0.2222222222222222, \"#7201a8\"], [0.3333333333333333, \"#9c179e\"], [0.4444444444444444, \"#bd3786\"], [0.5555555555555556, \"#d8576b\"], [0.6666666666666666, \"#ed7953\"], [0.7777777777777778, \"#fb9f3a\"], [0.8888888888888888, \"#fdca26\"], [1.0, \"#f0f921\"]]}, \"colorway\": [\"#636efa\", \"#EF553B\", \"#00cc96\", \"#ab63fa\", \"#FFA15A\", \"#19d3f3\", \"#FF6692\", \"#B6E880\", \"#FF97FF\", \"#FECB52\"], \"font\": {\"color\": \"#f2f5fa\"}, \"geo\": {\"bgcolor\": \"rgb(17,17,17)\", \"lakecolor\": \"rgb(17,17,17)\", \"landcolor\": \"rgb(17,17,17)\", \"showlakes\": true, \"showland\": true, \"subunitcolor\": \"#506784\"}, \"hoverlabel\": {\"align\": \"left\"}, \"hovermode\": \"closest\", \"mapbox\": {\"style\": \"dark\"}, \"paper_bgcolor\": \"rgb(17,17,17)\", \"plot_bgcolor\": \"rgb(17,17,17)\", \"polar\": {\"angularaxis\": {\"gridcolor\": \"#506784\", \"linecolor\": \"#506784\", \"ticks\": \"\"}, \"bgcolor\": \"rgb(17,17,17)\", \"radialaxis\": {\"gridcolor\": \"#506784\", \"linecolor\": \"#506784\", \"ticks\": \"\"}}, \"scene\": {\"xaxis\": {\"backgroundcolor\": \"rgb(17,17,17)\", \"gridcolor\": \"#506784\", \"gridwidth\": 2, \"linecolor\": \"#506784\", \"showbackground\": true, \"ticks\": \"\", \"zerolinecolor\": \"#C8D4E3\"}, \"yaxis\": {\"backgroundcolor\": \"rgb(17,17,17)\", \"gridcolor\": \"#506784\", \"gridwidth\": 2, \"linecolor\": \"#506784\", \"showbackground\": true, \"ticks\": \"\", \"zerolinecolor\": \"#C8D4E3\"}, \"zaxis\": {\"backgroundcolor\": \"rgb(17,17,17)\", \"gridcolor\": \"#506784\", \"gridwidth\": 2, \"linecolor\": \"#506784\", \"showbackground\": true, \"ticks\": \"\", \"zerolinecolor\": \"#C8D4E3\"}}, \"shapedefaults\": {\"line\": {\"color\": \"#f2f5fa\"}}, \"sliderdefaults\": {\"bgcolor\": \"#C8D4E3\", \"bordercolor\": \"rgb(17,17,17)\", \"borderwidth\": 1, \"tickwidth\": 0}, \"ternary\": {\"aaxis\": {\"gridcolor\": \"#506784\", \"linecolor\": \"#506784\", \"ticks\": \"\"}, \"baxis\": {\"gridcolor\": \"#506784\", \"linecolor\": \"#506784\", \"ticks\": \"\"}, \"bgcolor\": \"rgb(17,17,17)\", \"caxis\": {\"gridcolor\": \"#506784\", \"linecolor\": \"#506784\", \"ticks\": \"\"}}, \"title\": {\"x\": 0.05}, \"updatemenudefaults\": {\"bgcolor\": \"#506784\", \"borderwidth\": 0}, \"xaxis\": {\"automargin\": true, \"gridcolor\": \"#283442\", \"linecolor\": \"#506784\", \"ticks\": \"\", \"title\": {\"standoff\": 15}, \"zerolinecolor\": \"#283442\", \"zerolinewidth\": 2}, \"yaxis\": {\"automargin\": true, \"gridcolor\": \"#283442\", \"linecolor\": \"#506784\", \"ticks\": \"\", \"title\": {\"standoff\": 15}, \"zerolinecolor\": \"#283442\", \"zerolinewidth\": 2}}}, \"title\": {\"text\": \"PSNR_DB | Groupped by quant_tech | dataframes\"}, \"xaxis\": {\"anchor\": \"y\", \"domain\": [0.0, 1.0], \"title\": {\"text\": \"bpp\"}}, \"yaxis\": {\"anchor\": \"x\", \"domain\": [0.0, 1.0], \"title\": {\"text\": \"psnr_db\"}}},\n",
              "                        {\"responsive\": true}\n",
              "                    ).then(function(){\n",
              "                            \n",
              "var gd = document.getElementById('149794be-8aba-4488-8505-d65c5f6d6268');\n",
              "var x = new MutationObserver(function (mutations, observer) {{\n",
              "        var display = window.getComputedStyle(gd).display;\n",
              "        if (!display || display === 'none') {{\n",
              "            console.log([gd, 'removed!']);\n",
              "            Plotly.purge(gd);\n",
              "            observer.disconnect();\n",
              "        }}\n",
              "}});\n",
              "\n",
              "// Listen for the removal of the full notebook cells\n",
              "var notebookContainer = gd.closest('#notebook-container');\n",
              "if (notebookContainer) {{\n",
              "    x.observe(notebookContainer, {childList: true});\n",
              "}}\n",
              "\n",
              "// Listen for the clearing of the current output cell\n",
              "var outputEl = gd.closest('.output');\n",
              "if (outputEl) {{\n",
              "    x.observe(outputEl, {childList: true});\n",
              "}}\n",
              "\n",
              "                        })\n",
              "                };\n",
              "                \n",
              "            </script>\n",
              "        </div>\n",
              "</body>\n",
              "</html>"
            ]
          },
          "metadata": {
            "tags": []
          }
        }
      ]
    },
    {
      "cell_type": "code",
      "metadata": {
        "id": "gkTxmdlKpqP8",
        "outputId": "99dff6b1-81b5-443a-c326-3180d7698656",
        "colab": {
          "base_uri": "https://localhost:8080/",
          "height": 542
        }
      },
      "source": [
        "hue = 'quant_tech_2'; x = 'bpp'; y = 'psnr_db'\n",
        "fig = px.scatter(df[df[f\"{hue}\"] != 'Basic'], x=f\"{x}\", y=f\"{y}\", color=f\"{hue}\", \n",
        "                 # marginal_y=\"violin\", marginal_x=\"box\", trendline=\"ols\",\n",
        "                 template=DASH_TEMPLATES_LIST[2])\n",
        "fig.update_layout(template = DASH_TEMPLATES_LIST[2], title_text=f'{y.upper()} | Groupped by {hue} | dataframes')"
      ],
      "execution_count": 15,
      "outputs": [
        {
          "output_type": "display_data",
          "data": {
            "text/html": [
              "<html>\n",
              "<head><meta charset=\"utf-8\" /></head>\n",
              "<body>\n",
              "    <div>\n",
              "            <script src=\"https://cdnjs.cloudflare.com/ajax/libs/mathjax/2.7.5/MathJax.js?config=TeX-AMS-MML_SVG\"></script><script type=\"text/javascript\">if (window.MathJax) {MathJax.Hub.Config({SVG: {font: \"STIX-Web\"}});}</script>\n",
              "                <script type=\"text/javascript\">window.PlotlyConfig = {MathJaxConfig: 'local'};</script>\n",
              "        <script src=\"https://cdn.plot.ly/plotly-latest.min.js\"></script>    \n",
              "            <div id=\"23e7658c-5f92-4aa2-a89b-4dd8b0cbe2e3\" class=\"plotly-graph-div\" style=\"height:525px; width:100%;\"></div>\n",
              "            <script type=\"text/javascript\">\n",
              "                \n",
              "                    window.PLOTLYENV=window.PLOTLYENV || {};\n",
              "                    \n",
              "                if (document.getElementById(\"23e7658c-5f92-4aa2-a89b-4dd8b0cbe2e3\")) {\n",
              "                    Plotly.newPlot(\n",
              "                        '23e7658c-5f92-4aa2-a89b-4dd8b0cbe2e3',\n",
              "                        [{\"hoverlabel\": {\"namelength\": 0}, \"hovertemplate\": \"quant_tech_2=RandomUnstructured_rate<br>bpp=%{x}<br>psnr_db=%{y}\", \"legendgroup\": \"quant_tech_2=RandomUnstructured_rate\", \"marker\": {\"color\": \"#636efa\", \"symbol\": \"circle\"}, \"mode\": \"markers\", \"name\": \"quant_tech_2=RandomUnstructured_rate\", \"showlegend\": true, \"type\": \"scatter\", \"x\": [6.12420654296875, 6.12420654296875, 6.12420654296875, 6.12420654296875, 6.12420654296875, 6.12420654296875, 6.12420654296875, 6.12420654296875, 6.12420654296875, 6.12420654296875, 6.12420654296875, 6.12420654296875, 6.12420654296875, 6.12420654296875, 6.12420654296875, 6.12420654296875, 6.12420654296875, 6.12420654296875, 6.12420654296875, 6.12420654296875, 6.12420654296875, 6.12420654296875, 6.12420654296875, 6.12420654296875, 6.12420654296875, 6.12420654296875, 6.12420654296875, 6.12420654296875, 6.12420654296875, 6.12420654296875, 6.12420654296875, 6.12420654296875, 6.12420654296875, 6.12420654296875, 6.12420654296875, 6.12420654296875, 6.12420654296875, 6.12420654296875, 6.12420654296875, 6.12420654296875, 6.12420654296875, 6.12420654296875, 6.12420654296875, 6.12420654296875, 6.12420654296875, 6.12420654296875, 6.12420654296875, 6.12420654296875, 6.12420654296875, 6.12420654296875, 6.12420654296875, 6.12420654296875, 6.12420654296875, 6.12420654296875, 6.12420654296875, 6.12420654296875, 6.12420654296875, 6.12420654296875, 6.12420654296875, 6.12420654296875, 6.12420654296875, 6.12420654296875, 6.12420654296875, 6.12420654296875, 6.12420654296875, 6.12420654296875, 6.12420654296875, 6.12420654296875, 6.12420654296875, 6.12420654296875, 6.12420654296875, 6.12420654296875, 6.12420654296875, 6.12420654296875, 6.12420654296875, 6.12420654296875, 6.12420654296875, 6.12420654296875, 6.12420654296875, 6.12420654296875, 6.12420654296875, 6.12420654296875, 6.12420654296875, 6.12420654296875, 6.12420654296875, 6.12420654296875, 6.12420654296875, 6.12420654296875, 6.12420654296875, 6.12420654296875, 6.12420654296875, 6.12420654296875, 6.12420654296875, 6.12420654296875, 6.12420654296875, 6.12420654296875, 6.12420654296875, 6.12420654296875, 6.12420654296875, 6.12420654296875, 6.12420654296875, 6.12420654296875, 6.12420654296875, 6.12420654296875, 6.12420654296875, 6.12420654296875, 6.12420654296875, 6.12420654296875, 6.12420654296875, 6.12420654296875, 6.12420654296875, 6.12420654296875, 6.12420654296875, 6.12420654296875, 6.12420654296875, 6.12420654296875, 6.12420654296875, 6.12420654296875, 6.12420654296875, 6.12420654296875, 6.12420654296875, 6.12420654296875, 6.12420654296875, 6.12420654296875, 6.12420654296875, 6.12420654296875, 6.12420654296875, 6.12420654296875, 6.12420654296875, 6.12420654296875, 6.12420654296875, 6.12420654296875, 6.12420654296875, 6.12420654296875, 6.12420654296875, 6.12420654296875, 6.12420654296875, 6.12420654296875, 6.12420654296875, 6.12420654296875, 6.12420654296875, 6.12420654296875, 6.12420654296875, 6.12420654296875, 6.12420654296875, 6.12420654296875, 6.12420654296875, 6.12420654296875, 6.12420654296875, 6.12420654296875, 6.12420654296875, 6.12420654296875, 6.12420654296875, 6.12420654296875, 6.12420654296875, 6.12420654296875, 6.12420654296875, 6.12420654296875, 6.12420654296875, 6.12420654296875, 6.12420654296875, 6.12420654296875, 6.12420654296875, 6.12420654296875, 6.12420654296875, 6.12420654296875, 6.12420654296875, 6.12420654296875, 6.12420654296875, 6.12420654296875], \"xaxis\": \"x\", \"y\": [13.888062482795027, 12.972257843366627, 17.250423469619378, 16.54289775348704, 13.766441082378151, 15.422056060034885, 16.196135110483848, 14.521359905817311, 15.928491286983745, 16.472570453483648, 13.413262937512098, 12.95096666013468, 12.775590626665128, 15.038829863365107, 12.5855668619485, 12.2994851634148, 12.749808637244733, 13.736806062654948, 14.238407080478375, 15.504991150893725, 11.722980466131132, 12.143707408682387, 12.494316357253828, 14.353942911781216, 11.567169052757473, 10.773023205954564, 12.713866467302628, 12.867337264722662, 12.075163644841487, 12.838576011233311, 11.688720116699734, 12.100837912816928, 11.498655841459017, 12.892982915873187, 11.221122893940878, 10.588993661616223, 11.764160280066932, 12.265609274682078, 11.787529523047054, 12.641445686178018, 11.288369823415476, 11.480481709051508, 11.3642841055811, 11.893650273471264, 11.128717823297922, 10.188006182908826, 11.07219186864424, 11.720675552436006, 11.051927033447518, 11.547176922227285, 10.910732662955835, 10.292376448874156, 11.042525176948669, 10.305286608731194, 10.620546310973836, 9.852000081430235, 10.755834319797893, 11.80072491041414, 10.223673583342752, 10.819050002243323, 10.247719054784373, 10.350110811184724, 10.883051967368033, 10.269521039180773, 10.635345013521004, 9.899669909756714, 10.756898808709717, 11.420309310446232, 9.62181596352769, 9.856755294724614, 10.263295907798044, 10.610018139552471, 11.065891211763098, 10.404677072145779, 10.186870856656551, 9.407630080789877, 10.76450830524692, 11.195399373950412, 9.542235636514901, 9.84672567750626, 9.690107997656696, 10.687123521845912, 10.309659268437263, 10.074792253486493, 10.027437359153431, 9.472830899379062, 10.79774122962153, 10.840584184346637, 9.300687092050277, 9.334935727777712, 10.539380832063824, 10.677537783757991, 10.694132345777843, 9.19110476185288, 9.745137205086406, 8.974933127604908, 10.744615547614668, 10.349873162192065, 9.893789675311833, 8.399285415533635, 10.864366259923349, 10.744840523862514, 9.775879044155383, 9.65711968888576, 9.814441487855326, 8.794977700536823, 10.645429215490461, 9.302850677300741, 9.497231497965902, 8.454838843473206, 10.113970971546225, 10.92129488855912, 8.707393014838791, 9.01864852263652, 9.91843379698112, 9.513848715695726, 11.14009178632354, 9.494552847646537, 9.558619375000612, 8.119656126358098, 10.650622364663658, 11.067093904174532, 8.069490746190287, 8.689616363118558, 9.757248528755886, 9.61332104671413, 10.584894470615763, 8.861452845382951, 10.117229306139803, 9.3759681692502, 9.893115992942963, 10.861995078890207, 9.415115684859972, 9.818263810659042, 10.572658710090838, 8.780897346175161, 10.658832596775355, 10.544138414707572, 9.874761319047094, 10.562717907498204, 10.126335047615921, 10.655656686310977, 9.739614129827883, 9.945778769878514, 10.085524049661359, 9.597934015386636, 10.280871452432454, 10.410475747799149, 9.6462029542672, 10.579220272479297, 10.323052733126518, 10.54143246796934, 9.941357836559401, 10.304319890702935, 10.152214485354547, 10.484108761119042, 10.266432225673896, 10.205039799732162, 10.302568061922328, 10.258427199741046, 9.971337399563227, 10.239774503449846, 9.858529095302057, 10.70687781626324, 9.742832479200246, 10.6336890848159, 10.457547918473733, 10.077401159633654, 10.29816723695831, 10.21378413914459], \"yaxis\": \"y\"}, {\"hoverlabel\": {\"namelength\": 0}, \"hovertemplate\": \"quant_tech_2=L1Unstructured_rate<br>bpp=%{x}<br>psnr_db=%{y}\", \"legendgroup\": \"quant_tech_2=L1Unstructured_rate\", \"marker\": {\"color\": \"#EF553B\", \"symbol\": \"circle\"}, \"mode\": \"markers\", \"name\": \"quant_tech_2=L1Unstructured_rate\", \"showlegend\": true, \"type\": \"scatter\", \"x\": [6.12420654296875, 6.12420654296875, 6.12420654296875, 6.12420654296875, 6.12420654296875, 6.12420654296875, 6.12420654296875, 6.12420654296875, 6.12420654296875, 6.12420654296875, 6.12420654296875, 6.12420654296875, 6.12420654296875, 6.12420654296875, 6.12420654296875, 6.12420654296875, 6.12420654296875, 6.12420654296875, 6.12420654296875, 6.12420654296875, 6.12420654296875, 6.12420654296875, 6.12420654296875, 6.12420654296875, 6.12420654296875, 6.12420654296875, 6.12420654296875, 6.12420654296875, 6.12420654296875, 6.12420654296875, 6.12420654296875, 6.12420654296875, 6.12420654296875, 6.12420654296875, 6.12420654296875, 6.12420654296875, 6.12420654296875, 6.12420654296875, 6.12420654296875, 6.12420654296875, 6.12420654296875, 6.12420654296875, 6.12420654296875, 6.12420654296875, 6.12420654296875, 6.12420654296875, 6.12420654296875, 6.12420654296875, 6.12420654296875, 6.12420654296875, 6.12420654296875, 6.12420654296875, 6.12420654296875, 6.12420654296875, 6.12420654296875, 6.12420654296875, 6.12420654296875, 6.12420654296875, 6.12420654296875, 6.12420654296875, 6.12420654296875, 6.12420654296875, 6.12420654296875, 6.12420654296875, 6.12420654296875, 6.12420654296875, 6.12420654296875, 6.12420654296875, 6.12420654296875, 6.12420654296875, 6.12420654296875, 6.12420654296875, 6.12420654296875, 6.12420654296875, 6.12420654296875, 6.12420654296875, 6.12420654296875, 6.12420654296875, 6.12420654296875, 6.12420654296875, 6.12420654296875, 6.12420654296875, 6.12420654296875, 6.12420654296875, 6.12420654296875, 6.12420654296875, 6.12420654296875, 6.12420654296875, 6.12420654296875, 6.12420654296875, 6.12420654296875, 6.12420654296875, 6.12420654296875, 6.12420654296875, 6.12420654296875, 6.12420654296875, 6.12420654296875, 6.12420654296875, 6.12420654296875, 6.12420654296875, 6.12420654296875, 6.12420654296875, 6.12420654296875, 6.12420654296875, 6.12420654296875, 6.12420654296875, 6.12420654296875, 6.12420654296875, 6.12420654296875, 6.12420654296875, 6.12420654296875, 6.12420654296875, 6.12420654296875, 6.12420654296875, 6.12420654296875, 6.12420654296875, 6.12420654296875, 6.12420654296875, 6.12420654296875, 6.12420654296875, 6.12420654296875, 6.12420654296875, 6.12420654296875, 6.12420654296875, 6.12420654296875, 6.12420654296875, 6.12420654296875, 6.12420654296875, 6.12420654296875, 6.12420654296875, 6.12420654296875, 6.12420654296875, 6.12420654296875, 6.12420654296875, 6.12420654296875, 6.12420654296875, 6.12420654296875, 6.12420654296875, 6.12420654296875, 6.12420654296875, 6.12420654296875, 6.12420654296875, 6.12420654296875, 6.12420654296875, 6.12420654296875, 6.12420654296875, 6.12420654296875, 6.12420654296875, 6.12420654296875, 6.12420654296875, 6.12420654296875, 6.12420654296875, 6.12420654296875, 6.12420654296875, 6.12420654296875, 6.12420654296875, 6.12420654296875, 6.12420654296875, 6.12420654296875, 6.12420654296875, 6.12420654296875, 6.12420654296875, 6.12420654296875, 6.12420654296875, 6.12420654296875, 6.12420654296875, 6.12420654296875, 6.12420654296875, 6.12420654296875, 6.12420654296875], \"xaxis\": \"x\", \"y\": [42.31413435474404, 42.31413435474404, 42.31413435474404, 42.31413435474404, 42.31413435474404, 42.31413435474404, 42.31413435474404, 42.31413435474404, 42.31413435474404, 42.31413435474404, 41.4000758111692, 41.4000758111692, 41.4000758111692, 41.4000758111692, 41.4000758111692, 41.4000758111692, 41.4000758111692, 41.4000758111692, 41.4000758111692, 41.4000758111692, 39.435642944848325, 39.435642944848325, 39.435642944848325, 39.435642944848325, 39.435642944848325, 39.435642944848325, 39.435642944848325, 39.435642944848325, 39.435642944848325, 39.435642944848325, 37.28537707439258, 37.28537707439258, 37.28537707439258, 37.28537707439258, 37.28537707439258, 37.28537707439258, 37.28537707439258, 37.28537707439258, 37.28537707439258, 37.28537707439258, 35.11083418992514, 35.11083418992514, 35.11083418992514, 35.11083418992514, 35.11083418992514, 35.11083418992514, 35.11083418992514, 35.11083418992514, 35.11083418992514, 35.11083418992514, 33.31476954755652, 33.31476954755652, 33.31476954755652, 33.31476954755652, 33.31476954755652, 33.31476954755652, 33.31476954755652, 33.31476954755652, 33.31476954755652, 33.31476954755652, 31.22103261767672, 31.22103261767672, 31.22103261767672, 31.22103261767672, 31.22103261767672, 31.22103261767672, 31.22103261767672, 31.22103261767672, 31.22103261767672, 31.22103261767672, 29.514347962799626, 29.514347962799626, 29.514347962799626, 29.514347962799626, 29.514347962799626, 29.514347962799626, 29.514347962799626, 29.514347962799626, 29.514347962799626, 29.514347962799626, 27.03558718236748, 27.03558718236748, 27.03558718236748, 27.03558718236748, 27.03558718236748, 27.03558718236748, 27.03558718236748, 27.03558718236748, 27.03558718236748, 27.03558718236748, 18.461622580487187, 18.461622580487187, 18.461622580487187, 18.461622580487187, 18.461622580487187, 18.461622580487187, 18.461622580487187, 18.461622580487187, 18.461622580487187, 18.461622580487187, 14.392113259927592, 14.392113259927592, 14.392113259927592, 14.392113259927592, 14.392113259927592, 14.392113259927592, 14.392113259927592, 14.392113259927592, 14.392113259927592, 14.392113259927592, 11.524025654528561, 11.524025654528561, 11.524025654528561, 11.524025654528561, 11.524025654528561, 11.524025654528561, 11.524025654528561, 11.524025654528561, 11.524025654528561, 11.524025654528561, 9.834488849634257, 9.834488849634257, 9.834488849634257, 9.834488849634257, 9.834488849634257, 9.834488849634257, 9.834488849634257, 9.834488849634257, 9.834488849634257, 9.834488849634257, 8.75272199542942, 8.75272199542942, 8.75272199542942, 8.75272199542942, 8.75272199542942, 8.75272199542942, 8.75272199542942, 8.75272199542942, 8.75272199542942, 8.75272199542942, 10.18627348317235, 10.18627348317235, 10.18627348317235, 10.18627348317235, 10.18627348317235, 10.18627348317235, 10.18627348317235, 10.18627348317235, 10.18627348317235, 10.18627348317235, 8.557425524685188, 8.557425524685188, 8.557425524685188, 8.557425524685188, 8.557425524685188, 8.557425524685188, 8.557425524685188, 8.557425524685188, 8.557425524685188, 8.557425524685188, 10.093274854670913, 10.093274854670913, 10.093274854670913, 10.093274854670913, 10.093274854670913, 10.093274854670913, 10.093274854670913, 10.093274854670913, 10.093274854670913, 10.093274854670913], \"yaxis\": \"y\"}, {\"hoverlabel\": {\"namelength\": 0}, \"hovertemplate\": \"quant_tech_2=RandomUnstructured_abs<br>bpp=%{x}<br>psnr_db=%{y}\", \"legendgroup\": \"quant_tech_2=RandomUnstructured_abs\", \"marker\": {\"color\": \"#00cc96\", \"symbol\": \"circle\"}, \"mode\": \"markers\", \"name\": \"quant_tech_2=RandomUnstructured_abs\", \"showlegend\": true, \"type\": \"scatter\", \"x\": [6.12420654296875, 6.12420654296875, 6.12420654296875, 6.12420654296875, 6.12420654296875, 6.12420654296875, 6.12420654296875, 6.12420654296875, 6.12420654296875, 6.12420654296875, 6.12420654296875, 6.12420654296875, 6.12420654296875, 6.12420654296875, 6.12420654296875, 6.12420654296875, 6.12420654296875, 6.12420654296875, 6.12420654296875, 6.12420654296875, 6.12420654296875, 6.12420654296875, 6.12420654296875, 6.12420654296875, 6.12420654296875, 6.12420654296875, 6.12420654296875, 6.12420654296875, 6.12420654296875, 6.12420654296875, 6.12420654296875, 6.12420654296875, 6.12420654296875, 6.12420654296875, 6.12420654296875, 6.12420654296875, 6.12420654296875, 6.12420654296875, 6.12420654296875, 6.12420654296875, 6.12420654296875, 6.12420654296875, 6.12420654296875, 6.12420654296875, 6.12420654296875, 6.12420654296875, 6.12420654296875, 6.12420654296875, 6.12420654296875, 6.12420654296875, 6.12420654296875, 6.12420654296875, 6.12420654296875, 6.12420654296875, 6.12420654296875, 6.12420654296875, 6.12420654296875, 6.12420654296875, 6.12420654296875, 6.12420654296875, 6.12420654296875, 6.12420654296875, 6.12420654296875, 6.12420654296875, 6.12420654296875, 6.12420654296875, 6.12420654296875, 6.12420654296875, 6.12420654296875, 6.12420654296875, 6.12420654296875, 6.12420654296875, 6.12420654296875, 6.12420654296875, 6.12420654296875, 6.12420654296875, 6.12420654296875, 6.12420654296875, 6.12420654296875, 6.12420654296875, 6.12420654296875, 6.12420654296875, 6.12420654296875, 6.12420654296875, 6.12420654296875, 6.12420654296875, 6.12420654296875, 6.12420654296875, 6.12420654296875, 6.12420654296875, 6.12420654296875, 6.12420654296875, 6.12420654296875, 6.12420654296875, 6.12420654296875, 6.12420654296875, 6.12420654296875, 6.12420654296875, 6.12420654296875, 6.12420654296875, 6.12420654296875, 6.12420654296875, 6.12420654296875, 6.12420654296875, 6.12420654296875, 6.12420654296875, 6.12420654296875, 6.12420654296875, 6.12420654296875, 6.12420654296875, 6.12420654296875, 6.12420654296875, 6.12420654296875, 6.12420654296875, 6.12420654296875, 6.12420654296875, 6.12420654296875, 6.12420654296875, 6.12420654296875, 6.12420654296875], \"xaxis\": \"x\", \"y\": [27.42317510237068, 30.99310847114816, 28.58508705774777, 25.981145617809037, 26.07551993997103, 29.22493420464962, 26.185147483938145, 26.660279966341065, 25.177432520240803, 28.065241638181227, 21.759411905884495, 24.83682062221521, 25.047991906653234, 22.34678619860761, 23.317272781778396, 26.7747534285568, 21.87348894271778, 23.22301711168408, 22.076387880029177, 25.03340956755459, 21.34161962966502, 14.449764553698802, 23.1357541168571, 21.72641191251159, 21.057279984299946, 24.40921498767525, 20.317901060441894, 22.03754186170997, 21.469272888022644, 22.38716765296392, 20.3916361772437, 14.353417158813555, 21.77584893639524, 21.376757776390786, 20.37151212274056, 22.16547964554, 19.18804429234725, 21.32134415575056, 20.401463796373275, 20.103656663814142, 14.632899635290592, 14.315316385312029, 19.70418873780818, 20.00889531036996, 20.007629059756983, 21.26781727952289, 18.781803824503637, 20.021633289286413, 19.704082314197613, 18.987825374878952, 14.471287051495745, 14.149055983657274, 19.041001834361246, 18.420574344093566, 18.29593064431041, 20.966080894280434, 17.86679214789735, 19.671978615958004, 18.93112404196239, 18.68069580226472, 14.467676429282804, 13.982504369250515, 18.77221921773189, 17.6429706120378, 17.851159855334046, 16.0563930084571, 17.59769125019254, 14.796625839823186, 18.763251575153628, 17.975829786809317, 14.244432677007012, 13.994121281603, 18.247004557646697, 17.291731290023026, 13.84427529200775, 15.967879159941642, 16.990715994692216, 14.790365387455113, 18.25427722903991, 17.291613031718516, 14.069756654104207, 13.897308665470364, 18.126936757611233, 17.092159644005235, 13.767046729395355, 16.00125709819961, 16.36962533910706, 14.814693388542356, 18.018518445531008, 17.15981898956533, 13.937288587522858, 14.081597345030382, 17.83781448620467, 16.749455170942788, 13.676379541062314, 15.710477078126356, 16.300592224315412, 14.70354840526278, 17.817065558391448, 17.123056862709383, 13.512545738848727, 13.043195146506296, 15.920923544374089, 15.940173520126299, 13.447482204301428, 13.78988828592873, 13.417677235885527, 14.129340189044216, 15.356774118672956, 16.123954321590148, 13.450288980079026, 12.832816503976936, 13.555500527154694, 15.136551241368792, 12.616343386304605, 13.40449131520969, 13.022949839459205, 13.799798784088516, 14.614432631534546, 15.585715632281962], \"yaxis\": \"y\"}, {\"hoverlabel\": {\"namelength\": 0}, \"hovertemplate\": \"quant_tech_2=L1Unstructured_abs<br>bpp=%{x}<br>psnr_db=%{y}\", \"legendgroup\": \"quant_tech_2=L1Unstructured_abs\", \"marker\": {\"color\": \"#ab63fa\", \"symbol\": \"circle\"}, \"mode\": \"markers\", \"name\": \"quant_tech_2=L1Unstructured_abs\", \"showlegend\": true, \"type\": \"scatter\", \"x\": [6.12420654296875, 6.12420654296875, 6.12420654296875, 6.12420654296875, 6.12420654296875, 6.12420654296875, 6.12420654296875, 6.12420654296875, 6.12420654296875, 6.12420654296875, 6.12420654296875, 6.12420654296875, 6.12420654296875, 6.12420654296875, 6.12420654296875, 6.12420654296875, 6.12420654296875, 6.12420654296875, 6.12420654296875, 6.12420654296875, 6.12420654296875, 6.12420654296875, 6.12420654296875, 6.12420654296875, 6.12420654296875, 6.12420654296875, 6.12420654296875, 6.12420654296875, 6.12420654296875, 6.12420654296875, 6.12420654296875, 6.12420654296875, 6.12420654296875, 6.12420654296875, 6.12420654296875, 6.12420654296875, 6.12420654296875, 6.12420654296875, 6.12420654296875, 6.12420654296875, 6.12420654296875, 6.12420654296875, 6.12420654296875, 6.12420654296875, 6.12420654296875, 6.12420654296875, 6.12420654296875, 6.12420654296875, 6.12420654296875, 6.12420654296875, 6.12420654296875, 6.12420654296875, 6.12420654296875, 6.12420654296875, 6.12420654296875, 6.12420654296875, 6.12420654296875, 6.12420654296875, 6.12420654296875, 6.12420654296875, 6.12420654296875, 6.12420654296875, 6.12420654296875, 6.12420654296875, 6.12420654296875, 6.12420654296875, 6.12420654296875, 6.12420654296875, 6.12420654296875, 6.12420654296875, 6.12420654296875, 6.12420654296875, 6.12420654296875, 6.12420654296875, 6.12420654296875, 6.12420654296875, 6.12420654296875, 6.12420654296875, 6.12420654296875, 6.12420654296875, 6.12420654296875, 6.12420654296875, 6.12420654296875, 6.12420654296875, 6.12420654296875, 6.12420654296875, 6.12420654296875, 6.12420654296875, 6.12420654296875, 6.12420654296875, 6.12420654296875, 6.12420654296875, 6.12420654296875, 6.12420654296875, 6.12420654296875, 6.12420654296875, 6.12420654296875, 6.12420654296875, 6.12420654296875, 6.12420654296875, 6.12420654296875, 6.12420654296875, 6.12420654296875, 6.12420654296875, 6.12420654296875, 6.12420654296875, 6.12420654296875, 6.12420654296875, 6.12420654296875, 6.12420654296875, 6.12420654296875, 6.12420654296875, 6.12420654296875, 6.12420654296875, 6.12420654296875, 6.12420654296875, 6.12420654296875, 6.12420654296875, 6.12420654296875, 6.12420654296875], \"xaxis\": \"x\", \"y\": [42.48184125754185, 42.48184125754185, 42.48184125754185, 42.48184125754185, 42.48184125754185, 42.48184125754185, 42.48184125754185, 42.48184125754185, 42.48184125754185, 42.48184125754185, 42.48346545087576, 42.48346545087576, 42.48346545087576, 42.48346545087576, 42.48346545087576, 42.48346545087576, 42.48346545087576, 42.48346545087576, 42.48346545087576, 42.48346545087576, 42.474392412844175, 42.474392412844175, 42.474392412844175, 42.474392412844175, 42.474392412844175, 42.474392412844175, 42.474392412844175, 42.474392412844175, 42.474392412844175, 42.474392412844175, 42.45624625470924, 42.45624625470924, 42.45624625470924, 42.45624625470924, 42.45624625470924, 42.45624625470924, 42.45624625470924, 42.45624625470924, 42.45624625470924, 42.45624625470924, 42.440862879481024, 42.440862879481024, 42.440862879481024, 42.440862879481024, 42.440862879481024, 42.440862879481024, 42.440862879481024, 42.440862879481024, 42.440862879481024, 42.440862879481024, 42.44689191779741, 42.44689191779741, 42.44689191779741, 42.44689191779741, 42.44689191779741, 42.44689191779741, 42.44689191779741, 42.44689191779741, 42.44689191779741, 42.44689191779741, 42.434894386644075, 42.434894386644075, 42.434894386644075, 42.434894386644075, 42.434894386644075, 42.434894386644075, 42.434894386644075, 42.434894386644075, 42.434894386644075, 42.434894386644075, 42.441628174047324, 42.441628174047324, 42.441628174047324, 42.441628174047324, 42.441628174047324, 42.441628174047324, 42.441628174047324, 42.441628174047324, 42.441628174047324, 42.441628174047324, 42.38509379087945, 42.38509379087945, 42.38509379087945, 42.38509379087945, 42.38509379087945, 42.38509379087945, 42.38509379087945, 42.38509379087945, 42.38509379087945, 42.38509379087945, 42.35131486853915, 42.35131486853915, 42.35131486853915, 42.35131486853915, 42.35131486853915, 42.35131486853915, 42.35131486853915, 42.35131486853915, 42.35131486853915, 42.35131486853915, 42.04994641778676, 42.04994641778676, 42.04994641778676, 42.04994641778676, 42.04994641778676, 42.04994641778676, 42.04994641778676, 42.04994641778676, 42.04994641778676, 42.04994641778676, 41.69601270253682, 41.69601270253682, 41.69601270253682, 41.69601270253682, 41.69601270253682, 41.69601270253682, 41.69601270253682, 41.69601270253682, 41.69601270253682, 41.69601270253682], \"yaxis\": \"y\"}],\n",
              "                        {\"legend\": {\"tracegroupgap\": 0}, \"margin\": {\"t\": 60}, \"template\": {\"data\": {\"bar\": [{\"error_x\": {\"color\": \"#f2f5fa\"}, \"error_y\": {\"color\": \"#f2f5fa\"}, \"marker\": {\"line\": {\"color\": \"rgb(17,17,17)\", \"width\": 0.5}}, \"type\": \"bar\"}], \"barpolar\": [{\"marker\": {\"line\": {\"color\": \"rgb(17,17,17)\", \"width\": 0.5}}, \"type\": \"barpolar\"}], \"carpet\": [{\"aaxis\": {\"endlinecolor\": \"#A2B1C6\", \"gridcolor\": \"#506784\", \"linecolor\": \"#506784\", \"minorgridcolor\": \"#506784\", \"startlinecolor\": \"#A2B1C6\"}, \"baxis\": {\"endlinecolor\": \"#A2B1C6\", \"gridcolor\": \"#506784\", \"linecolor\": \"#506784\", \"minorgridcolor\": \"#506784\", \"startlinecolor\": \"#A2B1C6\"}, \"type\": \"carpet\"}], \"choropleth\": [{\"colorbar\": {\"outlinewidth\": 0, \"ticks\": \"\"}, \"type\": \"choropleth\"}], \"contour\": [{\"colorbar\": {\"outlinewidth\": 0, \"ticks\": \"\"}, \"colorscale\": [[0.0, \"#0d0887\"], [0.1111111111111111, \"#46039f\"], [0.2222222222222222, \"#7201a8\"], [0.3333333333333333, \"#9c179e\"], [0.4444444444444444, \"#bd3786\"], [0.5555555555555556, \"#d8576b\"], [0.6666666666666666, \"#ed7953\"], [0.7777777777777778, \"#fb9f3a\"], [0.8888888888888888, \"#fdca26\"], [1.0, \"#f0f921\"]], \"type\": \"contour\"}], \"contourcarpet\": [{\"colorbar\": {\"outlinewidth\": 0, \"ticks\": \"\"}, \"type\": \"contourcarpet\"}], \"heatmap\": [{\"colorbar\": {\"outlinewidth\": 0, \"ticks\": \"\"}, \"colorscale\": [[0.0, \"#0d0887\"], [0.1111111111111111, \"#46039f\"], [0.2222222222222222, \"#7201a8\"], [0.3333333333333333, \"#9c179e\"], [0.4444444444444444, \"#bd3786\"], [0.5555555555555556, \"#d8576b\"], [0.6666666666666666, \"#ed7953\"], [0.7777777777777778, \"#fb9f3a\"], [0.8888888888888888, \"#fdca26\"], [1.0, \"#f0f921\"]], \"type\": \"heatmap\"}], \"heatmapgl\": [{\"colorbar\": {\"outlinewidth\": 0, \"ticks\": \"\"}, \"colorscale\": [[0.0, \"#0d0887\"], [0.1111111111111111, \"#46039f\"], [0.2222222222222222, \"#7201a8\"], [0.3333333333333333, \"#9c179e\"], [0.4444444444444444, \"#bd3786\"], [0.5555555555555556, \"#d8576b\"], [0.6666666666666666, \"#ed7953\"], [0.7777777777777778, \"#fb9f3a\"], [0.8888888888888888, \"#fdca26\"], [1.0, \"#f0f921\"]], \"type\": \"heatmapgl\"}], \"histogram\": [{\"marker\": {\"colorbar\": {\"outlinewidth\": 0, \"ticks\": \"\"}}, \"type\": \"histogram\"}], \"histogram2d\": [{\"colorbar\": {\"outlinewidth\": 0, \"ticks\": \"\"}, \"colorscale\": [[0.0, \"#0d0887\"], [0.1111111111111111, \"#46039f\"], [0.2222222222222222, \"#7201a8\"], [0.3333333333333333, \"#9c179e\"], [0.4444444444444444, \"#bd3786\"], [0.5555555555555556, \"#d8576b\"], [0.6666666666666666, \"#ed7953\"], [0.7777777777777778, \"#fb9f3a\"], [0.8888888888888888, \"#fdca26\"], [1.0, \"#f0f921\"]], \"type\": \"histogram2d\"}], \"histogram2dcontour\": [{\"colorbar\": {\"outlinewidth\": 0, \"ticks\": \"\"}, \"colorscale\": [[0.0, \"#0d0887\"], [0.1111111111111111, \"#46039f\"], [0.2222222222222222, \"#7201a8\"], [0.3333333333333333, \"#9c179e\"], [0.4444444444444444, \"#bd3786\"], [0.5555555555555556, \"#d8576b\"], [0.6666666666666666, \"#ed7953\"], [0.7777777777777778, \"#fb9f3a\"], [0.8888888888888888, \"#fdca26\"], [1.0, \"#f0f921\"]], \"type\": \"histogram2dcontour\"}], \"mesh3d\": [{\"colorbar\": {\"outlinewidth\": 0, \"ticks\": \"\"}, \"type\": \"mesh3d\"}], \"parcoords\": [{\"line\": {\"colorbar\": {\"outlinewidth\": 0, \"ticks\": \"\"}}, \"type\": \"parcoords\"}], \"pie\": [{\"automargin\": true, \"type\": \"pie\"}], \"scatter\": [{\"marker\": {\"line\": {\"color\": \"#283442\"}}, \"type\": \"scatter\"}], \"scatter3d\": [{\"line\": {\"colorbar\": {\"outlinewidth\": 0, \"ticks\": \"\"}}, \"marker\": {\"colorbar\": {\"outlinewidth\": 0, \"ticks\": \"\"}}, \"type\": \"scatter3d\"}], \"scattercarpet\": [{\"marker\": {\"colorbar\": {\"outlinewidth\": 0, \"ticks\": \"\"}}, \"type\": \"scattercarpet\"}], \"scattergeo\": [{\"marker\": {\"colorbar\": {\"outlinewidth\": 0, \"ticks\": \"\"}}, \"type\": \"scattergeo\"}], \"scattergl\": [{\"marker\": {\"line\": {\"color\": \"#283442\"}}, \"type\": \"scattergl\"}], \"scattermapbox\": [{\"marker\": {\"colorbar\": {\"outlinewidth\": 0, \"ticks\": \"\"}}, \"type\": \"scattermapbox\"}], \"scatterpolar\": [{\"marker\": {\"colorbar\": {\"outlinewidth\": 0, \"ticks\": \"\"}}, \"type\": \"scatterpolar\"}], \"scatterpolargl\": [{\"marker\": {\"colorbar\": {\"outlinewidth\": 0, \"ticks\": \"\"}}, \"type\": \"scatterpolargl\"}], \"scatterternary\": [{\"marker\": {\"colorbar\": {\"outlinewidth\": 0, \"ticks\": \"\"}}, \"type\": \"scatterternary\"}], \"surface\": [{\"colorbar\": {\"outlinewidth\": 0, \"ticks\": \"\"}, \"colorscale\": [[0.0, \"#0d0887\"], [0.1111111111111111, \"#46039f\"], [0.2222222222222222, \"#7201a8\"], [0.3333333333333333, \"#9c179e\"], [0.4444444444444444, \"#bd3786\"], [0.5555555555555556, \"#d8576b\"], [0.6666666666666666, \"#ed7953\"], [0.7777777777777778, \"#fb9f3a\"], [0.8888888888888888, \"#fdca26\"], [1.0, \"#f0f921\"]], \"type\": \"surface\"}], \"table\": [{\"cells\": {\"fill\": {\"color\": \"#506784\"}, \"line\": {\"color\": \"rgb(17,17,17)\"}}, \"header\": {\"fill\": {\"color\": \"#2a3f5f\"}, \"line\": {\"color\": \"rgb(17,17,17)\"}}, \"type\": \"table\"}]}, \"layout\": {\"annotationdefaults\": {\"arrowcolor\": \"#f2f5fa\", \"arrowhead\": 0, \"arrowwidth\": 1}, \"coloraxis\": {\"colorbar\": {\"outlinewidth\": 0, \"ticks\": \"\"}}, \"colorscale\": {\"diverging\": [[0, \"#8e0152\"], [0.1, \"#c51b7d\"], [0.2, \"#de77ae\"], [0.3, \"#f1b6da\"], [0.4, \"#fde0ef\"], [0.5, \"#f7f7f7\"], [0.6, \"#e6f5d0\"], [0.7, \"#b8e186\"], [0.8, \"#7fbc41\"], [0.9, \"#4d9221\"], [1, \"#276419\"]], \"sequential\": [[0.0, \"#0d0887\"], [0.1111111111111111, \"#46039f\"], [0.2222222222222222, \"#7201a8\"], [0.3333333333333333, \"#9c179e\"], [0.4444444444444444, \"#bd3786\"], [0.5555555555555556, \"#d8576b\"], [0.6666666666666666, \"#ed7953\"], [0.7777777777777778, \"#fb9f3a\"], [0.8888888888888888, \"#fdca26\"], [1.0, \"#f0f921\"]], \"sequentialminus\": [[0.0, \"#0d0887\"], [0.1111111111111111, \"#46039f\"], [0.2222222222222222, \"#7201a8\"], [0.3333333333333333, \"#9c179e\"], [0.4444444444444444, \"#bd3786\"], [0.5555555555555556, \"#d8576b\"], [0.6666666666666666, \"#ed7953\"], [0.7777777777777778, \"#fb9f3a\"], [0.8888888888888888, \"#fdca26\"], [1.0, \"#f0f921\"]]}, \"colorway\": [\"#636efa\", \"#EF553B\", \"#00cc96\", \"#ab63fa\", \"#FFA15A\", \"#19d3f3\", \"#FF6692\", \"#B6E880\", \"#FF97FF\", \"#FECB52\"], \"font\": {\"color\": \"#f2f5fa\"}, \"geo\": {\"bgcolor\": \"rgb(17,17,17)\", \"lakecolor\": \"rgb(17,17,17)\", \"landcolor\": \"rgb(17,17,17)\", \"showlakes\": true, \"showland\": true, \"subunitcolor\": \"#506784\"}, \"hoverlabel\": {\"align\": \"left\"}, \"hovermode\": \"closest\", \"mapbox\": {\"style\": \"dark\"}, \"paper_bgcolor\": \"rgb(17,17,17)\", \"plot_bgcolor\": \"rgb(17,17,17)\", \"polar\": {\"angularaxis\": {\"gridcolor\": \"#506784\", \"linecolor\": \"#506784\", \"ticks\": \"\"}, \"bgcolor\": \"rgb(17,17,17)\", \"radialaxis\": {\"gridcolor\": \"#506784\", \"linecolor\": \"#506784\", \"ticks\": \"\"}}, \"scene\": {\"xaxis\": {\"backgroundcolor\": \"rgb(17,17,17)\", \"gridcolor\": \"#506784\", \"gridwidth\": 2, \"linecolor\": \"#506784\", \"showbackground\": true, \"ticks\": \"\", \"zerolinecolor\": \"#C8D4E3\"}, \"yaxis\": {\"backgroundcolor\": \"rgb(17,17,17)\", \"gridcolor\": \"#506784\", \"gridwidth\": 2, \"linecolor\": \"#506784\", \"showbackground\": true, \"ticks\": \"\", \"zerolinecolor\": \"#C8D4E3\"}, \"zaxis\": {\"backgroundcolor\": \"rgb(17,17,17)\", \"gridcolor\": \"#506784\", \"gridwidth\": 2, \"linecolor\": \"#506784\", \"showbackground\": true, \"ticks\": \"\", \"zerolinecolor\": \"#C8D4E3\"}}, \"shapedefaults\": {\"line\": {\"color\": \"#f2f5fa\"}}, \"sliderdefaults\": {\"bgcolor\": \"#C8D4E3\", \"bordercolor\": \"rgb(17,17,17)\", \"borderwidth\": 1, \"tickwidth\": 0}, \"ternary\": {\"aaxis\": {\"gridcolor\": \"#506784\", \"linecolor\": \"#506784\", \"ticks\": \"\"}, \"baxis\": {\"gridcolor\": \"#506784\", \"linecolor\": \"#506784\", \"ticks\": \"\"}, \"bgcolor\": \"rgb(17,17,17)\", \"caxis\": {\"gridcolor\": \"#506784\", \"linecolor\": \"#506784\", \"ticks\": \"\"}}, \"title\": {\"x\": 0.05}, \"updatemenudefaults\": {\"bgcolor\": \"#506784\", \"borderwidth\": 0}, \"xaxis\": {\"automargin\": true, \"gridcolor\": \"#283442\", \"linecolor\": \"#506784\", \"ticks\": \"\", \"title\": {\"standoff\": 15}, \"zerolinecolor\": \"#283442\", \"zerolinewidth\": 2}, \"yaxis\": {\"automargin\": true, \"gridcolor\": \"#283442\", \"linecolor\": \"#506784\", \"ticks\": \"\", \"title\": {\"standoff\": 15}, \"zerolinecolor\": \"#283442\", \"zerolinewidth\": 2}}}, \"title\": {\"text\": \"PSNR_DB | Groupped by quant_tech_2 | dataframes\"}, \"xaxis\": {\"anchor\": \"y\", \"domain\": [0.0, 1.0], \"title\": {\"text\": \"bpp\"}}, \"yaxis\": {\"anchor\": \"x\", \"domain\": [0.0, 1.0], \"title\": {\"text\": \"psnr_db\"}}},\n",
              "                        {\"responsive\": true}\n",
              "                    ).then(function(){\n",
              "                            \n",
              "var gd = document.getElementById('23e7658c-5f92-4aa2-a89b-4dd8b0cbe2e3');\n",
              "var x = new MutationObserver(function (mutations, observer) {{\n",
              "        var display = window.getComputedStyle(gd).display;\n",
              "        if (!display || display === 'none') {{\n",
              "            console.log([gd, 'removed!']);\n",
              "            Plotly.purge(gd);\n",
              "            observer.disconnect();\n",
              "        }}\n",
              "}});\n",
              "\n",
              "// Listen for the removal of the full notebook cells\n",
              "var notebookContainer = gd.closest('#notebook-container');\n",
              "if (notebookContainer) {{\n",
              "    x.observe(notebookContainer, {childList: true});\n",
              "}}\n",
              "\n",
              "// Listen for the clearing of the current output cell\n",
              "var outputEl = gd.closest('.output');\n",
              "if (outputEl) {{\n",
              "    x.observe(outputEl, {childList: true});\n",
              "}}\n",
              "\n",
              "                        })\n",
              "                };\n",
              "                \n",
              "            </script>\n",
              "        </div>\n",
              "</body>\n",
              "</html>"
            ]
          },
          "metadata": {
            "tags": []
          }
        }
      ]
    },
    {
      "cell_type": "code",
      "metadata": {
        "id": "BWd3db-ppu7P",
        "outputId": "929279b6-bcc7-4cf1-fcb8-75b563d3f1b6",
        "colab": {
          "base_uri": "https://localhost:8080/",
          "height": 542
        }
      },
      "source": [
        "hue = 'quant_tech'; x = 'bpp'; y = 'psnr_db'\n",
        "fig = px.box(df[df[f\"{hue}\"] != 'Basic'], y=f\"{y}\", color=f\"{hue}\", \n",
        "                 # marginal_y=\"violin\", marginal_x=\"box\", trendline=\"ols\",\n",
        "                 template=DASH_TEMPLATES_LIST[2])\n",
        "fig.update_layout(template = DASH_TEMPLATES_LIST[2], title_text=f'{y.upper()} | Groupped by {hue} | dataframes')"
      ],
      "execution_count": 16,
      "outputs": [
        {
          "output_type": "display_data",
          "data": {
            "text/html": [
              "<html>\n",
              "<head><meta charset=\"utf-8\" /></head>\n",
              "<body>\n",
              "    <div>\n",
              "            <script src=\"https://cdnjs.cloudflare.com/ajax/libs/mathjax/2.7.5/MathJax.js?config=TeX-AMS-MML_SVG\"></script><script type=\"text/javascript\">if (window.MathJax) {MathJax.Hub.Config({SVG: {font: \"STIX-Web\"}});}</script>\n",
              "                <script type=\"text/javascript\">window.PlotlyConfig = {MathJaxConfig: 'local'};</script>\n",
              "        <script src=\"https://cdn.plot.ly/plotly-latest.min.js\"></script>    \n",
              "            <div id=\"42afacaa-7f1d-4d6f-9a79-706657ea8264\" class=\"plotly-graph-div\" style=\"height:525px; width:100%;\"></div>\n",
              "            <script type=\"text/javascript\">\n",
              "                \n",
              "                    window.PLOTLYENV=window.PLOTLYENV || {};\n",
              "                    \n",
              "                if (document.getElementById(\"42afacaa-7f1d-4d6f-9a79-706657ea8264\")) {\n",
              "                    Plotly.newPlot(\n",
              "                        '42afacaa-7f1d-4d6f-9a79-706657ea8264',\n",
              "                        [{\"alignmentgroup\": \"True\", \"hoverlabel\": {\"namelength\": 0}, \"hovertemplate\": \"quant_tech=RandomUnstructured<br>psnr_db=%{y}\", \"legendgroup\": \"quant_tech=RandomUnstructured\", \"marker\": {\"color\": \"#636efa\"}, \"name\": \"quant_tech=RandomUnstructured\", \"notched\": false, \"offsetgroup\": \"quant_tech=RandomUnstructured\", \"orientation\": \"v\", \"showlegend\": true, \"type\": \"box\", \"x0\": \" \", \"xaxis\": \"x\", \"y\": [13.888062482795027, 12.972257843366627, 17.250423469619378, 16.54289775348704, 13.766441082378151, 15.422056060034885, 16.196135110483848, 14.521359905817311, 15.928491286983745, 16.472570453483648, 13.413262937512098, 12.95096666013468, 12.775590626665128, 15.038829863365107, 12.5855668619485, 12.2994851634148, 12.749808637244733, 13.736806062654948, 14.238407080478375, 15.504991150893725, 11.722980466131132, 12.143707408682387, 12.494316357253828, 14.353942911781216, 11.567169052757473, 10.773023205954564, 12.713866467302628, 12.867337264722662, 12.075163644841487, 12.838576011233311, 11.688720116699734, 12.100837912816928, 11.498655841459017, 12.892982915873187, 11.221122893940878, 10.588993661616223, 11.764160280066932, 12.265609274682078, 11.787529523047054, 12.641445686178018, 11.288369823415476, 11.480481709051508, 11.3642841055811, 11.893650273471264, 11.128717823297922, 10.188006182908826, 11.07219186864424, 11.720675552436006, 11.051927033447518, 11.547176922227285, 10.910732662955835, 10.292376448874156, 11.042525176948669, 10.305286608731194, 10.620546310973836, 9.852000081430235, 10.755834319797893, 11.80072491041414, 10.223673583342752, 10.819050002243323, 10.247719054784373, 10.350110811184724, 10.883051967368033, 10.269521039180773, 10.635345013521004, 9.899669909756714, 10.756898808709717, 11.420309310446232, 9.62181596352769, 9.856755294724614, 10.263295907798044, 10.610018139552471, 11.065891211763098, 10.404677072145779, 10.186870856656551, 9.407630080789877, 10.76450830524692, 11.195399373950412, 9.542235636514901, 9.84672567750626, 9.690107997656696, 10.687123521845912, 10.309659268437263, 10.074792253486493, 10.027437359153431, 9.472830899379062, 10.79774122962153, 10.840584184346637, 9.300687092050277, 9.334935727777712, 10.539380832063824, 10.677537783757991, 10.694132345777843, 9.19110476185288, 9.745137205086406, 8.974933127604908, 10.744615547614668, 10.349873162192065, 9.893789675311833, 8.399285415533635, 10.864366259923349, 10.744840523862514, 9.775879044155383, 9.65711968888576, 9.814441487855326, 8.794977700536823, 10.645429215490461, 9.302850677300741, 9.497231497965902, 8.454838843473206, 10.113970971546225, 10.92129488855912, 8.707393014838791, 9.01864852263652, 9.91843379698112, 9.513848715695726, 11.14009178632354, 9.494552847646537, 9.558619375000612, 8.119656126358098, 10.650622364663658, 11.067093904174532, 8.069490746190287, 8.689616363118558, 9.757248528755886, 9.61332104671413, 10.584894470615763, 8.861452845382951, 10.117229306139803, 9.3759681692502, 9.893115992942963, 10.861995078890207, 9.415115684859972, 9.818263810659042, 10.572658710090838, 8.780897346175161, 10.658832596775355, 10.544138414707572, 9.874761319047094, 10.562717907498204, 10.126335047615921, 10.655656686310977, 9.739614129827883, 9.945778769878514, 10.085524049661359, 9.597934015386636, 10.280871452432454, 10.410475747799149, 9.6462029542672, 10.579220272479297, 10.323052733126518, 10.54143246796934, 9.941357836559401, 10.304319890702935, 10.152214485354547, 10.484108761119042, 10.266432225673896, 10.205039799732162, 10.302568061922328, 10.258427199741046, 9.971337399563227, 10.239774503449846, 9.858529095302057, 10.70687781626324, 9.742832479200246, 10.6336890848159, 10.457547918473733, 10.077401159633654, 10.29816723695831, 10.21378413914459, 27.42317510237068, 30.99310847114816, 28.58508705774777, 25.981145617809037, 26.07551993997103, 29.22493420464962, 26.185147483938145, 26.660279966341065, 25.177432520240803, 28.065241638181227, 21.759411905884495, 24.83682062221521, 25.047991906653234, 22.34678619860761, 23.317272781778396, 26.7747534285568, 21.87348894271778, 23.22301711168408, 22.076387880029177, 25.03340956755459, 21.34161962966502, 14.449764553698802, 23.1357541168571, 21.72641191251159, 21.057279984299946, 24.40921498767525, 20.317901060441894, 22.03754186170997, 21.469272888022644, 22.38716765296392, 20.3916361772437, 14.353417158813555, 21.77584893639524, 21.376757776390786, 20.37151212274056, 22.16547964554, 19.18804429234725, 21.32134415575056, 20.401463796373275, 20.103656663814142, 14.632899635290592, 14.315316385312029, 19.70418873780818, 20.00889531036996, 20.007629059756983, 21.26781727952289, 18.781803824503637, 20.021633289286413, 19.704082314197613, 18.987825374878952, 14.471287051495745, 14.149055983657274, 19.041001834361246, 18.420574344093566, 18.29593064431041, 20.966080894280434, 17.86679214789735, 19.671978615958004, 18.93112404196239, 18.68069580226472, 14.467676429282804, 13.982504369250515, 18.77221921773189, 17.6429706120378, 17.851159855334046, 16.0563930084571, 17.59769125019254, 14.796625839823186, 18.763251575153628, 17.975829786809317, 14.244432677007012, 13.994121281603, 18.247004557646697, 17.291731290023026, 13.84427529200775, 15.967879159941642, 16.990715994692216, 14.790365387455113, 18.25427722903991, 17.291613031718516, 14.069756654104207, 13.897308665470364, 18.126936757611233, 17.092159644005235, 13.767046729395355, 16.00125709819961, 16.36962533910706, 14.814693388542356, 18.018518445531008, 17.15981898956533, 13.937288587522858, 14.081597345030382, 17.83781448620467, 16.749455170942788, 13.676379541062314, 15.710477078126356, 16.300592224315412, 14.70354840526278, 17.817065558391448, 17.123056862709383, 13.512545738848727, 13.043195146506296, 15.920923544374089, 15.940173520126299, 13.447482204301428, 13.78988828592873, 13.417677235885527, 14.129340189044216, 15.356774118672956, 16.123954321590148, 13.450288980079026, 12.832816503976936, 13.555500527154694, 15.136551241368792, 12.616343386304605, 13.40449131520969, 13.022949839459205, 13.799798784088516, 14.614432631534546, 15.585715632281962], \"y0\": \" \", \"yaxis\": \"y\"}, {\"alignmentgroup\": \"True\", \"hoverlabel\": {\"namelength\": 0}, \"hovertemplate\": \"quant_tech=L1Unstructured<br>psnr_db=%{y}\", \"legendgroup\": \"quant_tech=L1Unstructured\", \"marker\": {\"color\": \"#EF553B\"}, \"name\": \"quant_tech=L1Unstructured\", \"notched\": false, \"offsetgroup\": \"quant_tech=L1Unstructured\", \"orientation\": \"v\", \"showlegend\": true, \"type\": \"box\", \"x0\": \" \", \"xaxis\": \"x\", \"y\": [42.31413435474404, 42.31413435474404, 42.31413435474404, 42.31413435474404, 42.31413435474404, 42.31413435474404, 42.31413435474404, 42.31413435474404, 42.31413435474404, 42.31413435474404, 41.4000758111692, 41.4000758111692, 41.4000758111692, 41.4000758111692, 41.4000758111692, 41.4000758111692, 41.4000758111692, 41.4000758111692, 41.4000758111692, 41.4000758111692, 39.435642944848325, 39.435642944848325, 39.435642944848325, 39.435642944848325, 39.435642944848325, 39.435642944848325, 39.435642944848325, 39.435642944848325, 39.435642944848325, 39.435642944848325, 37.28537707439258, 37.28537707439258, 37.28537707439258, 37.28537707439258, 37.28537707439258, 37.28537707439258, 37.28537707439258, 37.28537707439258, 37.28537707439258, 37.28537707439258, 35.11083418992514, 35.11083418992514, 35.11083418992514, 35.11083418992514, 35.11083418992514, 35.11083418992514, 35.11083418992514, 35.11083418992514, 35.11083418992514, 35.11083418992514, 33.31476954755652, 33.31476954755652, 33.31476954755652, 33.31476954755652, 33.31476954755652, 33.31476954755652, 33.31476954755652, 33.31476954755652, 33.31476954755652, 33.31476954755652, 31.22103261767672, 31.22103261767672, 31.22103261767672, 31.22103261767672, 31.22103261767672, 31.22103261767672, 31.22103261767672, 31.22103261767672, 31.22103261767672, 31.22103261767672, 29.514347962799626, 29.514347962799626, 29.514347962799626, 29.514347962799626, 29.514347962799626, 29.514347962799626, 29.514347962799626, 29.514347962799626, 29.514347962799626, 29.514347962799626, 27.03558718236748, 27.03558718236748, 27.03558718236748, 27.03558718236748, 27.03558718236748, 27.03558718236748, 27.03558718236748, 27.03558718236748, 27.03558718236748, 27.03558718236748, 18.461622580487187, 18.461622580487187, 18.461622580487187, 18.461622580487187, 18.461622580487187, 18.461622580487187, 18.461622580487187, 18.461622580487187, 18.461622580487187, 18.461622580487187, 14.392113259927592, 14.392113259927592, 14.392113259927592, 14.392113259927592, 14.392113259927592, 14.392113259927592, 14.392113259927592, 14.392113259927592, 14.392113259927592, 14.392113259927592, 11.524025654528561, 11.524025654528561, 11.524025654528561, 11.524025654528561, 11.524025654528561, 11.524025654528561, 11.524025654528561, 11.524025654528561, 11.524025654528561, 11.524025654528561, 9.834488849634257, 9.834488849634257, 9.834488849634257, 9.834488849634257, 9.834488849634257, 9.834488849634257, 9.834488849634257, 9.834488849634257, 9.834488849634257, 9.834488849634257, 8.75272199542942, 8.75272199542942, 8.75272199542942, 8.75272199542942, 8.75272199542942, 8.75272199542942, 8.75272199542942, 8.75272199542942, 8.75272199542942, 8.75272199542942, 10.18627348317235, 10.18627348317235, 10.18627348317235, 10.18627348317235, 10.18627348317235, 10.18627348317235, 10.18627348317235, 10.18627348317235, 10.18627348317235, 10.18627348317235, 8.557425524685188, 8.557425524685188, 8.557425524685188, 8.557425524685188, 8.557425524685188, 8.557425524685188, 8.557425524685188, 8.557425524685188, 8.557425524685188, 8.557425524685188, 10.093274854670913, 10.093274854670913, 10.093274854670913, 10.093274854670913, 10.093274854670913, 10.093274854670913, 10.093274854670913, 10.093274854670913, 10.093274854670913, 10.093274854670913, 42.48184125754185, 42.48184125754185, 42.48184125754185, 42.48184125754185, 42.48184125754185, 42.48184125754185, 42.48184125754185, 42.48184125754185, 42.48184125754185, 42.48184125754185, 42.48346545087576, 42.48346545087576, 42.48346545087576, 42.48346545087576, 42.48346545087576, 42.48346545087576, 42.48346545087576, 42.48346545087576, 42.48346545087576, 42.48346545087576, 42.474392412844175, 42.474392412844175, 42.474392412844175, 42.474392412844175, 42.474392412844175, 42.474392412844175, 42.474392412844175, 42.474392412844175, 42.474392412844175, 42.474392412844175, 42.45624625470924, 42.45624625470924, 42.45624625470924, 42.45624625470924, 42.45624625470924, 42.45624625470924, 42.45624625470924, 42.45624625470924, 42.45624625470924, 42.45624625470924, 42.440862879481024, 42.440862879481024, 42.440862879481024, 42.440862879481024, 42.440862879481024, 42.440862879481024, 42.440862879481024, 42.440862879481024, 42.440862879481024, 42.440862879481024, 42.44689191779741, 42.44689191779741, 42.44689191779741, 42.44689191779741, 42.44689191779741, 42.44689191779741, 42.44689191779741, 42.44689191779741, 42.44689191779741, 42.44689191779741, 42.434894386644075, 42.434894386644075, 42.434894386644075, 42.434894386644075, 42.434894386644075, 42.434894386644075, 42.434894386644075, 42.434894386644075, 42.434894386644075, 42.434894386644075, 42.441628174047324, 42.441628174047324, 42.441628174047324, 42.441628174047324, 42.441628174047324, 42.441628174047324, 42.441628174047324, 42.441628174047324, 42.441628174047324, 42.441628174047324, 42.38509379087945, 42.38509379087945, 42.38509379087945, 42.38509379087945, 42.38509379087945, 42.38509379087945, 42.38509379087945, 42.38509379087945, 42.38509379087945, 42.38509379087945, 42.35131486853915, 42.35131486853915, 42.35131486853915, 42.35131486853915, 42.35131486853915, 42.35131486853915, 42.35131486853915, 42.35131486853915, 42.35131486853915, 42.35131486853915, 42.04994641778676, 42.04994641778676, 42.04994641778676, 42.04994641778676, 42.04994641778676, 42.04994641778676, 42.04994641778676, 42.04994641778676, 42.04994641778676, 42.04994641778676, 41.69601270253682, 41.69601270253682, 41.69601270253682, 41.69601270253682, 41.69601270253682, 41.69601270253682, 41.69601270253682, 41.69601270253682, 41.69601270253682, 41.69601270253682], \"y0\": \" \", \"yaxis\": \"y\"}],\n",
              "                        {\"boxmode\": \"group\", \"legend\": {\"tracegroupgap\": 0}, \"margin\": {\"t\": 60}, \"template\": {\"data\": {\"bar\": [{\"error_x\": {\"color\": \"#f2f5fa\"}, \"error_y\": {\"color\": \"#f2f5fa\"}, \"marker\": {\"line\": {\"color\": \"rgb(17,17,17)\", \"width\": 0.5}}, \"type\": \"bar\"}], \"barpolar\": [{\"marker\": {\"line\": {\"color\": \"rgb(17,17,17)\", \"width\": 0.5}}, \"type\": \"barpolar\"}], \"carpet\": [{\"aaxis\": {\"endlinecolor\": \"#A2B1C6\", \"gridcolor\": \"#506784\", \"linecolor\": \"#506784\", \"minorgridcolor\": \"#506784\", \"startlinecolor\": \"#A2B1C6\"}, \"baxis\": {\"endlinecolor\": \"#A2B1C6\", \"gridcolor\": \"#506784\", \"linecolor\": \"#506784\", \"minorgridcolor\": \"#506784\", \"startlinecolor\": \"#A2B1C6\"}, \"type\": \"carpet\"}], \"choropleth\": [{\"colorbar\": {\"outlinewidth\": 0, \"ticks\": \"\"}, \"type\": \"choropleth\"}], \"contour\": [{\"colorbar\": {\"outlinewidth\": 0, \"ticks\": \"\"}, \"colorscale\": [[0.0, \"#0d0887\"], [0.1111111111111111, \"#46039f\"], [0.2222222222222222, \"#7201a8\"], [0.3333333333333333, \"#9c179e\"], [0.4444444444444444, \"#bd3786\"], [0.5555555555555556, \"#d8576b\"], [0.6666666666666666, \"#ed7953\"], [0.7777777777777778, \"#fb9f3a\"], [0.8888888888888888, \"#fdca26\"], [1.0, \"#f0f921\"]], \"type\": \"contour\"}], \"contourcarpet\": [{\"colorbar\": {\"outlinewidth\": 0, \"ticks\": \"\"}, \"type\": \"contourcarpet\"}], \"heatmap\": [{\"colorbar\": {\"outlinewidth\": 0, \"ticks\": \"\"}, \"colorscale\": [[0.0, \"#0d0887\"], [0.1111111111111111, \"#46039f\"], [0.2222222222222222, \"#7201a8\"], [0.3333333333333333, \"#9c179e\"], [0.4444444444444444, \"#bd3786\"], [0.5555555555555556, \"#d8576b\"], [0.6666666666666666, \"#ed7953\"], [0.7777777777777778, \"#fb9f3a\"], [0.8888888888888888, \"#fdca26\"], [1.0, \"#f0f921\"]], \"type\": \"heatmap\"}], \"heatmapgl\": [{\"colorbar\": {\"outlinewidth\": 0, \"ticks\": \"\"}, \"colorscale\": [[0.0, \"#0d0887\"], [0.1111111111111111, \"#46039f\"], [0.2222222222222222, \"#7201a8\"], [0.3333333333333333, \"#9c179e\"], [0.4444444444444444, \"#bd3786\"], [0.5555555555555556, \"#d8576b\"], [0.6666666666666666, \"#ed7953\"], [0.7777777777777778, \"#fb9f3a\"], [0.8888888888888888, \"#fdca26\"], [1.0, \"#f0f921\"]], \"type\": \"heatmapgl\"}], \"histogram\": [{\"marker\": {\"colorbar\": {\"outlinewidth\": 0, \"ticks\": \"\"}}, \"type\": \"histogram\"}], \"histogram2d\": [{\"colorbar\": {\"outlinewidth\": 0, \"ticks\": \"\"}, \"colorscale\": [[0.0, \"#0d0887\"], [0.1111111111111111, \"#46039f\"], [0.2222222222222222, \"#7201a8\"], [0.3333333333333333, \"#9c179e\"], [0.4444444444444444, \"#bd3786\"], [0.5555555555555556, \"#d8576b\"], [0.6666666666666666, \"#ed7953\"], [0.7777777777777778, \"#fb9f3a\"], [0.8888888888888888, \"#fdca26\"], [1.0, \"#f0f921\"]], \"type\": \"histogram2d\"}], \"histogram2dcontour\": [{\"colorbar\": {\"outlinewidth\": 0, \"ticks\": \"\"}, \"colorscale\": [[0.0, \"#0d0887\"], [0.1111111111111111, \"#46039f\"], [0.2222222222222222, \"#7201a8\"], [0.3333333333333333, \"#9c179e\"], [0.4444444444444444, \"#bd3786\"], [0.5555555555555556, \"#d8576b\"], [0.6666666666666666, \"#ed7953\"], [0.7777777777777778, \"#fb9f3a\"], [0.8888888888888888, \"#fdca26\"], [1.0, \"#f0f921\"]], \"type\": \"histogram2dcontour\"}], \"mesh3d\": [{\"colorbar\": {\"outlinewidth\": 0, \"ticks\": \"\"}, \"type\": \"mesh3d\"}], \"parcoords\": [{\"line\": {\"colorbar\": {\"outlinewidth\": 0, \"ticks\": \"\"}}, \"type\": \"parcoords\"}], \"pie\": [{\"automargin\": true, \"type\": \"pie\"}], \"scatter\": [{\"marker\": {\"line\": {\"color\": \"#283442\"}}, \"type\": \"scatter\"}], \"scatter3d\": [{\"line\": {\"colorbar\": {\"outlinewidth\": 0, \"ticks\": \"\"}}, \"marker\": {\"colorbar\": {\"outlinewidth\": 0, \"ticks\": \"\"}}, \"type\": \"scatter3d\"}], \"scattercarpet\": [{\"marker\": {\"colorbar\": {\"outlinewidth\": 0, \"ticks\": \"\"}}, \"type\": \"scattercarpet\"}], \"scattergeo\": [{\"marker\": {\"colorbar\": {\"outlinewidth\": 0, \"ticks\": \"\"}}, \"type\": \"scattergeo\"}], \"scattergl\": [{\"marker\": {\"line\": {\"color\": \"#283442\"}}, \"type\": \"scattergl\"}], \"scattermapbox\": [{\"marker\": {\"colorbar\": {\"outlinewidth\": 0, \"ticks\": \"\"}}, \"type\": \"scattermapbox\"}], \"scatterpolar\": [{\"marker\": {\"colorbar\": {\"outlinewidth\": 0, \"ticks\": \"\"}}, \"type\": \"scatterpolar\"}], \"scatterpolargl\": [{\"marker\": {\"colorbar\": {\"outlinewidth\": 0, \"ticks\": \"\"}}, \"type\": \"scatterpolargl\"}], \"scatterternary\": [{\"marker\": {\"colorbar\": {\"outlinewidth\": 0, \"ticks\": \"\"}}, \"type\": \"scatterternary\"}], \"surface\": [{\"colorbar\": {\"outlinewidth\": 0, \"ticks\": \"\"}, \"colorscale\": [[0.0, \"#0d0887\"], [0.1111111111111111, \"#46039f\"], [0.2222222222222222, \"#7201a8\"], [0.3333333333333333, \"#9c179e\"], [0.4444444444444444, \"#bd3786\"], [0.5555555555555556, \"#d8576b\"], [0.6666666666666666, \"#ed7953\"], [0.7777777777777778, \"#fb9f3a\"], [0.8888888888888888, \"#fdca26\"], [1.0, \"#f0f921\"]], \"type\": \"surface\"}], \"table\": [{\"cells\": {\"fill\": {\"color\": \"#506784\"}, \"line\": {\"color\": \"rgb(17,17,17)\"}}, \"header\": {\"fill\": {\"color\": \"#2a3f5f\"}, \"line\": {\"color\": \"rgb(17,17,17)\"}}, \"type\": \"table\"}]}, \"layout\": {\"annotationdefaults\": {\"arrowcolor\": \"#f2f5fa\", \"arrowhead\": 0, \"arrowwidth\": 1}, \"coloraxis\": {\"colorbar\": {\"outlinewidth\": 0, \"ticks\": \"\"}}, \"colorscale\": {\"diverging\": [[0, \"#8e0152\"], [0.1, \"#c51b7d\"], [0.2, \"#de77ae\"], [0.3, \"#f1b6da\"], [0.4, \"#fde0ef\"], [0.5, \"#f7f7f7\"], [0.6, \"#e6f5d0\"], [0.7, \"#b8e186\"], [0.8, \"#7fbc41\"], [0.9, \"#4d9221\"], [1, \"#276419\"]], \"sequential\": [[0.0, \"#0d0887\"], [0.1111111111111111, \"#46039f\"], [0.2222222222222222, \"#7201a8\"], [0.3333333333333333, \"#9c179e\"], [0.4444444444444444, \"#bd3786\"], [0.5555555555555556, \"#d8576b\"], [0.6666666666666666, \"#ed7953\"], [0.7777777777777778, \"#fb9f3a\"], [0.8888888888888888, \"#fdca26\"], [1.0, \"#f0f921\"]], \"sequentialminus\": [[0.0, \"#0d0887\"], [0.1111111111111111, \"#46039f\"], [0.2222222222222222, \"#7201a8\"], [0.3333333333333333, \"#9c179e\"], [0.4444444444444444, \"#bd3786\"], [0.5555555555555556, \"#d8576b\"], [0.6666666666666666, \"#ed7953\"], [0.7777777777777778, \"#fb9f3a\"], [0.8888888888888888, \"#fdca26\"], [1.0, \"#f0f921\"]]}, \"colorway\": [\"#636efa\", \"#EF553B\", \"#00cc96\", \"#ab63fa\", \"#FFA15A\", \"#19d3f3\", \"#FF6692\", \"#B6E880\", \"#FF97FF\", \"#FECB52\"], \"font\": {\"color\": \"#f2f5fa\"}, \"geo\": {\"bgcolor\": \"rgb(17,17,17)\", \"lakecolor\": \"rgb(17,17,17)\", \"landcolor\": \"rgb(17,17,17)\", \"showlakes\": true, \"showland\": true, \"subunitcolor\": \"#506784\"}, \"hoverlabel\": {\"align\": \"left\"}, \"hovermode\": \"closest\", \"mapbox\": {\"style\": \"dark\"}, \"paper_bgcolor\": \"rgb(17,17,17)\", \"plot_bgcolor\": \"rgb(17,17,17)\", \"polar\": {\"angularaxis\": {\"gridcolor\": \"#506784\", \"linecolor\": \"#506784\", \"ticks\": \"\"}, \"bgcolor\": \"rgb(17,17,17)\", \"radialaxis\": {\"gridcolor\": \"#506784\", \"linecolor\": \"#506784\", \"ticks\": \"\"}}, \"scene\": {\"xaxis\": {\"backgroundcolor\": \"rgb(17,17,17)\", \"gridcolor\": \"#506784\", \"gridwidth\": 2, \"linecolor\": \"#506784\", \"showbackground\": true, \"ticks\": \"\", \"zerolinecolor\": \"#C8D4E3\"}, \"yaxis\": {\"backgroundcolor\": \"rgb(17,17,17)\", \"gridcolor\": \"#506784\", \"gridwidth\": 2, \"linecolor\": \"#506784\", \"showbackground\": true, \"ticks\": \"\", \"zerolinecolor\": \"#C8D4E3\"}, \"zaxis\": {\"backgroundcolor\": \"rgb(17,17,17)\", \"gridcolor\": \"#506784\", \"gridwidth\": 2, \"linecolor\": \"#506784\", \"showbackground\": true, \"ticks\": \"\", \"zerolinecolor\": \"#C8D4E3\"}}, \"shapedefaults\": {\"line\": {\"color\": \"#f2f5fa\"}}, \"sliderdefaults\": {\"bgcolor\": \"#C8D4E3\", \"bordercolor\": \"rgb(17,17,17)\", \"borderwidth\": 1, \"tickwidth\": 0}, \"ternary\": {\"aaxis\": {\"gridcolor\": \"#506784\", \"linecolor\": \"#506784\", \"ticks\": \"\"}, \"baxis\": {\"gridcolor\": \"#506784\", \"linecolor\": \"#506784\", \"ticks\": \"\"}, \"bgcolor\": \"rgb(17,17,17)\", \"caxis\": {\"gridcolor\": \"#506784\", \"linecolor\": \"#506784\", \"ticks\": \"\"}}, \"title\": {\"x\": 0.05}, \"updatemenudefaults\": {\"bgcolor\": \"#506784\", \"borderwidth\": 0}, \"xaxis\": {\"automargin\": true, \"gridcolor\": \"#283442\", \"linecolor\": \"#506784\", \"ticks\": \"\", \"title\": {\"standoff\": 15}, \"zerolinecolor\": \"#283442\", \"zerolinewidth\": 2}, \"yaxis\": {\"automargin\": true, \"gridcolor\": \"#283442\", \"linecolor\": \"#506784\", \"ticks\": \"\", \"title\": {\"standoff\": 15}, \"zerolinecolor\": \"#283442\", \"zerolinewidth\": 2}}}, \"title\": {\"text\": \"PSNR_DB | Groupped by quant_tech | dataframes\"}, \"xaxis\": {\"anchor\": \"y\", \"domain\": [0.0, 1.0]}, \"yaxis\": {\"anchor\": \"x\", \"domain\": [0.0, 1.0], \"title\": {\"text\": \"psnr_db\"}}},\n",
              "                        {\"responsive\": true}\n",
              "                    ).then(function(){\n",
              "                            \n",
              "var gd = document.getElementById('42afacaa-7f1d-4d6f-9a79-706657ea8264');\n",
              "var x = new MutationObserver(function (mutations, observer) {{\n",
              "        var display = window.getComputedStyle(gd).display;\n",
              "        if (!display || display === 'none') {{\n",
              "            console.log([gd, 'removed!']);\n",
              "            Plotly.purge(gd);\n",
              "            observer.disconnect();\n",
              "        }}\n",
              "}});\n",
              "\n",
              "// Listen for the removal of the full notebook cells\n",
              "var notebookContainer = gd.closest('#notebook-container');\n",
              "if (notebookContainer) {{\n",
              "    x.observe(notebookContainer, {childList: true});\n",
              "}}\n",
              "\n",
              "// Listen for the clearing of the current output cell\n",
              "var outputEl = gd.closest('.output');\n",
              "if (outputEl) {{\n",
              "    x.observe(outputEl, {childList: true});\n",
              "}}\n",
              "\n",
              "                        })\n",
              "                };\n",
              "                \n",
              "            </script>\n",
              "        </div>\n",
              "</body>\n",
              "</html>"
            ]
          },
          "metadata": {
            "tags": []
          }
        }
      ]
    },
    {
      "cell_type": "code",
      "metadata": {
        "id": "Yjr16gcbp0Tq",
        "outputId": "7c2886fc-f786-4433-83c4-d622e74561be",
        "colab": {
          "base_uri": "https://localhost:8080/",
          "height": 542
        }
      },
      "source": [
        "hue = 'quant_tech_2'; x = 'bpp'; y = 'psnr_db'\n",
        "fig = px.box(df[df[f\"{hue}\"] != 'Basic'], y=f\"{y}\", color=f\"{hue}\", \n",
        "                 # marginal_y=\"violin\", marginal_x=\"box\", trendline=\"ols\",\n",
        "                 template=DASH_TEMPLATES_LIST[2])\n",
        "fig.update_layout(template = DASH_TEMPLATES_LIST[2], title_text=f'{y.upper()} | Groupped by {hue} | dataframes')"
      ],
      "execution_count": 17,
      "outputs": [
        {
          "output_type": "display_data",
          "data": {
            "text/html": [
              "<html>\n",
              "<head><meta charset=\"utf-8\" /></head>\n",
              "<body>\n",
              "    <div>\n",
              "            <script src=\"https://cdnjs.cloudflare.com/ajax/libs/mathjax/2.7.5/MathJax.js?config=TeX-AMS-MML_SVG\"></script><script type=\"text/javascript\">if (window.MathJax) {MathJax.Hub.Config({SVG: {font: \"STIX-Web\"}});}</script>\n",
              "                <script type=\"text/javascript\">window.PlotlyConfig = {MathJaxConfig: 'local'};</script>\n",
              "        <script src=\"https://cdn.plot.ly/plotly-latest.min.js\"></script>    \n",
              "            <div id=\"d145d467-13db-40bd-89a7-1ca78c8ccedb\" class=\"plotly-graph-div\" style=\"height:525px; width:100%;\"></div>\n",
              "            <script type=\"text/javascript\">\n",
              "                \n",
              "                    window.PLOTLYENV=window.PLOTLYENV || {};\n",
              "                    \n",
              "                if (document.getElementById(\"d145d467-13db-40bd-89a7-1ca78c8ccedb\")) {\n",
              "                    Plotly.newPlot(\n",
              "                        'd145d467-13db-40bd-89a7-1ca78c8ccedb',\n",
              "                        [{\"alignmentgroup\": \"True\", \"hoverlabel\": {\"namelength\": 0}, \"hovertemplate\": \"quant_tech_2=RandomUnstructured_rate<br>psnr_db=%{y}\", \"legendgroup\": \"quant_tech_2=RandomUnstructured_rate\", \"marker\": {\"color\": \"#636efa\"}, \"name\": \"quant_tech_2=RandomUnstructured_rate\", \"notched\": false, \"offsetgroup\": \"quant_tech_2=RandomUnstructured_rate\", \"orientation\": \"v\", \"showlegend\": true, \"type\": \"box\", \"x0\": \" \", \"xaxis\": \"x\", \"y\": [13.888062482795027, 12.972257843366627, 17.250423469619378, 16.54289775348704, 13.766441082378151, 15.422056060034885, 16.196135110483848, 14.521359905817311, 15.928491286983745, 16.472570453483648, 13.413262937512098, 12.95096666013468, 12.775590626665128, 15.038829863365107, 12.5855668619485, 12.2994851634148, 12.749808637244733, 13.736806062654948, 14.238407080478375, 15.504991150893725, 11.722980466131132, 12.143707408682387, 12.494316357253828, 14.353942911781216, 11.567169052757473, 10.773023205954564, 12.713866467302628, 12.867337264722662, 12.075163644841487, 12.838576011233311, 11.688720116699734, 12.100837912816928, 11.498655841459017, 12.892982915873187, 11.221122893940878, 10.588993661616223, 11.764160280066932, 12.265609274682078, 11.787529523047054, 12.641445686178018, 11.288369823415476, 11.480481709051508, 11.3642841055811, 11.893650273471264, 11.128717823297922, 10.188006182908826, 11.07219186864424, 11.720675552436006, 11.051927033447518, 11.547176922227285, 10.910732662955835, 10.292376448874156, 11.042525176948669, 10.305286608731194, 10.620546310973836, 9.852000081430235, 10.755834319797893, 11.80072491041414, 10.223673583342752, 10.819050002243323, 10.247719054784373, 10.350110811184724, 10.883051967368033, 10.269521039180773, 10.635345013521004, 9.899669909756714, 10.756898808709717, 11.420309310446232, 9.62181596352769, 9.856755294724614, 10.263295907798044, 10.610018139552471, 11.065891211763098, 10.404677072145779, 10.186870856656551, 9.407630080789877, 10.76450830524692, 11.195399373950412, 9.542235636514901, 9.84672567750626, 9.690107997656696, 10.687123521845912, 10.309659268437263, 10.074792253486493, 10.027437359153431, 9.472830899379062, 10.79774122962153, 10.840584184346637, 9.300687092050277, 9.334935727777712, 10.539380832063824, 10.677537783757991, 10.694132345777843, 9.19110476185288, 9.745137205086406, 8.974933127604908, 10.744615547614668, 10.349873162192065, 9.893789675311833, 8.399285415533635, 10.864366259923349, 10.744840523862514, 9.775879044155383, 9.65711968888576, 9.814441487855326, 8.794977700536823, 10.645429215490461, 9.302850677300741, 9.497231497965902, 8.454838843473206, 10.113970971546225, 10.92129488855912, 8.707393014838791, 9.01864852263652, 9.91843379698112, 9.513848715695726, 11.14009178632354, 9.494552847646537, 9.558619375000612, 8.119656126358098, 10.650622364663658, 11.067093904174532, 8.069490746190287, 8.689616363118558, 9.757248528755886, 9.61332104671413, 10.584894470615763, 8.861452845382951, 10.117229306139803, 9.3759681692502, 9.893115992942963, 10.861995078890207, 9.415115684859972, 9.818263810659042, 10.572658710090838, 8.780897346175161, 10.658832596775355, 10.544138414707572, 9.874761319047094, 10.562717907498204, 10.126335047615921, 10.655656686310977, 9.739614129827883, 9.945778769878514, 10.085524049661359, 9.597934015386636, 10.280871452432454, 10.410475747799149, 9.6462029542672, 10.579220272479297, 10.323052733126518, 10.54143246796934, 9.941357836559401, 10.304319890702935, 10.152214485354547, 10.484108761119042, 10.266432225673896, 10.205039799732162, 10.302568061922328, 10.258427199741046, 9.971337399563227, 10.239774503449846, 9.858529095302057, 10.70687781626324, 9.742832479200246, 10.6336890848159, 10.457547918473733, 10.077401159633654, 10.29816723695831, 10.21378413914459], \"y0\": \" \", \"yaxis\": \"y\"}, {\"alignmentgroup\": \"True\", \"hoverlabel\": {\"namelength\": 0}, \"hovertemplate\": \"quant_tech_2=L1Unstructured_rate<br>psnr_db=%{y}\", \"legendgroup\": \"quant_tech_2=L1Unstructured_rate\", \"marker\": {\"color\": \"#EF553B\"}, \"name\": \"quant_tech_2=L1Unstructured_rate\", \"notched\": false, \"offsetgroup\": \"quant_tech_2=L1Unstructured_rate\", \"orientation\": \"v\", \"showlegend\": true, \"type\": \"box\", \"x0\": \" \", \"xaxis\": \"x\", \"y\": [42.31413435474404, 42.31413435474404, 42.31413435474404, 42.31413435474404, 42.31413435474404, 42.31413435474404, 42.31413435474404, 42.31413435474404, 42.31413435474404, 42.31413435474404, 41.4000758111692, 41.4000758111692, 41.4000758111692, 41.4000758111692, 41.4000758111692, 41.4000758111692, 41.4000758111692, 41.4000758111692, 41.4000758111692, 41.4000758111692, 39.435642944848325, 39.435642944848325, 39.435642944848325, 39.435642944848325, 39.435642944848325, 39.435642944848325, 39.435642944848325, 39.435642944848325, 39.435642944848325, 39.435642944848325, 37.28537707439258, 37.28537707439258, 37.28537707439258, 37.28537707439258, 37.28537707439258, 37.28537707439258, 37.28537707439258, 37.28537707439258, 37.28537707439258, 37.28537707439258, 35.11083418992514, 35.11083418992514, 35.11083418992514, 35.11083418992514, 35.11083418992514, 35.11083418992514, 35.11083418992514, 35.11083418992514, 35.11083418992514, 35.11083418992514, 33.31476954755652, 33.31476954755652, 33.31476954755652, 33.31476954755652, 33.31476954755652, 33.31476954755652, 33.31476954755652, 33.31476954755652, 33.31476954755652, 33.31476954755652, 31.22103261767672, 31.22103261767672, 31.22103261767672, 31.22103261767672, 31.22103261767672, 31.22103261767672, 31.22103261767672, 31.22103261767672, 31.22103261767672, 31.22103261767672, 29.514347962799626, 29.514347962799626, 29.514347962799626, 29.514347962799626, 29.514347962799626, 29.514347962799626, 29.514347962799626, 29.514347962799626, 29.514347962799626, 29.514347962799626, 27.03558718236748, 27.03558718236748, 27.03558718236748, 27.03558718236748, 27.03558718236748, 27.03558718236748, 27.03558718236748, 27.03558718236748, 27.03558718236748, 27.03558718236748, 18.461622580487187, 18.461622580487187, 18.461622580487187, 18.461622580487187, 18.461622580487187, 18.461622580487187, 18.461622580487187, 18.461622580487187, 18.461622580487187, 18.461622580487187, 14.392113259927592, 14.392113259927592, 14.392113259927592, 14.392113259927592, 14.392113259927592, 14.392113259927592, 14.392113259927592, 14.392113259927592, 14.392113259927592, 14.392113259927592, 11.524025654528561, 11.524025654528561, 11.524025654528561, 11.524025654528561, 11.524025654528561, 11.524025654528561, 11.524025654528561, 11.524025654528561, 11.524025654528561, 11.524025654528561, 9.834488849634257, 9.834488849634257, 9.834488849634257, 9.834488849634257, 9.834488849634257, 9.834488849634257, 9.834488849634257, 9.834488849634257, 9.834488849634257, 9.834488849634257, 8.75272199542942, 8.75272199542942, 8.75272199542942, 8.75272199542942, 8.75272199542942, 8.75272199542942, 8.75272199542942, 8.75272199542942, 8.75272199542942, 8.75272199542942, 10.18627348317235, 10.18627348317235, 10.18627348317235, 10.18627348317235, 10.18627348317235, 10.18627348317235, 10.18627348317235, 10.18627348317235, 10.18627348317235, 10.18627348317235, 8.557425524685188, 8.557425524685188, 8.557425524685188, 8.557425524685188, 8.557425524685188, 8.557425524685188, 8.557425524685188, 8.557425524685188, 8.557425524685188, 8.557425524685188, 10.093274854670913, 10.093274854670913, 10.093274854670913, 10.093274854670913, 10.093274854670913, 10.093274854670913, 10.093274854670913, 10.093274854670913, 10.093274854670913, 10.093274854670913], \"y0\": \" \", \"yaxis\": \"y\"}, {\"alignmentgroup\": \"True\", \"hoverlabel\": {\"namelength\": 0}, \"hovertemplate\": \"quant_tech_2=RandomUnstructured_abs<br>psnr_db=%{y}\", \"legendgroup\": \"quant_tech_2=RandomUnstructured_abs\", \"marker\": {\"color\": \"#00cc96\"}, \"name\": \"quant_tech_2=RandomUnstructured_abs\", \"notched\": false, \"offsetgroup\": \"quant_tech_2=RandomUnstructured_abs\", \"orientation\": \"v\", \"showlegend\": true, \"type\": \"box\", \"x0\": \" \", \"xaxis\": \"x\", \"y\": [27.42317510237068, 30.99310847114816, 28.58508705774777, 25.981145617809037, 26.07551993997103, 29.22493420464962, 26.185147483938145, 26.660279966341065, 25.177432520240803, 28.065241638181227, 21.759411905884495, 24.83682062221521, 25.047991906653234, 22.34678619860761, 23.317272781778396, 26.7747534285568, 21.87348894271778, 23.22301711168408, 22.076387880029177, 25.03340956755459, 21.34161962966502, 14.449764553698802, 23.1357541168571, 21.72641191251159, 21.057279984299946, 24.40921498767525, 20.317901060441894, 22.03754186170997, 21.469272888022644, 22.38716765296392, 20.3916361772437, 14.353417158813555, 21.77584893639524, 21.376757776390786, 20.37151212274056, 22.16547964554, 19.18804429234725, 21.32134415575056, 20.401463796373275, 20.103656663814142, 14.632899635290592, 14.315316385312029, 19.70418873780818, 20.00889531036996, 20.007629059756983, 21.26781727952289, 18.781803824503637, 20.021633289286413, 19.704082314197613, 18.987825374878952, 14.471287051495745, 14.149055983657274, 19.041001834361246, 18.420574344093566, 18.29593064431041, 20.966080894280434, 17.86679214789735, 19.671978615958004, 18.93112404196239, 18.68069580226472, 14.467676429282804, 13.982504369250515, 18.77221921773189, 17.6429706120378, 17.851159855334046, 16.0563930084571, 17.59769125019254, 14.796625839823186, 18.763251575153628, 17.975829786809317, 14.244432677007012, 13.994121281603, 18.247004557646697, 17.291731290023026, 13.84427529200775, 15.967879159941642, 16.990715994692216, 14.790365387455113, 18.25427722903991, 17.291613031718516, 14.069756654104207, 13.897308665470364, 18.126936757611233, 17.092159644005235, 13.767046729395355, 16.00125709819961, 16.36962533910706, 14.814693388542356, 18.018518445531008, 17.15981898956533, 13.937288587522858, 14.081597345030382, 17.83781448620467, 16.749455170942788, 13.676379541062314, 15.710477078126356, 16.300592224315412, 14.70354840526278, 17.817065558391448, 17.123056862709383, 13.512545738848727, 13.043195146506296, 15.920923544374089, 15.940173520126299, 13.447482204301428, 13.78988828592873, 13.417677235885527, 14.129340189044216, 15.356774118672956, 16.123954321590148, 13.450288980079026, 12.832816503976936, 13.555500527154694, 15.136551241368792, 12.616343386304605, 13.40449131520969, 13.022949839459205, 13.799798784088516, 14.614432631534546, 15.585715632281962], \"y0\": \" \", \"yaxis\": \"y\"}, {\"alignmentgroup\": \"True\", \"hoverlabel\": {\"namelength\": 0}, \"hovertemplate\": \"quant_tech_2=L1Unstructured_abs<br>psnr_db=%{y}\", \"legendgroup\": \"quant_tech_2=L1Unstructured_abs\", \"marker\": {\"color\": \"#ab63fa\"}, \"name\": \"quant_tech_2=L1Unstructured_abs\", \"notched\": false, \"offsetgroup\": \"quant_tech_2=L1Unstructured_abs\", \"orientation\": \"v\", \"showlegend\": true, \"type\": \"box\", \"x0\": \" \", \"xaxis\": \"x\", \"y\": [42.48184125754185, 42.48184125754185, 42.48184125754185, 42.48184125754185, 42.48184125754185, 42.48184125754185, 42.48184125754185, 42.48184125754185, 42.48184125754185, 42.48184125754185, 42.48346545087576, 42.48346545087576, 42.48346545087576, 42.48346545087576, 42.48346545087576, 42.48346545087576, 42.48346545087576, 42.48346545087576, 42.48346545087576, 42.48346545087576, 42.474392412844175, 42.474392412844175, 42.474392412844175, 42.474392412844175, 42.474392412844175, 42.474392412844175, 42.474392412844175, 42.474392412844175, 42.474392412844175, 42.474392412844175, 42.45624625470924, 42.45624625470924, 42.45624625470924, 42.45624625470924, 42.45624625470924, 42.45624625470924, 42.45624625470924, 42.45624625470924, 42.45624625470924, 42.45624625470924, 42.440862879481024, 42.440862879481024, 42.440862879481024, 42.440862879481024, 42.440862879481024, 42.440862879481024, 42.440862879481024, 42.440862879481024, 42.440862879481024, 42.440862879481024, 42.44689191779741, 42.44689191779741, 42.44689191779741, 42.44689191779741, 42.44689191779741, 42.44689191779741, 42.44689191779741, 42.44689191779741, 42.44689191779741, 42.44689191779741, 42.434894386644075, 42.434894386644075, 42.434894386644075, 42.434894386644075, 42.434894386644075, 42.434894386644075, 42.434894386644075, 42.434894386644075, 42.434894386644075, 42.434894386644075, 42.441628174047324, 42.441628174047324, 42.441628174047324, 42.441628174047324, 42.441628174047324, 42.441628174047324, 42.441628174047324, 42.441628174047324, 42.441628174047324, 42.441628174047324, 42.38509379087945, 42.38509379087945, 42.38509379087945, 42.38509379087945, 42.38509379087945, 42.38509379087945, 42.38509379087945, 42.38509379087945, 42.38509379087945, 42.38509379087945, 42.35131486853915, 42.35131486853915, 42.35131486853915, 42.35131486853915, 42.35131486853915, 42.35131486853915, 42.35131486853915, 42.35131486853915, 42.35131486853915, 42.35131486853915, 42.04994641778676, 42.04994641778676, 42.04994641778676, 42.04994641778676, 42.04994641778676, 42.04994641778676, 42.04994641778676, 42.04994641778676, 42.04994641778676, 42.04994641778676, 41.69601270253682, 41.69601270253682, 41.69601270253682, 41.69601270253682, 41.69601270253682, 41.69601270253682, 41.69601270253682, 41.69601270253682, 41.69601270253682, 41.69601270253682], \"y0\": \" \", \"yaxis\": \"y\"}],\n",
              "                        {\"boxmode\": \"group\", \"legend\": {\"tracegroupgap\": 0}, \"margin\": {\"t\": 60}, \"template\": {\"data\": {\"bar\": [{\"error_x\": {\"color\": \"#f2f5fa\"}, \"error_y\": {\"color\": \"#f2f5fa\"}, \"marker\": {\"line\": {\"color\": \"rgb(17,17,17)\", \"width\": 0.5}}, \"type\": \"bar\"}], \"barpolar\": [{\"marker\": {\"line\": {\"color\": \"rgb(17,17,17)\", \"width\": 0.5}}, \"type\": \"barpolar\"}], \"carpet\": [{\"aaxis\": {\"endlinecolor\": \"#A2B1C6\", \"gridcolor\": \"#506784\", \"linecolor\": \"#506784\", \"minorgridcolor\": \"#506784\", \"startlinecolor\": \"#A2B1C6\"}, \"baxis\": {\"endlinecolor\": \"#A2B1C6\", \"gridcolor\": \"#506784\", \"linecolor\": \"#506784\", \"minorgridcolor\": \"#506784\", \"startlinecolor\": \"#A2B1C6\"}, \"type\": \"carpet\"}], \"choropleth\": [{\"colorbar\": {\"outlinewidth\": 0, \"ticks\": \"\"}, \"type\": \"choropleth\"}], \"contour\": [{\"colorbar\": {\"outlinewidth\": 0, \"ticks\": \"\"}, \"colorscale\": [[0.0, \"#0d0887\"], [0.1111111111111111, \"#46039f\"], [0.2222222222222222, \"#7201a8\"], [0.3333333333333333, \"#9c179e\"], [0.4444444444444444, \"#bd3786\"], [0.5555555555555556, \"#d8576b\"], [0.6666666666666666, \"#ed7953\"], [0.7777777777777778, \"#fb9f3a\"], [0.8888888888888888, \"#fdca26\"], [1.0, \"#f0f921\"]], \"type\": \"contour\"}], \"contourcarpet\": [{\"colorbar\": {\"outlinewidth\": 0, \"ticks\": \"\"}, \"type\": \"contourcarpet\"}], \"heatmap\": [{\"colorbar\": {\"outlinewidth\": 0, \"ticks\": \"\"}, \"colorscale\": [[0.0, \"#0d0887\"], [0.1111111111111111, \"#46039f\"], [0.2222222222222222, \"#7201a8\"], [0.3333333333333333, \"#9c179e\"], [0.4444444444444444, \"#bd3786\"], [0.5555555555555556, \"#d8576b\"], [0.6666666666666666, \"#ed7953\"], [0.7777777777777778, \"#fb9f3a\"], [0.8888888888888888, \"#fdca26\"], [1.0, \"#f0f921\"]], \"type\": \"heatmap\"}], \"heatmapgl\": [{\"colorbar\": {\"outlinewidth\": 0, \"ticks\": \"\"}, \"colorscale\": [[0.0, \"#0d0887\"], [0.1111111111111111, \"#46039f\"], [0.2222222222222222, \"#7201a8\"], [0.3333333333333333, \"#9c179e\"], [0.4444444444444444, \"#bd3786\"], [0.5555555555555556, \"#d8576b\"], [0.6666666666666666, \"#ed7953\"], [0.7777777777777778, \"#fb9f3a\"], [0.8888888888888888, \"#fdca26\"], [1.0, \"#f0f921\"]], \"type\": \"heatmapgl\"}], \"histogram\": [{\"marker\": {\"colorbar\": {\"outlinewidth\": 0, \"ticks\": \"\"}}, \"type\": \"histogram\"}], \"histogram2d\": [{\"colorbar\": {\"outlinewidth\": 0, \"ticks\": \"\"}, \"colorscale\": [[0.0, \"#0d0887\"], [0.1111111111111111, \"#46039f\"], [0.2222222222222222, \"#7201a8\"], [0.3333333333333333, \"#9c179e\"], [0.4444444444444444, \"#bd3786\"], [0.5555555555555556, \"#d8576b\"], [0.6666666666666666, \"#ed7953\"], [0.7777777777777778, \"#fb9f3a\"], [0.8888888888888888, \"#fdca26\"], [1.0, \"#f0f921\"]], \"type\": \"histogram2d\"}], \"histogram2dcontour\": [{\"colorbar\": {\"outlinewidth\": 0, \"ticks\": \"\"}, \"colorscale\": [[0.0, \"#0d0887\"], [0.1111111111111111, \"#46039f\"], [0.2222222222222222, \"#7201a8\"], [0.3333333333333333, \"#9c179e\"], [0.4444444444444444, \"#bd3786\"], [0.5555555555555556, \"#d8576b\"], [0.6666666666666666, \"#ed7953\"], [0.7777777777777778, \"#fb9f3a\"], [0.8888888888888888, \"#fdca26\"], [1.0, \"#f0f921\"]], \"type\": \"histogram2dcontour\"}], \"mesh3d\": [{\"colorbar\": {\"outlinewidth\": 0, \"ticks\": \"\"}, \"type\": \"mesh3d\"}], \"parcoords\": [{\"line\": {\"colorbar\": {\"outlinewidth\": 0, \"ticks\": \"\"}}, \"type\": \"parcoords\"}], \"pie\": [{\"automargin\": true, \"type\": \"pie\"}], \"scatter\": [{\"marker\": {\"line\": {\"color\": \"#283442\"}}, \"type\": \"scatter\"}], \"scatter3d\": [{\"line\": {\"colorbar\": {\"outlinewidth\": 0, \"ticks\": \"\"}}, \"marker\": {\"colorbar\": {\"outlinewidth\": 0, \"ticks\": \"\"}}, \"type\": \"scatter3d\"}], \"scattercarpet\": [{\"marker\": {\"colorbar\": {\"outlinewidth\": 0, \"ticks\": \"\"}}, \"type\": \"scattercarpet\"}], \"scattergeo\": [{\"marker\": {\"colorbar\": {\"outlinewidth\": 0, \"ticks\": \"\"}}, \"type\": \"scattergeo\"}], \"scattergl\": [{\"marker\": {\"line\": {\"color\": \"#283442\"}}, \"type\": \"scattergl\"}], \"scattermapbox\": [{\"marker\": {\"colorbar\": {\"outlinewidth\": 0, \"ticks\": \"\"}}, \"type\": \"scattermapbox\"}], \"scatterpolar\": [{\"marker\": {\"colorbar\": {\"outlinewidth\": 0, \"ticks\": \"\"}}, \"type\": \"scatterpolar\"}], \"scatterpolargl\": [{\"marker\": {\"colorbar\": {\"outlinewidth\": 0, \"ticks\": \"\"}}, \"type\": \"scatterpolargl\"}], \"scatterternary\": [{\"marker\": {\"colorbar\": {\"outlinewidth\": 0, \"ticks\": \"\"}}, \"type\": \"scatterternary\"}], \"surface\": [{\"colorbar\": {\"outlinewidth\": 0, \"ticks\": \"\"}, \"colorscale\": [[0.0, \"#0d0887\"], [0.1111111111111111, \"#46039f\"], [0.2222222222222222, \"#7201a8\"], [0.3333333333333333, \"#9c179e\"], [0.4444444444444444, \"#bd3786\"], [0.5555555555555556, \"#d8576b\"], [0.6666666666666666, \"#ed7953\"], [0.7777777777777778, \"#fb9f3a\"], [0.8888888888888888, \"#fdca26\"], [1.0, \"#f0f921\"]], \"type\": \"surface\"}], \"table\": [{\"cells\": {\"fill\": {\"color\": \"#506784\"}, \"line\": {\"color\": \"rgb(17,17,17)\"}}, \"header\": {\"fill\": {\"color\": \"#2a3f5f\"}, \"line\": {\"color\": \"rgb(17,17,17)\"}}, \"type\": \"table\"}]}, \"layout\": {\"annotationdefaults\": {\"arrowcolor\": \"#f2f5fa\", \"arrowhead\": 0, \"arrowwidth\": 1}, \"coloraxis\": {\"colorbar\": {\"outlinewidth\": 0, \"ticks\": \"\"}}, \"colorscale\": {\"diverging\": [[0, \"#8e0152\"], [0.1, \"#c51b7d\"], [0.2, \"#de77ae\"], [0.3, \"#f1b6da\"], [0.4, \"#fde0ef\"], [0.5, \"#f7f7f7\"], [0.6, \"#e6f5d0\"], [0.7, \"#b8e186\"], [0.8, \"#7fbc41\"], [0.9, \"#4d9221\"], [1, \"#276419\"]], \"sequential\": [[0.0, \"#0d0887\"], [0.1111111111111111, \"#46039f\"], [0.2222222222222222, \"#7201a8\"], [0.3333333333333333, \"#9c179e\"], [0.4444444444444444, \"#bd3786\"], [0.5555555555555556, \"#d8576b\"], [0.6666666666666666, \"#ed7953\"], [0.7777777777777778, \"#fb9f3a\"], [0.8888888888888888, \"#fdca26\"], [1.0, \"#f0f921\"]], \"sequentialminus\": [[0.0, \"#0d0887\"], [0.1111111111111111, \"#46039f\"], [0.2222222222222222, \"#7201a8\"], [0.3333333333333333, \"#9c179e\"], [0.4444444444444444, \"#bd3786\"], [0.5555555555555556, \"#d8576b\"], [0.6666666666666666, \"#ed7953\"], [0.7777777777777778, \"#fb9f3a\"], [0.8888888888888888, \"#fdca26\"], [1.0, \"#f0f921\"]]}, \"colorway\": [\"#636efa\", \"#EF553B\", \"#00cc96\", \"#ab63fa\", \"#FFA15A\", \"#19d3f3\", \"#FF6692\", \"#B6E880\", \"#FF97FF\", \"#FECB52\"], \"font\": {\"color\": \"#f2f5fa\"}, \"geo\": {\"bgcolor\": \"rgb(17,17,17)\", \"lakecolor\": \"rgb(17,17,17)\", \"landcolor\": \"rgb(17,17,17)\", \"showlakes\": true, \"showland\": true, \"subunitcolor\": \"#506784\"}, \"hoverlabel\": {\"align\": \"left\"}, \"hovermode\": \"closest\", \"mapbox\": {\"style\": \"dark\"}, \"paper_bgcolor\": \"rgb(17,17,17)\", \"plot_bgcolor\": \"rgb(17,17,17)\", \"polar\": {\"angularaxis\": {\"gridcolor\": \"#506784\", \"linecolor\": \"#506784\", \"ticks\": \"\"}, \"bgcolor\": \"rgb(17,17,17)\", \"radialaxis\": {\"gridcolor\": \"#506784\", \"linecolor\": \"#506784\", \"ticks\": \"\"}}, \"scene\": {\"xaxis\": {\"backgroundcolor\": \"rgb(17,17,17)\", \"gridcolor\": \"#506784\", \"gridwidth\": 2, \"linecolor\": \"#506784\", \"showbackground\": true, \"ticks\": \"\", \"zerolinecolor\": \"#C8D4E3\"}, \"yaxis\": {\"backgroundcolor\": \"rgb(17,17,17)\", \"gridcolor\": \"#506784\", \"gridwidth\": 2, \"linecolor\": \"#506784\", \"showbackground\": true, \"ticks\": \"\", \"zerolinecolor\": \"#C8D4E3\"}, \"zaxis\": {\"backgroundcolor\": \"rgb(17,17,17)\", \"gridcolor\": \"#506784\", \"gridwidth\": 2, \"linecolor\": \"#506784\", \"showbackground\": true, \"ticks\": \"\", \"zerolinecolor\": \"#C8D4E3\"}}, \"shapedefaults\": {\"line\": {\"color\": \"#f2f5fa\"}}, \"sliderdefaults\": {\"bgcolor\": \"#C8D4E3\", \"bordercolor\": \"rgb(17,17,17)\", \"borderwidth\": 1, \"tickwidth\": 0}, \"ternary\": {\"aaxis\": {\"gridcolor\": \"#506784\", \"linecolor\": \"#506784\", \"ticks\": \"\"}, \"baxis\": {\"gridcolor\": \"#506784\", \"linecolor\": \"#506784\", \"ticks\": \"\"}, \"bgcolor\": \"rgb(17,17,17)\", \"caxis\": {\"gridcolor\": \"#506784\", \"linecolor\": \"#506784\", \"ticks\": \"\"}}, \"title\": {\"x\": 0.05}, \"updatemenudefaults\": {\"bgcolor\": \"#506784\", \"borderwidth\": 0}, \"xaxis\": {\"automargin\": true, \"gridcolor\": \"#283442\", \"linecolor\": \"#506784\", \"ticks\": \"\", \"title\": {\"standoff\": 15}, \"zerolinecolor\": \"#283442\", \"zerolinewidth\": 2}, \"yaxis\": {\"automargin\": true, \"gridcolor\": \"#283442\", \"linecolor\": \"#506784\", \"ticks\": \"\", \"title\": {\"standoff\": 15}, \"zerolinecolor\": \"#283442\", \"zerolinewidth\": 2}}}, \"title\": {\"text\": \"PSNR_DB | Groupped by quant_tech_2 | dataframes\"}, \"xaxis\": {\"anchor\": \"y\", \"domain\": [0.0, 1.0]}, \"yaxis\": {\"anchor\": \"x\", \"domain\": [0.0, 1.0], \"title\": {\"text\": \"psnr_db\"}}},\n",
              "                        {\"responsive\": true}\n",
              "                    ).then(function(){\n",
              "                            \n",
              "var gd = document.getElementById('d145d467-13db-40bd-89a7-1ca78c8ccedb');\n",
              "var x = new MutationObserver(function (mutations, observer) {{\n",
              "        var display = window.getComputedStyle(gd).display;\n",
              "        if (!display || display === 'none') {{\n",
              "            console.log([gd, 'removed!']);\n",
              "            Plotly.purge(gd);\n",
              "            observer.disconnect();\n",
              "        }}\n",
              "}});\n",
              "\n",
              "// Listen for the removal of the full notebook cells\n",
              "var notebookContainer = gd.closest('#notebook-container');\n",
              "if (notebookContainer) {{\n",
              "    x.observe(notebookContainer, {childList: true});\n",
              "}}\n",
              "\n",
              "// Listen for the clearing of the current output cell\n",
              "var outputEl = gd.closest('.output');\n",
              "if (outputEl) {{\n",
              "    x.observe(outputEl, {childList: true});\n",
              "}}\n",
              "\n",
              "                        })\n",
              "                };\n",
              "                \n",
              "            </script>\n",
              "        </div>\n",
              "</body>\n",
              "</html>"
            ]
          },
          "metadata": {
            "tags": []
          }
        }
      ]
    },
    {
      "cell_type": "code",
      "metadata": {
        "id": "-zW0uI7AqDq3",
        "outputId": "50474b19-b17a-42bc-a0c9-42ffdbf8b730",
        "colab": {
          "base_uri": "https://localhost:8080/",
          "height": 542
        }
      },
      "source": [
        "hue = 'quant_tech'; x = 'bpp'; y = 'psnr_db'\n",
        "fig = px.violin(df[df[f\"{hue}\"] != 'Basic' ], y=f\"{y}\", color=f\"{hue}\", \n",
        "                 # marginal_y=\"violin\", marginal_x=\"box\", trendline=\"ols\",\n",
        "                 template=DASH_TEMPLATES_LIST[2])\n",
        "fig.update_layout(template = DASH_TEMPLATES_LIST[2], title_text=f'{y.upper()} | Groupped by {hue} | dataframes')"
      ],
      "execution_count": 18,
      "outputs": [
        {
          "output_type": "display_data",
          "data": {
            "text/html": [
              "<html>\n",
              "<head><meta charset=\"utf-8\" /></head>\n",
              "<body>\n",
              "    <div>\n",
              "            <script src=\"https://cdnjs.cloudflare.com/ajax/libs/mathjax/2.7.5/MathJax.js?config=TeX-AMS-MML_SVG\"></script><script type=\"text/javascript\">if (window.MathJax) {MathJax.Hub.Config({SVG: {font: \"STIX-Web\"}});}</script>\n",
              "                <script type=\"text/javascript\">window.PlotlyConfig = {MathJaxConfig: 'local'};</script>\n",
              "        <script src=\"https://cdn.plot.ly/plotly-latest.min.js\"></script>    \n",
              "            <div id=\"de91bb79-52e8-42f1-8591-e1b80c1acbea\" class=\"plotly-graph-div\" style=\"height:525px; width:100%;\"></div>\n",
              "            <script type=\"text/javascript\">\n",
              "                \n",
              "                    window.PLOTLYENV=window.PLOTLYENV || {};\n",
              "                    \n",
              "                if (document.getElementById(\"de91bb79-52e8-42f1-8591-e1b80c1acbea\")) {\n",
              "                    Plotly.newPlot(\n",
              "                        'de91bb79-52e8-42f1-8591-e1b80c1acbea',\n",
              "                        [{\"alignmentgroup\": \"True\", \"box\": {\"visible\": false}, \"hoverlabel\": {\"namelength\": 0}, \"hovertemplate\": \"quant_tech=RandomUnstructured<br>psnr_db=%{y}\", \"legendgroup\": \"quant_tech=RandomUnstructured\", \"marker\": {\"color\": \"#636efa\"}, \"name\": \"quant_tech=RandomUnstructured\", \"offsetgroup\": \"quant_tech=RandomUnstructured\", \"orientation\": \"v\", \"scalegroup\": \"True\", \"showlegend\": true, \"type\": \"violin\", \"x0\": \" \", \"xaxis\": \"x\", \"y\": [13.888062482795027, 12.972257843366627, 17.250423469619378, 16.54289775348704, 13.766441082378151, 15.422056060034885, 16.196135110483848, 14.521359905817311, 15.928491286983745, 16.472570453483648, 13.413262937512098, 12.95096666013468, 12.775590626665128, 15.038829863365107, 12.5855668619485, 12.2994851634148, 12.749808637244733, 13.736806062654948, 14.238407080478375, 15.504991150893725, 11.722980466131132, 12.143707408682387, 12.494316357253828, 14.353942911781216, 11.567169052757473, 10.773023205954564, 12.713866467302628, 12.867337264722662, 12.075163644841487, 12.838576011233311, 11.688720116699734, 12.100837912816928, 11.498655841459017, 12.892982915873187, 11.221122893940878, 10.588993661616223, 11.764160280066932, 12.265609274682078, 11.787529523047054, 12.641445686178018, 11.288369823415476, 11.480481709051508, 11.3642841055811, 11.893650273471264, 11.128717823297922, 10.188006182908826, 11.07219186864424, 11.720675552436006, 11.051927033447518, 11.547176922227285, 10.910732662955835, 10.292376448874156, 11.042525176948669, 10.305286608731194, 10.620546310973836, 9.852000081430235, 10.755834319797893, 11.80072491041414, 10.223673583342752, 10.819050002243323, 10.247719054784373, 10.350110811184724, 10.883051967368033, 10.269521039180773, 10.635345013521004, 9.899669909756714, 10.756898808709717, 11.420309310446232, 9.62181596352769, 9.856755294724614, 10.263295907798044, 10.610018139552471, 11.065891211763098, 10.404677072145779, 10.186870856656551, 9.407630080789877, 10.76450830524692, 11.195399373950412, 9.542235636514901, 9.84672567750626, 9.690107997656696, 10.687123521845912, 10.309659268437263, 10.074792253486493, 10.027437359153431, 9.472830899379062, 10.79774122962153, 10.840584184346637, 9.300687092050277, 9.334935727777712, 10.539380832063824, 10.677537783757991, 10.694132345777843, 9.19110476185288, 9.745137205086406, 8.974933127604908, 10.744615547614668, 10.349873162192065, 9.893789675311833, 8.399285415533635, 10.864366259923349, 10.744840523862514, 9.775879044155383, 9.65711968888576, 9.814441487855326, 8.794977700536823, 10.645429215490461, 9.302850677300741, 9.497231497965902, 8.454838843473206, 10.113970971546225, 10.92129488855912, 8.707393014838791, 9.01864852263652, 9.91843379698112, 9.513848715695726, 11.14009178632354, 9.494552847646537, 9.558619375000612, 8.119656126358098, 10.650622364663658, 11.067093904174532, 8.069490746190287, 8.689616363118558, 9.757248528755886, 9.61332104671413, 10.584894470615763, 8.861452845382951, 10.117229306139803, 9.3759681692502, 9.893115992942963, 10.861995078890207, 9.415115684859972, 9.818263810659042, 10.572658710090838, 8.780897346175161, 10.658832596775355, 10.544138414707572, 9.874761319047094, 10.562717907498204, 10.126335047615921, 10.655656686310977, 9.739614129827883, 9.945778769878514, 10.085524049661359, 9.597934015386636, 10.280871452432454, 10.410475747799149, 9.6462029542672, 10.579220272479297, 10.323052733126518, 10.54143246796934, 9.941357836559401, 10.304319890702935, 10.152214485354547, 10.484108761119042, 10.266432225673896, 10.205039799732162, 10.302568061922328, 10.258427199741046, 9.971337399563227, 10.239774503449846, 9.858529095302057, 10.70687781626324, 9.742832479200246, 10.6336890848159, 10.457547918473733, 10.077401159633654, 10.29816723695831, 10.21378413914459, 27.42317510237068, 30.99310847114816, 28.58508705774777, 25.981145617809037, 26.07551993997103, 29.22493420464962, 26.185147483938145, 26.660279966341065, 25.177432520240803, 28.065241638181227, 21.759411905884495, 24.83682062221521, 25.047991906653234, 22.34678619860761, 23.317272781778396, 26.7747534285568, 21.87348894271778, 23.22301711168408, 22.076387880029177, 25.03340956755459, 21.34161962966502, 14.449764553698802, 23.1357541168571, 21.72641191251159, 21.057279984299946, 24.40921498767525, 20.317901060441894, 22.03754186170997, 21.469272888022644, 22.38716765296392, 20.3916361772437, 14.353417158813555, 21.77584893639524, 21.376757776390786, 20.37151212274056, 22.16547964554, 19.18804429234725, 21.32134415575056, 20.401463796373275, 20.103656663814142, 14.632899635290592, 14.315316385312029, 19.70418873780818, 20.00889531036996, 20.007629059756983, 21.26781727952289, 18.781803824503637, 20.021633289286413, 19.704082314197613, 18.987825374878952, 14.471287051495745, 14.149055983657274, 19.041001834361246, 18.420574344093566, 18.29593064431041, 20.966080894280434, 17.86679214789735, 19.671978615958004, 18.93112404196239, 18.68069580226472, 14.467676429282804, 13.982504369250515, 18.77221921773189, 17.6429706120378, 17.851159855334046, 16.0563930084571, 17.59769125019254, 14.796625839823186, 18.763251575153628, 17.975829786809317, 14.244432677007012, 13.994121281603, 18.247004557646697, 17.291731290023026, 13.84427529200775, 15.967879159941642, 16.990715994692216, 14.790365387455113, 18.25427722903991, 17.291613031718516, 14.069756654104207, 13.897308665470364, 18.126936757611233, 17.092159644005235, 13.767046729395355, 16.00125709819961, 16.36962533910706, 14.814693388542356, 18.018518445531008, 17.15981898956533, 13.937288587522858, 14.081597345030382, 17.83781448620467, 16.749455170942788, 13.676379541062314, 15.710477078126356, 16.300592224315412, 14.70354840526278, 17.817065558391448, 17.123056862709383, 13.512545738848727, 13.043195146506296, 15.920923544374089, 15.940173520126299, 13.447482204301428, 13.78988828592873, 13.417677235885527, 14.129340189044216, 15.356774118672956, 16.123954321590148, 13.450288980079026, 12.832816503976936, 13.555500527154694, 15.136551241368792, 12.616343386304605, 13.40449131520969, 13.022949839459205, 13.799798784088516, 14.614432631534546, 15.585715632281962], \"y0\": \" \", \"yaxis\": \"y\"}, {\"alignmentgroup\": \"True\", \"box\": {\"visible\": false}, \"hoverlabel\": {\"namelength\": 0}, \"hovertemplate\": \"quant_tech=L1Unstructured<br>psnr_db=%{y}\", \"legendgroup\": \"quant_tech=L1Unstructured\", \"marker\": {\"color\": \"#EF553B\"}, \"name\": \"quant_tech=L1Unstructured\", \"offsetgroup\": \"quant_tech=L1Unstructured\", \"orientation\": \"v\", \"scalegroup\": \"True\", \"showlegend\": true, \"type\": \"violin\", \"x0\": \" \", \"xaxis\": \"x\", \"y\": [42.31413435474404, 42.31413435474404, 42.31413435474404, 42.31413435474404, 42.31413435474404, 42.31413435474404, 42.31413435474404, 42.31413435474404, 42.31413435474404, 42.31413435474404, 41.4000758111692, 41.4000758111692, 41.4000758111692, 41.4000758111692, 41.4000758111692, 41.4000758111692, 41.4000758111692, 41.4000758111692, 41.4000758111692, 41.4000758111692, 39.435642944848325, 39.435642944848325, 39.435642944848325, 39.435642944848325, 39.435642944848325, 39.435642944848325, 39.435642944848325, 39.435642944848325, 39.435642944848325, 39.435642944848325, 37.28537707439258, 37.28537707439258, 37.28537707439258, 37.28537707439258, 37.28537707439258, 37.28537707439258, 37.28537707439258, 37.28537707439258, 37.28537707439258, 37.28537707439258, 35.11083418992514, 35.11083418992514, 35.11083418992514, 35.11083418992514, 35.11083418992514, 35.11083418992514, 35.11083418992514, 35.11083418992514, 35.11083418992514, 35.11083418992514, 33.31476954755652, 33.31476954755652, 33.31476954755652, 33.31476954755652, 33.31476954755652, 33.31476954755652, 33.31476954755652, 33.31476954755652, 33.31476954755652, 33.31476954755652, 31.22103261767672, 31.22103261767672, 31.22103261767672, 31.22103261767672, 31.22103261767672, 31.22103261767672, 31.22103261767672, 31.22103261767672, 31.22103261767672, 31.22103261767672, 29.514347962799626, 29.514347962799626, 29.514347962799626, 29.514347962799626, 29.514347962799626, 29.514347962799626, 29.514347962799626, 29.514347962799626, 29.514347962799626, 29.514347962799626, 27.03558718236748, 27.03558718236748, 27.03558718236748, 27.03558718236748, 27.03558718236748, 27.03558718236748, 27.03558718236748, 27.03558718236748, 27.03558718236748, 27.03558718236748, 18.461622580487187, 18.461622580487187, 18.461622580487187, 18.461622580487187, 18.461622580487187, 18.461622580487187, 18.461622580487187, 18.461622580487187, 18.461622580487187, 18.461622580487187, 14.392113259927592, 14.392113259927592, 14.392113259927592, 14.392113259927592, 14.392113259927592, 14.392113259927592, 14.392113259927592, 14.392113259927592, 14.392113259927592, 14.392113259927592, 11.524025654528561, 11.524025654528561, 11.524025654528561, 11.524025654528561, 11.524025654528561, 11.524025654528561, 11.524025654528561, 11.524025654528561, 11.524025654528561, 11.524025654528561, 9.834488849634257, 9.834488849634257, 9.834488849634257, 9.834488849634257, 9.834488849634257, 9.834488849634257, 9.834488849634257, 9.834488849634257, 9.834488849634257, 9.834488849634257, 8.75272199542942, 8.75272199542942, 8.75272199542942, 8.75272199542942, 8.75272199542942, 8.75272199542942, 8.75272199542942, 8.75272199542942, 8.75272199542942, 8.75272199542942, 10.18627348317235, 10.18627348317235, 10.18627348317235, 10.18627348317235, 10.18627348317235, 10.18627348317235, 10.18627348317235, 10.18627348317235, 10.18627348317235, 10.18627348317235, 8.557425524685188, 8.557425524685188, 8.557425524685188, 8.557425524685188, 8.557425524685188, 8.557425524685188, 8.557425524685188, 8.557425524685188, 8.557425524685188, 8.557425524685188, 10.093274854670913, 10.093274854670913, 10.093274854670913, 10.093274854670913, 10.093274854670913, 10.093274854670913, 10.093274854670913, 10.093274854670913, 10.093274854670913, 10.093274854670913, 42.48184125754185, 42.48184125754185, 42.48184125754185, 42.48184125754185, 42.48184125754185, 42.48184125754185, 42.48184125754185, 42.48184125754185, 42.48184125754185, 42.48184125754185, 42.48346545087576, 42.48346545087576, 42.48346545087576, 42.48346545087576, 42.48346545087576, 42.48346545087576, 42.48346545087576, 42.48346545087576, 42.48346545087576, 42.48346545087576, 42.474392412844175, 42.474392412844175, 42.474392412844175, 42.474392412844175, 42.474392412844175, 42.474392412844175, 42.474392412844175, 42.474392412844175, 42.474392412844175, 42.474392412844175, 42.45624625470924, 42.45624625470924, 42.45624625470924, 42.45624625470924, 42.45624625470924, 42.45624625470924, 42.45624625470924, 42.45624625470924, 42.45624625470924, 42.45624625470924, 42.440862879481024, 42.440862879481024, 42.440862879481024, 42.440862879481024, 42.440862879481024, 42.440862879481024, 42.440862879481024, 42.440862879481024, 42.440862879481024, 42.440862879481024, 42.44689191779741, 42.44689191779741, 42.44689191779741, 42.44689191779741, 42.44689191779741, 42.44689191779741, 42.44689191779741, 42.44689191779741, 42.44689191779741, 42.44689191779741, 42.434894386644075, 42.434894386644075, 42.434894386644075, 42.434894386644075, 42.434894386644075, 42.434894386644075, 42.434894386644075, 42.434894386644075, 42.434894386644075, 42.434894386644075, 42.441628174047324, 42.441628174047324, 42.441628174047324, 42.441628174047324, 42.441628174047324, 42.441628174047324, 42.441628174047324, 42.441628174047324, 42.441628174047324, 42.441628174047324, 42.38509379087945, 42.38509379087945, 42.38509379087945, 42.38509379087945, 42.38509379087945, 42.38509379087945, 42.38509379087945, 42.38509379087945, 42.38509379087945, 42.38509379087945, 42.35131486853915, 42.35131486853915, 42.35131486853915, 42.35131486853915, 42.35131486853915, 42.35131486853915, 42.35131486853915, 42.35131486853915, 42.35131486853915, 42.35131486853915, 42.04994641778676, 42.04994641778676, 42.04994641778676, 42.04994641778676, 42.04994641778676, 42.04994641778676, 42.04994641778676, 42.04994641778676, 42.04994641778676, 42.04994641778676, 41.69601270253682, 41.69601270253682, 41.69601270253682, 41.69601270253682, 41.69601270253682, 41.69601270253682, 41.69601270253682, 41.69601270253682, 41.69601270253682, 41.69601270253682], \"y0\": \" \", \"yaxis\": \"y\"}],\n",
              "                        {\"legend\": {\"tracegroupgap\": 0}, \"margin\": {\"t\": 60}, \"template\": {\"data\": {\"bar\": [{\"error_x\": {\"color\": \"#f2f5fa\"}, \"error_y\": {\"color\": \"#f2f5fa\"}, \"marker\": {\"line\": {\"color\": \"rgb(17,17,17)\", \"width\": 0.5}}, \"type\": \"bar\"}], \"barpolar\": [{\"marker\": {\"line\": {\"color\": \"rgb(17,17,17)\", \"width\": 0.5}}, \"type\": \"barpolar\"}], \"carpet\": [{\"aaxis\": {\"endlinecolor\": \"#A2B1C6\", \"gridcolor\": \"#506784\", \"linecolor\": \"#506784\", \"minorgridcolor\": \"#506784\", \"startlinecolor\": \"#A2B1C6\"}, \"baxis\": {\"endlinecolor\": \"#A2B1C6\", \"gridcolor\": \"#506784\", \"linecolor\": \"#506784\", \"minorgridcolor\": \"#506784\", \"startlinecolor\": \"#A2B1C6\"}, \"type\": \"carpet\"}], \"choropleth\": [{\"colorbar\": {\"outlinewidth\": 0, \"ticks\": \"\"}, \"type\": \"choropleth\"}], \"contour\": [{\"colorbar\": {\"outlinewidth\": 0, \"ticks\": \"\"}, \"colorscale\": [[0.0, \"#0d0887\"], [0.1111111111111111, \"#46039f\"], [0.2222222222222222, \"#7201a8\"], [0.3333333333333333, \"#9c179e\"], [0.4444444444444444, \"#bd3786\"], [0.5555555555555556, \"#d8576b\"], [0.6666666666666666, \"#ed7953\"], [0.7777777777777778, \"#fb9f3a\"], [0.8888888888888888, \"#fdca26\"], [1.0, \"#f0f921\"]], \"type\": \"contour\"}], \"contourcarpet\": [{\"colorbar\": {\"outlinewidth\": 0, \"ticks\": \"\"}, \"type\": \"contourcarpet\"}], \"heatmap\": [{\"colorbar\": {\"outlinewidth\": 0, \"ticks\": \"\"}, \"colorscale\": [[0.0, \"#0d0887\"], [0.1111111111111111, \"#46039f\"], [0.2222222222222222, \"#7201a8\"], [0.3333333333333333, \"#9c179e\"], [0.4444444444444444, \"#bd3786\"], [0.5555555555555556, \"#d8576b\"], [0.6666666666666666, \"#ed7953\"], [0.7777777777777778, \"#fb9f3a\"], [0.8888888888888888, \"#fdca26\"], [1.0, \"#f0f921\"]], \"type\": \"heatmap\"}], \"heatmapgl\": [{\"colorbar\": {\"outlinewidth\": 0, \"ticks\": \"\"}, \"colorscale\": [[0.0, \"#0d0887\"], [0.1111111111111111, \"#46039f\"], [0.2222222222222222, \"#7201a8\"], [0.3333333333333333, \"#9c179e\"], [0.4444444444444444, \"#bd3786\"], [0.5555555555555556, \"#d8576b\"], [0.6666666666666666, \"#ed7953\"], [0.7777777777777778, \"#fb9f3a\"], [0.8888888888888888, \"#fdca26\"], [1.0, \"#f0f921\"]], \"type\": \"heatmapgl\"}], \"histogram\": [{\"marker\": {\"colorbar\": {\"outlinewidth\": 0, \"ticks\": \"\"}}, \"type\": \"histogram\"}], \"histogram2d\": [{\"colorbar\": {\"outlinewidth\": 0, \"ticks\": \"\"}, \"colorscale\": [[0.0, \"#0d0887\"], [0.1111111111111111, \"#46039f\"], [0.2222222222222222, \"#7201a8\"], [0.3333333333333333, \"#9c179e\"], [0.4444444444444444, \"#bd3786\"], [0.5555555555555556, \"#d8576b\"], [0.6666666666666666, \"#ed7953\"], [0.7777777777777778, \"#fb9f3a\"], [0.8888888888888888, \"#fdca26\"], [1.0, \"#f0f921\"]], \"type\": \"histogram2d\"}], \"histogram2dcontour\": [{\"colorbar\": {\"outlinewidth\": 0, \"ticks\": \"\"}, \"colorscale\": [[0.0, \"#0d0887\"], [0.1111111111111111, \"#46039f\"], [0.2222222222222222, \"#7201a8\"], [0.3333333333333333, \"#9c179e\"], [0.4444444444444444, \"#bd3786\"], [0.5555555555555556, \"#d8576b\"], [0.6666666666666666, \"#ed7953\"], [0.7777777777777778, \"#fb9f3a\"], [0.8888888888888888, \"#fdca26\"], [1.0, \"#f0f921\"]], \"type\": \"histogram2dcontour\"}], \"mesh3d\": [{\"colorbar\": {\"outlinewidth\": 0, \"ticks\": \"\"}, \"type\": \"mesh3d\"}], \"parcoords\": [{\"line\": {\"colorbar\": {\"outlinewidth\": 0, \"ticks\": \"\"}}, \"type\": \"parcoords\"}], \"pie\": [{\"automargin\": true, \"type\": \"pie\"}], \"scatter\": [{\"marker\": {\"line\": {\"color\": \"#283442\"}}, \"type\": \"scatter\"}], \"scatter3d\": [{\"line\": {\"colorbar\": {\"outlinewidth\": 0, \"ticks\": \"\"}}, \"marker\": {\"colorbar\": {\"outlinewidth\": 0, \"ticks\": \"\"}}, \"type\": \"scatter3d\"}], \"scattercarpet\": [{\"marker\": {\"colorbar\": {\"outlinewidth\": 0, \"ticks\": \"\"}}, \"type\": \"scattercarpet\"}], \"scattergeo\": [{\"marker\": {\"colorbar\": {\"outlinewidth\": 0, \"ticks\": \"\"}}, \"type\": \"scattergeo\"}], \"scattergl\": [{\"marker\": {\"line\": {\"color\": \"#283442\"}}, \"type\": \"scattergl\"}], \"scattermapbox\": [{\"marker\": {\"colorbar\": {\"outlinewidth\": 0, \"ticks\": \"\"}}, \"type\": \"scattermapbox\"}], \"scatterpolar\": [{\"marker\": {\"colorbar\": {\"outlinewidth\": 0, \"ticks\": \"\"}}, \"type\": \"scatterpolar\"}], \"scatterpolargl\": [{\"marker\": {\"colorbar\": {\"outlinewidth\": 0, \"ticks\": \"\"}}, \"type\": \"scatterpolargl\"}], \"scatterternary\": [{\"marker\": {\"colorbar\": {\"outlinewidth\": 0, \"ticks\": \"\"}}, \"type\": \"scatterternary\"}], \"surface\": [{\"colorbar\": {\"outlinewidth\": 0, \"ticks\": \"\"}, \"colorscale\": [[0.0, \"#0d0887\"], [0.1111111111111111, \"#46039f\"], [0.2222222222222222, \"#7201a8\"], [0.3333333333333333, \"#9c179e\"], [0.4444444444444444, \"#bd3786\"], [0.5555555555555556, \"#d8576b\"], [0.6666666666666666, \"#ed7953\"], [0.7777777777777778, \"#fb9f3a\"], [0.8888888888888888, \"#fdca26\"], [1.0, \"#f0f921\"]], \"type\": \"surface\"}], \"table\": [{\"cells\": {\"fill\": {\"color\": \"#506784\"}, \"line\": {\"color\": \"rgb(17,17,17)\"}}, \"header\": {\"fill\": {\"color\": \"#2a3f5f\"}, \"line\": {\"color\": \"rgb(17,17,17)\"}}, \"type\": \"table\"}]}, \"layout\": {\"annotationdefaults\": {\"arrowcolor\": \"#f2f5fa\", \"arrowhead\": 0, \"arrowwidth\": 1}, \"coloraxis\": {\"colorbar\": {\"outlinewidth\": 0, \"ticks\": \"\"}}, \"colorscale\": {\"diverging\": [[0, \"#8e0152\"], [0.1, \"#c51b7d\"], [0.2, \"#de77ae\"], [0.3, \"#f1b6da\"], [0.4, \"#fde0ef\"], [0.5, \"#f7f7f7\"], [0.6, \"#e6f5d0\"], [0.7, \"#b8e186\"], [0.8, \"#7fbc41\"], [0.9, \"#4d9221\"], [1, \"#276419\"]], \"sequential\": [[0.0, \"#0d0887\"], [0.1111111111111111, \"#46039f\"], [0.2222222222222222, \"#7201a8\"], [0.3333333333333333, \"#9c179e\"], [0.4444444444444444, \"#bd3786\"], [0.5555555555555556, \"#d8576b\"], [0.6666666666666666, \"#ed7953\"], [0.7777777777777778, \"#fb9f3a\"], [0.8888888888888888, \"#fdca26\"], [1.0, \"#f0f921\"]], \"sequentialminus\": [[0.0, \"#0d0887\"], [0.1111111111111111, \"#46039f\"], [0.2222222222222222, \"#7201a8\"], [0.3333333333333333, \"#9c179e\"], [0.4444444444444444, \"#bd3786\"], [0.5555555555555556, \"#d8576b\"], [0.6666666666666666, \"#ed7953\"], [0.7777777777777778, \"#fb9f3a\"], [0.8888888888888888, \"#fdca26\"], [1.0, \"#f0f921\"]]}, \"colorway\": [\"#636efa\", \"#EF553B\", \"#00cc96\", \"#ab63fa\", \"#FFA15A\", \"#19d3f3\", \"#FF6692\", \"#B6E880\", \"#FF97FF\", \"#FECB52\"], \"font\": {\"color\": \"#f2f5fa\"}, \"geo\": {\"bgcolor\": \"rgb(17,17,17)\", \"lakecolor\": \"rgb(17,17,17)\", \"landcolor\": \"rgb(17,17,17)\", \"showlakes\": true, \"showland\": true, \"subunitcolor\": \"#506784\"}, \"hoverlabel\": {\"align\": \"left\"}, \"hovermode\": \"closest\", \"mapbox\": {\"style\": \"dark\"}, \"paper_bgcolor\": \"rgb(17,17,17)\", \"plot_bgcolor\": \"rgb(17,17,17)\", \"polar\": {\"angularaxis\": {\"gridcolor\": \"#506784\", \"linecolor\": \"#506784\", \"ticks\": \"\"}, \"bgcolor\": \"rgb(17,17,17)\", \"radialaxis\": {\"gridcolor\": \"#506784\", \"linecolor\": \"#506784\", \"ticks\": \"\"}}, \"scene\": {\"xaxis\": {\"backgroundcolor\": \"rgb(17,17,17)\", \"gridcolor\": \"#506784\", \"gridwidth\": 2, \"linecolor\": \"#506784\", \"showbackground\": true, \"ticks\": \"\", \"zerolinecolor\": \"#C8D4E3\"}, \"yaxis\": {\"backgroundcolor\": \"rgb(17,17,17)\", \"gridcolor\": \"#506784\", \"gridwidth\": 2, \"linecolor\": \"#506784\", \"showbackground\": true, \"ticks\": \"\", \"zerolinecolor\": \"#C8D4E3\"}, \"zaxis\": {\"backgroundcolor\": \"rgb(17,17,17)\", \"gridcolor\": \"#506784\", \"gridwidth\": 2, \"linecolor\": \"#506784\", \"showbackground\": true, \"ticks\": \"\", \"zerolinecolor\": \"#C8D4E3\"}}, \"shapedefaults\": {\"line\": {\"color\": \"#f2f5fa\"}}, \"sliderdefaults\": {\"bgcolor\": \"#C8D4E3\", \"bordercolor\": \"rgb(17,17,17)\", \"borderwidth\": 1, \"tickwidth\": 0}, \"ternary\": {\"aaxis\": {\"gridcolor\": \"#506784\", \"linecolor\": \"#506784\", \"ticks\": \"\"}, \"baxis\": {\"gridcolor\": \"#506784\", \"linecolor\": \"#506784\", \"ticks\": \"\"}, \"bgcolor\": \"rgb(17,17,17)\", \"caxis\": {\"gridcolor\": \"#506784\", \"linecolor\": \"#506784\", \"ticks\": \"\"}}, \"title\": {\"x\": 0.05}, \"updatemenudefaults\": {\"bgcolor\": \"#506784\", \"borderwidth\": 0}, \"xaxis\": {\"automargin\": true, \"gridcolor\": \"#283442\", \"linecolor\": \"#506784\", \"ticks\": \"\", \"title\": {\"standoff\": 15}, \"zerolinecolor\": \"#283442\", \"zerolinewidth\": 2}, \"yaxis\": {\"automargin\": true, \"gridcolor\": \"#283442\", \"linecolor\": \"#506784\", \"ticks\": \"\", \"title\": {\"standoff\": 15}, \"zerolinecolor\": \"#283442\", \"zerolinewidth\": 2}}}, \"title\": {\"text\": \"PSNR_DB | Groupped by quant_tech | dataframes\"}, \"violinmode\": \"group\", \"xaxis\": {\"anchor\": \"y\", \"domain\": [0.0, 1.0]}, \"yaxis\": {\"anchor\": \"x\", \"domain\": [0.0, 1.0], \"title\": {\"text\": \"psnr_db\"}}},\n",
              "                        {\"responsive\": true}\n",
              "                    ).then(function(){\n",
              "                            \n",
              "var gd = document.getElementById('de91bb79-52e8-42f1-8591-e1b80c1acbea');\n",
              "var x = new MutationObserver(function (mutations, observer) {{\n",
              "        var display = window.getComputedStyle(gd).display;\n",
              "        if (!display || display === 'none') {{\n",
              "            console.log([gd, 'removed!']);\n",
              "            Plotly.purge(gd);\n",
              "            observer.disconnect();\n",
              "        }}\n",
              "}});\n",
              "\n",
              "// Listen for the removal of the full notebook cells\n",
              "var notebookContainer = gd.closest('#notebook-container');\n",
              "if (notebookContainer) {{\n",
              "    x.observe(notebookContainer, {childList: true});\n",
              "}}\n",
              "\n",
              "// Listen for the clearing of the current output cell\n",
              "var outputEl = gd.closest('.output');\n",
              "if (outputEl) {{\n",
              "    x.observe(outputEl, {childList: true});\n",
              "}}\n",
              "\n",
              "                        })\n",
              "                };\n",
              "                \n",
              "            </script>\n",
              "        </div>\n",
              "</body>\n",
              "</html>"
            ]
          },
          "metadata": {
            "tags": []
          }
        }
      ]
    },
    {
      "cell_type": "code",
      "metadata": {
        "id": "dkFa2uZRqKpL",
        "outputId": "e7a3372f-f94c-4502-e66f-3e9e59e91b8e",
        "colab": {
          "base_uri": "https://localhost:8080/",
          "height": 542
        }
      },
      "source": [
        "hue = 'quant_tech_2'; x = 'bpp'; y = 'psnr_db'\n",
        "fig = px.violin(df[df[f\"{hue}\"] != 'Basic' ], y=f\"{y}\", color=f\"{hue}\", \n",
        "                 # marginal_y=\"violin\", marginal_x=\"box\", trendline=\"ols\",\n",
        "                 template=DASH_TEMPLATES_LIST[2])\n",
        "fig.update_layout(template = DASH_TEMPLATES_LIST[2], title_text=f'{y.upper()} | Groupped by {hue} | dataframes')"
      ],
      "execution_count": 19,
      "outputs": [
        {
          "output_type": "display_data",
          "data": {
            "text/html": [
              "<html>\n",
              "<head><meta charset=\"utf-8\" /></head>\n",
              "<body>\n",
              "    <div>\n",
              "            <script src=\"https://cdnjs.cloudflare.com/ajax/libs/mathjax/2.7.5/MathJax.js?config=TeX-AMS-MML_SVG\"></script><script type=\"text/javascript\">if (window.MathJax) {MathJax.Hub.Config({SVG: {font: \"STIX-Web\"}});}</script>\n",
              "                <script type=\"text/javascript\">window.PlotlyConfig = {MathJaxConfig: 'local'};</script>\n",
              "        <script src=\"https://cdn.plot.ly/plotly-latest.min.js\"></script>    \n",
              "            <div id=\"ec41de2c-09ab-4e75-8130-c7ba5102615a\" class=\"plotly-graph-div\" style=\"height:525px; width:100%;\"></div>\n",
              "            <script type=\"text/javascript\">\n",
              "                \n",
              "                    window.PLOTLYENV=window.PLOTLYENV || {};\n",
              "                    \n",
              "                if (document.getElementById(\"ec41de2c-09ab-4e75-8130-c7ba5102615a\")) {\n",
              "                    Plotly.newPlot(\n",
              "                        'ec41de2c-09ab-4e75-8130-c7ba5102615a',\n",
              "                        [{\"alignmentgroup\": \"True\", \"box\": {\"visible\": false}, \"hoverlabel\": {\"namelength\": 0}, \"hovertemplate\": \"quant_tech_2=RandomUnstructured_rate<br>psnr_db=%{y}\", \"legendgroup\": \"quant_tech_2=RandomUnstructured_rate\", \"marker\": {\"color\": \"#636efa\"}, \"name\": \"quant_tech_2=RandomUnstructured_rate\", \"offsetgroup\": \"quant_tech_2=RandomUnstructured_rate\", \"orientation\": \"v\", \"scalegroup\": \"True\", \"showlegend\": true, \"type\": \"violin\", \"x0\": \" \", \"xaxis\": \"x\", \"y\": [13.888062482795027, 12.972257843366627, 17.250423469619378, 16.54289775348704, 13.766441082378151, 15.422056060034885, 16.196135110483848, 14.521359905817311, 15.928491286983745, 16.472570453483648, 13.413262937512098, 12.95096666013468, 12.775590626665128, 15.038829863365107, 12.5855668619485, 12.2994851634148, 12.749808637244733, 13.736806062654948, 14.238407080478375, 15.504991150893725, 11.722980466131132, 12.143707408682387, 12.494316357253828, 14.353942911781216, 11.567169052757473, 10.773023205954564, 12.713866467302628, 12.867337264722662, 12.075163644841487, 12.838576011233311, 11.688720116699734, 12.100837912816928, 11.498655841459017, 12.892982915873187, 11.221122893940878, 10.588993661616223, 11.764160280066932, 12.265609274682078, 11.787529523047054, 12.641445686178018, 11.288369823415476, 11.480481709051508, 11.3642841055811, 11.893650273471264, 11.128717823297922, 10.188006182908826, 11.07219186864424, 11.720675552436006, 11.051927033447518, 11.547176922227285, 10.910732662955835, 10.292376448874156, 11.042525176948669, 10.305286608731194, 10.620546310973836, 9.852000081430235, 10.755834319797893, 11.80072491041414, 10.223673583342752, 10.819050002243323, 10.247719054784373, 10.350110811184724, 10.883051967368033, 10.269521039180773, 10.635345013521004, 9.899669909756714, 10.756898808709717, 11.420309310446232, 9.62181596352769, 9.856755294724614, 10.263295907798044, 10.610018139552471, 11.065891211763098, 10.404677072145779, 10.186870856656551, 9.407630080789877, 10.76450830524692, 11.195399373950412, 9.542235636514901, 9.84672567750626, 9.690107997656696, 10.687123521845912, 10.309659268437263, 10.074792253486493, 10.027437359153431, 9.472830899379062, 10.79774122962153, 10.840584184346637, 9.300687092050277, 9.334935727777712, 10.539380832063824, 10.677537783757991, 10.694132345777843, 9.19110476185288, 9.745137205086406, 8.974933127604908, 10.744615547614668, 10.349873162192065, 9.893789675311833, 8.399285415533635, 10.864366259923349, 10.744840523862514, 9.775879044155383, 9.65711968888576, 9.814441487855326, 8.794977700536823, 10.645429215490461, 9.302850677300741, 9.497231497965902, 8.454838843473206, 10.113970971546225, 10.92129488855912, 8.707393014838791, 9.01864852263652, 9.91843379698112, 9.513848715695726, 11.14009178632354, 9.494552847646537, 9.558619375000612, 8.119656126358098, 10.650622364663658, 11.067093904174532, 8.069490746190287, 8.689616363118558, 9.757248528755886, 9.61332104671413, 10.584894470615763, 8.861452845382951, 10.117229306139803, 9.3759681692502, 9.893115992942963, 10.861995078890207, 9.415115684859972, 9.818263810659042, 10.572658710090838, 8.780897346175161, 10.658832596775355, 10.544138414707572, 9.874761319047094, 10.562717907498204, 10.126335047615921, 10.655656686310977, 9.739614129827883, 9.945778769878514, 10.085524049661359, 9.597934015386636, 10.280871452432454, 10.410475747799149, 9.6462029542672, 10.579220272479297, 10.323052733126518, 10.54143246796934, 9.941357836559401, 10.304319890702935, 10.152214485354547, 10.484108761119042, 10.266432225673896, 10.205039799732162, 10.302568061922328, 10.258427199741046, 9.971337399563227, 10.239774503449846, 9.858529095302057, 10.70687781626324, 9.742832479200246, 10.6336890848159, 10.457547918473733, 10.077401159633654, 10.29816723695831, 10.21378413914459], \"y0\": \" \", \"yaxis\": \"y\"}, {\"alignmentgroup\": \"True\", \"box\": {\"visible\": false}, \"hoverlabel\": {\"namelength\": 0}, \"hovertemplate\": \"quant_tech_2=L1Unstructured_rate<br>psnr_db=%{y}\", \"legendgroup\": \"quant_tech_2=L1Unstructured_rate\", \"marker\": {\"color\": \"#EF553B\"}, \"name\": \"quant_tech_2=L1Unstructured_rate\", \"offsetgroup\": \"quant_tech_2=L1Unstructured_rate\", \"orientation\": \"v\", \"scalegroup\": \"True\", \"showlegend\": true, \"type\": \"violin\", \"x0\": \" \", \"xaxis\": \"x\", \"y\": [42.31413435474404, 42.31413435474404, 42.31413435474404, 42.31413435474404, 42.31413435474404, 42.31413435474404, 42.31413435474404, 42.31413435474404, 42.31413435474404, 42.31413435474404, 41.4000758111692, 41.4000758111692, 41.4000758111692, 41.4000758111692, 41.4000758111692, 41.4000758111692, 41.4000758111692, 41.4000758111692, 41.4000758111692, 41.4000758111692, 39.435642944848325, 39.435642944848325, 39.435642944848325, 39.435642944848325, 39.435642944848325, 39.435642944848325, 39.435642944848325, 39.435642944848325, 39.435642944848325, 39.435642944848325, 37.28537707439258, 37.28537707439258, 37.28537707439258, 37.28537707439258, 37.28537707439258, 37.28537707439258, 37.28537707439258, 37.28537707439258, 37.28537707439258, 37.28537707439258, 35.11083418992514, 35.11083418992514, 35.11083418992514, 35.11083418992514, 35.11083418992514, 35.11083418992514, 35.11083418992514, 35.11083418992514, 35.11083418992514, 35.11083418992514, 33.31476954755652, 33.31476954755652, 33.31476954755652, 33.31476954755652, 33.31476954755652, 33.31476954755652, 33.31476954755652, 33.31476954755652, 33.31476954755652, 33.31476954755652, 31.22103261767672, 31.22103261767672, 31.22103261767672, 31.22103261767672, 31.22103261767672, 31.22103261767672, 31.22103261767672, 31.22103261767672, 31.22103261767672, 31.22103261767672, 29.514347962799626, 29.514347962799626, 29.514347962799626, 29.514347962799626, 29.514347962799626, 29.514347962799626, 29.514347962799626, 29.514347962799626, 29.514347962799626, 29.514347962799626, 27.03558718236748, 27.03558718236748, 27.03558718236748, 27.03558718236748, 27.03558718236748, 27.03558718236748, 27.03558718236748, 27.03558718236748, 27.03558718236748, 27.03558718236748, 18.461622580487187, 18.461622580487187, 18.461622580487187, 18.461622580487187, 18.461622580487187, 18.461622580487187, 18.461622580487187, 18.461622580487187, 18.461622580487187, 18.461622580487187, 14.392113259927592, 14.392113259927592, 14.392113259927592, 14.392113259927592, 14.392113259927592, 14.392113259927592, 14.392113259927592, 14.392113259927592, 14.392113259927592, 14.392113259927592, 11.524025654528561, 11.524025654528561, 11.524025654528561, 11.524025654528561, 11.524025654528561, 11.524025654528561, 11.524025654528561, 11.524025654528561, 11.524025654528561, 11.524025654528561, 9.834488849634257, 9.834488849634257, 9.834488849634257, 9.834488849634257, 9.834488849634257, 9.834488849634257, 9.834488849634257, 9.834488849634257, 9.834488849634257, 9.834488849634257, 8.75272199542942, 8.75272199542942, 8.75272199542942, 8.75272199542942, 8.75272199542942, 8.75272199542942, 8.75272199542942, 8.75272199542942, 8.75272199542942, 8.75272199542942, 10.18627348317235, 10.18627348317235, 10.18627348317235, 10.18627348317235, 10.18627348317235, 10.18627348317235, 10.18627348317235, 10.18627348317235, 10.18627348317235, 10.18627348317235, 8.557425524685188, 8.557425524685188, 8.557425524685188, 8.557425524685188, 8.557425524685188, 8.557425524685188, 8.557425524685188, 8.557425524685188, 8.557425524685188, 8.557425524685188, 10.093274854670913, 10.093274854670913, 10.093274854670913, 10.093274854670913, 10.093274854670913, 10.093274854670913, 10.093274854670913, 10.093274854670913, 10.093274854670913, 10.093274854670913], \"y0\": \" \", \"yaxis\": \"y\"}, {\"alignmentgroup\": \"True\", \"box\": {\"visible\": false}, \"hoverlabel\": {\"namelength\": 0}, \"hovertemplate\": \"quant_tech_2=RandomUnstructured_abs<br>psnr_db=%{y}\", \"legendgroup\": \"quant_tech_2=RandomUnstructured_abs\", \"marker\": {\"color\": \"#00cc96\"}, \"name\": \"quant_tech_2=RandomUnstructured_abs\", \"offsetgroup\": \"quant_tech_2=RandomUnstructured_abs\", \"orientation\": \"v\", \"scalegroup\": \"True\", \"showlegend\": true, \"type\": \"violin\", \"x0\": \" \", \"xaxis\": \"x\", \"y\": [27.42317510237068, 30.99310847114816, 28.58508705774777, 25.981145617809037, 26.07551993997103, 29.22493420464962, 26.185147483938145, 26.660279966341065, 25.177432520240803, 28.065241638181227, 21.759411905884495, 24.83682062221521, 25.047991906653234, 22.34678619860761, 23.317272781778396, 26.7747534285568, 21.87348894271778, 23.22301711168408, 22.076387880029177, 25.03340956755459, 21.34161962966502, 14.449764553698802, 23.1357541168571, 21.72641191251159, 21.057279984299946, 24.40921498767525, 20.317901060441894, 22.03754186170997, 21.469272888022644, 22.38716765296392, 20.3916361772437, 14.353417158813555, 21.77584893639524, 21.376757776390786, 20.37151212274056, 22.16547964554, 19.18804429234725, 21.32134415575056, 20.401463796373275, 20.103656663814142, 14.632899635290592, 14.315316385312029, 19.70418873780818, 20.00889531036996, 20.007629059756983, 21.26781727952289, 18.781803824503637, 20.021633289286413, 19.704082314197613, 18.987825374878952, 14.471287051495745, 14.149055983657274, 19.041001834361246, 18.420574344093566, 18.29593064431041, 20.966080894280434, 17.86679214789735, 19.671978615958004, 18.93112404196239, 18.68069580226472, 14.467676429282804, 13.982504369250515, 18.77221921773189, 17.6429706120378, 17.851159855334046, 16.0563930084571, 17.59769125019254, 14.796625839823186, 18.763251575153628, 17.975829786809317, 14.244432677007012, 13.994121281603, 18.247004557646697, 17.291731290023026, 13.84427529200775, 15.967879159941642, 16.990715994692216, 14.790365387455113, 18.25427722903991, 17.291613031718516, 14.069756654104207, 13.897308665470364, 18.126936757611233, 17.092159644005235, 13.767046729395355, 16.00125709819961, 16.36962533910706, 14.814693388542356, 18.018518445531008, 17.15981898956533, 13.937288587522858, 14.081597345030382, 17.83781448620467, 16.749455170942788, 13.676379541062314, 15.710477078126356, 16.300592224315412, 14.70354840526278, 17.817065558391448, 17.123056862709383, 13.512545738848727, 13.043195146506296, 15.920923544374089, 15.940173520126299, 13.447482204301428, 13.78988828592873, 13.417677235885527, 14.129340189044216, 15.356774118672956, 16.123954321590148, 13.450288980079026, 12.832816503976936, 13.555500527154694, 15.136551241368792, 12.616343386304605, 13.40449131520969, 13.022949839459205, 13.799798784088516, 14.614432631534546, 15.585715632281962], \"y0\": \" \", \"yaxis\": \"y\"}, {\"alignmentgroup\": \"True\", \"box\": {\"visible\": false}, \"hoverlabel\": {\"namelength\": 0}, \"hovertemplate\": \"quant_tech_2=L1Unstructured_abs<br>psnr_db=%{y}\", \"legendgroup\": \"quant_tech_2=L1Unstructured_abs\", \"marker\": {\"color\": \"#ab63fa\"}, \"name\": \"quant_tech_2=L1Unstructured_abs\", \"offsetgroup\": \"quant_tech_2=L1Unstructured_abs\", \"orientation\": \"v\", \"scalegroup\": \"True\", \"showlegend\": true, \"type\": \"violin\", \"x0\": \" \", \"xaxis\": \"x\", \"y\": [42.48184125754185, 42.48184125754185, 42.48184125754185, 42.48184125754185, 42.48184125754185, 42.48184125754185, 42.48184125754185, 42.48184125754185, 42.48184125754185, 42.48184125754185, 42.48346545087576, 42.48346545087576, 42.48346545087576, 42.48346545087576, 42.48346545087576, 42.48346545087576, 42.48346545087576, 42.48346545087576, 42.48346545087576, 42.48346545087576, 42.474392412844175, 42.474392412844175, 42.474392412844175, 42.474392412844175, 42.474392412844175, 42.474392412844175, 42.474392412844175, 42.474392412844175, 42.474392412844175, 42.474392412844175, 42.45624625470924, 42.45624625470924, 42.45624625470924, 42.45624625470924, 42.45624625470924, 42.45624625470924, 42.45624625470924, 42.45624625470924, 42.45624625470924, 42.45624625470924, 42.440862879481024, 42.440862879481024, 42.440862879481024, 42.440862879481024, 42.440862879481024, 42.440862879481024, 42.440862879481024, 42.440862879481024, 42.440862879481024, 42.440862879481024, 42.44689191779741, 42.44689191779741, 42.44689191779741, 42.44689191779741, 42.44689191779741, 42.44689191779741, 42.44689191779741, 42.44689191779741, 42.44689191779741, 42.44689191779741, 42.434894386644075, 42.434894386644075, 42.434894386644075, 42.434894386644075, 42.434894386644075, 42.434894386644075, 42.434894386644075, 42.434894386644075, 42.434894386644075, 42.434894386644075, 42.441628174047324, 42.441628174047324, 42.441628174047324, 42.441628174047324, 42.441628174047324, 42.441628174047324, 42.441628174047324, 42.441628174047324, 42.441628174047324, 42.441628174047324, 42.38509379087945, 42.38509379087945, 42.38509379087945, 42.38509379087945, 42.38509379087945, 42.38509379087945, 42.38509379087945, 42.38509379087945, 42.38509379087945, 42.38509379087945, 42.35131486853915, 42.35131486853915, 42.35131486853915, 42.35131486853915, 42.35131486853915, 42.35131486853915, 42.35131486853915, 42.35131486853915, 42.35131486853915, 42.35131486853915, 42.04994641778676, 42.04994641778676, 42.04994641778676, 42.04994641778676, 42.04994641778676, 42.04994641778676, 42.04994641778676, 42.04994641778676, 42.04994641778676, 42.04994641778676, 41.69601270253682, 41.69601270253682, 41.69601270253682, 41.69601270253682, 41.69601270253682, 41.69601270253682, 41.69601270253682, 41.69601270253682, 41.69601270253682, 41.69601270253682], \"y0\": \" \", \"yaxis\": \"y\"}],\n",
              "                        {\"legend\": {\"tracegroupgap\": 0}, \"margin\": {\"t\": 60}, \"template\": {\"data\": {\"bar\": [{\"error_x\": {\"color\": \"#f2f5fa\"}, \"error_y\": {\"color\": \"#f2f5fa\"}, \"marker\": {\"line\": {\"color\": \"rgb(17,17,17)\", \"width\": 0.5}}, \"type\": \"bar\"}], \"barpolar\": [{\"marker\": {\"line\": {\"color\": \"rgb(17,17,17)\", \"width\": 0.5}}, \"type\": \"barpolar\"}], \"carpet\": [{\"aaxis\": {\"endlinecolor\": \"#A2B1C6\", \"gridcolor\": \"#506784\", \"linecolor\": \"#506784\", \"minorgridcolor\": \"#506784\", \"startlinecolor\": \"#A2B1C6\"}, \"baxis\": {\"endlinecolor\": \"#A2B1C6\", \"gridcolor\": \"#506784\", \"linecolor\": \"#506784\", \"minorgridcolor\": \"#506784\", \"startlinecolor\": \"#A2B1C6\"}, \"type\": \"carpet\"}], \"choropleth\": [{\"colorbar\": {\"outlinewidth\": 0, \"ticks\": \"\"}, \"type\": \"choropleth\"}], \"contour\": [{\"colorbar\": {\"outlinewidth\": 0, \"ticks\": \"\"}, \"colorscale\": [[0.0, \"#0d0887\"], [0.1111111111111111, \"#46039f\"], [0.2222222222222222, \"#7201a8\"], [0.3333333333333333, \"#9c179e\"], [0.4444444444444444, \"#bd3786\"], [0.5555555555555556, \"#d8576b\"], [0.6666666666666666, \"#ed7953\"], [0.7777777777777778, \"#fb9f3a\"], [0.8888888888888888, \"#fdca26\"], [1.0, \"#f0f921\"]], \"type\": \"contour\"}], \"contourcarpet\": [{\"colorbar\": {\"outlinewidth\": 0, \"ticks\": \"\"}, \"type\": \"contourcarpet\"}], \"heatmap\": [{\"colorbar\": {\"outlinewidth\": 0, \"ticks\": \"\"}, \"colorscale\": [[0.0, \"#0d0887\"], [0.1111111111111111, \"#46039f\"], [0.2222222222222222, \"#7201a8\"], [0.3333333333333333, \"#9c179e\"], [0.4444444444444444, \"#bd3786\"], [0.5555555555555556, \"#d8576b\"], [0.6666666666666666, \"#ed7953\"], [0.7777777777777778, \"#fb9f3a\"], [0.8888888888888888, \"#fdca26\"], [1.0, \"#f0f921\"]], \"type\": \"heatmap\"}], \"heatmapgl\": [{\"colorbar\": {\"outlinewidth\": 0, \"ticks\": \"\"}, \"colorscale\": [[0.0, \"#0d0887\"], [0.1111111111111111, \"#46039f\"], [0.2222222222222222, \"#7201a8\"], [0.3333333333333333, \"#9c179e\"], [0.4444444444444444, \"#bd3786\"], [0.5555555555555556, \"#d8576b\"], [0.6666666666666666, \"#ed7953\"], [0.7777777777777778, \"#fb9f3a\"], [0.8888888888888888, \"#fdca26\"], [1.0, \"#f0f921\"]], \"type\": \"heatmapgl\"}], \"histogram\": [{\"marker\": {\"colorbar\": {\"outlinewidth\": 0, \"ticks\": \"\"}}, \"type\": \"histogram\"}], \"histogram2d\": [{\"colorbar\": {\"outlinewidth\": 0, \"ticks\": \"\"}, \"colorscale\": [[0.0, \"#0d0887\"], [0.1111111111111111, \"#46039f\"], [0.2222222222222222, \"#7201a8\"], [0.3333333333333333, \"#9c179e\"], [0.4444444444444444, \"#bd3786\"], [0.5555555555555556, \"#d8576b\"], [0.6666666666666666, \"#ed7953\"], [0.7777777777777778, \"#fb9f3a\"], [0.8888888888888888, \"#fdca26\"], [1.0, \"#f0f921\"]], \"type\": \"histogram2d\"}], \"histogram2dcontour\": [{\"colorbar\": {\"outlinewidth\": 0, \"ticks\": \"\"}, \"colorscale\": [[0.0, \"#0d0887\"], [0.1111111111111111, \"#46039f\"], [0.2222222222222222, \"#7201a8\"], [0.3333333333333333, \"#9c179e\"], [0.4444444444444444, \"#bd3786\"], [0.5555555555555556, \"#d8576b\"], [0.6666666666666666, \"#ed7953\"], [0.7777777777777778, \"#fb9f3a\"], [0.8888888888888888, \"#fdca26\"], [1.0, \"#f0f921\"]], \"type\": \"histogram2dcontour\"}], \"mesh3d\": [{\"colorbar\": {\"outlinewidth\": 0, \"ticks\": \"\"}, \"type\": \"mesh3d\"}], \"parcoords\": [{\"line\": {\"colorbar\": {\"outlinewidth\": 0, \"ticks\": \"\"}}, \"type\": \"parcoords\"}], \"pie\": [{\"automargin\": true, \"type\": \"pie\"}], \"scatter\": [{\"marker\": {\"line\": {\"color\": \"#283442\"}}, \"type\": \"scatter\"}], \"scatter3d\": [{\"line\": {\"colorbar\": {\"outlinewidth\": 0, \"ticks\": \"\"}}, \"marker\": {\"colorbar\": {\"outlinewidth\": 0, \"ticks\": \"\"}}, \"type\": \"scatter3d\"}], \"scattercarpet\": [{\"marker\": {\"colorbar\": {\"outlinewidth\": 0, \"ticks\": \"\"}}, \"type\": \"scattercarpet\"}], \"scattergeo\": [{\"marker\": {\"colorbar\": {\"outlinewidth\": 0, \"ticks\": \"\"}}, \"type\": \"scattergeo\"}], \"scattergl\": [{\"marker\": {\"line\": {\"color\": \"#283442\"}}, \"type\": \"scattergl\"}], \"scattermapbox\": [{\"marker\": {\"colorbar\": {\"outlinewidth\": 0, \"ticks\": \"\"}}, \"type\": \"scattermapbox\"}], \"scatterpolar\": [{\"marker\": {\"colorbar\": {\"outlinewidth\": 0, \"ticks\": \"\"}}, \"type\": \"scatterpolar\"}], \"scatterpolargl\": [{\"marker\": {\"colorbar\": {\"outlinewidth\": 0, \"ticks\": \"\"}}, \"type\": \"scatterpolargl\"}], \"scatterternary\": [{\"marker\": {\"colorbar\": {\"outlinewidth\": 0, \"ticks\": \"\"}}, \"type\": \"scatterternary\"}], \"surface\": [{\"colorbar\": {\"outlinewidth\": 0, \"ticks\": \"\"}, \"colorscale\": [[0.0, \"#0d0887\"], [0.1111111111111111, \"#46039f\"], [0.2222222222222222, \"#7201a8\"], [0.3333333333333333, \"#9c179e\"], [0.4444444444444444, \"#bd3786\"], [0.5555555555555556, \"#d8576b\"], [0.6666666666666666, \"#ed7953\"], [0.7777777777777778, \"#fb9f3a\"], [0.8888888888888888, \"#fdca26\"], [1.0, \"#f0f921\"]], \"type\": \"surface\"}], \"table\": [{\"cells\": {\"fill\": {\"color\": \"#506784\"}, \"line\": {\"color\": \"rgb(17,17,17)\"}}, \"header\": {\"fill\": {\"color\": \"#2a3f5f\"}, \"line\": {\"color\": \"rgb(17,17,17)\"}}, \"type\": \"table\"}]}, \"layout\": {\"annotationdefaults\": {\"arrowcolor\": \"#f2f5fa\", \"arrowhead\": 0, \"arrowwidth\": 1}, \"coloraxis\": {\"colorbar\": {\"outlinewidth\": 0, \"ticks\": \"\"}}, \"colorscale\": {\"diverging\": [[0, \"#8e0152\"], [0.1, \"#c51b7d\"], [0.2, \"#de77ae\"], [0.3, \"#f1b6da\"], [0.4, \"#fde0ef\"], [0.5, \"#f7f7f7\"], [0.6, \"#e6f5d0\"], [0.7, \"#b8e186\"], [0.8, \"#7fbc41\"], [0.9, \"#4d9221\"], [1, \"#276419\"]], \"sequential\": [[0.0, \"#0d0887\"], [0.1111111111111111, \"#46039f\"], [0.2222222222222222, \"#7201a8\"], [0.3333333333333333, \"#9c179e\"], [0.4444444444444444, \"#bd3786\"], [0.5555555555555556, \"#d8576b\"], [0.6666666666666666, \"#ed7953\"], [0.7777777777777778, \"#fb9f3a\"], [0.8888888888888888, \"#fdca26\"], [1.0, \"#f0f921\"]], \"sequentialminus\": [[0.0, \"#0d0887\"], [0.1111111111111111, \"#46039f\"], [0.2222222222222222, \"#7201a8\"], [0.3333333333333333, \"#9c179e\"], [0.4444444444444444, \"#bd3786\"], [0.5555555555555556, \"#d8576b\"], [0.6666666666666666, \"#ed7953\"], [0.7777777777777778, \"#fb9f3a\"], [0.8888888888888888, \"#fdca26\"], [1.0, \"#f0f921\"]]}, \"colorway\": [\"#636efa\", \"#EF553B\", \"#00cc96\", \"#ab63fa\", \"#FFA15A\", \"#19d3f3\", \"#FF6692\", \"#B6E880\", \"#FF97FF\", \"#FECB52\"], \"font\": {\"color\": \"#f2f5fa\"}, \"geo\": {\"bgcolor\": \"rgb(17,17,17)\", \"lakecolor\": \"rgb(17,17,17)\", \"landcolor\": \"rgb(17,17,17)\", \"showlakes\": true, \"showland\": true, \"subunitcolor\": \"#506784\"}, \"hoverlabel\": {\"align\": \"left\"}, \"hovermode\": \"closest\", \"mapbox\": {\"style\": \"dark\"}, \"paper_bgcolor\": \"rgb(17,17,17)\", \"plot_bgcolor\": \"rgb(17,17,17)\", \"polar\": {\"angularaxis\": {\"gridcolor\": \"#506784\", \"linecolor\": \"#506784\", \"ticks\": \"\"}, \"bgcolor\": \"rgb(17,17,17)\", \"radialaxis\": {\"gridcolor\": \"#506784\", \"linecolor\": \"#506784\", \"ticks\": \"\"}}, \"scene\": {\"xaxis\": {\"backgroundcolor\": \"rgb(17,17,17)\", \"gridcolor\": \"#506784\", \"gridwidth\": 2, \"linecolor\": \"#506784\", \"showbackground\": true, \"ticks\": \"\", \"zerolinecolor\": \"#C8D4E3\"}, \"yaxis\": {\"backgroundcolor\": \"rgb(17,17,17)\", \"gridcolor\": \"#506784\", \"gridwidth\": 2, \"linecolor\": \"#506784\", \"showbackground\": true, \"ticks\": \"\", \"zerolinecolor\": \"#C8D4E3\"}, \"zaxis\": {\"backgroundcolor\": \"rgb(17,17,17)\", \"gridcolor\": \"#506784\", \"gridwidth\": 2, \"linecolor\": \"#506784\", \"showbackground\": true, \"ticks\": \"\", \"zerolinecolor\": \"#C8D4E3\"}}, \"shapedefaults\": {\"line\": {\"color\": \"#f2f5fa\"}}, \"sliderdefaults\": {\"bgcolor\": \"#C8D4E3\", \"bordercolor\": \"rgb(17,17,17)\", \"borderwidth\": 1, \"tickwidth\": 0}, \"ternary\": {\"aaxis\": {\"gridcolor\": \"#506784\", \"linecolor\": \"#506784\", \"ticks\": \"\"}, \"baxis\": {\"gridcolor\": \"#506784\", \"linecolor\": \"#506784\", \"ticks\": \"\"}, \"bgcolor\": \"rgb(17,17,17)\", \"caxis\": {\"gridcolor\": \"#506784\", \"linecolor\": \"#506784\", \"ticks\": \"\"}}, \"title\": {\"x\": 0.05}, \"updatemenudefaults\": {\"bgcolor\": \"#506784\", \"borderwidth\": 0}, \"xaxis\": {\"automargin\": true, \"gridcolor\": \"#283442\", \"linecolor\": \"#506784\", \"ticks\": \"\", \"title\": {\"standoff\": 15}, \"zerolinecolor\": \"#283442\", \"zerolinewidth\": 2}, \"yaxis\": {\"automargin\": true, \"gridcolor\": \"#283442\", \"linecolor\": \"#506784\", \"ticks\": \"\", \"title\": {\"standoff\": 15}, \"zerolinecolor\": \"#283442\", \"zerolinewidth\": 2}}}, \"title\": {\"text\": \"PSNR_DB | Groupped by quant_tech_2 | dataframes\"}, \"violinmode\": \"group\", \"xaxis\": {\"anchor\": \"y\", \"domain\": [0.0, 1.0]}, \"yaxis\": {\"anchor\": \"x\", \"domain\": [0.0, 1.0], \"title\": {\"text\": \"psnr_db\"}}},\n",
              "                        {\"responsive\": true}\n",
              "                    ).then(function(){\n",
              "                            \n",
              "var gd = document.getElementById('ec41de2c-09ab-4e75-8130-c7ba5102615a');\n",
              "var x = new MutationObserver(function (mutations, observer) {{\n",
              "        var display = window.getComputedStyle(gd).display;\n",
              "        if (!display || display === 'none') {{\n",
              "            console.log([gd, 'removed!']);\n",
              "            Plotly.purge(gd);\n",
              "            observer.disconnect();\n",
              "        }}\n",
              "}});\n",
              "\n",
              "// Listen for the removal of the full notebook cells\n",
              "var notebookContainer = gd.closest('#notebook-container');\n",
              "if (notebookContainer) {{\n",
              "    x.observe(notebookContainer, {childList: true});\n",
              "}}\n",
              "\n",
              "// Listen for the clearing of the current output cell\n",
              "var outputEl = gd.closest('.output');\n",
              "if (outputEl) {{\n",
              "    x.observe(outputEl, {childList: true});\n",
              "}}\n",
              "\n",
              "                        })\n",
              "                };\n",
              "                \n",
              "            </script>\n",
              "        </div>\n",
              "</body>\n",
              "</html>"
            ]
          },
          "metadata": {
            "tags": []
          }
        }
      ]
    }
  ]
}