{
  "nbformat": 4,
  "nbformat_minor": 0,
  "metadata": {
    "colab": {
      "name": "post_training_static_quantization.ipynb",
      "provenance": [],
      "collapsed_sections": []
    },
    "kernelspec": {
      "name": "python3",
      "display_name": "Python 3"
    }
  },
  "cells": [
    {
      "cell_type": "markdown",
      "metadata": {
        "id": "O18M3yjSIjKF"
      },
      "source": [
        "### Setup Notebook"
      ]
    },
    {
      "cell_type": "code",
      "metadata": {
        "id": "KyvBBFyMEamq"
      },
      "source": [
        "#@title Post Train Quant Menu\n",
        "#@markdown ---\n",
        "#@markdown ##### Which Run:\n",
        "EVAL_POST_TRAIN = True   #@param {type:\"boolean\"}\n",
        "EVAL_SINGLE_FILE = False  #@param {type:\"boolean\"}\n",
        "EVAL_CSV_FILES = False   #@param {type:\"boolean\"}\n",
        "EVAL_ALL_CSV_FILES = True   #@param {type:\"boolean\"}\n",
        "\n",
        "#@markdown ---\n",
        "#@markdown ##### Data csv Info:\n",
        "TIMESTAMP_VAL = \"1605077314-991078\" #@param {type:\"string\"}\n",
        "# DATA_ZIP_PATH = \"/content/1603672968-148557.zip\"   #@param {type:\"string\"}\n",
        "# DATA_PATH = \"/content/1603672968-148557\"   #@param {type:\"string\"}\n",
        "# DATA_CSV_PATH = \"/content/1603672968-148557/colab_1603672968-148557.csv\"   #@param {type:\"string\"}"
      ],
      "execution_count": null,
      "outputs": []
    },
    {
      "cell_type": "code",
      "metadata": {
        "id": "x-IqVCht4Sa-"
      },
      "source": [
        "DATA_ZIP_PATH = f\"/content/{TIMESTAMP_VAL}.zip\"\n",
        "DATA_PATH = f\"/content/{TIMESTAMP_VAL}\" \n",
        "DATA_CSV_PATH = f\"/content/{TIMESTAMP_VAL}/colab_{TIMESTAMP_VAL}.csv\""
      ],
      "execution_count": null,
      "outputs": []
    },
    {
      "cell_type": "code",
      "metadata": {
        "id": "sZ4-EpCA8CGX"
      },
      "source": [
        "#@title Handle workspace\n",
        "#@markdown ---\n",
        "CLEAR_RESULTS_DIR = True      #@param {type:\"boolean\"}\n",
        "FLAG_RM_ZIPS = False      #@param {type:\"boolean\"}\n",
        "RESULTS_DIR_PATH = \"/content/results\"      #@param {type:\"string\"}"
      ],
      "execution_count": null,
      "outputs": []
    },
    {
      "cell_type": "code",
      "metadata": {
        "id": "FDt7j_GOG4RF"
      },
      "source": [
        "if FLAG_RM_ZIPS:\n",
        "    !rm -fr /content/*.zip\n",
        "    pass"
      ],
      "execution_count": null,
      "outputs": []
    },
    {
      "cell_type": "code",
      "metadata": {
        "id": "Yuix5UIo8Nw3"
      },
      "source": [
        "if CLEAR_RESULTS_DIR:\n",
        "    import os\n",
        "    if os.path.exists(RESULTS_DIR_PATH) and os.path.isdir(RESULTS_DIR_PATH):\n",
        "        print(f\"Clearing {RESULTS_DIR_PATH}...\")\n",
        "        !rm -R {RESULTS_DIR_PATH}/*\n",
        "        !rmdir {RESULTS_DIR_PATH}\n",
        "        pass\n",
        "    pass"
      ],
      "execution_count": null,
      "outputs": []
    },
    {
      "cell_type": "code",
      "metadata": {
        "id": "4MltVY_i5NRx",
        "outputId": "a9d6f8e3-adb2-4ee3-ca24-f55122d6017f",
        "colab": {
          "base_uri": "https://localhost:8080/"
        }
      },
      "source": [
        "import os\n",
        "os.chdir('/content')\n",
        "my_data_path = f'{DATA_PATH}'\n",
        "if os.path.exists(my_data_path) and os.path.isdir(my_data_path):\n",
        "    print(\"Cleaning workspace...\")\n",
        "    !rm  -r {my_data_path}/*\n",
        "    !rmdir {my_data_path}\n",
        "else:\n",
        "    print(\"Workspace fresh.\")\n",
        "    pass\n"
      ],
      "execution_count": null,
      "outputs": [
        {
          "output_type": "stream",
          "text": [
            "Cleaning workspace...\n"
          ],
          "name": "stdout"
        }
      ]
    },
    {
      "cell_type": "code",
      "metadata": {
        "id": "RXu_wD43FQE9",
        "outputId": "51a01d01-d410-43c6-dfb6-cd838bb419b3",
        "colab": {
          "base_uri": "https://localhost:8080/"
        }
      },
      "source": [
        "!ls /content"
      ],
      "execution_count": null,
      "outputs": [
        {
          "output_type": "stream",
          "text": [
            "1603672968-148557      1603867216-755376      1605077314-991078.zip\n",
            "1603672968-148557.zip  1603867216-755376.zip  My-Siren-Deep-Learning-Test\n",
            "1603731938-952001      1603905451-45262       outputs\n",
            "1603731938-952001.zip  1603905451-45262.zip   sample_data\n",
            "1603843559-156915      1604097384-058852\n",
            "1603843559-156915.zip  1604097384-058852.zip\n"
          ],
          "name": "stdout"
        }
      ]
    },
    {
      "cell_type": "code",
      "metadata": {
        "id": "qB_2EF4ZlqGh"
      },
      "source": [
        "if EVAL_POST_TRAIN and EVAL_CSV_FILES:\n",
        "    print(\"Extracting data...\")\n",
        "    if os.path.exists(DATA_ZIP_PATH):\n",
        "        print(f\"{DATA_ZIP_PATH} exists!\")\n",
        "        !unzip {DATA_ZIP_PATH} -d /content/ > /dev/null\n",
        "    else:\n",
        "        print(f\"{DATA_ZIP_PATH} does not exist!\")\n",
        "    pass"
      ],
      "execution_count": null,
      "outputs": []
    },
    {
      "cell_type": "code",
      "metadata": {
        "id": "fvJe5COk4fo3",
        "outputId": "36da7339-6752-4fa0-ae51-81e5cd2f41d1",
        "colab": {
          "base_uri": "https://localhost:8080/"
        }
      },
      "source": [
        "if EVAL_POST_TRAIN and EVAL_ALL_CSV_FILES:\n",
        "    DATA_CSV_PATH = []\n",
        "    import pathlib\n",
        "    zip_files_list = pathlib.Path(f'/content').glob(f'*.zip')\n",
        "    for a_zip_file in zip_files_list:\n",
        "        print(\"Extracting data...\")\n",
        "        filename = os.path.basename(a_zip_file)\n",
        "        filename = os.path.splitext(filename)[0]\n",
        "        DATA_CSV_PATH.append(f\"/content/{filename}/colab_{filename}.csv\")\n",
        "        if os.path.exists(a_zip_file):\n",
        "            print(f\"{a_zip_file} exists!\")\n",
        "            !unzip {a_zip_file} -d /content/ > /dev/null\n",
        "        else:\n",
        "            print(f\"{a_zip_file} does not exist!\")\n",
        "        pass\n",
        "    DATA_CSV_PATH = ' '.join(DATA_CSV_PATH)\n",
        "    pass\n",
        "\n",
        "print(DATA_CSV_PATH)"
      ],
      "execution_count": null,
      "outputs": [
        {
          "output_type": "stream",
          "text": [
            "Extracting data...\n",
            "/content/1603867216-755376.zip exists!\n",
            "replace /content/1603867216-755376/1603867216-755376.45.0.3.0.arch_no_0.trial_no_0.pth? [y]es, [n]o, [A]ll, [N]one, [r]ename: A\n",
            "Extracting data...\n",
            "/content/1603905451-45262.zip exists!\n",
            "replace /content/1603905451-45262/1603905451-45262.90.0.3.0.arch_no_0.trial_no_0.pth? [y]es, [n]o, [A]ll, [N]one, [r]ename: A\n",
            "Extracting data...\n",
            "/content/1603731938-952001.zip exists!\n",
            "replace /content/1603731938-952001/1603731938-952001.85.0.10.0.arch_no_0.trial_no_0.pth? [y]es, [n]o, [A]ll, [N]one, [r]ename: A\n",
            "Extracting data...\n",
            "/content/1605077314-991078.zip exists!\n",
            "Extracting data...\n",
            "/content/1603672968-148557.zip exists!\n",
            "replace /content/1603672968-148557/1603672968-148557.85.0.3.0.arch_no_0.trial_no_0.pth? [y]es, [n]o, [A]ll, [N]one, [r]ename: A\n",
            "Extracting data...\n",
            "/content/1603843559-156915.zip exists!\n",
            "replace /content/1603843559-156915/1603843559-156915.45.0.10.0.arch_no_0.trial_no_0.pth? [y]es, [n]o, [A]ll, [N]one, [r]ename: A\n",
            "Extracting data...\n",
            "/content/1604097384-058852.zip exists!\n",
            "replace /content/1604097384-058852/1604097384-058852.35.2.arch_no_0.trial_no_0.pth? [y]es, [n]o, [A]ll, [N]one, [r]ename: A\n",
            "/content/1603867216-755376/colab_1603867216-755376.csv /content/1603905451-45262/colab_1603905451-45262.csv /content/1603731938-952001/colab_1603731938-952001.csv /content/1605077314-991078/colab_1605077314-991078.csv /content/1603672968-148557/colab_1603672968-148557.csv /content/1603843559-156915/colab_1603843559-156915.csv /content/1604097384-058852/colab_1604097384-058852.csv\n"
          ],
          "name": "stdout"
        }
      ]
    },
    {
      "cell_type": "code",
      "metadata": {
        "id": "LMqJFZXE1tPU",
        "outputId": "8a1cb6ff-d2ff-40d8-b253-aec30a2adaad",
        "colab": {
          "base_uri": "https://localhost:8080/"
        }
      },
      "source": [
        "# Installing third party dependencies\n",
        "print(\"Installing required libraries...\")\n",
        "\n",
        "old_requirements = '/content/tmp_requirements.txt'\n",
        "!pip freeze > {old_requirements}\n",
        "dependencies_list = \"cmapy,sk-video,pytorch-model-summary,ConfigArgParse,tabulate\".split(\",\")\n",
        "\n",
        "with open(old_requirements) as f:\n",
        "    old_requirements_list = f.read().split(\"\\n\")\n",
        "    for a_req in dependencies_list:\n",
        "        found_req = False\n",
        "        for old_req in old_requirements_list:\n",
        "            if old_req.startswith(a_req):\n",
        "                print(f\"{a_req} already installed!\")\n",
        "                found_req = True\n",
        "                break\n",
        "        if found_req is False:\n",
        "            !pip install {a_req} -q\n",
        "    pass\n",
        "!rm -f {old_requirements}"
      ],
      "execution_count": null,
      "outputs": [
        {
          "output_type": "stream",
          "text": [
            "Installing required libraries...\n",
            "cmapy already installed!\n",
            "sk-video already installed!\n",
            "pytorch-model-summary already installed!\n",
            "ConfigArgParse already installed!\n",
            "tabulate already installed!\n"
          ],
          "name": "stdout"
        }
      ]
    },
    {
      "cell_type": "markdown",
      "metadata": {
        "id": "YQmNhQScIn-f"
      },
      "source": [
        "### Post Train Quant"
      ]
    },
    {
      "cell_type": "code",
      "metadata": {
        "id": "lfbjLYOA1y5T",
        "outputId": "5835bcc1-cc16-49ed-8eea-209cc9a7e54f",
        "colab": {
          "base_uri": "https://localhost:8080/"
        }
      },
      "source": [
        "# Setup wd to remove trash\n",
        "if EVAL_POST_TRAIN:\n",
        "    import os\n",
        "    os.chdir('/content')\n",
        "    print(\"Cloning project if requested...\")\n",
        "    # Remove trash\n",
        "    import os\n",
        "    if os.path.exists('/content/My-Siren-Deep-Learning-Test') and os.path.isdir('/content/My-Siren-Deep-Learning-Test'):\n",
        "        print(\"Cleaning from old project...\")\n",
        "        !rm -r /content/My-Siren-Deep-Learning-Test\n",
        "    else:\n",
        "        print(\"No project found.\")\n",
        "        pass\n",
        "\n",
        "\n",
        "    # Setup dir to collect logs to displayed by means tensorboard\n",
        "    import os\n",
        "    logs_base_dir = os.path.join(\"/content/outputs\", \"summaries\")\n",
        "    os.makedirs(logs_base_dir, exist_ok=True)\n",
        "\n",
        "    # Switch to Command Line Tool Location\n",
        "    # fetch updates if any from target branch\n",
        "\n",
        "    # Local repo related infos\n",
        "    project_name_path = '/content/My-Siren-Deep-Learning-Test'\n",
        "\n",
        "    # Github related infos\n",
        "    github_project_uri = 'https://github.com/franec94/My-Siren-Deep-Learning-Test.git'\n",
        "    branch_name = 'dev-distiller-support-enable' # 'cmd-line-tools'\n",
        "    cmd_tool_name = 'post-training-static-quantization'\n",
        "\n",
        "    if os.path.exists(project_name_path) is False:\n",
        "        !git clone {github_project_uri}\n",
        "        os.chdir(project_name_path)\n",
        "        !git checkout {branch_name}\n",
        "        # TODO:\n",
        "        # find workaround for installing requirements.txt\n",
        "        # !pip install -r requirements.txt\n",
        "        full_path_cmd = os.path.join(project_name_path, f'dev-cmd-line-tools/{cmd_tool_name}')\n",
        "        os.chdir(full_path_cmd)\n",
        "    else:\n",
        "        os.chdir(project_name_path)\n",
        "        !git checkout {branch_name}\n",
        "        !git fetch\n",
        "        full_path_cmd = os.path.join(project_name_path, f'dev-cmd-line-tools/{cmd_tool_name}')\n",
        "        os.chdir(full_path_cmd)\n",
        "        pass\n",
        "    pass"
      ],
      "execution_count": null,
      "outputs": [
        {
          "output_type": "stream",
          "text": [
            "Cloning project if requested...\n",
            "Cleaning from old project...\n",
            "Cloning into 'My-Siren-Deep-Learning-Test'...\n",
            "remote: Enumerating objects: 640, done.\u001b[K\n",
            "remote: Counting objects: 100% (640/640), done.\u001b[K\n",
            "remote: Compressing objects: 100% (412/412), done.\u001b[K\n",
            "remote: Total 4668 (delta 444), reused 352 (delta 161), pack-reused 4028\u001b[K\n",
            "Receiving objects: 100% (4668/4668), 83.22 MiB | 28.53 MiB/s, done.\n",
            "Resolving deltas: 100% (2881/2881), done.\n",
            "Checking out files: 100% (615/615), done.\n",
            "Branch 'cmd-line-tools' set up to track remote branch 'cmd-line-tools' from 'origin'.\n",
            "Switched to a new branch 'cmd-line-tools'\n"
          ],
          "name": "stdout"
        }
      ]
    },
    {
      "cell_type": "code",
      "metadata": {
        "id": "DHYTY4EJ2BVW",
        "outputId": "72660a70-0d33-4cd7-e21f-c7f744f27e67",
        "colab": {
          "base_uri": "https://localhost:8080/"
        }
      },
      "source": [
        "!pwd"
      ],
      "execution_count": null,
      "outputs": [
        {
          "output_type": "stream",
          "text": [
            "/content/My-Siren-Deep-Learning-Test/dev-cmd-line-tools/post-training-static-quantization\n"
          ],
          "name": "stdout"
        }
      ]
    },
    {
      "cell_type": "code",
      "metadata": {
        "id": "xGxOQGsC2Dd5",
        "outputId": "7ddd9876-8656-4191-b546-509e4638d967",
        "colab": {
          "base_uri": "https://localhost:8080/"
        }
      },
      "source": [
        "!python post_training_static_quantization.py --help"
      ],
      "execution_count": null,
      "outputs": [
        {
          "output_type": "stream",
          "text": [
            "usage: post_training_static_quantization.py [-h] [-c CONFIG_FILEPATH]\n",
            "                                            [--logging_root LOGGING_ROOT]\n",
            "                                            --experiment_name EXPERIMENT_NAME\n",
            "                                            [--verbose VERBOSE]\n",
            "                                            [--image_filepath IMAGE_FILEPATH]\n",
            "                                            [--model_files MODEL_FILES [MODEL_FILES ...]]\n",
            "                                            [--model_dirs MODEL_DIRS [MODEL_DIRS ...]]\n",
            "                                            [--log_models LOG_MODELS [LOG_MODELS ...]]\n",
            "                                            [--plain_eval_mode]\n",
            "                                            [--post_train_quant_eval_mode]\n",
            "                                            [--quantization_enabled QUANTIZATION_ENABLED [QUANTIZATION_ENABLED ...]]\n",
            "                                            [--hf HF [HF ...]]\n",
            "                                            [--hl HL [HL ...]]\n",
            "                                            [--sidelength SIDELENGTH [SIDELENGTH ...]]\n",
            "                                            [--quant_bits QUANT_BITS]\n",
            "                                            [--quant_sym]\n",
            "                                            [--dynamic_quant DYNAMIC_QUANT [DYNAMIC_QUANT ...]]\n",
            "\n",
            "Args that start with '--' (eg. --logging_root) can also be set in a config\n",
            "file (specified via -c). Config file syntax allows: key=value, flag=true,\n",
            "stuff=[a,b,c] (for details, see syntax at https://goo.gl/R74nmi). If an arg is\n",
            "specified in more than one place, then commandline values override config file\n",
            "values which override defaults.\n",
            "\n",
            "optional arguments:\n",
            "  -h, --help            show this help message and exit\n",
            "  -c CONFIG_FILEPATH, --config_filepath CONFIG_FILEPATH\n",
            "                        Path to config file.\n",
            "  --logging_root LOGGING_ROOT\n",
            "                        root for logging\n",
            "  --experiment_name EXPERIMENT_NAME\n",
            "                        Name of subdirectory in logging_root where summaries\n",
            "                        and checkpoints will be saved.\n",
            "  --verbose VERBOSE     Verbose style logging (default: 0, a.k.a silent mode),\n",
            "                        allowed: [0 for silent, 1 for complete, 2 for\n",
            "                        minimal].\n",
            "  --image_filepath IMAGE_FILEPATH\n",
            "                        Path to input image to be compressed (default:\n",
            "                        None).If not specified, It is used cameramen image as\n",
            "                        target image to be compressed.\n",
            "  --model_files MODEL_FILES [MODEL_FILES ...]\n",
            "                        List of model files (default: [], empty list).\n",
            "  --model_dirs MODEL_DIRS [MODEL_DIRS ...]\n",
            "                        List of dirs where looking for model files (default:\n",
            "                        [], empty list).\n",
            "  --log_models LOG_MODELS [LOG_MODELS ...]\n",
            "                        List of csv files with metadata about trains done.\n",
            "                        (default: [], empty list).\n",
            "  --plain_eval_mode     Evaluate models in plain mode not quantization added.\n",
            "                        (default: False).\n",
            "  --post_train_quant_eval_mode\n",
            "                        Evaluate traiend models with quantization added a\n",
            "                        posteriori (PTQ). (default: False).\n",
            "  --quantization_enabled QUANTIZATION_ENABLED [QUANTIZATION_ENABLED ...]\n",
            "                        Set it to enable dynamic quantization training.\n",
            "                        (Default: None, Allowed: [dynamic,paszke_quant,static,\n",
            "                        post_train,quantization_aware_training,custom_quant])\n",
            "  --hf HF [HF ...]      List hidden features with which define a model.\n",
            "                        (Default: None)\n",
            "  --hl HL [HL ...]      List hidden layers with which define a model.\n",
            "                        (Default: None)\n",
            "  --sidelength SIDELENGTH [SIDELENGTH ...]\n",
            "                        List hidden layers with which define a model.\n",
            "                        (Default: None)\n",
            "  --quant_bits QUANT_BITS\n",
            "                        Nmber of bits for custom quant. (Default: 8)\n",
            "  --quant_sym           Sym quat chose. (Default: False)\n",
            "  --dynamic_quant DYNAMIC_QUANT [DYNAMIC_QUANT ...]\n",
            "                        Type of quantization for dynamic quant mode. (Default:\n",
            "                        qint8), available kinds: [qint8,float16]\n"
          ],
          "name": "stdout"
        }
      ]
    },
    {
      "cell_type": "code",
      "metadata": {
        "id": "mocL-iHf6a98"
      },
      "source": [
        "if EVAL_POST_TRAIN == True and EVAL_SINGLE_FILE == True:\n",
        "    !python post_training_static_quantization.py \\\n",
        "        --model_files '/content/model_final.pth' \\\n",
        "        --hf 32 \\\n",
        "        --hl 10 \\\n",
        "        --sidelength 256 \\\n",
        "        --quantization_enabled dynamic \\\n",
        "        --logging_root '/content/results' \\\n",
        "        --experiment_name 'train'\n",
        "    pass\n",
        "\n",
        "# --post_train_quant_eval_mode \\\n",
        "# --plain_eval_mode \\\n",
        "# --post_train_quant_eval_mode \\"
      ],
      "execution_count": null,
      "outputs": []
    },
    {
      "cell_type": "code",
      "metadata": {
        "id": "Ni2sDhOiHYzk"
      },
      "source": [
        "# !python post_training_static_quantization.py \\ --logging_root '/content/results' \\ --experiment_name 'train' \\ --log_models {DATA_CSV_PATH}"
      ],
      "execution_count": null,
      "outputs": []
    },
    {
      "cell_type": "code",
      "metadata": {
        "id": "GdF_QkeRJucc"
      },
      "source": [
        "import torch"
      ],
      "execution_count": null,
      "outputs": []
    },
    {
      "cell_type": "code",
      "metadata": {
        "id": "xK34siPAJwk2",
        "outputId": "93f1bee2-c48a-40df-b5d8-723587000611",
        "colab": {
          "base_uri": "https://localhost:8080/"
        }
      },
      "source": [
        "torch.qint32"
      ],
      "execution_count": null,
      "outputs": [
        {
          "output_type": "execute_result",
          "data": {
            "text/plain": [
              "torch.qint32"
            ]
          },
          "metadata": {
            "tags": []
          },
          "execution_count": 17
        }
      ]
    },
    {
      "cell_type": "code",
      "metadata": {
        "id": "I7GwOGdsOxY5"
      },
      "source": [
        "if EVAL_POST_TRAIN == True and EVAL_CSV_FILES == True:\n",
        "    !python post_training_static_quantization.py \\\n",
        "        --logging_root '/content/results' \\\n",
        "        --experiment_name 'train' \\\n",
        "        --plain_eval_mode \\\n",
        "        --quantization_enabled dynamic custom_quant \\\n",
        "        --quant_bits 8 \\\n",
        "        --dynamic_quant 'qint8' 'float16' \\\n",
        "        --post_train_quant_eval_mode \\\n",
        "        --log_models {DATA_CSV_PATH}\n",
        "    pass\n",
        "\n",
        "# --dynamic_quant 'int8' \\\n",
        "# --quant_sym \\\n",
        "# --plain_eval_mode \\\n",
        "# --post_train_quant_eval_mode \\\n",
        "# 23.4301"
      ],
      "execution_count": null,
      "outputs": []
    },
    {
      "cell_type": "code",
      "metadata": {
        "id": "FOxTkD5hjfv-",
        "outputId": "fe97dc26-c154-463d-e4ba-c8b35cf340d3",
        "colab": {
          "base_uri": "https://localhost:8080/"
        }
      },
      "source": [
        "if EVAL_POST_TRAIN == True and EVAL_ALL_CSV_FILES == True:\n",
        "    \n",
        "    !python post_training_static_quantization.py \\\n",
        "        --logging_root '/content/results' \\\n",
        "        --experiment_name 'train' \\\n",
        "        --plain_eval_mode \\\n",
        "        --quantization_enabled dynamic custom_quant \\\n",
        "        --quant_bits 8 \\\n",
        "        --dynamic_quant 'qint8' 'float16' \\\n",
        "        --post_train_quant_eval_mode \\\n",
        "        --log_models {DATA_CSV_PATH}\n",
        "    pass"
      ],
      "execution_count": null,
      "outputs": [
        {
          "output_type": "stream",
          "text": [
            "Namespace(config_filepath=None, dynamic_quant=['qint8', 'float16'], experiment_name='train', hf=None, hl=None, image_filepath=None, log_models=['/content/1603867216-755376/colab_1603867216-755376.csv', '/content/1603905451-45262/colab_1603905451-45262.csv', '/content/1603731938-952001/colab_1603731938-952001.csv', '/content/1605077314-991078/colab_1605077314-991078.csv', '/content/1603672968-148557/colab_1603672968-148557.csv', '/content/1603843559-156915/colab_1603843559-156915.csv', '/content/1604097384-058852/colab_1604097384-058852.csv'], logging_root='/content/results', model_dirs=[], model_files=[], plain_eval_mode=True, post_train_quant_eval_mode=True, quant_bits=8, quant_sym=False, quantization_enabled=['dynamic', 'custom_quant'], sidelength=None, verbose=0)\n",
            "Date: 12-11-2020 | Timestamp: 1605190534-749024\n",
            "Created root dir: /content/results/12-11-2020/1605190534-749024/train\n",
            "No input .pth files provided!\n",
            "No input dirs files provided!\n",
            "Work: processing input .csv files - Quantization mode...\n",
            "Some models evaluated in quant mode.\n",
            "\n",
            "___________________________________________________________________________________________________________________\n",
            "================================================== Head results: ==================================================\n",
            "model_filename                                         hidden_layers    hidden_features    sidelength  quant_tech                     mse     psnr      ssim    eta_seconds    model_size\n",
            "---------------------------------------------------  ---------------  -----------------  ------------  ---------------------  -----------  -------  --------  -------------  ------------\n",
            "1603867216-755376.45.0.3.0.arch_no_0.trial_no_0.pth                3                 45           256  None                   0.000851189  36.7326  0.947171      0.0934889         28749\n",
            "1603867216-755376.45.0.3.0.arch_no_0.trial_no_0.pth                3                 45           256  dynamic-torch.qint8    0.0130069    24.9232  0.76068       0.107444          13419\n",
            "1603867216-755376.45.0.3.0.arch_no_0.trial_no_0.pth                3                 45           256  dynamic-torch.float16  0.000863021  36.6722  0.946751      0.0880821         31851\n",
            "1603867216-755376.45.0.3.0.arch_no_0.trial_no_0.pth                3                 45           256  custom_quant           0.374012     10.2917  0.337799      0.12079           28749\n",
            "1603867216-755376.45.0.3.0.arch_no_1.trial_no_0.pth                3                 45           256  None                   0.000884142  36.5677  0.943296      0.0702097         28749\n",
            "\n",
            "___________________________________________________________________________________________________________________\n",
            "================================================== Tail results: ==================================================\n",
            "model_filename                                      hidden_layers    hidden_features    sidelength  quant_tech                     mse     psnr      ssim    eta_seconds    model_size\n",
            "------------------------------------------------  ---------------  -----------------  ------------  ---------------------  -----------  -------  --------  -------------  ------------\n",
            "1604097384-058852.35.9.arch_no_38.trial_no_0.pth                9                 35           256  custom_quant           0.317741     10.9999  0.340982       0.198952         52657\n",
            "1604097384-058852.35.9.arch_no_39.trial_no_0.pth                9                 35           256  None                   0.000225895  42.4817  0.980631       0.128189         52657\n",
            "1604097384-058852.35.9.arch_no_39.trial_no_0.pth                9                 35           256  dynamic-torch.qint8    0.0119036    25.2639  0.861183       0.180799         27187\n",
            "1604097384-058852.35.9.arch_no_39.trial_no_0.pth                9                 35           256  dynamic-torch.float16  0.000230592  42.3923  0.980532       0.161176         60083\n",
            "All model files processed.\n",
            "PROCESSED 540 | SKIPPED 0| TOT 540\n"
          ],
          "name": "stdout"
        }
      ]
    },
    {
      "cell_type": "code",
      "metadata": {
        "id": "hwoHYwe32Rjj",
        "outputId": "3791a181-ccbb-4913-aebb-47d4b14f8c77",
        "colab": {
          "base_uri": "https://localhost:8080/"
        }
      },
      "source": [
        "import torch\n",
        "print(torch.__version__)\n",
        "dir(torch.quantization)\n",
        "# QuantStub, DeQuantStub, QFunctional\n",
        "'QuantStub' in dir(torch.quantization), 'DeQuantStub' in dir(torch.quantization), 'QFunctional' in dir(torch.quantization)"
      ],
      "execution_count": null,
      "outputs": [
        {
          "output_type": "stream",
          "text": [
            "1.7.0+cu101\n"
          ],
          "name": "stdout"
        },
        {
          "output_type": "execute_result",
          "data": {
            "text/plain": [
              "(True, True, False)"
            ]
          },
          "metadata": {
            "tags": []
          },
          "execution_count": 20
        }
      ]
    },
    {
      "cell_type": "markdown",
      "metadata": {
        "id": "kTMIwnC0DQSn"
      },
      "source": [
        "## References"
      ]
    },
    {
      "cell_type": "markdown",
      "metadata": {
        "id": "EFGr0pDQDSKv"
      },
      "source": [
        "### Quantization Example Notebooks:\n",
        "- [Post-training static quantization (Pytorch) - ResNet18](https://github.com/Sanjana7395/static_quantization/blob/master/quantization%20pytorch.ipynb)\n",
        "\n",
        "### Issues:\n",
        "- [Does Dynamic Quantization speed up Fairseq's Transfomer?](https://github.com/pytorch/fairseq/issues/1901)\n",
        "\n",
        "### Papers:\n",
        "- [On Periodic Functions as Regularizers for Quantization of Neural Networks](https://www.researchgate.net/publication/329207332_On_Periodic_Functions_as_Regularizers_for_Quantization_of_Neural_Networks)\n",
        "- [Automatic differentiation in PyTorch](https://openreview.net/forum?id=BJJsrmfCZ)\n",
        "\n",
        "### Colab Forms:\n",
        "- [Colab Form Example](https://colab.research.google.com/notebooks/forms.ipynb#scrollTo=ZCEBZPwUDGOg)\n",
        "\n",
        "### Tutorials Quant:\n",
        "- [How to Quantize an MNIST network to 8 bits in Pytorch from scratch (No retraining required).](https://medium.com/@karanbirchahal/how-to-quantise-an-mnist-network-to-8-bits-in-pytorch-no-retraining-required-from-scratch-39f634ac8459)\n",
        "- [MNIST Model](https://colab.research.google.com/drive/1vCGg4HsgnYW6ilcrpj8Kt1bPfi2EAbk5#scrollTo=iCsoFvwLrgdu)\n",
        "\n",
        "### Quantization Theory:\n",
        "  - [Quantization Theory](https://intellabs.github.io/distiller/quantization.html)\n",
        "  - [Building a quantization paradigm from first principles](https://github.com/google/gemmlowp/blob/master/doc/quantization.md)\n",
        "  - [gemmlowp: a small self-contained low-precision GEMM library](https://github.com/google/gemmlowp)\n",
        "  - [Aggressive Quantization: How to run MNIST on a 4 bit Neural Net using Pytorch](https://medium.com/@karanbirchahal/aggressive-quantization-how-to-run-mnist-on-a-4-bit-neural-net-using-pytorch-5703f3faa599)\n",
        "\n",
        "### PyTorch Doc\n",
        "- [torch.quantization](https://pytorch.org/docs/master/torch.quantization.html)"
      ]
    }
  ]
}