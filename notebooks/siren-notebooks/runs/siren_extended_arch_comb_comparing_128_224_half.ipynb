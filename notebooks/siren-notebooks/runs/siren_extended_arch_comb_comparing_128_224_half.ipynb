{
  "nbformat": 4,
  "nbformat_minor": 0,
  "metadata": {
    "colab": {
      "name": "siren_extended_arch_comb_comparing.ipynb",
      "provenance": [],
      "collapsed_sections": [
        "EU7a8XE-Fubm",
        "aGNRARc_FDt7",
        "N_WmO47_ZMCT",
        "-FPNXGhTz996"
      ]
    },
    "kernelspec": {
      "name": "python3",
      "display_name": "Python 3"
    },
    "accelerator": "GPU"
  },
  "cells": [
    {
      "cell_type": "markdown",
      "metadata": {
        "id": "WTpCF7PZ1tpr"
      },
      "source": [
        "## TODO:\n",
        "## Not yet used\n",
        "## Compile Form in order to run the notebook\n",
        "\n",
        "Forms provide an easy way to parameterize code. From a code cell, select Insert → Add form field. When you change the value in a form, the corresponding value in the code will change."
      ]
    },
    {
      "cell_type": "code",
      "metadata": {
        "id": "KO4LjpFeyaVg"
      },
      "source": [
        "#@title Some Command Args Options:\n",
        "\n",
        "#@markdown ---\n",
        "#@markdown ##### Enter Logging root path:\n",
        "logging_root = \"/content/drive/My Drive/Siren Deep Learning Analyses/results\" #@param {type:\"string\"}\n",
        "#@markdown ##### Enter dir name for storing results (mandatory subdir of logging_root):\n",
        "experiment_name = \"train\" #@param {type:\"string\"}\n",
        "\n",
        "#@markdown ---\n",
        "#@markdown ##### Select range of hidden features to be tested:\n",
        "resume_from = 0 #@param {type:\"integer\"}\n",
        "end_to = 6 #@param {type:\"integer\"}\n",
        "\n",
        "#@markdown ---\n",
        "#@markdown ##### Enter image'd dir  path and image name:\n",
        "dir_image_path = \"/content/drive/My Drive/Siren Deep Learning Analyses/testsets/BSD68\" # @param [\"/content/\", \"/content/drive/My Drive/Siren Deep Learning Analyses/testsets/BSD68\"]\n",
        "image_filepath = \"\" #@param {type:\"string\"}\n",
        "\n",
        "#@markdown ---\n",
        "#@markdown ##### Enter options to run experiments:\n",
        "num_epochs = 500 #@param {type:\"integer\"}\n",
        "num_attempts = 3 #@param {type:\"integer\"}\n",
        "verbose = 2 #@param {type:\"integer\"}"
      ],
      "execution_count": 1,
      "outputs": []
    },
    {
      "cell_type": "markdown",
      "metadata": {
        "id": "EU7a8XE-Fubm"
      },
      "source": [
        "## Pip install"
      ]
    },
    {
      "cell_type": "code",
      "metadata": {
        "id": "8YE85FrAE_c4"
      },
      "source": [
        "# Installing third party dependencies\n",
        "!pip install ConfigArgParse -q\n",
        "!pip install sk-video -q\n",
        "!pip install cmapy -q"
      ],
      "execution_count": 2,
      "outputs": []
    },
    {
      "cell_type": "markdown",
      "metadata": {
        "id": "aGNRARc_FDt7"
      },
      "source": [
        "## Clone github project"
      ]
    },
    {
      "cell_type": "code",
      "metadata": {
        "id": "Z81X8OTdFHLW",
        "outputId": "cfac6b4c-5d5b-4305-cce9-6093fb3b0e7a",
        "colab": {
          "base_uri": "https://localhost:8080/",
          "height": 0
        }
      },
      "source": [
        "# Setup wd to remove trash\n",
        "!cd /content\n",
        "# Remove trash\n",
        "!rm -r /content/My-Siren-Deep-Learning-Test\n",
        "\n",
        "# Setup dir to collect logs to displayed by means tensorboard\n",
        "import os\n",
        "logs_base_dir = os.path.join(\"/content/outputs\", \"summaries\")\n",
        "os.makedirs(logs_base_dir, exist_ok=True)\n",
        "\n",
        "# Switch to Command Line Tool Location\n",
        "# fetch updates if any from target branch\n",
        "\n",
        "# Local repo related infos\n",
        "project_name_path = '/content/My-Siren-Deep-Learning-Test'\n",
        "\n",
        "# Github related infos\n",
        "github_project_uri = 'https://github.com/franec94/My-Siren-Deep-Learning-Test.git'\n",
        "branch_name = 'cmd-line-tools'\n",
        "cmd_tool_name = 'compare-extended-compression-choices'\n",
        "\n",
        "if os.path.exists(project_name_path) is False:\n",
        "    !git clone {github_project_uri}\n",
        "    os.chdir(project_name_path)\n",
        "    !git checkout {branch_name}\n",
        "    # TODO:\n",
        "    # find workaround for installing requirements.txt\n",
        "    # !pip install -r requirements.txt\n",
        "    full_path_cmd = os.path.join(project_name_path, f'dev-cmd-line-tools/{cmd_tool_name}')\n",
        "    os.chdir(full_path_cmd)\n",
        "else:\n",
        "    os.chdir(project_name_path)\n",
        "    !git checkout {branch_name}\n",
        "    !git fetch\n",
        "    full_path_cmd = os.path.join(project_name_path, f'dev-cmd-line-tools/{cmd_tool_name}')\n",
        "    os.chdir(full_path_cmd)\n",
        "    pass"
      ],
      "execution_count": 3,
      "outputs": [
        {
          "output_type": "stream",
          "text": [
            "Cloning into 'My-Siren-Deep-Learning-Test'...\n",
            "remote: Enumerating objects: 285, done.\u001b[K\n",
            "remote: Counting objects: 100% (285/285), done.\u001b[K\n",
            "remote: Compressing objects: 100% (190/190), done.\u001b[K\n",
            "remote: Total 1329 (delta 139), reused 205 (delta 66), pack-reused 1044\u001b[K\n",
            "Receiving objects: 100% (1329/1329), 75.22 MiB | 27.09 MiB/s, done.\n",
            "Resolving deltas: 100% (522/522), done.\n",
            "Checking out files: 100% (507/507), done.\n",
            "Branch 'cmd-line-tools' set up to track remote branch 'cmd-line-tools' from 'origin'.\n",
            "Switched to a new branch 'cmd-line-tools'\n"
          ],
          "name": "stdout"
        }
      ]
    },
    {
      "cell_type": "markdown",
      "metadata": {
        "id": "527bY4_LGedi"
      },
      "source": [
        "## Run Command"
      ]
    },
    {
      "cell_type": "code",
      "metadata": {
        "id": "bF2-fWt5FdY1",
        "outputId": "619151d5-d7ec-43e4-db3b-8559544c9370",
        "colab": {
          "base_uri": "https://localhost:8080/",
          "height": 1000
        }
      },
      "source": [
        "# Show help\n",
        "!python main_extended_compare.py --help"
      ],
      "execution_count": 4,
      "outputs": [
        {
          "output_type": "stream",
          "text": [
            "usage: main_extended_compare.py [-h] [-c CONFIG_FILEPATH]\n",
            "                                [--logging_root LOGGING_ROOT]\n",
            "                                --experiment_name EXPERIMENT_NAME\n",
            "                                [--image_filepath IMAGE_FILEPATH]\n",
            "                                [--batch_size BATCH_SIZE] [--lr LR]\n",
            "                                [--num_epochs NUM_EPOCHS]\n",
            "                                [--epochs_til_ckpt EPOCHS_TIL_CKPT]\n",
            "                                [--seeds SEEDS [SEEDS ...]]\n",
            "                                [--sidelength SIDELENGTH]\n",
            "                                [--hidden_features HIDDEN_FEATURES [HIDDEN_FEATURES ...]]\n",
            "                                [--hidden_layers HIDDEN_LAYERS [HIDDEN_LAYERS ...]]\n",
            "                                [--num_attempts NUM_ATTEMPTS]\n",
            "                                [--show_timetable_estimate]\n",
            "                                [--verbose VERBOSE]\n",
            "                                [--resume_from RESUME_FROM] [--end_to END_TO]\n",
            "\n",
            "Args that start with '--' (eg. --logging_root) can also be set in a config\n",
            "file (specified via -c). Config file syntax allows: key=value, flag=true,\n",
            "stuff=[a,b,c] (for details, see syntax at https://goo.gl/R74nmi). If an arg is\n",
            "specified in more than one place, then commandline values override config file\n",
            "values which override defaults.\n",
            "\n",
            "optional arguments:\n",
            "  -h, --help            show this help message and exit\n",
            "  -c CONFIG_FILEPATH, --config_filepath CONFIG_FILEPATH\n",
            "                        Path to config file.\n",
            "  --logging_root LOGGING_ROOT\n",
            "                        root for logging\n",
            "  --experiment_name EXPERIMENT_NAME\n",
            "                        Name of subdirectory in logging_root where summaries\n",
            "                        and checkpoints will be saved.\n",
            "  --image_filepath IMAGE_FILEPATH\n",
            "                        Path to input image to be compressed (default:\n",
            "                        None).If not specified, It is used cameramen image as\n",
            "                        target image to be compressed.\n",
            "  --batch_size BATCH_SIZE\n",
            "  --lr LR               learning rate. default=1e-4\n",
            "  --num_epochs NUM_EPOCHS\n",
            "                        Number of epochs to train for.\n",
            "  --epochs_til_ckpt EPOCHS_TIL_CKPT\n",
            "                        Time interval in seconds until checkpoint is saved.\n",
            "  --seeds SEEDS [SEEDS ...]\n",
            "                        List of seeds (default: [0, 42, 123, 1234]).\n",
            "  --sidelength SIDELENGTH\n",
            "                        Sidelength to which resize input image to be\n",
            "                        compressed.\n",
            "  --hidden_features HIDDEN_FEATURES [HIDDEN_FEATURES ...]\n",
            "                        List of hidden features (default: [64, 128, 256,\n",
            "                        512])).\n",
            "  --hidden_layers HIDDEN_LAYERS [HIDDEN_LAYERS ...]\n",
            "                        List of hidden layers (default: [1,2,3,4,5]).\n",
            "  --num_attempts NUM_ATTEMPTS\n",
            "                        Number of attempts per architecture sticking a\n",
            "                        particular seed value (default: 5).\n",
            "  --show_timetable_estimate\n",
            "                        Flag to display timetable estimate.\n",
            "  --verbose VERBOSE     Verbose style logging (default: 0, a.k.a silent mode),\n",
            "                        allowed: [0 for silent, 1 for complete, 2 for\n",
            "                        minimal].\n",
            "  --resume_from RESUME_FROM\n",
            "                        Ordinal number representing position within array of\n",
            "                        hidden features from which to start\n",
            "  --end_to END_TO       Ordinal number representing position within array of\n",
            "                        hidden features from which to end (excluding it)\n"
          ],
          "name": "stdout"
        }
      ]
    },
    {
      "cell_type": "code",
      "metadata": {
        "id": "YZSu4sp6LLTm",
        "outputId": "474fa1e3-ed34-4723-9fed-68f86618a625",
        "colab": {
          "base_uri": "https://localhost:8080/",
          "height": 1000
        }
      },
      "source": [
        "# Exec command\n",
        "!python main_extended_compare.py\\\n",
        "  --logging_root '/content/drive/My Drive/Siren Deep Learning Analyses/results' \\\n",
        "  --experiment_name 'train' \\\n",
        "  --resume_from 0 \\\n",
        "  --end_to  6 \\\n",
        "  --num_epochs 500 \\\n",
        "  --image_filepath \"/content/drive/My Drive/Siren Deep Learning Analyses/testsets/BSD68/test068.png\" \\\n",
        "  --hidden_features 128 224 256 320 416 512 \\\n",
        "  --num_attempts 1 \\\n",
        "  --seeds 0 42 123 \\\n",
        "  --hidden_layers 5 6 7 8 9 10 11 12\\\n",
        "  --show_timetable_estimate \\\n",
        "  --verbose 1 \\\n",
        "\n",
        "# --hidden_layers 3 4 5 6 7 8 9 10\\\n",
        "# --num_hidden_features 5 \\"
      ],
      "execution_count": null,
      "outputs": [
        {
          "output_type": "stream",
          "text": [
            "Training on device cpu.\n",
            "# cuda device: 0\n",
            "[128, 224, 256, 320, 416, 512]\n",
            "Total number of trials (with 1 attempts per arch): 144\n",
            "Total number of trials (with 1 attempts per arch): 144\n",
            "Start training [17-10-2020][timestamp=1602926490-052417] ...\n",
            "\r  0% 0/144 [00:00<?, ?it/s]\r                           \rhidden_features: 128\n",
            "hidden_layers: 5\n",
            "seeds: 0\n",
            "Arch no.=0 | trial no.=(1/1) running...\n",
            "Arch no.=0 | trial no.=(1/1) | eta: 862.5322003364563\n",
            "Arch no.=0, Trial no.=0, loss=0.016086, PSNR=17.935392, SSIM=0.743077, eta=862.532200\n",
            "[*] Arch no.=0, loss(avg)=0.016086, PSNR(avg)=17.935392, SSIM(avg)=0.743077, eta=862.567486\n",
            "[*] Global stats: loss(avg)=0.016086, PSNR(avg)=17.935392, SSIM(avg)=0.743077, eta=862.567486\n",
            "hidden_features: 128\n",
            "hidden_layers: 5\n",
            "seeds: 42\n",
            "Arch no.=1 | trial no.=(1/1) running...\n",
            "Arch no.=1 | trial no.=(1/1) | eta: 858.2885117530823\n",
            "Arch no.=1, Trial no.=0, loss=0.015902, PSNR=17.985445, SSIM=0.752657, eta=858.288512\n",
            "[*] Arch no.=1, loss(avg)=0.015902, PSNR(avg)=17.985445, SSIM(avg)=0.752657, eta=858.303899\n",
            "[*] Global stats: loss(avg)=0.015994, PSNR(avg)=17.960419, SSIM(avg)=0.747867, eta=858.303899\n",
            "hidden_features: 128\n",
            "hidden_layers: 5\n",
            "seeds: 123\n",
            "Arch no.=2 | trial no.=(1/1) running...\n",
            "Arch no.=2 | trial no.=(1/1) | eta: 859.4402546882629\n",
            "Arch no.=2, Trial no.=0, loss=0.015265, PSNR=18.163124, SSIM=0.752555, eta=859.440255\n",
            "[*] Arch no.=2, loss(avg)=0.015265, PSNR(avg)=18.163124, SSIM(avg)=0.752555, eta=859.462105\n",
            "[*] Global stats: loss(avg)=0.015751, PSNR(avg)=18.027987, SSIM(avg)=0.749430, eta=859.462105\n",
            "hidden_features: 128\n",
            "hidden_layers: 6\n",
            "seeds: 0\n",
            "Arch no.=3 | trial no.=(1/1) running...\n",
            "Arch no.=3 | trial no.=(1/1) | eta: 1015.7477369308472\n",
            "Arch no.=3, Trial no.=0, loss=0.013129, PSNR=18.817817, SSIM=0.779338, eta=1015.747737\n",
            "[*] Arch no.=3, loss(avg)=0.013129, PSNR(avg)=18.817817, SSIM(avg)=0.779338, eta=1015.767594\n",
            "[*] Global stats: loss(avg)=0.015095, PSNR(avg)=18.225445, SSIM(avg)=0.756907, eta=1015.767594\n",
            "hidden_features: 128\n",
            "hidden_layers: 6\n",
            "seeds: 42\n",
            "Arch no.=4 | trial no.=(1/1) running...\n",
            "Arch no.=4 | trial no.=(1/1) | eta: 1018.5909719467163\n",
            "Arch no.=4, Trial no.=0, loss=0.013781, PSNR=18.607270, SSIM=0.775464, eta=1018.590972\n",
            "[*] Arch no.=4, loss(avg)=0.013781, PSNR(avg)=18.607270, SSIM(avg)=0.775464, eta=1018.617692\n",
            "[*] Global stats: loss(avg)=0.014833, PSNR(avg)=18.301810, SSIM(avg)=0.760618, eta=1018.617692\n",
            "hidden_features: 128\n",
            "hidden_layers: 6\n",
            "seeds: 123\n",
            "Arch no.=5 | trial no.=(1/1) running...\n",
            "Arch no.=5 | trial no.=(1/1) | eta: 1014.0457260608673\n",
            "Arch no.=5, Trial no.=0, loss=0.013964, PSNR=18.549883, SSIM=0.762536, eta=1014.045726\n",
            "[*] Arch no.=5, loss(avg)=0.013964, PSNR(avg)=18.549883, SSIM(avg)=0.762536, eta=1014.066175\n",
            "[*] Global stats: loss(avg)=0.014688, PSNR(avg)=18.343155, SSIM(avg)=0.760938, eta=1014.066175\n",
            "hidden_features: 128\n",
            "hidden_layers: 7\n",
            "seeds: 0\n",
            "Arch no.=6 | trial no.=(1/1) running...\n",
            "Arch no.=6 | trial no.=(1/1) | eta: 1165.1912689208984\n",
            "Arch no.=6, Trial no.=0, loss=0.011148, PSNR=19.528000, SSIM=0.808339, eta=1165.191269\n",
            "[*] Arch no.=6, loss(avg)=0.011148, PSNR(avg)=19.528000, SSIM(avg)=0.808339, eta=1165.208534\n",
            "[*] Global stats: loss(avg)=0.014182, PSNR(avg)=18.512419, SSIM(avg)=0.767709, eta=1165.208534\n",
            "hidden_features: 128\n",
            "hidden_layers: 7\n",
            "seeds: 42\n",
            "Arch no.=7 | trial no.=(1/1) running...\n",
            "Arch no.=7 | trial no.=(1/1) | eta: 1183.158608675003\n",
            "Arch no.=7, Trial no.=0, loss=0.011049, PSNR=19.566890, SSIM=0.816800, eta=1183.158609\n",
            "[*] Arch no.=7, loss(avg)=0.011049, PSNR(avg)=19.566890, SSIM(avg)=0.816800, eta=1183.171631\n",
            "[*] Global stats: loss(avg)=0.013790, PSNR(avg)=18.644228, SSIM(avg)=0.773846, eta=1183.171631\n",
            "hidden_features: 128\n",
            "hidden_layers: 7\n",
            "seeds: 123\n",
            "Arch no.=8 | trial no.=(1/1) running...\n",
            "Arch no.=8 | trial no.=(1/1) | eta: 1181.6246514320374\n",
            "Arch no.=8, Trial no.=0, loss=0.010298, PSNR=19.872561, SSIM=0.820262, eta=1181.624651\n",
            "[*] Arch no.=8, loss(avg)=0.010298, PSNR(avg)=19.872561, SSIM(avg)=0.820262, eta=1181.637993\n",
            "[*] Global stats: loss(avg)=0.013402, PSNR(avg)=18.780709, SSIM(avg)=0.779003, eta=1181.637993\n",
            "hidden_features: 128\n",
            "hidden_layers: 8\n",
            "seeds: 0\n",
            "Arch no.=9 | trial no.=(1/1) running...\n",
            "Arch no.=9 | trial no.=(1/1) | eta: 1336.8545639514923\n",
            "Arch no.=9, Trial no.=0, loss=0.011812, PSNR=19.276641, SSIM=0.791698, eta=1336.854564\n",
            "[*] Arch no.=9, loss(avg)=0.011812, PSNR(avg)=19.276641, SSIM(avg)=0.791698, eta=1336.874138\n",
            "[*] Global stats: loss(avg)=0.013243, PSNR(avg)=18.830302, SSIM(avg)=0.780273, eta=1336.874138\n",
            "hidden_features: 128\n",
            "hidden_layers: 8\n",
            "seeds: 42\n",
            "Arch no.=10 | trial no.=(1/1) running...\n",
            "Arch no.=10 | trial no.=(1/1) | eta: 1350.363795042038\n",
            "Arch no.=10, Trial no.=0, loss=0.008035, PSNR=20.949923, SSIM=0.854603, eta=1350.363795\n",
            "[*] Arch no.=10, loss(avg)=0.008035, PSNR(avg)=20.949923, SSIM(avg)=0.854603, eta=1350.378809\n",
            "[*] Global stats: loss(avg)=0.012770, PSNR(avg)=19.022995, SSIM(avg)=0.787030, eta=1350.378809\n",
            "hidden_features: 128\n",
            "hidden_layers: 8\n",
            "seeds: 123\n",
            "Arch no.=11 | trial no.=(1/1) running...\n",
            "Arch no.=11 | trial no.=(1/1) | eta: 1339.954565525055\n",
            "Arch no.=11, Trial no.=0, loss=0.009868, PSNR=20.057524, SSIM=0.832605, eta=1339.954566\n",
            "[*] Arch no.=11, loss(avg)=0.009868, PSNR(avg)=20.057524, SSIM(avg)=0.832605, eta=1339.972967\n",
            "[*] Global stats: loss(avg)=0.012528, PSNR(avg)=19.109206, SSIM(avg)=0.790828, eta=1339.972967\n",
            "hidden_features: 128\n",
            "hidden_layers: 9\n",
            "seeds: 0\n",
            "Arch no.=12 | trial no.=(1/1) running...\n",
            "Arch no.=12 | trial no.=(1/1) | eta: 1499.4591598510742\n",
            "Arch no.=12, Trial no.=0, loss=0.007315, PSNR=21.358102, SSIM=0.858463, eta=1499.459160\n",
            "[*] Arch no.=12, loss(avg)=0.007315, PSNR(avg)=21.358102, SSIM(avg)=0.858463, eta=1499.488109\n",
            "[*] Global stats: loss(avg)=0.012127, PSNR(avg)=19.282198, SSIM(avg)=0.796031, eta=1499.488109\n",
            "hidden_features: 128\n",
            "hidden_layers: 9\n",
            "seeds: 42\n",
            "Arch no.=13 | trial no.=(1/1) running...\n",
            "Arch no.=13 | trial no.=(1/1) | eta: 1505.3528773784637\n",
            "Arch no.=13, Trial no.=0, loss=0.008292, PSNR=20.813233, SSIM=0.848951, eta=1505.352877\n",
            "[*] Arch no.=13, loss(avg)=0.008292, PSNR(avg)=20.813233, SSIM(avg)=0.848951, eta=1505.367244\n",
            "[*] Global stats: loss(avg)=0.011853, PSNR(avg)=19.391558, SSIM(avg)=0.799811, eta=1505.367244\n",
            "hidden_features: 128\n",
            "hidden_layers: 9\n",
            "seeds: 123\n",
            "Arch no.=14 | trial no.=(1/1) running...\n",
            "Arch no.=14 | trial no.=(1/1) | eta: 1520.8130557537079\n",
            "Arch no.=14, Trial no.=0, loss=0.008535, PSNR=20.688218, SSIM=0.847458, eta=1520.813056\n",
            "[*] Arch no.=14, loss(avg)=0.008535, PSNR(avg)=20.688218, SSIM(avg)=0.847458, eta=1520.832995\n",
            "[*] Global stats: loss(avg)=0.011632, PSNR(avg)=19.478002, SSIM(avg)=0.802987, eta=1520.832995\n",
            "hidden_features: 128\n",
            "hidden_layers: 10\n",
            "seeds: 0\n",
            "Arch no.=15 | trial no.=(1/1) running...\n",
            "Arch no.=15 | trial no.=(1/1) | eta: 1689.6550419330597\n",
            "Arch no.=15, Trial no.=0, loss=0.009234, PSNR=20.346292, SSIM=0.829174, eta=1689.655042\n",
            "[*] Arch no.=15, loss(avg)=0.009234, PSNR(avg)=20.346292, SSIM(avg)=0.829174, eta=1689.672989\n",
            "[*] Global stats: loss(avg)=0.011482, PSNR(avg)=19.532270, SSIM(avg)=0.804624, eta=1689.672989\n",
            "hidden_features: 128\n",
            "hidden_layers: 10\n",
            "seeds: 42\n",
            "Arch no.=16 | trial no.=(1/1) running...\n",
            "Arch no.=16 | trial no.=(1/1) | eta: 1702.9060485363007\n",
            "Arch no.=16, Trial no.=0, loss=0.008897, PSNR=20.507794, SSIM=0.842408, eta=1702.906049\n",
            "[*] Arch no.=16, loss(avg)=0.008897, PSNR(avg)=20.507794, SSIM(avg)=0.842408, eta=1702.928763\n",
            "[*] Global stats: loss(avg)=0.011330, PSNR(avg)=19.589654, SSIM(avg)=0.806846, eta=1702.928763\n",
            "hidden_features: 128\n",
            "hidden_layers: 10\n",
            "seeds: 123\n",
            "Arch no.=17 | trial no.=(1/1) running...\n",
            "Arch no.=17 | trial no.=(1/1) | eta: 1688.6980738639832\n",
            "Arch no.=17, Trial no.=0, loss=0.006762, PSNR=21.699419, SSIM=0.876570, eta=1688.698074\n",
            "[*] Arch no.=17, loss(avg)=0.006762, PSNR(avg)=21.699419, SSIM(avg)=0.876570, eta=1688.712824\n",
            "[*] Global stats: loss(avg)=0.011076, PSNR(avg)=19.706863, SSIM(avg)=0.810720, eta=1688.712824\n",
            "hidden_features: 128\n",
            "hidden_layers: 11\n",
            "seeds: 0\n",
            "Arch no.=18 | trial no.=(1/1) running...\n",
            "Arch no.=18 | trial no.=(1/1) | eta: 1848.146074295044\n",
            "Arch no.=18, Trial no.=0, loss=0.005671, PSNR=22.463756, SSIM=0.888596, eta=1848.146074\n",
            "[*] Arch no.=18, loss(avg)=0.005671, PSNR(avg)=22.463756, SSIM(avg)=0.888596, eta=1848.163285\n",
            "[*] Global stats: loss(avg)=0.010792, PSNR(avg)=19.851962, SSIM(avg)=0.814819, eta=1848.163285\n",
            "hidden_features: 128\n",
            "hidden_layers: 11\n",
            "seeds: 42\n",
            "Arch no.=19 | trial no.=(1/1) running...\n",
            "Arch no.=19 | trial no.=(1/1) | eta: 1854.3482377529144\n",
            "Arch no.=19, Trial no.=0, loss=0.007473, PSNR=21.265247, SSIM=0.865151, eta=1854.348238\n",
            "[*] Arch no.=19, loss(avg)=0.007473, PSNR(avg)=21.265247, SSIM(avg)=0.865151, eta=1854.364070\n",
            "[*] Global stats: loss(avg)=0.010626, PSNR(avg)=19.922627, SSIM(avg)=0.817335, eta=1854.364070\n",
            "hidden_features: 128\n",
            "hidden_layers: 11\n",
            "seeds: 123\n",
            "Arch no.=20 | trial no.=(1/1) running...\n",
            "Arch no.=20 | trial no.=(1/1) | eta: 1863.5608592033386\n",
            "Arch no.=20, Trial no.=0, loss=0.006301, PSNR=22.006014, SSIM=0.873804, eta=1863.560859\n",
            "[*] Arch no.=20, loss(avg)=0.006301, PSNR(avg)=22.006014, SSIM(avg)=0.873804, eta=1863.579764\n",
            "[*] Global stats: loss(avg)=0.010420, PSNR(avg)=20.021836, SSIM(avg)=0.820024, eta=1863.579764\n",
            "hidden_features: 128\n",
            "hidden_layers: 12\n",
            "seeds: 0\n",
            "Arch no.=21 | trial no.=(1/1) running...\n",
            "Arch no.=21 | trial no.=(1/1) | eta: 2015.930346250534\n",
            "Arch no.=21, Trial no.=0, loss=0.005700, PSNR=22.441391, SSIM=0.885828, eta=2015.930346\n",
            "[*] Arch no.=21, loss(avg)=0.005700, PSNR(avg)=22.441391, SSIM(avg)=0.885828, eta=2015.947723\n",
            "[*] Global stats: loss(avg)=0.010205, PSNR(avg)=20.131815, SSIM(avg)=0.823015, eta=2015.947723\n",
            "hidden_features: 128\n",
            "hidden_layers: 12\n",
            "seeds: 42\n",
            "Arch no.=22 | trial no.=(1/1) running...\n",
            "Arch no.=22 | trial no.=(1/1) | eta: 2038.1225519180298\n",
            "Arch no.=22, Trial no.=0, loss=0.007368, PSNR=21.326500, SSIM=0.869930, eta=2038.122552\n",
            "[*] Arch no.=22, loss(avg)=0.007368, PSNR(avg)=21.326500, SSIM(avg)=0.869930, eta=2038.138293\n",
            "[*] Global stats: loss(avg)=0.010082, PSNR(avg)=20.183758, SSIM(avg)=0.825055, eta=2038.138293\n",
            "hidden_features: 128\n",
            "hidden_layers: 12\n",
            "seeds: 123\n",
            "Arch no.=23 | trial no.=(1/1) running...\n",
            "Arch no.=23 | trial no.=(1/1) | eta: 2028.4552736282349\n",
            "Arch no.=23, Trial no.=0, loss=0.006636, PSNR=21.780968, SSIM=0.865431, eta=2028.455274\n",
            "[*] Arch no.=23, loss(avg)=0.006636, PSNR(avg)=21.780968, SSIM(avg)=0.865431, eta=2028.475683\n",
            "[*] Global stats: loss(avg)=0.009938, PSNR(avg)=20.250309, SSIM(avg)=0.826737, eta=2028.475683\n",
            "hidden_features: 224\n",
            "hidden_layers: 5\n",
            "seeds: 0\n",
            "Arch no.=24 | trial no.=(1/1) running...\n",
            "Arch no.=24 | trial no.=(1/1) | eta: 2018.7933979034424\n",
            "Arch no.=24, Trial no.=0, loss=0.007152, PSNR=21.455985, SSIM=0.874085, eta=2018.793398\n",
            "[*] Arch no.=24, loss(avg)=0.007152, PSNR(avg)=21.455985, SSIM(avg)=0.874085, eta=2018.811080\n",
            "[*] Global stats: loss(avg)=0.009827, PSNR(avg)=20.298536, SSIM(avg)=0.828631, eta=2018.811080\n",
            "hidden_features: 224\n",
            "hidden_layers: 5\n",
            "seeds: 42\n",
            "Arch no.=25 | trial no.=(1/1) running...\n",
            "Arch no.=25 | trial no.=(1/1) | eta: 2009.7339959144592\n",
            "Arch no.=25, Trial no.=0, loss=0.007060, PSNR=21.511653, SSIM=0.877659, eta=2009.733996\n",
            "[*] Arch no.=25, loss(avg)=0.007060, PSNR(avg)=21.511653, SSIM(avg)=0.877659, eta=2009.749770\n",
            "[*] Global stats: loss(avg)=0.009720, PSNR(avg)=20.345194, SSIM(avg)=0.830517, eta=2009.749770\n",
            "hidden_features: 224\n",
            "hidden_layers: 5\n",
            "seeds: 123\n",
            "Arch no.=26 | trial no.=(1/1) running...\n",
            " 18% 26/144 [10:41:10<64:48:53, 1977.40s/it]"
          ],
          "name": "stdout"
        }
      ]
    },
    {
      "cell_type": "code",
      "metadata": {
        "id": "1OpsiNuy3ShP"
      },
      "source": [
        ""
      ],
      "execution_count": null,
      "outputs": []
    },
    {
      "cell_type": "markdown",
      "metadata": {
        "id": "N_WmO47_ZMCT"
      },
      "source": [
        "## Dummy tests numpy"
      ]
    },
    {
      "cell_type": "code",
      "metadata": {
        "id": "ZIWiN1LsU-DZ"
      },
      "source": [
        "import numpy as np\n",
        "np.concatenate(([np.array([1,2,3])], [np.array([4,5,6])]), axis=0) # .mean(axis=0)"
      ],
      "execution_count": null,
      "outputs": []
    },
    {
      "cell_type": "markdown",
      "metadata": {
        "id": "-FPNXGhTz996"
      },
      "source": [
        "## References"
      ]
    },
    {
      "cell_type": "markdown",
      "metadata": {
        "id": "BAOueIe80ADU"
      },
      "source": [
        "- [FORM](https://colab.research.google.com/notebooks/forms.ipynb#scrollTo=3jKM6GfzlgpS)"
      ]
    }
  ]
}