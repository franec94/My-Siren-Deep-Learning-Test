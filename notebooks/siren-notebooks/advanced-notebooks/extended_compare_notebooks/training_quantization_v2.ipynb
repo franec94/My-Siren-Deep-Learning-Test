{
  "nbformat": 4,
  "nbformat_minor": 0,
  "metadata": {
    "colab": {
      "name": "training_quantization_v2.ipynb",
      "provenance": [],
      "collapsed_sections": []
    },
    "kernelspec": {
      "name": "python3",
      "display_name": "Python 3"
    },
    "accelerator": "GPU"
  },
  "cells": [
    {
      "cell_type": "markdown",
      "metadata": {
        "id": "-81jE-jIEyTS"
      },
      "source": [
        "## Setup Project"
      ]
    },
    {
      "cell_type": "markdown",
      "metadata": {
        "id": "dXfBtLxSE2ep"
      },
      "source": [
        "### Define global variables"
      ]
    },
    {
      "cell_type": "code",
      "metadata": {
        "id": "5Gp-gqfY49Mn"
      },
      "source": [
        "#@title Enable train mode\n",
        "#@markdown ---\n",
        "TRAIN_MODEL = True                   #@param {type:\"boolean\"}"
      ],
      "execution_count": 1,
      "outputs": []
    },
    {
      "cell_type": "code",
      "metadata": {
        "id": "ac56dkySbFK3"
      },
      "source": [
        "#@title Enable train mode: No Quant\n",
        "#@markdown ---\n",
        "TRAIN_MODEL_NO_QUANT_SINGLE_ARCH = False          #@param {type:\"boolean\"}\n",
        "TRAIN_MODEL_NO_QUANT_MULTIPLE_ARCH = False          #@param {type:\"boolean\"}\n"
      ],
      "execution_count": 2,
      "outputs": []
    },
    {
      "cell_type": "code",
      "metadata": {
        "id": "yeq5IPV6bNJk"
      },
      "source": [
        "#@title Enable train mode: Dyanmic quant\n",
        "#@markdown ---\n",
        "TRAIN_MODEL_DYNAMIC_QUANT_SINGLE_ARCH = False     #@param {type:\"boolean\"}\n",
        "TRAIN_MODEL_DYNAMIC_QUANT_MULTIPLE_ARCH = True     #@param {type:\"boolean\"}"
      ],
      "execution_count": 3,
      "outputs": []
    },
    {
      "cell_type": "code",
      "metadata": {
        "id": "Suc0TnEIDyOE"
      },
      "source": [
        "#@title Github related infos\n",
        "#@markdown ---\n",
        "PROJECT_NAME_PATH = '/content/My-Siren-Deep-Learning-Test' #@param {type:\"string\"}\n",
        "\n",
        "    \n",
        "GITHUB_PROJECT_URL = 'https://github.com/franec94/My-Siren-Deep-Learning-Test.git' #@param {type:\"string\"}\n",
        "BRANCH_NAME = 'cmd-line-tools' #@param {type:\"string\"}\n",
        "CMD_TOOL_NAME = 'tool-train-eval-quant' #@param {type:\"string\"}"
      ],
      "execution_count": 4,
      "outputs": []
    },
    {
      "cell_type": "markdown",
      "metadata": {
        "id": "-X7-Q5_kE7M_"
      },
      "source": [
        "### Install Libraries and Clone project"
      ]
    },
    {
      "cell_type": "code",
      "metadata": {
        "id": "N-GxwOMS2CBa",
        "outputId": "fc16bd72-a402-4f02-9067-2ae50ef92fa5",
        "colab": {
          "base_uri": "https://localhost:8080/"
        }
      },
      "source": [
        "# Installing third party dependencies\n",
        "print(\"Installing required libraries...\")\n",
        "\n",
        "old_requirements = '/content/tmp_requirements.txt'\n",
        "!pip freeze > {old_requirements}\n",
        "dependencies_list = \"cmapy,sk-video,pytorch-model-summary,ConfigArgParse,tabulate\".split(\",\")\n",
        "\n",
        "with open(old_requirements) as f:\n",
        "    old_requirements_list = f.read().split(\"\\n\")\n",
        "    for a_req in dependencies_list:\n",
        "        found_req = False\n",
        "        for old_req in old_requirements_list:\n",
        "            if old_req.startswith(a_req):\n",
        "                print(f\"{a_req} already installed!\")\n",
        "                found_req = True\n",
        "                break\n",
        "        if found_req is False:\n",
        "            !pip install {a_req} -q\n",
        "    pass\n",
        "!rm -f {old_requirements}"
      ],
      "execution_count": 5,
      "outputs": [
        {
          "output_type": "stream",
          "text": [
            "Installing required libraries...\n",
            "cmapy already installed!\n",
            "sk-video already installed!\n",
            "pytorch-model-summary already installed!\n",
            "ConfigArgParse already installed!\n",
            "tabulate already installed!\n"
          ],
          "name": "stdout"
        }
      ]
    },
    {
      "cell_type": "code",
      "metadata": {
        "id": "iD5_Jn_X5H-H"
      },
      "source": [
        "import os\n",
        "os.chdir('/content')"
      ],
      "execution_count": 6,
      "outputs": []
    },
    {
      "cell_type": "code",
      "metadata": {
        "id": "scKJmY7K5KSt",
        "outputId": "949cd6f4-b461-446f-c3cc-6b7b8d7f11e5",
        "colab": {
          "base_uri": "https://localhost:8080/"
        }
      },
      "source": [
        "# Setup wd to remove trash\n",
        "\n",
        "if TRAIN_MODEL:\n",
        "    # Remove trash\n",
        "    import os\n",
        "    if os.path.exists(f'{PROJECT_NAME_PATH}') and os.path.isdir(f'{PROJECT_NAME_PATH}'):\n",
        "        print(\"Cleaning from old project...\")\n",
        "        !rm -r {PROJECT_NAME_PATH}\n",
        "    else:\n",
        "        print(\"No project found.\")\n",
        "        pass\n",
        "\n",
        "    import os\n",
        "    logs_base_dir = os.path.join(\"/content/outputs\", \"summaries\")\n",
        "    os.makedirs(logs_base_dir, exist_ok=True)\n",
        "\n",
        "    if os.path.exists(PROJECT_NAME_PATH) is False:\n",
        "        !git clone {GITHUB_PROJECT_URL}\n",
        "        os.chdir(PROJECT_NAME_PATH)\n",
        "        !git checkout {BRANCH_NAME}\n",
        "        full_path_cmd = os.path.join(PROJECT_NAME_PATH, f'dev-cmd-line-tools/{CMD_TOOL_NAME}')\n",
        "        os.chdir(full_path_cmd)\n",
        "    else:\n",
        "        os.chdir(PROJECT_NAME_PATH)\n",
        "        !git checkout {BRANCH_NAME}\n",
        "        !git fetch\n",
        "        full_path_cmd = os.path.join(PROJECT_NAME_PATH, f'dev-cmd-line-tools/{CMD_TOOL_NAME}')\n",
        "        os.chdir(full_path_cmd)\n",
        "        pass\n",
        "    pass"
      ],
      "execution_count": 7,
      "outputs": [
        {
          "output_type": "stream",
          "text": [
            "Cleaning from old project...\n",
            "Cloning into 'My-Siren-Deep-Learning-Test'...\n",
            "remote: Enumerating objects: 424, done.\u001b[K\n",
            "remote: Counting objects: 100% (424/424), done.\u001b[K\n",
            "remote: Compressing objects: 100% (290/290), done.\u001b[K\n",
            "remote: Total 5160 (delta 289), reused 230 (delta 97), pack-reused 4736\u001b[K\n",
            "Receiving objects: 100% (5160/5160), 83.26 MiB | 35.58 MiB/s, done.\n",
            "Resolving deltas: 100% (3229/3229), done.\n",
            "Branch 'cmd-line-tools' set up to track remote branch 'cmd-line-tools' from 'origin'.\n",
            "Switched to a new branch 'cmd-line-tools'\n"
          ],
          "name": "stdout"
        }
      ]
    },
    {
      "cell_type": "markdown",
      "metadata": {
        "id": "kU4wfJp2FAgA"
      },
      "source": [
        "## Runs"
      ]
    },
    {
      "cell_type": "code",
      "metadata": {
        "id": "RoLfssj05L92",
        "outputId": "f66765c4-ffbd-4476-a216-117dadc626b6",
        "colab": {
          "base_uri": "https://localhost:8080/"
        }
      },
      "source": [
        "# Show help\n",
        "if TRAIN_MODEL:\n",
        "    !python main.py --help\n",
        "    pass"
      ],
      "execution_count": 8,
      "outputs": [
        {
          "output_type": "stream",
          "text": [
            "usage: main.py [-h] [-c CONFIG_FILEPATH] [--logging_root LOGGING_ROOT]\n",
            "               --experiment_name EXPERIMENT_NAME\n",
            "               [--enable_tensorboard_logging]\n",
            "               [--epochs_til_ckpt EPOCHS_TIL_CKPT]\n",
            "               [--num_attempts NUM_ATTEMPTS] [--verbose VERBOSE]\n",
            "               [--image_filepath IMAGE_FILEPATH]\n",
            "               [--sidelength SIDELENGTH [SIDELENGTH ...]]\n",
            "               [--n_hf N_HF [N_HF ...]] [--n_hl N_HL [N_HL ...]]\n",
            "               [--batch_size BATCH_SIZE [BATCH_SIZE ...]] [--lr LR [LR ...]]\n",
            "               [--num_epochs NUM_EPOCHS [NUM_EPOCHS ...]]\n",
            "               [--seed SEED [SEED ...]] [--train] [--evaluate]\n",
            "               [--dynamic_quant DYNAMIC_QUANT [DYNAMIC_QUANT ...]]\n",
            "               [--frequences FREQUENCES [FREQUENCES ...]] [--cuda]\n",
            "               [--quant_engine QUANT_ENGINE]\n",
            "\n",
            "Args that start with '--' (eg. --logging_root) can also be set in a config\n",
            "file (specified via -c). Config file syntax allows: key=value, flag=true,\n",
            "stuff=[a,b,c] (for details, see syntax at https://goo.gl/R74nmi). If an arg is\n",
            "specified in more than one place, then commandline values override config file\n",
            "values which override defaults.\n",
            "\n",
            "optional arguments:\n",
            "  -h, --help            show this help message and exit\n",
            "  -c CONFIG_FILEPATH, --config_filepath CONFIG_FILEPATH\n",
            "                        Path to config file.\n",
            "  --logging_root LOGGING_ROOT\n",
            "                        root for logging\n",
            "  --experiment_name EXPERIMENT_NAME\n",
            "                        Name of subdirectory in logging_root where summaries\n",
            "                        and checkpoints will be saved.\n",
            "  --enable_tensorboard_logging\n",
            "                        Flag that enable store results for later investigation\n",
            "                        via tensorboard util.\n",
            "  --epochs_til_ckpt EPOCHS_TIL_CKPT\n",
            "                        Time interval in seconds until checkpoint is saved.\n",
            "  --num_attempts NUM_ATTEMPTS\n",
            "                        Number of attempts per architecture sticking a\n",
            "                        particular seed value (default: 1).\n",
            "  --verbose VERBOSE     Verbose style logging (default: 0, a.k.a silent mode),\n",
            "                        allowed: [0 for silent, 1 for complete, 2 for\n",
            "                        minimal].\n",
            "  --image_filepath IMAGE_FILEPATH\n",
            "                        Path to input image to be compressed (default: None).\n",
            "                        If not specified, It is used cameramen image as target\n",
            "                        image to be compressed.\n",
            "  --sidelength SIDELENGTH [SIDELENGTH ...]\n",
            "                        Sidelength to which resize input image to be\n",
            "                        compressed (default: empty list, which means no\n",
            "                        cropping input image)\n",
            "  --n_hf N_HF [N_HF ...]\n",
            "                        A number of hidden features or a list of hidden\n",
            "                        features to be evaluated (default: [64])).\n",
            "  --n_hl N_HL [N_HL ...]\n",
            "                        A number of hidden layers or a list of hidden layers\n",
            "                        to be evaluated (default: [3]).\n",
            "  --batch_size BATCH_SIZE [BATCH_SIZE ...]\n",
            "  --lr LR [LR ...]      learning rate. default=1e-4\n",
            "  --num_epochs NUM_EPOCHS [NUM_EPOCHS ...]\n",
            "                        Number of epochs to train for.\n",
            "  --seed SEED [SEED ...]\n",
            "                        List of seeds (default: [0]).\n",
            "  --train               Flag for training mode. (Default: False)\n",
            "  --evaluate            Flag for evaluating model after training\n",
            "  --dynamic_quant DYNAMIC_QUANT [DYNAMIC_QUANT ...]\n",
            "                        Set it to enable dynamic quantization training.\n",
            "                        (Default: empty list, Allowed: [qint8, float16])\n",
            "  --frequences FREQUENCES [FREQUENCES ...]\n",
            "                        List of frequences to be employed when\n",
            "                        quantization_enabled flag is set to paszke_quant\n",
            "                        (default: None).\n",
            "  --cuda                Set this flag to enable training on CUDA device,\n",
            "                        otherwise training will be performed on CPU device\n",
            "                        (default: False).\n",
            "  --quant_engine QUANT_ENGINE\n",
            "                        Kind of quant engine (default: fbgemm).\n"
          ],
          "name": "stdout"
        }
      ]
    },
    {
      "cell_type": "code",
      "metadata": {
        "id": "SipnXmvEJAmo"
      },
      "source": [
        "# Exec command\n",
        "if TRAIN_MODEL and TRAIN_MODEL_NO_QUANT_SINGLE_ARCH:\n",
        "    !python main.py \\\n",
        "        --logging_root '/content/model_fp32' \\\n",
        "        --experiment_name 'train' \\\n",
        "        --sidelength 256 \\\n",
        "        --num_epochs 100 \\\n",
        "        --n_hf 16 \\\n",
        "        --n_hl 5 \\\n",
        "        --seed 0 \\\n",
        "        --cuda \\\n",
        "        --train \\\n",
        "        --quant_engine 'fbgemm'\\\n",
        "        --evaluate \\\n",
        "        --verbose 0\n",
        "    pass"
      ],
      "execution_count": 9,
      "outputs": []
    },
    {
      "cell_type": "code",
      "metadata": {
        "id": "DyBt9hAu5Nko"
      },
      "source": [
        "# Exec command\n",
        "if TRAIN_MODEL and TRAIN_MODEL_NO_QUANT_MULTIPLE_ARCH:\n",
        "    !python main.py \\\n",
        "        --logging_root '/content/model_fp32' \\\n",
        "        --experiment_name 'train' \\\n",
        "        --sidelength 256 \\\n",
        "        --num_epochs 100 \\\n",
        "        --n_hf 16 \\\n",
        "        --n_hl 5 6 \\\n",
        "        --seed 0 \\\n",
        "        --cuda \\\n",
        "        --train \\\n",
        "        --evaluate \\\n",
        "        --verbose 0\n",
        "    pass"
      ],
      "execution_count": 10,
      "outputs": []
    },
    {
      "cell_type": "code",
      "metadata": {
        "id": "jUnUfux6ScT6"
      },
      "source": [
        "# Exec command\n",
        "if TRAIN_MODEL and TRAIN_MODEL_DYNAMIC_QUANT_SINGLE_ARCH:\n",
        "    !python main.py \\\n",
        "        --logging_root '/content/model_qfloat16' \\\n",
        "        --experiment_name 'train' \\\n",
        "        --sidelength 256 \\\n",
        "        --num_epochs 100 \\\n",
        "        --n_hf 16 \\\n",
        "        --n_hl 5 \\\n",
        "        --seed 0 \\\n",
        "        --train \\\n",
        "        --evaluate \\\n",
        "        --dynamic_quant qint8 \\\n",
        "        --cuda \\\n",
        "        --quant_engine 'fbgemm'\\\n",
        "        --verbose 0\n",
        "    pass"
      ],
      "execution_count": 11,
      "outputs": []
    },
    {
      "cell_type": "code",
      "metadata": {
        "id": "UKZMguNt5PQ5"
      },
      "source": [
        "# Exec command\n",
        "if TRAIN_MODEL and TRAIN_MODEL_DYNAMIC_QUANT_SINGLE_ARCH:\n",
        "    !python main.py \\\n",
        "        --logging_root '/content/model_qfloat16' \\\n",
        "        --experiment_name 'train' \\\n",
        "        --sidelength 256 \\\n",
        "        --num_epochs 100 \\\n",
        "        --n_hf 16 \\\n",
        "        --n_hl 5 \\\n",
        "        --seed 0 \\\n",
        "        --train \\\n",
        "        --evaluate \\\n",
        "        --dynamic_quant qfloat16 \\\n",
        "        --cuda \\\n",
        "        --quant_engine 'fbgemm'\\\n",
        "        --verbose 0\n",
        "    pass"
      ],
      "execution_count": 12,
      "outputs": []
    },
    {
      "cell_type": "code",
      "metadata": {
        "id": "BpBh9P6G1JKs",
        "outputId": "e3dfdf03-af00-45af-b5b8-ce883223ec2d",
        "colab": {
          "base_uri": "https://localhost:8080/"
        }
      },
      "source": [
        "# Exec command\n",
        "if TRAIN_MODEL and TRAIN_MODEL_DYNAMIC_QUANT_MULTIPLE_ARCH:\n",
        "    !python main.py \\\n",
        "        --logging_root '/content/model_qint8' \\\n",
        "        --experiment_name 'train' \\\n",
        "        --sidelength 256 \\\n",
        "        --num_epochs 500000 \\\n",
        "        --n_hf 16 \\\n",
        "        --n_hl 5 6 7 8 9 10 \\\n",
        "        --seed 0 \\\n",
        "        --cuda \\\n",
        "        --train \\\n",
        "        --evaluate \\\n",
        "        --dynamic_quant qint8 qfloat16 \\\n",
        "        --verbose 0\n",
        "    pass"
      ],
      "execution_count": null,
      "outputs": [
        {
          "output_type": "stream",
          "text": [
            "------------------------- Program Details -------------------------\n",
            "Info             Val\n",
            "---------------  -----------------\n",
            "Date             13-11-2020\n",
            "Timestamp        1605281451-558182\n",
            "No_Cuda_Devices  1\n",
            "Device           cuda:0\n",
            "Quant_Backend    fbgemm\n",
            "Tot_Runs         6\n",
            "\r  0% 0/6 [00:00<?, ?it/s]2020-11-13 15:30:56.021644: I tensorflow/stream_executor/platform/default/dso_loader.cc:48] Successfully opened dynamic library libcudart.so.10.1\n"
          ],
          "name": "stdout"
        }
      ]
    }
  ]
}