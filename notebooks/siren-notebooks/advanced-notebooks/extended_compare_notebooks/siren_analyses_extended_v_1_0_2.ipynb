{
 "cells": [
  {
   "cell_type": "markdown",
   "metadata": {},
   "source": [
    "# Result data analyses from complex training\n",
    "### Data fetched iether locally or from gdrive via oauth"
   ]
  },
  {
   "cell_type": "code",
   "execution_count": null,
   "metadata": {},
   "outputs": [],
   "source": [
    "# !rm -f *.png"
   ]
  },
  {
   "cell_type": "markdown",
   "metadata": {
    "id": "r1v5eUPW5cHI"
   },
   "source": [
    "## Compile Form in order to run the notebook\n",
    "\n",
    "Forms provide an easy way to parameterize code. From a code cell, select Insert → Add form field. When you change the value in a form, the corresponding value in the code will change."
   ]
  },
  {
   "cell_type": "code",
   "execution_count": null,
   "metadata": {
    "id": "06dDpxeYatlH"
   },
   "outputs": [],
   "source": [
    "#@title Compile this form to run notebook:\n",
    "import os\n",
    "import warnings\n",
    "warnings.filterwarnings(\"ignore\", message=\"Numerical issues were encountered \")\n",
    "\n",
    "#@markdown ---\n",
    "#@markdown ##### Enter Root path:\n",
    "root_path = \".\" # @param [\".\", /content/\", \"/content/drive/My Drive/Siren Deep Learning Analyses/results\"]\n",
    "\n",
    "#@markdown ---\n",
    "#@markdown ##### Enter trial number:\n",
    "train_no =  0  #@param {type:\"integer\", min:0, max:23, step:1}\n",
    "\n",
    "#@markdown ---\n",
    "#@markdown ##### Toggle checkbox to download resulting pictures:\n",
    "download_pictures_checkbox = False #@param {type:\"boolean\"}\n",
    "\n",
    "fetch_data_from_gdrive_checkbox = True #@param {type:\"boolean\"}\n",
    "\n",
    "#@markdown ---\n",
    "#@markdown ##### Enter dirname and image name:\n",
    "dir_image = \"/content/drive/My Drive/Siren Deep Learning Analyses/testsets/BSD68\" # @param [\"/content/\", \"/content/drive/My Drive/Siren Deep Learning Analyses/testsets/BSD68\"]\n",
    "image_name = \"test068.png\" #@param {type:\"string\"}\n",
    "\n",
    "basedir_path_out_images = f\"mixed_out_train_{train_no}\" # @oaram [\"/content\", \".\", out_train_{train_no}]\n",
    "\n",
    "# if you get the shareable link, the link contains this id, replace the file_id below\n",
    "file_id = ''"
   ]
  },
  {
   "cell_type": "code",
   "execution_count": null,
   "metadata": {},
   "outputs": [],
   "source": [
    "dates_input = ';;'.split(\";\")[0:3]\n",
    "train_timestamps = \";;\".split(\";\")[0:3]\n",
    "trains_no = \";;\".split(\";\")[0:3]\n",
    "file_ids = \";;\".split(\";\")[0:3]"
   ]
  },
  {
   "cell_type": "markdown",
   "metadata": {},
   "source": [
    "## Authentication phase"
   ]
  },
  {
   "cell_type": "code",
   "execution_count": null,
   "metadata": {},
   "outputs": [],
   "source": [
    "from apiclient import discovery\n",
    "from httplib2 import Http\n",
    "import oauth2client\n",
    "from oauth2client import file, client, tools\n",
    "obj = lambda: None\n",
    "lmao = {\"auth_host_name\":'localhost', 'noauth_local_webserver':'store_true', 'auth_host_port':[8080, 8090], 'logging_level':'ERROR'}\n",
    "for k, v in lmao.items():\n",
    "    setattr(obj, k, v)\n",
    "    \n",
    "# authorization boilerplate code\n",
    "SCOPES = 'https://www.googleapis.com/auth/drive.readonly'\n",
    "store = file.Storage('token.json')\n",
    "creds = store.get()\n",
    "# The following will give you a link if token.json does not exist, the link allows the user to give this app permission\n",
    "if not creds or creds.invalid:\n",
    "    flow = client.flow_from_clientsecrets('client_id.json', SCOPES)\n",
    "    creds = tools.run_flow(flow, store, obj)"
   ]
  },
  {
   "cell_type": "markdown",
   "metadata": {
    "id": "HhpbzSY92zUl"
   },
   "source": [
    "## Setup"
   ]
  },
  {
   "cell_type": "markdown",
   "metadata": {
    "id": "Pua8zFCn2t93"
   },
   "source": [
    "### Installations"
   ]
  },
  {
   "cell_type": "code",
   "execution_count": null,
   "metadata": {
    "id": "ueDOcMmM1STr"
   },
   "outputs": [],
   "source": [
    "# !pip install -q gwpy"
   ]
  },
  {
   "cell_type": "code",
   "execution_count": null,
   "metadata": {
    "id": "wDh3y2VK2CAA"
   },
   "outputs": [],
   "source": [
    "# Clean /content from trash or old .png images\n",
    "# !rm -f /content/*.png"
   ]
  },
  {
   "cell_type": "markdown",
   "metadata": {
    "id": "YSaCc5FSemo8"
   },
   "source": [
    "### Imports"
   ]
  },
  {
   "cell_type": "code",
   "execution_count": null,
   "metadata": {
    "colab": {
     "base_uri": "https://localhost:8080/"
    },
    "id": "XOxkwG12_iV2",
    "outputId": "d000bc08-7454-4b68-842f-4d0f9a105341"
   },
   "outputs": [],
   "source": [
    "from datetime import datetime\n",
    "# from google.colab import files\n",
    "\n",
    "from pathlib import Path\n",
    "from collections import namedtuple\n",
    "\n",
    "# import psycopg2 as ps\n",
    "import matplotlib.pyplot as plt\n",
    "plt.style.use('dark_background')\n",
    "import seaborn as sns\n",
    "# sns.set_theme(style=\"whitegrid\")\n",
    "import ipywidgets as widgets\n",
    "# back end of ipywidgets\n",
    "from IPython.display import display\n",
    "\n",
    "import io\n",
    "from googleapiclient.http import MediaIoBaseDownload\n",
    "import zipfile\n",
    "\n",
    "import collections\n",
    "import itertools\n",
    "import functools\n",
    "import glob\n",
    "import operator\n",
    "import os\n",
    "import re\n",
    "import numpy as np\n",
    "import pandas as pd\n",
    "\n",
    "from PIL import Image\n",
    "\n",
    "# skimage\n",
    "import skimage\n",
    "import skimage.metrics as skmetrics\n",
    "from skimage.metrics import peak_signal_noise_ratio as psnr\n",
    "from skimage.metrics import structural_similarity as ssim\n",
    "from skimage.metrics import mean_squared_error\n",
    "\n",
    "from sklearn.linear_model import LinearRegression\n",
    "from sklearn.preprocessing import PolynomialFeatures"
   ]
  },
  {
   "cell_type": "markdown",
   "metadata": {},
   "source": [
    "### Setup output images full path"
   ]
  },
  {
   "cell_type": "code",
   "execution_count": null,
   "metadata": {},
   "outputs": [],
   "source": [
    "try: os.makedirs(basedir_path_out_images)\n",
    "except: pass"
   ]
  },
  {
   "cell_type": "code",
   "execution_count": null,
   "metadata": {},
   "outputs": [],
   "source": [
    "image_kind_str = \"df_scatter;scatter;bar;reg;point;box;violin;complex\"\n",
    "images_kind = list(map(lambda xx: f\"{xx}plot\", filter(lambda xx: len(xx) != 0, sorted(image_kind_str.split(\";\")))))\n",
    "\n",
    "ImagesConf = namedtuple('ImagesConf', images_kind)"
   ]
  },
  {
   "cell_type": "code",
   "execution_count": null,
   "metadata": {},
   "outputs": [],
   "source": [
    "half_name = f\"mse_psnr_et_al_vs_no_params_train_no_{train_no}.png\"\n",
    "def full_path_out_images(item, root_path = basedir_path_out_images, half_name = half_name):\n",
    "    return os.path.join(root_path, f\"{item}_{half_name}\")\n",
    "\n",
    "# image_names = list(map(lambda xx: f\"{xx}_{half_name}\", images_kind))\n",
    "image_names = list(map(full_path_out_images, images_kind))"
   ]
  },
  {
   "cell_type": "code",
   "execution_count": null,
   "metadata": {},
   "outputs": [],
   "source": [
    "images_conf = ImagesConf._make(image_names)"
   ]
  },
  {
   "cell_type": "markdown",
   "metadata": {
    "id": "8d5PRafeK6B_"
   },
   "source": [
    "### Functions"
   ]
  },
  {
   "cell_type": "code",
   "execution_count": null,
   "metadata": {},
   "outputs": [],
   "source": [
    "def compute_graph_image_psnr_CR(data_tuples, x_axes, y_axes, subject, colors = sns.color_palette()):   \n",
    "    # Prepare pairs of attributes to be represented\n",
    "    # one against the other via scatter plot.\n",
    "    # x_axes = \"bpp;file_size_bits\".split(\";\")\n",
    "    # y_axes = \"psnr;CR\".split(\";\")\n",
    "\n",
    "    pairs_axes = list(itertools.product(x_axes, y_axes))\n",
    "\n",
    "    # Settle figure grid.\n",
    "    axes_list = None\n",
    "    fig, axes = plt.subplots(len(x_axes), len(y_axes), figsize=(20, 10))\n",
    "    try:\n",
    "        axes_list = functools.reduce(operator.iconcat, axes, [])\n",
    "    except:\n",
    "        axes_list = axes\n",
    "        pass\n",
    "\n",
    "    # Compute graph.\n",
    "    for ii, (ax, pair_axes) in enumerate(zip(axes_list, pairs_axes)):\n",
    "        # Prepare data.\n",
    "        x_axis, y_axis = pair_axes[0], pair_axes[1]\n",
    "        x = np.array(list(map(lambda item: getattr(item, f\"{x_axis}\"), data_tuples)))\n",
    "        y = np.array(list(map(lambda item: getattr(item, f\"{y_axis}\"), data_tuples)))\n",
    "        # Create Chart.\n",
    "        ax.scatter(x, y, marker = 'x', color = colors[ii], label = f'{subject} - {y_axis}')\n",
    "        # ax.set_xscale('symlog')\n",
    "        # ax.set_yscale('symlog')\n",
    "        ax.set_ylabel(f'{y_axis}')\n",
    "        ax.set_xlabel(f'{x_axis}')\n",
    "        ax.legend()\n",
    "        ax.set_title(f'{y_axis.upper()} vs. {x_axis.upper()}')\n",
    "        pass\n",
    "    return fig, axes"
   ]
  },
  {
   "cell_type": "code",
   "execution_count": null,
   "metadata": {
    "id": "Ntx6LDuGds7c"
   },
   "outputs": [],
   "source": [
    "def graphics_bars_pointplot(dataframe, y_axes, x_axis, grid_shape, palette=\"Blues_d\", axes = None, figsize = (15, 5), show_fig = False, title = 'Complex Plot'):\n",
    "    fig, axes = plt.subplots(*grid_shape, figsize=figsize)\n",
    "    fig.suptitle(f'{title}', fontsize=15)\n",
    "\n",
    "    with warnings.catch_warnings():\n",
    "        warnings.simplefilter('ignore')\n",
    "        pos = 0\n",
    "        try:\n",
    "            axes_list = functools.reduce(operator.iconcat, axes, [])\n",
    "        except:\n",
    "            axes_list = axes\n",
    "\n",
    "        _ = graphics_scatterplot(\n",
    "            dataframe = dataframe,\n",
    "            y_axes = y_axes,\n",
    "            axes = axes_list[len(y_axes) * pos:len(y_axes) * (pos+1)],\n",
    "            x_axis = x_axis)\n",
    "        \"\"\"\n",
    "        for ax in axes_list[len(y_axes) * pos:len(y_axes) * (pos+1)]:\n",
    "            ax.get_xaxis().set_visible(False)\n",
    "        \"\"\"\n",
    "        pos += 1\n",
    "\n",
    "        _ = graphics_bars_mean_std(\n",
    "            dataframe = dataframe,\n",
    "            y_axes = y_axes,\n",
    "            axes = axes_list[len(y_axes) * pos:len(y_axes) * (pos+1)],\n",
    "            x_axis = x_axis)\n",
    "    \n",
    "        for ax in axes_list[len(y_axes) * pos:len(y_axes) * (pos+1)]:\n",
    "            ax.get_xaxis().set_visible(False)\n",
    "        pos += 1\n",
    "    \n",
    "        _ = graphics_pointplot_mean_std(\n",
    "            dataframe = dataframe,\n",
    "            y_axes = y_axes,\n",
    "            axes = axes_list[len(y_axes) * pos:len(y_axes) * (pos+1)],\n",
    "            x_axis = x_axis)\n",
    "\n",
    "        for ax in axes_list[len(y_axes) * pos:len(y_axes) * (pos+1)]:\n",
    "            ax.get_xaxis().set_visible(False)\n",
    "        pos += 1\n",
    "    \n",
    "        _ = graphics_regplot_mean_std(\n",
    "            dataframe = dataframe,\n",
    "            y_axes = y_axes,\n",
    "            axes = axes_list[len(y_axes) * pos:len(y_axes) * (pos+1)],\n",
    "            x_axis = x_axis)\n",
    "    \n",
    "        for ax in axes_list[len(y_axes) * pos:len(y_axes) * (pos+1)]:\n",
    "            ax.get_xaxis().set_visible(False)\n",
    "        pos += 1\n",
    "\n",
    "        _ = graphics_boxplot(\n",
    "            dataframe = dataframe,\n",
    "            y_axes = y_axes,\n",
    "            axes = axes_list[len(y_axes) * pos:len(y_axes) * (pos+1)],\n",
    "            x_axis = x_axis)\n",
    "\n",
    "\n",
    "        for ax in axes_list[len(y_axes) * pos:len(y_axes) * (pos+1)]:\n",
    "            ax.get_xaxis().set_visible(False)\n",
    "        pos += 1\n",
    "    \n",
    "        _ = graphics_violinplot(\n",
    "            dataframe = dataframe,\n",
    "            y_axes = y_axes,\n",
    "            axes = axes_list[len(y_axes) * pos:len(y_axes) * (pos+1)],\n",
    "            x_axis = x_axis)\n",
    "        pass\n",
    "    return fig, axes"
   ]
  },
  {
   "cell_type": "code",
   "execution_count": null,
   "metadata": {
    "id": "jg9KGJ2hhHlZ"
   },
   "outputs": [],
   "source": [
    "def graphics_scatterplot(dataframe, y_axes, x_axis, grid_shape = None, palette=\"Blues_d\", axes = None, figsize = (15, 5), show_fig = False, title = 'Complex Plot'):\n",
    "    flag = False\n",
    "    fig = None\n",
    "    if axes is None:\n",
    "        fig, axes = plt.subplots(*grid_shape, figsize=figsize)\n",
    "        fig.suptitle(f'{title}', fontsize=15)\n",
    "        flag = True\n",
    "        pass\n",
    "\n",
    "    data_xtick_arr = \\\n",
    "        np.array(\n",
    "            np.unique(dataframe[f\"{x_axis}\"].values),\n",
    "            dtype=np.int\n",
    "    )\n",
    "\n",
    "    try:\n",
    "        axes_list = functools.reduce(operator.iconcat, axes, [])\n",
    "    except:\n",
    "        axes_list = axes\n",
    "    for ii, (ax, y_axis) in enumerate(zip(axes_list, y_axes)):\n",
    "        # _ = sns.regplot(x=f\"{x_axis}\", y=(f\"{y_axis}\"), data=dataframe, order=1, ax = ax, marker = 'x', color = 'black', label = 'poly order 1°')\n",
    "        # _ = sns.regplot(x=f\"{x_axis}\", y=(f\"{y_axis}\"), data=dataframe, order=2, ax = ax, marker = 'x', color = 'black', label = 'poly order 2°')\n",
    "\n",
    "        _ = sns.scatterplot(x=f\"{x_axis}\", y=(f\"{y_axis}\"), data=dataframe, ax = ax, marker = 'x', color = sns.color_palette()[ii])\n",
    "        # axes[0].get_yaxis().set_visible(False)\n",
    "        ax.set_title(f'{y_axis.upper()}', fontsize=10)\n",
    "        # ax.set_xticklabels(data_xtick_arr, rotation=45)\n",
    "        # ax.set_xticklabels(data_xtick_arr, rotation=45)\n",
    "        ax.set_xscale('log')\n",
    "        pass\n",
    "\n",
    "    # plt.tight_layout()\n",
    "    if flag is False:\n",
    "        return axes\n",
    "    else:\n",
    "        # plt.tight_layout()\n",
    "        if show_fig: plt.show()\n",
    "        return fig, axes"
   ]
  },
  {
   "cell_type": "code",
   "execution_count": null,
   "metadata": {
    "id": "0gAYJ4SWoPCN"
   },
   "outputs": [],
   "source": [
    "def graphics_violinplot(dataframe, y_axes, x_axis, grid_shape = None, palette=\"Blues_d\", axes = None, figsize = (15, 5), show_fig = False, title = 'Complex Plot'):\n",
    "    flag = False\n",
    "    fig = None\n",
    "    if axes is None:\n",
    "        fig, axes = plt.subplots(*grid_shape, figsize=figsize)\n",
    "        fig.suptitle(f'{title}', fontsize=15)\n",
    "        flag = True\n",
    "        pass\n",
    "\n",
    "    data_xtick_arr = \\\n",
    "        np.array(\n",
    "            np.unique(dataframe[f\"{x_axis}\"].values),\n",
    "            dtype=np.int\n",
    "    )\n",
    "\n",
    "    try:\n",
    "        axes_list = functools.reduce(operator.iconcat, axes, [])\n",
    "    except:\n",
    "        axes_list = axes\n",
    "    for ax, y_axis in zip(axes_list, y_axes):\n",
    "        _ = sns.violinplot(x=f\"{x_axis}\", y=(f\"{y_axis}\"), data=dataframe, ax = ax, palette=\"Set3\", bw=.2, cut=1, linewidth=1)\n",
    "        # axes[0].get_yaxis().set_visible(False)\n",
    "        ax.set_title(f'{y_axis.upper()}', fontsize=10)\n",
    "        ax.set_xticklabels(data_xtick_arr, rotation=45)\n",
    "        # ax.set_yscale('log')\n",
    "        pass\n",
    "\n",
    "    # plt.tight_layout()\n",
    "    if flag is False:\n",
    "        return axes\n",
    "    else:\n",
    "        # plt.tight_layout()\n",
    "        if show_fig: plt.show()\n",
    "        return fig, axes"
   ]
  },
  {
   "cell_type": "code",
   "execution_count": null,
   "metadata": {
    "id": "S7ThO-VSj9Lb"
   },
   "outputs": [],
   "source": [
    "def graphics_boxplot(dataframe, y_axes, x_axis, grid_shape = None, palette=\"Blues_d\", axes = None, figsize = (15, 5), show_fig = False, title = 'Complex Plot'):\n",
    "    flag = False\n",
    "    fig = None\n",
    "    if axes is None:\n",
    "        fig, axes = plt.subplots(*grid_shape, figsize=figsize)\n",
    "        fig.suptitle(f'{title}', fontsize=15)\n",
    "        flag = True\n",
    "        pass\n",
    "\n",
    "    data_xtick_arr = \\\n",
    "        np.array(\n",
    "            np.unique(dataframe[f\"{x_axis}\"].values),\n",
    "            dtype=np.int\n",
    "    )\n",
    "\n",
    "    try:\n",
    "        axes_list = functools.reduce(operator.iconcat, axes, [])\n",
    "    except:\n",
    "        axes_list = axes\n",
    "    for ax, y_axis in zip(axes_list, y_axes):\n",
    "        _ = sns.boxplot(x=f\"{x_axis}\", y=(f\"{y_axis}\"),\n",
    "            data=dataframe,\n",
    "            palette=palette, ax = ax)\n",
    "        # axes[0].get_yaxis().set_visible(False)\n",
    "        ax.set_title(f'{y_axis.upper()}', fontsize=10)\n",
    "        ax.set_xticklabels(data_xtick_arr, rotation=45)\n",
    "        # ax.set_yscale('log')\n",
    "        pass\n",
    "\n",
    "    # plt.tight_layout()\n",
    "    if flag is False:\n",
    "        return axes\n",
    "    else:\n",
    "        # plt.tight_layout()\n",
    "        if show_fig: plt.show()\n",
    "        return fig, axes"
   ]
  },
  {
   "cell_type": "code",
   "execution_count": null,
   "metadata": {
    "id": "HjhDjRz7a7QZ"
   },
   "outputs": [],
   "source": [
    "def graphics_bars_mean_std(dataframe, y_axes, x_axis, grid_shape = None, palette=\"Blues_d\", axes = None, figsize = (15, 5), show_fig = False, title = 'Complex Plot'):\n",
    "    flag = False\n",
    "    fig = None\n",
    "    if axes is None:\n",
    "        fig, axes = plt.subplots(*grid_shape, figsize=figsize)\n",
    "        fig.suptitle(f'{title}', fontsize=15)\n",
    "        flag = True\n",
    "        pass\n",
    "\n",
    "    data_xtick_arr = \\\n",
    "        np.array(\n",
    "            np.unique(dataframe[f\"{x_axis}\"].values),\n",
    "            dtype=np.int\n",
    "    )\n",
    "\n",
    "    try:\n",
    "        axes_list = functools.reduce(operator.iconcat, axes, [])\n",
    "    except:\n",
    "        axes_list = axes\n",
    "    for ax, y_axis in zip(axes_list, y_axes):\n",
    "        _ = sns.barplot(x=f\"{x_axis}\", y=(f\"{y_axis}\"),\n",
    "            data=dataframe,\n",
    "            palette=palette,\n",
    "            capsize=.0, ax = ax)\n",
    "        # axes[0].get_yaxis().set_visible(False)\n",
    "        ax.set_title(f'{y_axis.upper()} (mean+std)', fontsize=10)\n",
    "        ax.set_xticklabels(data_xtick_arr, rotation=45)\n",
    "\n",
    "    # plt.tight_layout()\n",
    "    if flag is False:\n",
    "        return axes\n",
    "    else:\n",
    "        # plt.tight_layout()\n",
    "        if show_fig: plt.show()\n",
    "        return fig, axes"
   ]
  },
  {
   "cell_type": "code",
   "execution_count": null,
   "metadata": {
    "id": "vcvOHzx6T1m4"
   },
   "outputs": [],
   "source": [
    "def graphics_pointplot_mean_std(dataframe, y_axes, x_axis, grid_shape = None, palette=None, axes = None, figsize = (15, 5), show_fig = False, title = 'Complex Plot'):\n",
    "    flag = False\n",
    "    fig = None\n",
    "    if axes is None:\n",
    "        fig, axes = plt.subplots(*grid_shape, figsize=figsize)\n",
    "        fig.suptitle(f'{title}', fontsize=15)\n",
    "        flag = True\n",
    "        pass\n",
    "\n",
    "    data_xtick_arr = \\\n",
    "        np.array(\n",
    "            np.unique(results_history_sorted_df[f\"{x_axis}\"].values),\n",
    "            dtype=np.int\n",
    "    )\n",
    "\n",
    "    try:\n",
    "        axes_list = functools.reduce(operator.iconcat, axes, [])\n",
    "    except:\n",
    "        axes_list = axes\n",
    "    for ax, y_axis in zip(axes_list, y_axes):\n",
    "        \n",
    "        _ = sns.pointplot(x=f\"{x_axis}\", y=(f\"{y_axis}\"),\n",
    "            data=dataframe,\n",
    "            palette=palette,\n",
    "            capsize=.0, ax = ax)\n",
    "        # axes[0].get_yaxis().set_visible(False)\n",
    "        ax.set_title(f'{y_axis.upper()} (mean+std)', fontsize=10)\n",
    "        # ax.set_xticklabels(data_xtick_arr, rotation=45)\n",
    "        ax.set_xscale('log')\n",
    "        pass\n",
    "    \n",
    "    if flag is False:\n",
    "        return axes\n",
    "    else:\n",
    "        # plt.tight_layout()\n",
    "        if show_fig: plt.show()\n",
    "        return fig, axes"
   ]
  },
  {
   "cell_type": "code",
   "execution_count": null,
   "metadata": {
    "id": "iS2f9LR9vLG-"
   },
   "outputs": [],
   "source": [
    "def graphics_regplot_mean_std(dataframe, y_axes, x_axis, grid_shape = None, palette=None, axes = None, figsize = (15, 5), show_fig = False, title = 'Complex Plot'):\n",
    "    flag = False\n",
    "    fig = None\n",
    "    if axes is None:\n",
    "        fig, axes = plt.subplots(*grid_shape, figsize=figsize)\n",
    "        fig.suptitle(f'{title}', fontsize=15)\n",
    "        flag = True\n",
    "        pass\n",
    "\n",
    "    data_xtick_arr = \\\n",
    "        np.array(\n",
    "            np.unique(dataframe[f\"{x_axis}\"].values),\n",
    "            dtype=np.int\n",
    "    )\n",
    "\n",
    "    try:\n",
    "        axes_list = functools.reduce(operator.iconcat, axes, [])\n",
    "    except:\n",
    "        axes_list = axes\n",
    "    for ax, y_axis in zip(axes_list, y_axes):\n",
    "        \"\"\"\n",
    "        _ = sns.regplot(x=f\"{x_axis}\", y=(f\"{y_axis}\"),\n",
    "            data=dataframe, color = 'red', label = 'y_axis.upper()', ax = ax)\n",
    "        \"\"\"\n",
    "        _ = sns.regplot(x=f\"{x_axis}\", y=(f\"{y_axis}\"), data=dataframe,\n",
    "                label = f'{y_axis.upper()}',\n",
    "                # scatter_kws={\"s\": 80},\n",
    "                x_estimator=np.mean,\n",
    "                ax = ax,\n",
    "                order=4, ci=68)\n",
    "        # axes[0].get_yaxis().set_visible(False)\n",
    "        ax.set_title(f'{y_axis.upper()} | poly-regression order 4°', fontsize=10)\n",
    "        # ax.set_xticklabels(data_xtick_arr, rotation=45)\n",
    "\n",
    "    \n",
    "    if flag is False:\n",
    "        return axes\n",
    "    else:\n",
    "        # plt.tight_layout()\n",
    "        if show_fig: plt.show()\n",
    "        return fig, axes"
   ]
  },
  {
   "cell_type": "markdown",
   "metadata": {
    "id": "u_T3YQAV21oW"
   },
   "source": [
    "## Code"
   ]
  },
  {
   "cell_type": "markdown",
   "metadata": {
    "id": "w0WQe0g7epZf"
   },
   "source": [
    "### Fetch Data"
   ]
  },
  {
   "cell_type": "code",
   "execution_count": null,
   "metadata": {},
   "outputs": [],
   "source": [
    "def adjust_date_format(date_input):\n",
    "    return '-'.join([xx for xx in date_input.split('-')[::-1]])\n",
    "date_inputs_tmp = list(map(adjust_date_format, dates_input))\n",
    "print(date_inputs_tmp)\n",
    "\n",
    "train_timestamps_tmp = [train_timestamp.replace('.', '-') for train_timestamp in train_timestamps]\n",
    "print(train_timestamps_tmp)\n",
    "\n",
    "trains_datetime = [os.path.join(date_input_tmp, train_timestamp_tmp)\n",
    "                   for date_input_tmp, train_timestamp_tmp in zip(date_inputs_tmp, train_timestamps_tmp)]\n",
    "print(trains_datetime)\n",
    "print(trains_no)"
   ]
  },
  {
   "cell_type": "code",
   "execution_count": null,
   "metadata": {
    "colab": {
     "base_uri": "https://localhost:8080/"
    },
    "id": "ITcJEHxImVOX",
    "outputId": "acc9827f-5b55-47a0-f423-e334075af08d"
   },
   "outputs": [],
   "source": [
    "# print('Date train:', train_datetime)\n",
    "path_history_trains = []\n",
    "def adjust_trains_path(root_path, trains_no, trains_datetime = None):\n",
    "    if root_path == \"/content\":\n",
    "        path_history_trains = [os.path.join(\n",
    "            root_path,\n",
    "            f'result_comb_train_{train_no}.txt')\n",
    "        for train_no in trains_no]\n",
    "    elif root_path == \".\":\n",
    "        path_history_trains = [os.path.join(\n",
    "            root_path,\n",
    "            f'result_comb_train_{train_no}.txt')\n",
    "        for train_no in trains_no]\n",
    "    else:\n",
    "        path_history_trains = [os.path.join(\n",
    "            root_path,\n",
    "            train_datetime,\n",
    "            \"train\",\n",
    "            f'result_comb_train_{train_no}.txt')\n",
    "            for train_datetime, train_no in zip(trains_datetime, trains_no)]\n",
    "    return path_history_trains\n",
    "\n",
    "path_history_trains = adjust_trains_path(root_path, trains_no)\n",
    "print(\"Path location:\")\n",
    "print(path_history_trains)"
   ]
  },
  {
   "cell_type": "code",
   "execution_count": null,
   "metadata": {},
   "outputs": [],
   "source": [
    "def fetch_data_from_gdrive(path_history_train, file_id, fetch_data_from_gdrive_checkbox):\n",
    "    if fetch_data_from_gdrive_checkbox:\n",
    "        if os.path.exists(f'{path_history_train}') is False:\n",
    "            DRIVE = discovery.build('drive', 'v3', http=creds.authorize(Http()))\n",
    "            request = DRIVE.files().get_media(fileId=file_id)\n",
    "\n",
    "            # replace the filename and extension in the first field below\n",
    "            # fh = io.FileIO(f'filename.zip', mode='w')\n",
    "            fh = io.FileIO(f'{path_history_train}', mode='w')\n",
    "            downloader = MediaIoBaseDownload(fh, request)\n",
    "            done = False\n",
    "            while done is False:\n",
    "                status, done = downloader.next_chunk()\n",
    "                print(\"Download %d%%.\" % int(status.progress() * 100))\n",
    "                pass\n",
    "            pass\n",
    "        else:\n",
    "            print(f\"Already exists: {path_history_train}\")\n",
    "        pass\n",
    "    pass\n",
    "\n",
    "for path_history_train, file_id in zip(path_history_trains, file_ids):\n",
    "    print(path_history_train)\n",
    "    fetch_data_from_gdrive(path_history_train, file_id, fetch_data_from_gdrive_checkbox)\n",
    "    pass"
   ]
  },
  {
   "cell_type": "code",
   "execution_count": null,
   "metadata": {
    "id": "g3CZ_qe5Zk_r"
   },
   "outputs": [],
   "source": [
    "columns_df = ['#params', 'seed', 'hl', 'hf', 'mse', 'psnr', 'ssim', 'train_eta']\n",
    "\n",
    "results_history_arr = None\n",
    "for path_history_train in path_history_trains:\n",
    "    print(path_history_train)\n",
    "    if results_history_arr is None:\n",
    "        results_history_arr = np.loadtxt(path_history_train)\n",
    "        # print(results_history_arr)\n",
    "    else:\n",
    "        try:\n",
    "            tmp_arr = np.loadtxt(path_history_train)\n",
    "            # print(tmp_arr)\n",
    "            results_history_arr = np.concatenate((results_history_arr, tmp_arr), axis = 0)\n",
    "        except:\n",
    "            tmp_arr = np.loadtxt(path_history_train)\n",
    "            # print(tmp_arr)\n",
    "            results_history_arr = np.concatenate((results_history_arr, [tmp_arr]), axis = 0)\n",
    "            pass\n",
    "        pass\n",
    "    pass\n",
    "\n",
    "results_history_df = pd.DataFrame(\n",
    "    data = results_history_arr,\n",
    "    columns = columns_df)"
   ]
  },
  {
   "cell_type": "markdown",
   "metadata": {
    "id": "lVwEXZ_5ea6M"
   },
   "source": [
    "### Dataframe: brief description"
   ]
  },
  {
   "cell_type": "code",
   "execution_count": null,
   "metadata": {
    "colab": {
     "base_uri": "https://localhost:8080/"
    },
    "id": "crGrnRh8ahmm",
    "outputId": "fb85c3bc-6e85-4a37-c34b-91affe434bd4"
   },
   "outputs": [],
   "source": [
    "results_history_df.head(5)"
   ]
  },
  {
   "cell_type": "code",
   "execution_count": null,
   "metadata": {
    "colab": {
     "base_uri": "https://localhost:8080/"
    },
    "id": "jB4yI4fMaQSx",
    "outputId": "d7eee8e3-2386-4fc0-fbe0-2c267559d2da"
   },
   "outputs": [],
   "source": [
    "results_history_df.info()"
   ]
  },
  {
   "cell_type": "code",
   "execution_count": null,
   "metadata": {
    "colab": {
     "base_uri": "https://localhost:8080/"
    },
    "id": "pwYc_anvabod",
    "outputId": "3196f35d-9dba-40d6-9df3-9da575fdee47"
   },
   "outputs": [],
   "source": [
    "results_history_df.describe()"
   ]
  },
  {
   "cell_type": "code",
   "execution_count": null,
   "metadata": {
    "colab": {
     "base_uri": "https://localhost:8080/"
    },
    "id": "nvhhJoqK5uhI",
    "outputId": "acad5e72-6266-4ffd-fcfe-c7c0d73cd36e"
   },
   "outputs": [],
   "source": [
    "collections.Counter(results_history_df[\"hf\"].values)"
   ]
  },
  {
   "cell_type": "markdown",
   "metadata": {
    "id": "IcG5NDgmejnb"
   },
   "source": [
    "### Dataframe: in depth description"
   ]
  },
  {
   "cell_type": "markdown",
   "metadata": {
    "id": "TzsOfH3A0knO"
   },
   "source": [
    "#### Scatter - Plot"
   ]
  },
  {
   "cell_type": "code",
   "execution_count": null,
   "metadata": {
    "colab": {
     "base_uri": "https://localhost:8080/"
    },
    "id": "0CyM0A5cOmfc",
    "outputId": "cfc20331-5696-4ae4-fdbf-de5f651c7ab2"
   },
   "outputs": [],
   "source": [
    "# sns.pairplot(results_history_df)\n",
    "g = sns.PairGrid(results_history_df.drop(['hf', 'hl', 'seed'], axis = 1), diag_sharey=False)\n",
    "g.map_upper(sns.scatterplot, s=15) # \n",
    "g.map_lower(sns.kdeplot)\n",
    "g.map_diag(sns.kdeplot, lw=2)\n",
    "# plt.savefig(f'scatter_plot_train_no_{train_no}.png')\n",
    "plt.savefig(f'{images_conf.df_scatterplot}')"
   ]
  },
  {
   "cell_type": "markdown",
   "metadata": {
    "id": "27tDjHPq0n7Q"
   },
   "source": [
    "#### Plots"
   ]
  },
  {
   "cell_type": "code",
   "execution_count": null,
   "metadata": {
    "colab": {
     "base_uri": "https://localhost:8080/",
     "height": 142
    },
    "id": "M__HZiUQeFWg",
    "outputId": "c828f30c-0ddf-42ad-a080-c61246f366db"
   },
   "outputs": [],
   "source": [
    "# Compute Mean and Standard-Deviation for MSE and PSNR\n",
    "# with respect to data grouped by means of'#params'-attribute\n",
    "#  within dataframe object: 'results_history_df\n",
    "\n",
    "results_history_df.groupby(by = ['#params'])[['mse', 'psnr', 'ssim', 'train_eta']]\\\n",
    "    .describe()[[\n",
    "                (\"mse\", \"mean\"), (\"mse\", \"std\"),\n",
    "                (\"psnr\", \"mean\"), (\"psnr\", \"std\"),\n",
    "                (\"ssim\", \"mean\"), (\"ssim\", \"std\"),\n",
    "                (\"train_eta\", \"mean\"), (\"train_eta\", \"std\")\n",
    "                ]]"
   ]
  },
  {
   "cell_type": "code",
   "execution_count": null,
   "metadata": {
    "colab": {
     "base_uri": "https://localhost:8080/",
     "height": 690
    },
    "id": "fZfXXd6phTGW",
    "outputId": "3662e7e0-04f5-4091-ff39-34719f33d122"
   },
   "outputs": [],
   "source": [
    "grid_shape = \"(2, 2)\" #@param [\"(1, 4)\", \"(4, 1)\", \"(2, 2)\"]\n",
    "grid_shape = eval(grid_shape)\n",
    "\n",
    "fig, axes = graphics_scatterplot(\n",
    "    dataframe = results_history_df,\n",
    "    y_axes = (\"mse\", \"psnr\", \"ssim\", \"train_eta\"),\n",
    "    x_axis = \"#params\",\n",
    "    grid_shape = grid_shape,\n",
    "    figsize = (20, 10))\n",
    "fig.suptitle('Trend MSE and PSNR et al. across archs (grouped by #params).', fontsize=15)\n",
    "# plt.savefig(f\"scatterplot_mse_psnr_et_al_vs_no_params_train_no_{train_no}.png\")\n",
    "plt.savefig(f\"{images_conf.scatterplot}\")\n",
    "\n",
    "plt.show()"
   ]
  },
  {
   "cell_type": "code",
   "execution_count": null,
   "metadata": {
    "colab": {
     "base_uri": "https://localhost:8080/",
     "height": 402
    },
    "id": "2J1ln1ajHGwK",
    "outputId": "28f4f5de-f562-4c3d-c949-d3200c17c0f6"
   },
   "outputs": [],
   "source": [
    "# %%capture\n",
    "results_history_sorted_df = results_history_df.sort_values(by=['#params', 'hf', 'hl'])\n",
    "\n",
    "grid_shape = \"(1, 4)\" #@param [\"(1, 4)\", \"(4, 1)\", \"(2, 2)\"]\n",
    "grid_shape = eval(grid_shape)\n",
    "\n",
    "fig, axes = graphics_bars_mean_std(\n",
    "    dataframe = results_history_sorted_df,\n",
    "    y_axes = (\"mse\", \"psnr\", \"ssim\", \"train_eta\"),\n",
    "    x_axis = \"#params\",\n",
    "    grid_shape = grid_shape,\n",
    "    figsize = (20, 5))\n",
    "fig.suptitle('Trend MSE and PSNR et al. across archs (grouped by #params).', fontsize=15)\n",
    "# plt.savefig(f\"bar_plot_mse_psnr_et_al_grouped_by_params_train_no_{train_no}.png\")\n",
    "plt.savefig(f\"{images_conf.barplot}\")\n",
    "plt.show()"
   ]
  },
  {
   "cell_type": "code",
   "execution_count": null,
   "metadata": {
    "colab": {
     "base_uri": "https://localhost:8080/",
     "height": 423
    },
    "id": "-9ogdSYTPj-J",
    "outputId": "44c6805b-29a0-453d-8b20-77eb88b8df1b"
   },
   "outputs": [],
   "source": [
    "results_history_sorted_df = results_history_df.sort_values(by=['#params', 'hf', 'hl'])\n",
    "\n",
    "grid_shape = \"(1, 4)\" #@para m [\"(1, 4)\", \"(4, 1)\", \"(2, 2)\"]\n",
    "grid_shape = eval(grid_shape)\n",
    "\n",
    "fig, axes = graphics_pointplot_mean_std(\n",
    "    dataframe = results_history_sorted_df,\n",
    "    y_axes = (\"mse\", \"psnr\", \"ssim\", \"train_eta\"),\n",
    "    x_axis = \"#params\",\n",
    "    grid_shape = grid_shape, \n",
    "    figsize = (20, 5))\n",
    "fig.suptitle('Trend MSE and PSNR et al. across archs (grouped by #params).', fontsize=15)\n",
    "# plt.savefig(f\"pointplot_mse_psnr_et_al_grouped_by_params_train_no_{train_no}.png\")\n",
    "plt.savefig(f\"{images_conf.pointplot}\")\n",
    "plt.subplots_adjust(bottom = 0.2)\n",
    "plt.show()"
   ]
  },
  {
   "cell_type": "code",
   "execution_count": null,
   "metadata": {
    "colab": {
     "base_uri": "https://localhost:8080/",
     "height": 375
    },
    "id": "sY6X4e2tkE2c",
    "outputId": "1e7c942c-d7bf-45c8-da58-fad38734579d"
   },
   "outputs": [],
   "source": [
    "results_history_sorted_df = results_history_df.sort_values(by=['#params', 'hf', 'hl'])\n",
    "\n",
    "grid_shape = \"(1, 4)\" #@param [\"(1, 4)\", \"(4, 1)\", \"(2, 2)\"]\n",
    "grid_shape = eval(grid_shape)\n",
    "\n",
    "fig, axes = graphics_boxplot(\n",
    "    dataframe = results_history_sorted_df,\n",
    "    y_axes = (\"mse\", \"psnr\", \"ssim\", \"train_eta\"),\n",
    "    x_axis = \"#params\",\n",
    "    grid_shape = grid_shape,\n",
    "    figsize = (20, 5))\n",
    "fig.suptitle('Trend MSE and PSNR et al. across archs (grouped by #params).', fontsize=15)\n",
    "# plt.savefig(f\"boxplot_mse_psnr_et_al_grouped_by_params_train_no_{train_no}.png\")\n",
    "plt.savefig(f\"{images_conf.boxplot}\")\n",
    "plt.subplots_adjust(bottom = 0.2)\n",
    "plt.show()"
   ]
  },
  {
   "cell_type": "code",
   "execution_count": null,
   "metadata": {
    "colab": {
     "base_uri": "https://localhost:8080/",
     "height": 375
    },
    "id": "8xZBZ1UmonNK",
    "outputId": "5682f171-01ff-408a-f72c-40c47b9c9eeb"
   },
   "outputs": [],
   "source": [
    "results_history_sorted_df = results_history_df.sort_values(by=['#params', 'hf', 'hl'])\n",
    "\n",
    "grid_shape = \"(1, 4)\" #@param [\"(1, 4)\", \"(4, 1)\", \"(2, 2)\"]\n",
    "grid_shape = eval(grid_shape)\n",
    "\n",
    "fig, axes = None, None\n",
    "with warnings.catch_warnings():\n",
    "    warnings.simplefilter('ignore')\n",
    "    fig, axes = graphics_violinplot(\n",
    "        dataframe = results_history_sorted_df,\n",
    "        y_axes = (\"mse\", \"psnr\", \"ssim\", \"train_eta\"),\n",
    "        x_axis = \"#params\",\n",
    "        grid_shape = grid_shape,\n",
    "        figsize = (20, 5))\n",
    "    pass\n",
    "fig.suptitle('Trend MSE and PSNR et al. across archs (grouped by #params).', fontsize=15)\n",
    "# plt.savefig(f\"violinplot_mse_psnr_et_al_grouped_by_params_train_no_{train_no}.png\")\n",
    "plt.savefig(f\"{images_conf.violinplot}\")\n",
    "plt.subplots_adjust(bottom = 0.2)\n",
    "plt.show()"
   ]
  },
  {
   "cell_type": "code",
   "execution_count": null,
   "metadata": {
    "colab": {
     "base_uri": "https://localhost:8080/",
     "height": 1000
    },
    "id": "jDohGG-2xROc",
    "outputId": "bedfd7ae-b9ae-4299-950d-48be338f82d5"
   },
   "outputs": [],
   "source": [
    "results_history_sorted_df = results_history_df.sort_values(by=['#params', 'hf', 'hl'])\n",
    "\n",
    "grid_shape = \"(1, 4)\" #@param [\"(1, 4)\", \"(4, 1)\", \"(2, 2)\"]\n",
    "grid_shape = eval(grid_shape)\n",
    "\n",
    "fig, axes = None, None\n",
    "with warnings.catch_warnings():\n",
    "    warnings.simplefilter('ignore')\n",
    "    fig, axes = graphics_regplot_mean_std(\n",
    "        dataframe = results_history_sorted_df,\n",
    "        y_axes = (\"mse\", \"psnr\", \"ssim\", \"train_eta\"),\n",
    "        x_axis = \"#params\",\n",
    "        grid_shape = grid_shape,\n",
    "        figsize = (20, 10))\n",
    "    pass\n",
    "fig.suptitle('Trend MSE and PSNR et al. across archs (grouped by #params).', fontsize=15)\n",
    "# plt.savefig(f\"regplot_mse_psnr_et_al_grouped_by_params_train_no_{train_no}.png\")\n",
    "plt.savefig(f\"{images_conf.regplot}\")\n",
    "plt.subplots_adjust(bottom = 0.2)\n",
    "plt.show()"
   ]
  },
  {
   "cell_type": "markdown",
   "metadata": {
    "id": "GoGQHGQj0gXs"
   },
   "source": [
    "### Summary Graph"
   ]
  },
  {
   "cell_type": "code",
   "execution_count": null,
   "metadata": {
    "colab": {
     "base_uri": "https://localhost:8080/"
    },
    "id": "6egxriN9e-Cn",
    "outputId": "af30bc82-c38a-4630-ffb0-f803c60858cf"
   },
   "outputs": [],
   "source": [
    "fig, axes = None, None\n",
    "with warnings.catch_warnings():\n",
    "    warnings.simplefilter('ignore')\n",
    "    fig, axes = graphics_bars_pointplot(\n",
    "        dataframe = results_history_sorted_df,\n",
    "        y_axes = (\"mse\", \"psnr\", \"ssim\", \"train_eta\"),\n",
    "        x_axis = \"#params\",\n",
    "        grid_shape = (6, 4),\n",
    "        figsize = (20, 20), palette=\"Blues_d\",\n",
    "        show_fig = False,\n",
    "        title = 'Complex Plot')\n",
    "    pass\n",
    "fig.suptitle('Trend MSE and PSNR et al. across archs (grouped by #params).', fontsize=15)\n",
    "# plt.savefig(f\"complex_mse_psnr_et_al_grouped_by_params_train_no_{train_no}.png\")\n",
    "plt.savefig(f\"{images_conf.complexplot}\")\n",
    "plt.subplots_adjust(bottom = 0.2)\n",
    "# plt.tight_layout()\n",
    "plt.show()"
   ]
  },
  {
   "cell_type": "markdown",
   "metadata": {
    "id": "kH38J4Gi6r1E"
   },
   "source": [
    "### Download files"
   ]
  },
  {
   "cell_type": "code",
   "execution_count": null,
   "metadata": {
    "colab": {
     "base_uri": "https://localhost:8080/"
    },
    "id": "4OWnyJTvoW0n",
    "outputId": "de614f02-4fe7-4808-ce6c-13d579451e91"
   },
   "outputs": [],
   "source": [
    "print(f\"Pictures ({len(list(Path(basedir_path_out_images).glob('*.png')))}):\")\n",
    "for path in Path(basedir_path_out_images).glob('*.png'):\n",
    "    target_file = os.path.join(basedir_path_out_images, path.name)\n",
    "    print(f\"{target_file}\")\n",
    "    # if download_pictures_checkbox: files.download(target_file)\n",
    "    pass"
   ]
  },
  {
   "cell_type": "markdown",
   "metadata": {},
   "source": [
    "### Compare obtained results between JPEG and Siren"
   ]
  },
  {
   "cell_type": "code",
   "execution_count": null,
   "metadata": {},
   "outputs": [],
   "source": [
    "# Load target image.\n",
    "image_file_path = 'test068.png'\n",
    "im = Image.open(f'{image_file_path}')\n",
    "print('Image size:', im.size)\n",
    "im"
   ]
  },
  {
   "cell_type": "code",
   "execution_count": null,
   "metadata": {},
   "outputs": [],
   "source": [
    "# Test how to manually crop image from its center.\n",
    "width, height = im.size \n",
    "\n",
    "left = width - height\n",
    "top = 0\n",
    "right = width\n",
    "bottom = height\n",
    "\n",
    "im.crop((left, top, right, bottom))"
   ]
  },
  {
   "cell_type": "code",
   "execution_count": null,
   "metadata": {},
   "outputs": [],
   "source": [
    "# Array of qualities to be tested in compression.\n",
    "qualities_arr = np.arange(1, 99+1, dtype = np.int)"
   ]
  },
  {
   "cell_type": "code",
   "execution_count": null,
   "metadata": {},
   "outputs": [],
   "source": [
    "# Run several trials for JPEG compression.\n",
    "\n",
    "# Named tuple for creating a record related to\n",
    "# a trial for compressing the target image.\n",
    "name_obj = 'WeightsPsnr'\n",
    "attributes = ['psnr', 'quality', 'file_size_bits', 'bpp', 'width', 'heigth', 'CR']\n",
    "WeightsPsnr = collections.namedtuple(name_obj, attributes) \n",
    "\n",
    "# List used to save results and keep trace of failures, if any.\n",
    "result_tuples = []\n",
    "failure_qualities = []\n",
    "\n",
    "# Gather results.\n",
    "# Firstly crop image to desired shape.\n",
    "for edges in [(left, top, right, bottom)]: # for edges in edges_list:\n",
    "    \n",
    "    left, top, right, bottom = list(map(int, edges))\n",
    "    \n",
    "    # Then test the effect of several different quality values\n",
    "    # used in compression transform.\n",
    "    for quality in qualities_arr:\n",
    "        try:\n",
    "            # Convert to JPEG specifying quality of compression.\n",
    "            im_tmp = im.crop((left, top, right, bottom))\n",
    "            im_tmp.save(f'myimg.jpg', quality = int(quality))\n",
    "            im_jpeg = Image.open('myimg.jpg')\n",
    "            assert im_jpeg.size == im_tmp.size, \"im_jpeg.size != im_tmp.size\"\n",
    "    \n",
    "            # Calculate quantities to be stored for this trial\n",
    "        \n",
    "            width, height = im_jpeg.size[0], im_jpeg.size[1]\n",
    "            pixels = width * height\n",
    "            file_size_bits = Path('myimg.jpg').stat().st_size * 8\n",
    "            original_file_size_bits = Path(image_file_path).stat().st_size * 8\n",
    "            \n",
    "    \n",
    "            \n",
    "            bpp = file_size_bits / pixels    \n",
    "            psnr_score = psnr(np.asarray(im_tmp), np.asarray(im_jpeg), data_range=255)\n",
    "            CR = original_file_size_bits / file_size_bits\n",
    "            \n",
    "            # Store results into a list\n",
    "            values = [psnr_score, quality, file_size_bits, bpp, width, height, CR]\n",
    "            result_tuples.append(WeightsPsnr._make(values))\n",
    "        except Exception as err:\n",
    "            # Keep track of unaccepted quality values for compressing the image\n",
    "            print(err)\n",
    "            failure_qualities.append(quality)\n",
    "        pass\n",
    "    pass"
   ]
  },
  {
   "cell_type": "code",
   "execution_count": null,
   "metadata": {},
   "outputs": [],
   "source": [
    "# Show calculated PSNR vs. # Bits.\n",
    "\n",
    "# Prepare Data.\n",
    "# x = np.arange(0, len(result_tuples), dtype=np.int)\n",
    "x = np.array(list(map(lambda item: getattr(item, \"file_size_bits\"), result_tuples)))\n",
    "y = np.array(list(map(lambda item: getattr(item, \"psnr\"), result_tuples)))\n",
    "\n",
    "# Show plot.\n",
    "fig = plt.figure()\n",
    "plt.scatter(x, y, marker = 'x', color = sns.color_palette()[1], label = 'jpeg')\n",
    "# plt.xscale('log')\n",
    "plt.ylabel('PSNR')\n",
    "plt.xlabel('# Bits')\n",
    "plt.legend()\n",
    "plt.title('PSNR vs. # Bits')\n",
    "plt.show()"
   ]
  },
  {
   "cell_type": "code",
   "execution_count": null,
   "metadata": {},
   "outputs": [],
   "source": [
    "# Show calculated CR vs. # BPP.\n",
    "\n",
    "# x = np.arange(0, len(result_tuples), dtype=np.int)\n",
    "x = np.array(list(map(lambda item: getattr(item, \"bpp\"), result_tuples)))\n",
    "y = np.array(list(map(lambda item: getattr(item, \"CR\"), result_tuples)))\n",
    "\n",
    "fig = plt.figure()\n",
    "plt.scatter(x, y, marker = 'x', color = sns.color_palette()[1], label = 'jpeg')\n",
    "# plt.xscale('log')\n",
    "plt.ylabel('CR')\n",
    "plt.xlabel('BPP')\n",
    "plt.legend()\n",
    "plt.title('CR vs. BPP')\n",
    "plt.show()"
   ]
  },
  {
   "cell_type": "code",
   "execution_count": null,
   "metadata": {},
   "outputs": [],
   "source": [
    "# Show calculated CR vs. # Bits.\n",
    "\n",
    "# Prepare data.\n",
    "# x = np.arange(0, len(result_tuples), dtype=np.int)\n",
    "x = np.array(list(map(lambda item: getattr(item, \"file_size_bits\"), result_tuples)))\n",
    "y = np.array(list(map(lambda item: getattr(item, \"CR\"), result_tuples)))\n",
    "\n",
    "fig = plt.figure()\n",
    "plt.scatter(x, y, marker = 'x', color = sns.color_palette()[1], label = 'jpeg')\n",
    "# plt.xscale('log')\n",
    "plt.ylabel('CR')\n",
    "plt.xlabel('# Bits')\n",
    "plt.legend()\n",
    "plt.title('CR vs. # Bits')\n",
    "plt.show()"
   ]
  },
  {
   "cell_type": "code",
   "execution_count": null,
   "metadata": {},
   "outputs": [],
   "source": [
    "# Show calculated PSNR vs. Bits.\n",
    "\n",
    "# Prepare Data\n",
    "# x = np.arange(0, len(result_tuples), dtype=np.int)\n",
    "x = np.array(list(map(lambda item: getattr(item, \"bpp\"), result_tuples)))\n",
    "y = np.array(list(map(lambda item: getattr(item, \"psnr\"), result_tuples)))\n",
    "\n",
    "# Show Plot\n",
    "fig = plt.figure()\n",
    "plt.scatter(x, y, marker = 'x', color = sns.color_palette()[1], label = 'jpeg')\n",
    "# plt.xscale('log')\n",
    "plt.ylabel('PSNR')\n",
    "plt.xlabel('BPP')\n",
    "plt.legend()\n",
    "plt.title('PSNR vs. BPP')\n",
    "plt.show()"
   ]
  },
  {
   "cell_type": "code",
   "execution_count": null,
   "metadata": {},
   "outputs": [],
   "source": [
    "# Prepare pairs of attributes to be represented\n",
    "# one against the other via scatter plot.\n",
    "x_axes = \"bpp;file_size_bits\".split(\";\")\n",
    "y_axes = \"psnr;CR\".split(\";\")\n",
    "\n",
    "pairs_axes = list(itertools.product(x_axes, y_axes))\n",
    "\n",
    "# Settle figure grid.\n",
    "axes_list = None\n",
    "fig, axes = plt.subplots(len(x_axes), len(y_axes), figsize=(20, 10))\n",
    "fig.suptitle(f'JPEG', fontsize=15)\n",
    "try:\n",
    "    axes_list = functools.reduce(operator.iconcat, axes, [])\n",
    "except:\n",
    "    axes_list = axes\n",
    "    pass\n",
    "\n",
    "# Compute graph.\n",
    "for ii, (ax, pair_axes) in enumerate(zip(axes_list, pairs_axes)):\n",
    "    # Prepare data.\n",
    "    x_axis, y_axis = pair_axes[0], pair_axes[1]\n",
    "    x = np.array(list(map(lambda item: getattr(item, f\"{x_axis}\"), result_tuples)))\n",
    "    y = np.array(list(map(lambda item: getattr(item, f\"{y_axis}\"), result_tuples)))\n",
    "    # Create Chart.\n",
    "    ax.scatter(x, y, marker = 'x', color = sns.color_palette()[ii], label = 'jpeg')\n",
    "    # ax.set_xscale('symlog')\n",
    "    # ax.set_yscale('symlog')\n",
    "    ax.set_ylabel(f'{y_axis}')\n",
    "    ax.set_xlabel(f'{x_axis}')\n",
    "    ax.legend()\n",
    "    ax.set_title(f'{y_axis.upper()} vs. {x_axis.upper()}')\n",
    "    pass\n",
    "# Show result.\n",
    "plt.savefig('complex_plot_jpge_res.png')\n",
    "plt.show()"
   ]
  },
  {
   "cell_type": "code",
   "execution_count": null,
   "metadata": {},
   "outputs": [],
   "source": [
    "x_axes = \"bpp;file_size_bits\".split(\";\")\n",
    "y_axes = \"psnr;CR\".split(\";\")\n",
    "\n",
    "fig, axes = compute_graph_image_psnr_CR(\n",
    "    data_tuples = result_tuples,\n",
    "    x_axes = x_axes,\n",
    "    y_axes = y_axes,\n",
    "    subject = 'jpeg',\n",
    "    colors = sns.color_palette())\n",
    "fig.suptitle(f'JPEG', fontsize=15)\n",
    "# plt.savefig('complex_plot_jpge_res.png')\n",
    "plt.show()"
   ]
  },
  {
   "cell_type": "code",
   "execution_count": null,
   "metadata": {},
   "outputs": [],
   "source": [
    "# Compare PSNR values between JPEG and Siren, by means of scatterplot.\n",
    "fig = plt.figure()\n",
    "\n",
    "# Siren results\n",
    "# plt.scatter(x = np.arange(len(results_history_sorted_df['psnr'].values)), y = results_history_sorted_df['psnr'].values, marker = 'x', color = sns.color_palette()[0], label = 'siren output')\n",
    "plt.scatter(x = results_history_sorted_df['#params'].values * 32,\n",
    "    y = results_history_sorted_df['psnr'].values,\n",
    "    marker = 'x',\n",
    "    color = sns.color_palette()[0],\n",
    "    label = 'siren')\n",
    "\n",
    "# Jpeg results\n",
    "x = np.array(list(map(lambda item: getattr(item, \"file_size_bits\"), result_tuples)))\n",
    "y = np.array(list(map(lambda item: getattr(item, \"psnr\"), result_tuples)))\n",
    "plt.scatter(x, y, marker = 'x', color = sns.color_palette()[1], label = 'jpeg')\n",
    "\n",
    "plt.xscale('log')\n",
    "plt.ylabel('PSNR')\n",
    "plt.xlabel('# Bits')\n",
    "plt.legend()\n",
    "plt.title('PSNR vs. # Bits')\n",
    "plt.show()"
   ]
  },
  {
   "cell_type": "markdown",
   "metadata": {
    "id": "qIb40Pqg0H4R"
   },
   "source": [
    "## References"
   ]
  },
  {
   "cell_type": "markdown",
   "metadata": {
    "id": "ZpXZY7gK0JUw"
   },
   "source": [
    "- Wiki references:\n",
    " - [Image Compression](https://en.m.wikipedia.org/wiki/Image_compression)\n",
    " - [Bit Rate](https://en.wikipedia.org/wiki/Bit_rate)\n",
    "\n",
    "- Generic references:\n",
    " - [FORM](https://colab.research.google.com/notebooks/forms.ipynb#scrollTo=3jKM6GfzlgpS)\n",
    " - [jupiter - themese](https://stackoverflow.com/questions/46510192/change-the-theme-in-jupyter-notebook)"
   ]
  }
 ],
 "metadata": {
  "colab": {
   "collapsed_sections": [
    "HhpbzSY92zUl",
    "Pua8zFCn2t93",
    "YSaCc5FSemo8",
    "8d5PRafeK6B_",
    "u_T3YQAV21oW",
    "w0WQe0g7epZf",
    "lVwEXZ_5ea6M",
    "TzsOfH3A0knO",
    "GoGQHGQj0gXs",
    "kH38J4Gi6r1E",
    "qIb40Pqg0H4R",
    "hWXE-dS57-d9"
   ],
   "name": "siren_analyses_extended_v-1.0.0.ipynb",
   "provenance": []
  },
  "kernelspec": {
   "display_name": "Python 3",
   "language": "python",
   "name": "python3"
  },
  "language_info": {
   "codemirror_mode": {
    "name": "ipython",
    "version": 3
   },
   "file_extension": ".py",
   "mimetype": "text/x-python",
   "name": "python",
   "nbconvert_exporter": "python",
   "pygments_lexer": "ipython3",
   "version": "3.7.6"
  }
 },
 "nbformat": 4,
 "nbformat_minor": 1
}