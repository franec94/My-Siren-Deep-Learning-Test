{
  "nbformat": 4,
  "nbformat_minor": 0,
  "metadata": {
    "colab": {
      "name": "training_quantization.ipynb",
      "provenance": [],
      "collapsed_sections": []
    },
    "kernelspec": {
      "name": "python3",
      "display_name": "Python 3"
    }
  },
  "cells": [
    {
      "cell_type": "code",
      "metadata": {
        "id": "5Gp-gqfY49Mn"
      },
      "source": [
        "#@title Train Step + Quant Menu\n",
        "#@markdown ---\n",
        "TRAIN_MODEL = False                   #@param {type:\"boolean\"}\n",
        "TRAIN_MODEL_NO_QUANT = False          #@param {type:\"boolean\"}\n",
        "TRAIN_MODEL_DYNAMIC_QUANT = False     #@param {type:\"boolean\"}\n",
        "TRAIN_MODEL_POST_TRAIN_QUANT = False  #@param {type:\"boolean\"}\n",
        "TRAIN_MODEL_PASZKE_QUANT = False      #@param {type:\"boolean\"}"
      ],
      "execution_count": null,
      "outputs": []
    },
    {
      "cell_type": "code",
      "metadata": {
        "id": "iD5_Jn_X5H-H"
      },
      "source": [
        "import os\n",
        "os.chdir('/content')"
      ],
      "execution_count": null,
      "outputs": []
    },
    {
      "cell_type": "code",
      "metadata": {
        "id": "scKJmY7K5KSt"
      },
      "source": [
        "# Setup wd to remove trash\n",
        "\n",
        "if TRAIN_MODEL:\n",
        "    # Remove trash\n",
        "    import os\n",
        "    if os.path.exists('/content/My-Siren-Deep-Learning-Test') and os.path.isdir('/content/My-Siren-Deep-Learning-Test'):\n",
        "        print(\"Cleaning from old project...\")\n",
        "        !rm -r /content/My-Siren-Deep-Learning-Test\n",
        "    else:\n",
        "        print(\"No project found.\")\n",
        "        pass\n",
        "\n",
        "    # Setup dir to collect logs to displayed by means tensorboard\n",
        "    import os\n",
        "    logs_base_dir = os.path.join(\"/content/outputs\", \"summaries\")\n",
        "    os.makedirs(logs_base_dir, exist_ok=True)\n",
        "\n",
        "    # Switch to Command Line Tool Location\n",
        "    # fetch updates if any from target branch\n",
        "\n",
        "    # Local repo related infos\n",
        "    project_name_path = '/content/My-Siren-Deep-Learning-Test'\n",
        "\n",
        "    # Github related infos\n",
        "    github_project_uri = 'https://github.com/franec94/My-Siren-Deep-Learning-Test.git'\n",
        "    branch_name = 'cmd-line-tools'\n",
        "    cmd_tool_name = 'compare-extended-compression-choices'\n",
        "\n",
        "    if os.path.exists(project_name_path) is False:\n",
        "        !git clone {github_project_uri}\n",
        "        os.chdir(project_name_path)\n",
        "        !git checkout {branch_name}\n",
        "        # TODO:\n",
        "        # find workaround for installing requirements.txt\n",
        "        # !pip install -r requirements.txt\n",
        "        full_path_cmd = os.path.join(project_name_path, f'dev-cmd-line-tools/{cmd_tool_name}')\n",
        "        os.chdir(full_path_cmd)\n",
        "    else:\n",
        "        os.chdir(project_name_path)\n",
        "        !git checkout {branch_name}\n",
        "        !git fetch\n",
        "        full_path_cmd = os.path.join(project_name_path, f'dev-cmd-line-tools/{cmd_tool_name}')\n",
        "        os.chdir(full_path_cmd)\n",
        "        pass\n",
        "    pass"
      ],
      "execution_count": null,
      "outputs": []
    },
    {
      "cell_type": "code",
      "metadata": {
        "id": "RoLfssj05L92"
      },
      "source": [
        "# Show help\n",
        "if TRAIN_MODEL:\n",
        "    !python main_extended_compare.py --help\n",
        "    pass"
      ],
      "execution_count": null,
      "outputs": []
    },
    {
      "cell_type": "code",
      "metadata": {
        "id": "DyBt9hAu5Nko"
      },
      "source": [
        "# Exec command\n",
        "if TRAIN_MODEL and TRAIN_MODEL_NO_QUANT:\n",
        "# if TRAIN_MODEL:\n",
        "    !python main_extended_compare.py\\\n",
        "        --logging_root '/content/siren-train/results' \\\n",
        "        --experiment_name 'train' \\\n",
        "        --sidelength 256 \\\n",
        "        --num_epochs 500 \\\n",
        "        --hidden_features 8 \\\n",
        "        --num_attempts 2 \\\n",
        "        --seeds 0 12 \\\n",
        "        --hidden_layers 2 3 4 \\\n",
        "        --resume_from 0 \\\n",
        "        --end_to  2 \\\n",
        "        --enable_tensorboard_logging \\\n",
        "        --verbose 1 \\\n",
        "        --show_number_of_trials\n",
        "    pass"
      ],
      "execution_count": null,
      "outputs": []
    },
    {
      "cell_type": "code",
      "metadata": {
        "id": "UKZMguNt5PQ5"
      },
      "source": [
        "# Exec command\n",
        "if TRAIN_MODEL and TRAIN_MODEL_DYNAMIC_QUANT:\n",
        "    !python main_extended_compare.py\\\n",
        "        --logging_root '/content/siren-train/dynammic_quant/results' \\\n",
        "        --experiment_name 'train' \\\n",
        "        --sidelength 256 \\\n",
        "        --num_epochs 1000 \\\n",
        "        --hidden_features 32 \\\n",
        "        --num_attempts 1 \\\n",
        "        --seeds 0 \\\n",
        "        --quantization_enabled dynamic \\\n",
        "        --hidden_layers 10 \\\n",
        "        --resume_from 0 \\\n",
        "        --end_to  1 \\\n",
        "        --enable_tensorboard_logging \\\n",
        "        --verbose 1 \\\n",
        "        --show_number_of_trials\n",
        "    pass\n",
        "\n",
        "# --steps_til_summary 1 \\\n",
        "# --quantization_enabled dynamic post_train\\"
      ],
      "execution_count": null,
      "outputs": []
    },
    {
      "cell_type": "code",
      "metadata": {
        "id": "FUFmMHhs5Q6R"
      },
      "source": [
        "if TRAIN_MODEL and TRAIN_MODEL_POST_TRAIN_QUANT:\n",
        "    !python main_extended_compare.py\\\n",
        "        --logging_root '/content/siren-train/results' \\\n",
        "        --experiment_name 'train' \\\n",
        "        --sidelength 256 \\\n",
        "        --num_epochs 1000 \\\n",
        "        --hidden_features 32\\\n",
        "        --num_attempts 1 \\\n",
        "        --seeds 0 \\\n",
        "        --quantization_enabled post_train \\\n",
        "        --hidden_layers 10 \\\n",
        "        --resume_from 0 \\\n",
        "        --end_to  1 \\\n",
        "        --enable_tensorboard_logging \\\n",
        "        --verbose 1 \\\n",
        "        --show_number_of_trials\n",
        "    pass"
      ],
      "execution_count": null,
      "outputs": []
    },
    {
      "cell_type": "code",
      "metadata": {
        "id": "hPiuUKb25Sga"
      },
      "source": [
        "if TRAIN_MODEL and TRAIN_MODEL_PASZKE_QUANT:\n",
        "    !python main_extended_compare.py\\\n",
        "        --logging_root '/content/siren-train/results' \\\n",
        "        --experiment_name 'train' \\\n",
        "        --sidelength 256 \\\n",
        "        --num_epochs 1000 \\\n",
        "        --hidden_features 32\\\n",
        "        --num_attempts 1 \\\n",
        "        --seeds 0 \\\n",
        "        --quantization_enabled dynamic \\\n",
        "        --hidden_layers 10 \\\n",
        "        --resume_from 0 \\\n",
        "        --end_to  1 \\\n",
        "        --frequences 30 \\\n",
        "        --enable_tensorboard_logging \\\n",
        "        --verbose 1 \\\n",
        "        --show_number_of_trials\n",
        "    pass"
      ],
      "execution_count": null,
      "outputs": []
    }
  ]
}