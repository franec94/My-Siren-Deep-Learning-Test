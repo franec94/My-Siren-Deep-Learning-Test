{
  "nbformat": 4,
  "nbformat_minor": 0,
  "metadata": {
    "colab": {
      "name": "post_training_static_quantization.ipynb",
      "provenance": [],
      "collapsed_sections": [
        "uCYjZLSUIcvM"
      ]
    },
    "kernelspec": {
      "name": "python3",
      "display_name": "Python 3"
    }
  },
  "cells": [
    {
      "cell_type": "markdown",
      "metadata": {
        "id": "O18M3yjSIjKF"
      },
      "source": [
        "### Setup Notebook"
      ]
    },
    {
      "cell_type": "code",
      "metadata": {
        "id": "KyvBBFyMEamq"
      },
      "source": [
        "#@title Post Train Quant Menu\n",
        "#@markdown ---\n",
        "#@markdown ##### Which Run:\n",
        "EVAL_POST_TRAIN = True   #@param {type:\"boolean\"}\n",
        "EVAL_SINGLE_FILE = False  #@param {type:\"boolean\"}\n",
        "EVAL_CSV_FILES = True   #@param {type:\"boolean\"}\n",
        "\n",
        "#@markdown ---\n",
        "#@markdown ##### Data csv Info:\n",
        "TIMESTAMP_VAL = \"1603672968-148557\" #@param {type:\"string\"}\n",
        "# DATA_ZIP_PATH = \"/content/1603672968-148557.zip\"   #@param {type:\"string\"}\n",
        "# DATA_PATH = \"/content/1603672968-148557\"   #@param {type:\"string\"}\n",
        "# DATA_CSV_PATH = \"/content/1603672968-148557/colab_1603672968-148557.csv\"   #@param {type:\"string\"}"
      ],
      "execution_count": 1,
      "outputs": []
    },
    {
      "cell_type": "code",
      "metadata": {
        "id": "x-IqVCht4Sa-"
      },
      "source": [
        "DATA_ZIP_PATH = f\"/content/{TIMESTAMP_VAL}.zip\"\n",
        "DATA_PATH = f\"/content/{TIMESTAMP_VAL}\" \n",
        "DATA_CSV_PATH = f\"/content/{TIMESTAMP_VAL}/colab_{TIMESTAMP_VAL}.csv\""
      ],
      "execution_count": 2,
      "outputs": []
    },
    {
      "cell_type": "code",
      "metadata": {
        "id": "sZ4-EpCA8CGX"
      },
      "source": [
        "#@title Handle workspace\n",
        "#@markdown ---\n",
        "CLEAR_RESULTS_DIR = True      #@param {type:\"boolean\"}\n",
        "RESULTS_DIR_PATH = \"/content/results\"      #@param {type:\"string\"}"
      ],
      "execution_count": 4,
      "outputs": []
    },
    {
      "cell_type": "code",
      "metadata": {
        "id": "Yuix5UIo8Nw3",
        "outputId": "2e15587b-49de-470b-b28d-0e7fbeca0886",
        "colab": {
          "base_uri": "https://localhost:8080/"
        }
      },
      "source": [
        "if CLEAR_RESULTS_DIR:\n",
        "    import os\n",
        "    if os.path.exists(RESULTS_DIR_PATH) and os.path.isdir(RESULTS_DIR_PATH):\n",
        "        print(f\"Clearing {RESULTS_DIR_PATH}...\")\n",
        "        !rm -R {RESULTS_DIR_PATH}/*\n",
        "        !rmdir {RESULTS_DIR_PATH}\n",
        "        pass\n",
        "    pass"
      ],
      "execution_count": 5,
      "outputs": [
        {
          "output_type": "stream",
          "text": [
            "Clearing /content/results...\n"
          ],
          "name": "stdout"
        }
      ]
    },
    {
      "cell_type": "code",
      "metadata": {
        "id": "4MltVY_i5NRx",
        "outputId": "dab30854-47ac-4e84-c8c8-ed09e7a2f911",
        "colab": {
          "base_uri": "https://localhost:8080/"
        }
      },
      "source": [
        "import os\n",
        "os.chdir('/content')\n",
        "my_data_path = f'{DATA_PATH}'\n",
        "if os.path.exists(my_data_path) and os.path.isdir(my_data_path):\n",
        "    print(\"Cleaning workspace...\")\n",
        "    !rm  -r {my_data_path}/*\n",
        "    !rmdir {my_data_path}\n",
        "else:\n",
        "    print(\"Workspace fresh.\")\n",
        "    pass\n"
      ],
      "execution_count": 6,
      "outputs": [
        {
          "output_type": "stream",
          "text": [
            "Workspace fresh.\n"
          ],
          "name": "stdout"
        }
      ]
    },
    {
      "cell_type": "code",
      "metadata": {
        "id": "fvJe5COk4fo3",
        "outputId": "51728ae8-4787-40b5-8df3-df211fde1066",
        "colab": {
          "base_uri": "https://localhost:8080/"
        }
      },
      "source": [
        "if EVAL_POST_TRAIN and EVAL_CSV_FILES:\n",
        "    print(\"Extracting data...\")\n",
        "    !unzip {DATA_ZIP_PATH} -d /content/ > /dev/null\n",
        "    pass"
      ],
      "execution_count": 7,
      "outputs": [
        {
          "output_type": "stream",
          "text": [
            "Extracting data...\n"
          ],
          "name": "stdout"
        }
      ]
    },
    {
      "cell_type": "code",
      "metadata": {
        "id": "LMqJFZXE1tPU",
        "outputId": "9bf79ffc-6bac-471d-df14-610b54d3e4f2",
        "colab": {
          "base_uri": "https://localhost:8080/"
        }
      },
      "source": [
        "# Installing third party dependencies\n",
        "print(\"Installing required libraries...\")\n",
        "\n",
        "old_requirements = '/content/tmp_requirements.txt'\n",
        "!pip freeze > {old_requirements}\n",
        "dependencies_list = \"cmapy,sk-video,pytorch-model-summary,ConfigArgParse,tabulate\".split(\",\")\n",
        "\n",
        "with open(old_requirements) as f:\n",
        "    old_requirements_list = f.read().split(\"\\n\")\n",
        "    for a_req in dependencies_list:\n",
        "        found_req = False\n",
        "        for old_req in old_requirements_list:\n",
        "            if old_req.startswith(a_req):\n",
        "                print(f\"{a_req} already installed!\")\n",
        "                found_req = True\n",
        "                break\n",
        "        if found_req is False:\n",
        "            !pip install {a_req} -q\n",
        "    pass\n",
        "!rm -f {old_requirements}"
      ],
      "execution_count": 8,
      "outputs": [
        {
          "output_type": "stream",
          "text": [
            "Installing required libraries...\n",
            "cmapy already installed!\n",
            "sk-video already installed!\n",
            "pytorch-model-summary already installed!\n",
            "ConfigArgParse already installed!\n",
            "tabulate already installed!\n"
          ],
          "name": "stdout"
        }
      ]
    },
    {
      "cell_type": "markdown",
      "metadata": {
        "id": "YQmNhQScIn-f"
      },
      "source": [
        "### Post Train Quant"
      ]
    },
    {
      "cell_type": "code",
      "metadata": {
        "id": "lfbjLYOA1y5T",
        "outputId": "f687135f-7429-441e-a614-4d04bc2b87c9",
        "colab": {
          "base_uri": "https://localhost:8080/"
        }
      },
      "source": [
        "# Setup wd to remove trash\n",
        "if EVAL_POST_TRAIN:\n",
        "    import os\n",
        "    os.chdir('/content')\n",
        "    print(\"Cloning project if requested...\")\n",
        "    # Remove trash\n",
        "    import os\n",
        "    if os.path.exists('/content/My-Siren-Deep-Learning-Test') and os.path.isdir('/content/My-Siren-Deep-Learning-Test'):\n",
        "        print(\"Cleaning from old project...\")\n",
        "        !rm -r /content/My-Siren-Deep-Learning-Test\n",
        "    else:\n",
        "        print(\"No project found.\")\n",
        "        pass\n",
        "\n",
        "\n",
        "    # Setup dir to collect logs to displayed by means tensorboard\n",
        "    import os\n",
        "    logs_base_dir = os.path.join(\"/content/outputs\", \"summaries\")\n",
        "    os.makedirs(logs_base_dir, exist_ok=True)\n",
        "\n",
        "    # Switch to Command Line Tool Location\n",
        "    # fetch updates if any from target branch\n",
        "\n",
        "    # Local repo related infos\n",
        "    project_name_path = '/content/My-Siren-Deep-Learning-Test'\n",
        "\n",
        "    # Github related infos\n",
        "    github_project_uri = 'https://github.com/franec94/My-Siren-Deep-Learning-Test.git'\n",
        "    branch_name = 'cmd-line-tools'\n",
        "    cmd_tool_name = 'post-training-static-quantization'\n",
        "\n",
        "    if os.path.exists(project_name_path) is False:\n",
        "        !git clone {github_project_uri}\n",
        "        os.chdir(project_name_path)\n",
        "        !git checkout {branch_name}\n",
        "        # TODO:\n",
        "        # find workaround for installing requirements.txt\n",
        "        # !pip install -r requirements.txt\n",
        "        full_path_cmd = os.path.join(project_name_path, f'dev-cmd-line-tools/{cmd_tool_name}')\n",
        "        os.chdir(full_path_cmd)\n",
        "    else:\n",
        "        os.chdir(project_name_path)\n",
        "        !git checkout {branch_name}\n",
        "        !git fetch\n",
        "        full_path_cmd = os.path.join(project_name_path, f'dev-cmd-line-tools/{cmd_tool_name}')\n",
        "        os.chdir(full_path_cmd)\n",
        "        pass\n",
        "    pass"
      ],
      "execution_count": 9,
      "outputs": [
        {
          "output_type": "stream",
          "text": [
            "Cloning project if requested...\n",
            "Cleaning from old project...\n",
            "Cloning into 'My-Siren-Deep-Learning-Test'...\n",
            "remote: Enumerating objects: 588, done.\u001b[K\n",
            "remote: Counting objects: 100% (588/588), done.\u001b[K\n",
            "remote: Compressing objects: 100% (357/357), done.\u001b[K\n",
            "remote: Total 4020 (delta 413), reused 328 (delta 159), pack-reused 3432\u001b[K\n",
            "Receiving objects: 100% (4020/4020), 83.16 MiB | 17.02 MiB/s, done.\n",
            "Resolving deltas: 100% (2413/2413), done.\n",
            "Branch 'cmd-line-tools' set up to track remote branch 'cmd-line-tools' from 'origin'.\n",
            "Switched to a new branch 'cmd-line-tools'\n"
          ],
          "name": "stdout"
        }
      ]
    },
    {
      "cell_type": "code",
      "metadata": {
        "id": "mocL-iHf6a98"
      },
      "source": [
        "if EVAL_POST_TRAIN == True and EVAL_SINGLE_FILE == True:\n",
        "    !python post_training_static_quantization.py \\\n",
        "        --model_files '/content/model_final.pth' \\\n",
        "        --hf 32 \\\n",
        "        --hl 10 \\\n",
        "        --sidelength 256 \\\n",
        "        --quantization_enabled dynamic \\\n",
        "        --logging_root '/content/results' \\\n",
        "        --experiment_name 'train'\n",
        "    pass\n",
        "\n",
        "# --post_train_quant_eval_mode \\\n",
        "# --plain_eval_mode \\\n",
        "# --post_train_quant_eval_mode \\"
      ],
      "execution_count": 10,
      "outputs": []
    },
    {
      "cell_type": "code",
      "metadata": {
        "id": "DHYTY4EJ2BVW",
        "outputId": "0134195b-0a54-4e8b-fec4-b4b00f2b8381",
        "colab": {
          "base_uri": "https://localhost:8080/"
        }
      },
      "source": [
        "!pwd"
      ],
      "execution_count": 11,
      "outputs": [
        {
          "output_type": "stream",
          "text": [
            "/content/My-Siren-Deep-Learning-Test/dev-cmd-line-tools/post-training-static-quantization\n"
          ],
          "name": "stdout"
        }
      ]
    },
    {
      "cell_type": "code",
      "metadata": {
        "id": "hwoHYwe32Rjj",
        "outputId": "1f2387ee-90d4-42b6-939c-8f5cca77ed7a",
        "colab": {
          "base_uri": "https://localhost:8080/"
        }
      },
      "source": [
        "import torch\n",
        "print(torch.__version__)\n",
        "dir(torch.quantization)\n",
        "# QuantStub, DeQuantStub, QFunctional\n",
        "'QuantStub' in dir(torch.quantization), 'DeQuantStub' in dir(torch.quantization), 'QFunctional' in dir(torch.quantization)"
      ],
      "execution_count": 12,
      "outputs": [
        {
          "output_type": "stream",
          "text": [
            "1.7.0+cu101\n"
          ],
          "name": "stdout"
        },
        {
          "output_type": "execute_result",
          "data": {
            "text/plain": [
              "(True, True, False)"
            ]
          },
          "metadata": {
            "tags": []
          },
          "execution_count": 12
        }
      ]
    },
    {
      "cell_type": "code",
      "metadata": {
        "id": "xGxOQGsC2Dd5"
      },
      "source": [
        "# !python post_training_static_quantization.py --help"
      ],
      "execution_count": 13,
      "outputs": []
    },
    {
      "cell_type": "code",
      "metadata": {
        "id": "Ni2sDhOiHYzk",
        "outputId": "c171e2fe-c1ae-4403-9507-7a5307d90fb6",
        "colab": {
          "base_uri": "https://localhost:8080/"
        }
      },
      "source": [
        "!python post_training_static_quantization.py \\\n",
        "        --logging_root '/content/results' \\\n",
        "        --experiment_name 'train' \\\n",
        "        --log_models {DATA_CSV_PATH}"
      ],
      "execution_count": 14,
      "outputs": [
        {
          "output_type": "stream",
          "text": [
            "Namespace(config_filepath=None, experiment_name='train', hf=None, hl=None, image_filepath=None, log_models=['/content/1603672968-148557/colab_1603672968-148557.csv'], logging_root='/content/results', model_dirs=[], model_files=[], plain_eval_mode=False, post_train_quant_eval_mode=False, quantization_enabled=None, sidelength=None, verbose=0)\n",
            "Date: 09-11-2020 | Timestamp: 1604956969-56798\n",
            "Created root dir: /content/results/09-11-2020/1604956969-56798/train\n",
            "No input .pth files provided!\n",
            "No input dirs files provided!\n"
          ],
          "name": "stdout"
        }
      ]
    },
    {
      "cell_type": "code",
      "metadata": {
        "id": "I7GwOGdsOxY5",
        "outputId": "72462d81-6657-4f6d-b470-fc45ec59ffac",
        "colab": {
          "base_uri": "https://localhost:8080/"
        }
      },
      "source": [
        "if EVAL_POST_TRAIN == True and EVAL_CSV_FILES == True:\n",
        "    !python post_training_static_quantization.py \\\n",
        "        --logging_root '/content/results' \\\n",
        "        --experiment_name 'train' \\\n",
        "        --plain_eval_mode \\\n",
        "        --quantization_enabled dynamic \\\n",
        "        --post_train_quant_eval_mode \\\n",
        "        --log_models {DATA_CSV_PATH}\n",
        "    pass\n",
        "\n",
        "# --plain_eval_mode \\\n",
        "# --post_train_quant_eval_mode \\"
      ],
      "execution_count": 15,
      "outputs": [
        {
          "output_type": "stream",
          "text": [
            "Namespace(config_filepath=None, experiment_name='train', hf=None, hl=None, image_filepath=None, log_models=['/content/1603672968-148557/colab_1603672968-148557.csv'], logging_root='/content/results', model_dirs=[], model_files=[], plain_eval_mode=True, post_train_quant_eval_mode=True, quantization_enabled=['dynamic'], sidelength=None, verbose=0)\n",
            "Date: 09-11-2020 | Timestamp: 1604956971-938003\n",
            "Created root dir: /content/results/09-11-2020/1604956971-938003/train\n",
            "No input .pth files provided!\n",
            "No input dirs files provided!\n",
            "Work: processing input .csv files - Quantization mode...\n",
            "No models evaluated in Plain mode.\n",
            "['D:/data/data_thesys/data_post/26-10-2020/1603672968-148557/1603672968-148557.85.0.3.0.arch_no_0.trial_no_0.pth', 'D:/data/data_thesys/data_post/26-10-2020/1603672968-148557/1603672968-148557.85.0.3.0.arch_no_1.trial_no_0.pth', 'D:/data/data_thesys/data_post/26-10-2020/1603672968-148557/1603672968-148557.85.0.3.0.arch_no_2.trial_no_0.pth', 'D:/data/data_thesys/data_post/26-10-2020/1603672968-148557/1603672968-148557.85.0.4.0.arch_no_3.trial_no_0.pth', 'D:/data/data_thesys/data_post/26-10-2020/1603672968-148557/1603672968-148557.85.0.4.0.arch_no_4.trial_no_0.pth']\n",
            "PROCESSED 0 | SKIPPED 21| TOT 21\n"
          ],
          "name": "stdout"
        }
      ]
    },
    {
      "cell_type": "markdown",
      "metadata": {
        "id": "kTMIwnC0DQSn"
      },
      "source": [
        "## References"
      ]
    },
    {
      "cell_type": "markdown",
      "metadata": {
        "id": "EFGr0pDQDSKv"
      },
      "source": [
        "### Quantization Example Notebooks:\n",
        "- [Post-training static quantization (Pytorch) - ResNet18](https://github.com/Sanjana7395/static_quantization/blob/master/quantization%20pytorch.ipynb)\n",
        "\n",
        "### Issues:\n",
        "- [Does Dynamic Quantization speed up Fairseq's Transfomer?](https://github.com/pytorch/fairseq/issues/1901)\n",
        "\n",
        "### Papers:\n",
        "- [On Periodic Functions as Regularizers for Quantization of Neural Networks](https://www.researchgate.net/publication/329207332_On_Periodic_Functions_as_Regularizers_for_Quantization_of_Neural_Networks)\n",
        "- [Automatic differentiation in PyTorch](https://openreview.net/forum?id=BJJsrmfCZ)\n",
        "\n",
        "### Colab Forms:\n",
        "- [Colab Form Example](https://colab.research.google.com/notebooks/forms.ipynb#scrollTo=ZCEBZPwUDGOg)"
      ]
    }
  ]
}