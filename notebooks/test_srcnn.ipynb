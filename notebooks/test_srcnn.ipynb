{
  "nbformat": 4,
  "nbformat_minor": 0,
  "metadata": {
    "colab": {
      "name": "Untitled4.ipynb",
      "provenance": []
    },
    "kernelspec": {
      "name": "python3",
      "display_name": "Python 3"
    },
    "accelerator": "GPU"
  },
  "cells": [
    {
      "cell_type": "code",
      "metadata": {
        "id": "iAtD6KGyt0M2"
      },
      "source": [
        "import torch\n",
        "import cv2\n",
        "import srcnn\n",
        "import numpy as np\n",
        "import glob as glob\n",
        "import os\n",
        "from torchvision.utils import save_image"
      ],
      "execution_count": null,
      "outputs": []
    },
    {
      "cell_type": "code",
      "execution_count": null,
      "metadata": {},
      "outputs": [],
      "source": [
        "# the dataset module\n",
        "class SRCNNDataset(Dataset):\n",
        "    def __init__(self, image_data, labels):\n",
        "        self.image_data = image_data\n",
        "        self.labels = labels\n",
        "    def __len__(self):\n",
        "        return (len(self.image_data))\n",
        "    def __getitem__(self, index):\n",
        "        image = self.image_data[index]\n",
        "        label = self.labels[index]\n",
        "        return (\n",
        "            torch.tensor(image, dtype=torch.float),\n",
        "            torch.tensor(label, dtype=torch.float)"
      ]
    },
    {
      "cell_type": "code",
      "execution_count": null,
      "metadata": {},
      "outputs": [],
      "source": [
        "device = 'cuda' if torch.cuda.is_available() else 'cpu'"
      ]
    },
    {
      "cell_type": "code",
      "execution_count": null,
      "metadata": {},
      "outputs": [],
      "source": [
        "model = srcnn.SRCNN().to(device)\n",
        "model.load_state_dict(torch.load('../outputs/model.pth'))"
      ]
    },
    {
      "cell_type": "code",
      "execution_count": null,
      "metadata": {},
      "outputs": [],
      "source": [
        "image_paths = glob.glob('../input/bicubic_2x/*')\n",
        "for image_path in image_paths:\n",
        "    image = cv2.imread(image_path, cv2.IMREAD_COLOR)\n",
        "    test_image_name = image_path.split(os.path.sep)[-1].split('.')[0]\n",
        "\n",
        "    image = cv2.cvtColor(image, cv2.COLOR_BGR2GRAY)\n",
        "    image = image.reshape(image.shape[0], image.shape[1], 1)\n",
        "    cv2.imwrite(f\"../outputs/test_{test_image_name}.png\", image)\n",
        "    image = image / 255. # normalize the pixel values\n",
        "    cv2.imshow('Greyscale image', image)\n",
        "    cv2.waitKey(0)\n",
        "\n",
        "\n",
        "    model.eval()\n",
        "    with torch.no_grad():\n",
        "        image = np.transpose(image, (2, 0, 1)).astype(np.float32)\n",
        "        image = torch.tensor(image, dtype=torch.float).to(device)\n",
        "        image = image.unsqueeze(0)\n",
        "        outputs = model(image)\n",
        "\n",
        "    outputs = outputs.cpu()\n",
        "    save_image(outputs, f\"../outputs/output_{test_image_name}.png\")\n",
        "    outputs = outputs.detach().numpy()\n",
        "    outputs = outputs.reshape(outputs.shape[2], outputs.shape[3], outputs.shape[1])\n",
        "    print(outputs.shape)\n",
        "    cv2.imshow('Output', outputs)\n",
        "    cv2.waitKey(0)"
      ]
    }
  ]
}